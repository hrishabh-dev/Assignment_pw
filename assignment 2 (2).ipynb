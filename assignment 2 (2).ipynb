{
 "cells": [
  {
   "cell_type": "markdown",
   "id": "8fed9213-1fdd-4eae-9733-92f4a3a8c867",
   "metadata": {},
   "source": [
    "### 1. What is the difference between a function and a method in Python?\r\n",
    "\r"
   ]
  },
  {
   "cell_type": "code",
   "execution_count": null,
   "id": "e5e4d137-94ad-4fa9-8394-46e983983df8",
   "metadata": {},
   "outputs": [],
   "source": [
    "'''\n",
    "solution:- FUNCTION :\n",
    "           . It is a block of code which performs a specific task\n",
    "           \n",
    "           . It can be called again as per requirements.\n",
    "           \n",
    "           . It can be called without creating an object.\n",
    "           \n",
    "           . Defined using def keyword.\n",
    "'''\n",
    "\n",
    "#syntax :  def function():\n",
    "               #funtion body starts\n",
    "\n",
    "\n",
    "               #function body ends "
   ]
  },
  {
   "cell_type": "code",
   "execution_count": 10,
   "id": "635a7a90-5c5b-4c98-8ddb-d514883a994b",
   "metadata": {},
   "outputs": [],
   "source": [
    "# EXAMPLE :\n",
    "def intro(name):\n",
    "    print(f\" Hello welcome to the code {name}\")    \n",
    "    "
   ]
  },
  {
   "cell_type": "code",
   "execution_count": 12,
   "id": "05fd1d1a-0f26-43bf-9bf4-5cee7c251703",
   "metadata": {},
   "outputs": [
    {
     "name": "stdout",
     "output_type": "stream",
     "text": [
      " Hello welcome to the code Hrishabh\n"
     ]
    }
   ],
   "source": [
    "#calling the  function\n",
    "intro(\"Hrishabh\")"
   ]
  },
  {
   "cell_type": "code",
   "execution_count": null,
   "id": "53649b5d-3041-4d47-86b5-55d1138b3872",
   "metadata": {},
   "outputs": [],
   "source": [
    "'''\n",
    "   METHOD :\n",
    "   . It is a block of code associated with the class or object.\n",
    "\n",
    "   . It is defined inside a class using def keyword.\n",
    "\n",
    "   .It has access to object data through the self parameter.\n",
    "\n",
    "   .Methods are part of a class , while functions are standalone \n",
    "'''\n",
    "\n",
    "#syntax : class CLASSNAME:\n",
    "#         def method_name(self , parameter1, parameter2)\n",
    "#                    method body starts\n",
    "\n",
    "#                    method body ends"
   ]
  },
  {
   "cell_type": "code",
   "execution_count": 14,
   "id": "7485e42f-aadd-4fa6-a0f1-735ee6a1e7c9",
   "metadata": {},
   "outputs": [],
   "source": [
    "# NOTE - class CLASSNAME defines the class that the method belongs to \n",
    "# EXAMPLE \n",
    "class PWSKILLS:\n",
    "    def __init__(self,name,roll):\n",
    "        self.name=name\n",
    "        self.roll=roll\n",
    "    def detail(self):\n",
    "        print(f\"Hello welcome to PWSKILLS {self.name}\")\n",
    "        print(f\"Your roll no is : {self.roll}\")\n",
    "        "
   ]
  },
  {
   "cell_type": "code",
   "execution_count": 20,
   "id": "3018db3b-3eb5-436e-ae84-64f7a68b791d",
   "metadata": {},
   "outputs": [
    {
     "name": "stdout",
     "output_type": "stream",
     "text": [
      "Hello welcome to PWSKILLS HRISHABH\n",
      "Your roll no is : 2339284\n"
     ]
    }
   ],
   "source": [
    "pw=PWSKILLS(\"HRISHABH\",2339284)\n",
    "pw.detail()"
   ]
  },
  {
   "cell_type": "code",
   "execution_count": null,
   "id": "c9c08177-70ee-447d-94e7-1ca7d2f3fdf0",
   "metadata": {},
   "outputs": [],
   "source": [
    "\"\"\"\n",
    "note-  Here we can see that methods operate on object data while functions are general purpose\n",
    "\"\"\""
   ]
  },
  {
   "cell_type": "markdown",
   "id": "9410e9be-11fb-49af-8231-3164d26fd89c",
   "metadata": {},
   "source": [
    "### 2. Explain the concept of function arguments and parameters in Python\n"
   ]
  },
  {
   "cell_type": "code",
   "execution_count": null,
   "id": "fe01176f-b963-49b4-ae50-59308cbee526",
   "metadata": {},
   "outputs": [],
   "source": [
    "'''\n",
    "solution  :- FUNCTION : It is a block of code which performs a specific task and can be called again.\n",
    "                        It can take arguments and parameters to make them reusable \n",
    "'''\n"
   ]
  },
  {
   "cell_type": "code",
   "execution_count": 25,
   "id": "6fa59f79-8ec9-4066-9d17-c78bde6a3288",
   "metadata": {},
   "outputs": [],
   "source": [
    "# Example \n",
    "def welc(name,uid,age):\n",
    "    print(f\"Hello , Welcome {name} , you are {age} years old\")\n",
    "    print(f\"Your unique id is : {uid}\")\n",
    "    "
   ]
  },
  {
   "cell_type": "code",
   "execution_count": 29,
   "id": "0176d92f-4837-4ee3-92c8-f3c81a561fa0",
   "metadata": {},
   "outputs": [
    {
     "name": "stdout",
     "output_type": "stream",
     "text": [
      "Hello , Welcome HRISHABH , you are 24 years old\n",
      "Your unique id is : 3429323\n"
     ]
    }
   ],
   "source": [
    "welc(\"HRISHABH\",3429323,24)"
   ]
  },
  {
   "cell_type": "code",
   "execution_count": null,
   "id": "65879dd4-d0b3-480a-803d-4b33ce99d6df",
   "metadata": {},
   "outputs": [],
   "source": [
    "'''\n",
    "   ARGUMENTS : Values which are passed to the function is known as arguments.\n",
    "   \n",
    "               Arguments can be literals (strings , integers, variables etc).\n",
    "\n",
    "               They are the actual data which is assigned to parameters.\n",
    "'''\n"
   ]
  },
  {
   "cell_type": "code",
   "execution_count": 31,
   "id": "cdd74530-9a9f-4e33-bd48-4b7b7cf1b5ac",
   "metadata": {},
   "outputs": [
    {
     "name": "stdout",
     "output_type": "stream",
     "text": [
      "Hello , Welcome HRISHABH , you are 24 years old\n",
      "Your unique id is : 3429323\n"
     ]
    }
   ],
   "source": [
    "# Example \n",
    "welc(\"HRISHABH\",3429323,24)  # Here HRISHABH , 3429323 , 24 are arguments"
   ]
  },
  {
   "cell_type": "code",
   "execution_count": null,
   "id": "a7583ec6-36e1-486a-ba73-ba48fcababd4",
   "metadata": {},
   "outputs": [],
   "source": [
    "'''\n",
    "    PARAMETERS : Variables that receive the values passed to the function.\n",
    "    \n",
    "                 It is used to specify what type of data the function can accpet.\n",
    "\n",
    "                 Parameters are the receivers of the data\n",
    "\n",
    "'''"
   ]
  },
  {
   "cell_type": "code",
   "execution_count": null,
   "id": "cf924762-8034-4741-b4b8-e61be7d5cda0",
   "metadata": {},
   "outputs": [],
   "source": [
    "# Example \n",
    "def welc(name,uid,age): # Here  name , age , uid are parameters defined in the function "
   ]
  },
  {
   "cell_type": "markdown",
   "id": "b12139c6-70f9-4766-b7c0-8029be2375eb",
   "metadata": {},
   "source": [
    "### 3. What are the different ways to define and call a function in Python?"
   ]
  },
  {
   "cell_type": "code",
   "execution_count": null,
   "id": "9a153390-9dc8-4c83-bdd0-b6b2994f2de3",
   "metadata": {},
   "outputs": [],
   "source": [
    "'''\n",
    "solution :- Different ways to define function :-\n",
    "\n",
    "            1- Standard function \n",
    "               def functionname (arguements):\n",
    "\n",
    "            2- Lambda function \n",
    "               lambda arguements:expression \n",
    "\n",
    "            3- Generator function \n",
    "               def functionname(arguments):\n",
    "                   yield value \n",
    "\n",
    "'''"
   ]
  },
  {
   "cell_type": "code",
   "execution_count": 36,
   "id": "78122ed0-8fda-43b7-85e0-dc8e63997443",
   "metadata": {},
   "outputs": [
    {
     "name": "stdout",
     "output_type": "stream",
     "text": [
      "hello welcome to PWSKILLS , Ajay\n"
     ]
    }
   ],
   "source": [
    "# Example \n",
    "# Standard function\n",
    "def intr(name):\n",
    "    print(f\"hello welcome to PWSKILLS , {name}\")\n",
    "intr(\"Ajay\")"
   ]
  },
  {
   "cell_type": "code",
   "execution_count": 72,
   "id": "9f522ac9-42df-4b63-96d7-604227cab33e",
   "metadata": {},
   "outputs": [
    {
     "data": {
      "text/plain": [
       "2970"
      ]
     },
     "execution_count": 72,
     "metadata": {},
     "output_type": "execute_result"
    }
   ],
   "source": [
    "# Lambda function\n",
    "a=lambda n : 1 if n==0 else n*(n-1)\n",
    "a(55)"
   ]
  },
  {
   "cell_type": "code",
   "execution_count": 120,
   "id": "7fde9034-3f29-45ae-af26-e62259f30de2",
   "metadata": {},
   "outputs": [
    {
     "name": "stdout",
     "output_type": "stream",
     "text": [
      "50 49 48 47 46 45 44 43 42 41 40 39 38 37 36 35 34 33 32 31 30 29 28 27 26 25 24 23 22 21 20 19 18 17 16 15 14 13 12 11 10 9 8 7 6 5 4 3 2 1 "
     ]
    }
   ],
   "source": [
    "# Generator function \n",
    "def cdwn(n):\n",
    "    while n > 0:\n",
    "        yield n\n",
    "        n -= 1\n",
    "a=cdwn(50)\n",
    "for i in a:\n",
    "    print(i,end=' ')"
   ]
  },
  {
   "cell_type": "code",
   "execution_count": null,
   "id": "ac8252fa-c70f-42af-b50a-dcaf0181bf11",
   "metadata": {},
   "outputs": [],
   "source": [
    "'''\n",
    " Different ways to call a function:-\n",
    "\n",
    "                 1- Standard function call\n",
    "                     functionname(argument)\n",
    "\n",
    "                2-  Keyword argument call \n",
    "                    functionname(keyword=argument)\n",
    "\n",
    "                3- Positional argument call\n",
    "                   functionname(argument1,argument2)\n",
    "'''"
   ]
  },
  {
   "cell_type": "code",
   "execution_count": 126,
   "id": "8035dcf5-633c-48b1-8f68-e6588f6dc14b",
   "metadata": {},
   "outputs": [],
   "source": [
    "# Example \n",
    "def nm(a,b):\n",
    "    return (a + b\n"
   ]
  },
  {
   "cell_type": "code",
   "execution_count": 136,
   "id": "89625d47-de51-4773-b893-0f56ba9159ff",
   "metadata": {},
   "outputs": [
    {
     "data": {
      "text/plain": [
       "3468"
      ]
     },
     "execution_count": 136,
     "metadata": {},
     "output_type": "execute_result"
    }
   ],
   "source": [
    "#1- Standard function call\n",
    "nm(3434, 34)"
   ]
  },
  {
   "cell_type": "code",
   "execution_count": 132,
   "id": "3dd8d484-545e-4fdb-b2e1-1c4be1d8d31a",
   "metadata": {},
   "outputs": [
    {
     "data": {
      "text/plain": [
       "505"
      ]
     },
     "execution_count": 132,
     "metadata": {},
     "output_type": "execute_result"
    }
   ],
   "source": [
    "#2-  Keyword argument call \n",
    "nm(a=455,b=50)"
   ]
  },
  {
   "cell_type": "code",
   "execution_count": 134,
   "id": "f939bd1e-ea36-45bc-9bdf-5e080ae28229",
   "metadata": {},
   "outputs": [
    {
     "data": {
      "text/plain": [
       "590"
      ]
     },
     "execution_count": 134,
     "metadata": {},
     "output_type": "execute_result"
    }
   ],
   "source": [
    "#3- Positional argument call\n",
    "nm(23,567)"
   ]
  },
  {
   "cell_type": "markdown",
   "id": "f98b6a7e-fd51-4eb8-a1e7-b4c487ba2b05",
   "metadata": {},
   "source": [
    "### 4. What is the purpose of the `return` statement in a Python function?\r\n",
    "\r"
   ]
  },
  {
   "cell_type": "code",
   "execution_count": null,
   "id": "63588e2b-1468-453e-9b0b-5c34c3961522",
   "metadata": {},
   "outputs": [],
   "source": [
    "'''\n",
    "solution :- Return statement allows the function to return values , these values can be variables , expressions.\n",
    "\n",
    "            It can be used to exit the function early , before reaching end \n",
    "\n",
    "            It makes the code more readable by clearly indicating what the function returns \n",
    "\n",
    "'''"
   ]
  },
  {
   "cell_type": "code",
   "execution_count": 139,
   "id": "9f17a70a-0e8c-4440-90f7-0ddc5f19cdf0",
   "metadata": {},
   "outputs": [
    {
     "data": {
      "text/plain": [
       "46"
      ]
     },
     "execution_count": 139,
     "metadata": {},
     "output_type": "execute_result"
    }
   ],
   "source": [
    "# Example \n",
    "\n",
    "def ai(a,b):\n",
    "    return a+b    # It terminated extra code writing - re=add(a,b)\n",
    "                                                   #   print(re)\n",
    "ai(12,34)"
   ]
  },
  {
   "cell_type": "markdown",
   "id": "4f81eb7b-b8a3-4800-b6b5-ec25a01c7d81",
   "metadata": {},
   "source": [
    "### 5. What are iterators in Python and how do they differ from iterables?"
   ]
  },
  {
   "cell_type": "code",
   "execution_count": null,
   "id": "bfe9f8ad-489f-42c2-a794-b384cbe174ff",
   "metadata": {},
   "outputs": [],
   "source": [
    "'''\n",
    "solution:-  Iterator :--\n",
    "\n",
    "                       It is an object representing a stream of data \n",
    "                       \n",
    "                       -> Return the data one by one \n",
    "                       \n",
    "                       It is used to iterate over iterable objects like lists, tuples, dicts, and sets.\n",
    "\n",
    "                       It uses the `next()` method for iteration.\n",
    "\n",
    "'''\n",
    "#iterator object is initialized using the `iter()`"
   ]
  },
  {
   "cell_type": "code",
   "execution_count": 176,
   "id": "9a3e363e-b06d-454d-8fd2-5b4497ee25cc",
   "metadata": {},
   "outputs": [
    {
     "name": "stdout",
     "output_type": "stream",
     "text": [
      "h\n",
      "r\n",
      "i\n",
      "s\n",
      "h\n",
      "a\n",
      "b\n",
      "h\n"
     ]
    }
   ],
   "source": [
    "# Example \n",
    "na=\"hrishabh\"\n",
    "for  i  in  (na):\n",
    "    print(i)"
   ]
  },
  {
   "cell_type": "code",
   "execution_count": null,
   "id": "d82ba97f-b6f8-47c0-9919-54e82002c227",
   "metadata": {},
   "outputs": [],
   "source": [
    " #first convert  the iterable string to iterator object using iter  and then access using next()"
   ]
  },
  {
   "cell_type": "code",
   "execution_count": 174,
   "id": "2254f189-6edf-4c07-8fc0-5d1a7eb035ba",
   "metadata": {},
   "outputs": [
    {
     "data": {
      "text/plain": [
       "<str_ascii_iterator at 0x1f9c56e7520>"
      ]
     },
     "execution_count": 174,
     "metadata": {},
     "output_type": "execute_result"
    }
   ],
   "source": [
    "a=iter(na)\n",
    "a"
   ]
  },
  {
   "cell_type": "code",
   "execution_count": 178,
   "id": "426901b7-f834-4320-9741-7fb79c9bc40d",
   "metadata": {},
   "outputs": [
    {
     "data": {
      "text/plain": [
       "'H'"
      ]
     },
     "execution_count": 178,
     "metadata": {},
     "output_type": "execute_result"
    }
   ],
   "source": [
    "next(a)"
   ]
  },
  {
   "cell_type": "code",
   "execution_count": 180,
   "id": "e6409973-663a-46e3-aa08-1c8ab9bcc500",
   "metadata": {},
   "outputs": [
    {
     "data": {
      "text/plain": [
       "'r'"
      ]
     },
     "execution_count": 180,
     "metadata": {},
     "output_type": "execute_result"
    }
   ],
   "source": [
    "next(a)"
   ]
  },
  {
   "cell_type": "code",
   "execution_count": 182,
   "id": "6c27f31b-4237-4d1b-92de-c3849b3d468d",
   "metadata": {},
   "outputs": [
    {
     "data": {
      "text/plain": [
       "'i'"
      ]
     },
     "execution_count": 182,
     "metadata": {},
     "output_type": "execute_result"
    }
   ],
   "source": [
    "next(a)"
   ]
  },
  {
   "cell_type": "code",
   "execution_count": 184,
   "id": "11dbcc71-7cf9-453a-b4fe-ef503fad6091",
   "metadata": {},
   "outputs": [
    {
     "data": {
      "text/plain": [
       "'s'"
      ]
     },
     "execution_count": 184,
     "metadata": {},
     "output_type": "execute_result"
    }
   ],
   "source": [
    "next(a)"
   ]
  },
  {
   "cell_type": "code",
   "execution_count": 186,
   "id": "e50a5062-a5a4-4403-94c9-ef9fc9482a71",
   "metadata": {},
   "outputs": [
    {
     "data": {
      "text/plain": [
       "'h'"
      ]
     },
     "execution_count": 186,
     "metadata": {},
     "output_type": "execute_result"
    }
   ],
   "source": [
    "next(a)"
   ]
  },
  {
   "cell_type": "code",
   "execution_count": 188,
   "id": "6daea1d9-ff46-45a9-aebf-989662060c66",
   "metadata": {},
   "outputs": [
    {
     "data": {
      "text/plain": [
       "'a'"
      ]
     },
     "execution_count": 188,
     "metadata": {},
     "output_type": "execute_result"
    }
   ],
   "source": [
    "next(a)"
   ]
  },
  {
   "cell_type": "code",
   "execution_count": null,
   "id": "2802c1d4-78ce-44b1-9a09-d380e7e58352",
   "metadata": {},
   "outputs": [],
   "source": [
    "'''\n",
    "    ITERABLE :-\n",
    "\n",
    "               It is an python / object / data structure that is capable of returning its members one at a time \n",
    "\n",
    "               - Permitting it to be iterated over in a for loop\n",
    "\n",
    "'''\n",
    "# LIST , TUPLE"
   ]
  },
  {
   "cell_type": "code",
   "execution_count": 194,
   "id": "49167342-d464-401b-85d8-a8c5eb234a6c",
   "metadata": {},
   "outputs": [
    {
     "name": "stdout",
     "output_type": "stream",
     "text": [
      "1\n",
      "2\n",
      "3\n",
      "4\n",
      "5\n",
      "6\n",
      "7\n",
      "8\n",
      "9\n",
      "10\n",
      "ok\n",
      "34.3\n"
     ]
    }
   ],
   "source": [
    "li=[1,2,3,4,5,6,7,8,9,10,\"ok\",34.3]\n",
    "for i in li:\n",
    "    print(i)"
   ]
  },
  {
   "cell_type": "code",
   "execution_count": 196,
   "id": "3aef9178-f2e2-4247-b761-007f9f8f9d66",
   "metadata": {},
   "outputs": [
    {
     "name": "stdout",
     "output_type": "stream",
     "text": [
      "1\n",
      "2\n",
      "3\n",
      "4\n",
      "54\n",
      "6\n",
      "345\n",
      "324\n",
      "56.34\n"
     ]
    }
   ],
   "source": [
    "tu=(1,2,3,4,54,6,345,324,56.34)\n",
    "for i in tu:\n",
    "    print(i)"
   ]
  },
  {
   "cell_type": "markdown",
   "id": "657d78ff-74f3-4b84-a44c-305cdb71a9bc",
   "metadata": {},
   "source": [
    "### 6-Explain the concept of generators in Python and how they are defined."
   ]
  },
  {
   "cell_type": "code",
   "execution_count": null,
   "id": "cb33b05b-492c-49e4-b681-1c528757f476",
   "metadata": {},
   "outputs": [],
   "source": [
    "'''\n",
    "solution :- GENERATORS -\n",
    "\n",
    "                    Generator function in Python used  to create iterators in a more concise and memory-efficient manner\n",
    "\n",
    "                    it uses yield statement and returns value and suspend the functions execution\n",
    "\n",
    "                    It allows us to iterate over a  large sequence of data without loading the entire\n",
    "                    sequence into memory , that's why this is more concise \n",
    "\n",
    "'''"
   ]
  },
  {
   "cell_type": "code",
   "execution_count": 262,
   "id": "cacd7b4c-8d88-4a46-b2fe-b59956ed5e6a",
   "metadata": {},
   "outputs": [],
   "source": [
    "# Example \n",
    "def si(x):\n",
    "    for i in range(x):\n",
    "        yield i**2"
   ]
  },
  {
   "cell_type": "code",
   "execution_count": 274,
   "id": "f834f3f6-ae9e-4337-9d86-47d9ef9e526d",
   "metadata": {},
   "outputs": [
    {
     "data": {
      "text/plain": [
       "<generator object si at 0x000001F9C58217D0>"
      ]
     },
     "execution_count": 274,
     "metadata": {},
     "output_type": "execute_result"
    }
   ],
   "source": [
    "si(200)"
   ]
  },
  {
   "cell_type": "code",
   "execution_count": 276,
   "id": "4ede992e-f8d1-41cb-8551-5d6b09ef85eb",
   "metadata": {},
   "outputs": [],
   "source": [
    "c=si(200)\n",
    "\n",
    "'''\n",
    " It doesn't stores values in memory at once\n",
    "'''"
   ]
  },
  {
   "cell_type": "code",
   "execution_count": 278,
   "id": "98bae990-04f4-4011-8687-0676a6969492",
   "metadata": {},
   "outputs": [
    {
     "data": {
      "text/plain": [
       "0"
      ]
     },
     "execution_count": 278,
     "metadata": {},
     "output_type": "execute_result"
    }
   ],
   "source": [
    "next(c)"
   ]
  },
  {
   "cell_type": "code",
   "execution_count": 280,
   "id": "b1fc1474-fddc-4ef6-829d-52a419e5299c",
   "metadata": {},
   "outputs": [
    {
     "data": {
      "text/plain": [
       "1"
      ]
     },
     "execution_count": 280,
     "metadata": {},
     "output_type": "execute_result"
    }
   ],
   "source": [
    "next(c)"
   ]
  },
  {
   "cell_type": "code",
   "execution_count": 282,
   "id": "f0c9409f-c25e-4ac0-9860-fa700d15b63c",
   "metadata": {},
   "outputs": [
    {
     "data": {
      "text/plain": [
       "4"
      ]
     },
     "execution_count": 282,
     "metadata": {},
     "output_type": "execute_result"
    }
   ],
   "source": [
    "next(c)"
   ]
  },
  {
   "cell_type": "code",
   "execution_count": 286,
   "id": "a168eb68-43f0-4737-877f-3119d8c5f908",
   "metadata": {},
   "outputs": [
    {
     "data": {
      "text/plain": [
       "9"
      ]
     },
     "execution_count": 286,
     "metadata": {},
     "output_type": "execute_result"
    }
   ],
   "source": [
    "next(c)"
   ]
  },
  {
   "cell_type": "code",
   "execution_count": 288,
   "id": "879d64d9-5ce0-4648-98ca-4f77fec2915e",
   "metadata": {},
   "outputs": [
    {
     "data": {
      "text/plain": [
       "16"
      ]
     },
     "execution_count": 288,
     "metadata": {},
     "output_type": "execute_result"
    }
   ],
   "source": [
    "next(c)"
   ]
  },
  {
   "cell_type": "code",
   "execution_count": 290,
   "id": "74698cce-9f1a-40dc-bc28-4f45f5b9a958",
   "metadata": {},
   "outputs": [
    {
     "data": {
      "text/plain": [
       "25"
      ]
     },
     "execution_count": 290,
     "metadata": {},
     "output_type": "execute_result"
    }
   ],
   "source": [
    "next(c)"
   ]
  },
  {
   "cell_type": "markdown",
   "id": "30cbe63c-cbaf-4a78-b85c-6f7fba8241df",
   "metadata": {},
   "source": [
    "### 7. What are the advantages of using generators over regular functions?"
   ]
  },
  {
   "cell_type": "code",
   "execution_count": null,
   "id": "a20eae1f-11f7-43bb-a48b-56335a0ae32d",
   "metadata": {},
   "outputs": [],
   "source": [
    "'''\n",
    "solution :- Advantages of using generators over regular functions are : - \n",
    "\n",
    "            The main difference between a regular function and a generator function is that \n",
    "            the latter uses the yield keyword to produce a series of values over time,\n",
    "            one at a time, rather than returning a single result.\n",
    "\n",
    "\n",
    "            Generators are memory-efficient because they don't store all values in memory at once.\n",
    "            \n",
    "            \n",
    "            Each value is generated and consumed one at a time.\n",
    "\n",
    "\n",
    "            Regular function stores values in memory at once\n",
    "'''"
   ]
  },
  {
   "cell_type": "code",
   "execution_count": null,
   "id": "e1ec9707-e565-47b8-82c1-c56113575d64",
   "metadata": {},
   "outputs": [],
   "source": [
    "# Example of regular function \n"
   ]
  },
  {
   "cell_type": "code",
   "execution_count": 357,
   "id": "acc2972e-f1e7-4fe1-bab1-127b2570e6e2",
   "metadata": {},
   "outputs": [],
   "source": [
    "def li(n):\n",
    "    r=[]\n",
    "    for i in range(n):\n",
    "        r.append(i**2)\n",
    "    return r"
   ]
  },
  {
   "cell_type": "code",
   "execution_count": 361,
   "id": "5c664adf-2d3b-436f-90e8-bf8d43996f97",
   "metadata": {},
   "outputs": [
    {
     "data": {
      "text/plain": [
       "[0,\n",
       " 1,\n",
       " 4,\n",
       " 9,\n",
       " 16,\n",
       " 25,\n",
       " 36,\n",
       " 49,\n",
       " 64,\n",
       " 81,\n",
       " 100,\n",
       " 121,\n",
       " 144,\n",
       " 169,\n",
       " 196,\n",
       " 225,\n",
       " 256,\n",
       " 289,\n",
       " 324,\n",
       " 361,\n",
       " 400,\n",
       " 441,\n",
       " 484,\n",
       " 529,\n",
       " 576,\n",
       " 625,\n",
       " 676,\n",
       " 729,\n",
       " 784,\n",
       " 841]"
      ]
     },
     "execution_count": 361,
     "metadata": {},
     "output_type": "execute_result"
    }
   ],
   "source": [
    "li(30)"
   ]
  },
  {
   "cell_type": "code",
   "execution_count": null,
   "id": "a19f5a48-031e-4536-81d7-2625c3fe09a8",
   "metadata": {},
   "outputs": [],
   "source": [
    "# It stored the value in memory\n",
    "# if we have to work on large data it will create difficulty because then execution will be slow "
   ]
  },
  {
   "cell_type": "code",
   "execution_count": null,
   "id": "440093e0-50ba-4b66-8f62-4f88706576ea",
   "metadata": {},
   "outputs": [],
   "source": []
  },
  {
   "cell_type": "code",
   "execution_count": null,
   "id": "4c0ca11b-ef53-4dd0-af52-ed5e4a87f5eb",
   "metadata": {},
   "outputs": [],
   "source": [
    "# Example of generator function "
   ]
  },
  {
   "cell_type": "code",
   "execution_count": 371,
   "id": "4fb02fe3-9406-4909-807a-624386751613",
   "metadata": {},
   "outputs": [],
   "source": [
    "def li(n):\n",
    "    for i in range(n):\n",
    "        yield i**2"
   ]
  },
  {
   "cell_type": "code",
   "execution_count": 373,
   "id": "a32b0e7c-0bb4-4dfe-b03e-78d4822f38e7",
   "metadata": {},
   "outputs": [
    {
     "data": {
      "text/plain": [
       "<generator object li at 0x000001F9C597C1E0>"
      ]
     },
     "execution_count": 373,
     "metadata": {},
     "output_type": "execute_result"
    }
   ],
   "source": [
    "li(50)"
   ]
  },
  {
   "cell_type": "code",
   "execution_count": 375,
   "id": "4dc40500-b543-44be-9b85-481681801805",
   "metadata": {},
   "outputs": [],
   "source": [
    "a=li(50)"
   ]
  },
  {
   "cell_type": "code",
   "execution_count": 377,
   "id": "b55fad08-fad2-4b2c-a912-e130d537d838",
   "metadata": {},
   "outputs": [
    {
     "data": {
      "text/plain": [
       "0"
      ]
     },
     "execution_count": 377,
     "metadata": {},
     "output_type": "execute_result"
    }
   ],
   "source": [
    "next(a)"
   ]
  },
  {
   "cell_type": "code",
   "execution_count": 379,
   "id": "84628af3-ef61-4695-90cb-25f8eeb352bc",
   "metadata": {},
   "outputs": [
    {
     "data": {
      "text/plain": [
       "1"
      ]
     },
     "execution_count": 379,
     "metadata": {},
     "output_type": "execute_result"
    }
   ],
   "source": [
    "next(a)"
   ]
  },
  {
   "cell_type": "code",
   "execution_count": 381,
   "id": "2c7490e6-a189-4dd1-85cd-02ca85091e10",
   "metadata": {},
   "outputs": [
    {
     "data": {
      "text/plain": [
       "4"
      ]
     },
     "execution_count": 381,
     "metadata": {},
     "output_type": "execute_result"
    }
   ],
   "source": [
    "next(a)"
   ]
  },
  {
   "cell_type": "code",
   "execution_count": 383,
   "id": "2ac49ae4-addb-4dc9-84c4-ec7c887975fb",
   "metadata": {},
   "outputs": [
    {
     "data": {
      "text/plain": [
       "9"
      ]
     },
     "execution_count": 383,
     "metadata": {},
     "output_type": "execute_result"
    }
   ],
   "source": [
    "next(a)"
   ]
  },
  {
   "cell_type": "code",
   "execution_count": 385,
   "id": "f99f3a0e-c066-42ff-9f8f-d9f2a4154413",
   "metadata": {},
   "outputs": [
    {
     "data": {
      "text/plain": [
       "16"
      ]
     },
     "execution_count": 385,
     "metadata": {},
     "output_type": "execute_result"
    }
   ],
   "source": [
    "next(a)"
   ]
  },
  {
   "cell_type": "code",
   "execution_count": null,
   "id": "48a58e2a-510e-4089-ba87-364d14f7c83b",
   "metadata": {},
   "outputs": [],
   "source": [
    "#It  does not stored the value in memory\n",
    "# Now if we have to work on large data it will be easy for us because execution will be fast and we can use next() by choice "
   ]
  },
  {
   "cell_type": "code",
   "execution_count": null,
   "id": "9e64d680-0c8a-464e-a648-1f955ec76ab1",
   "metadata": {},
   "outputs": [],
   "source": []
  },
  {
   "cell_type": "markdown",
   "id": "90db7b9f-53e3-4e67-b399-7032690d9cf5",
   "metadata": {},
   "source": [
    "### 8. What is a lambda function in Python and when is it typically used?"
   ]
  },
  {
   "cell_type": "code",
   "execution_count": null,
   "id": "96318735-cc80-4f77-9662-bb43f3130988",
   "metadata": {},
   "outputs": [],
   "source": [
    "'''\n",
    "solution :- LAMBDA FUNCTION :- It is also know as ANOYNOMOUS FUNCTION / SHORTHAND FUNCTION \n",
    "\n",
    "                               It is used to create anonymous functions, also known as lambda expressions\n",
    "\n",
    "                               It reduces the code lines so we can write any code in shortest way thats' why it is also known as shorthand \n",
    "                               function.\n",
    "\n",
    "\n",
    "'''\n",
    "# syntax\n",
    "# lambda arguments : expression"
   ]
  },
  {
   "cell_type": "code",
   "execution_count": 388,
   "id": "56f0ef5d-f290-4a97-bb6f-8558b3edd4b8",
   "metadata": {},
   "outputs": [],
   "source": [
    "# Example \n",
    "a=(lambda x,y:x+y)"
   ]
  },
  {
   "cell_type": "code",
   "execution_count": 390,
   "id": "ddb62c5e-b42b-4206-95e1-dc6e78757d59",
   "metadata": {},
   "outputs": [
    {
     "data": {
      "text/plain": [
       "5"
      ]
     },
     "execution_count": 390,
     "metadata": {},
     "output_type": "execute_result"
    }
   ],
   "source": [
    "a(2,3)"
   ]
  },
  {
   "cell_type": "code",
   "execution_count": 392,
   "id": "e0c330da-03bd-44ca-be59-0185ae8c5113",
   "metadata": {},
   "outputs": [],
   "source": [
    "# Example \n",
    "# if we have to find factorial  without using lambda\n",
    "# We have to write a long code\n",
    "def fac(n):\n",
    "    if n==0:\n",
    "        return 1\n",
    "    else:\n",
    "        return n*fac(n-1)"
   ]
  },
  {
   "cell_type": "code",
   "execution_count": 394,
   "id": "87fa6998-5f24-41f7-9350-713eb86b4a89",
   "metadata": {},
   "outputs": [
    {
     "data": {
      "text/plain": [
       "3628800"
      ]
     },
     "execution_count": 394,
     "metadata": {},
     "output_type": "execute_result"
    }
   ],
   "source": [
    "fac(10)"
   ]
  },
  {
   "cell_type": "code",
   "execution_count": 396,
   "id": "93cf00ff-acae-4445-9c2f-8abb0023ea47",
   "metadata": {},
   "outputs": [],
   "source": [
    "# By using lambda we can reduce it in one line \n",
    "a=lambda n:1 if n==0 else n*fac(n-1)"
   ]
  },
  {
   "cell_type": "code",
   "execution_count": 398,
   "id": "b97edffc-ff50-48a6-b783-bc3ee1bd5e57",
   "metadata": {},
   "outputs": [
    {
     "data": {
      "text/plain": [
       "3628800"
      ]
     },
     "execution_count": 398,
     "metadata": {},
     "output_type": "execute_result"
    }
   ],
   "source": [
    "a(10)"
   ]
  },
  {
   "cell_type": "code",
   "execution_count": 400,
   "id": "d0f5ec01-5453-4388-9f49-79a119c54b1e",
   "metadata": {},
   "outputs": [],
   "source": [
    "# Example \n",
    "# similarly for creating fib sequence\n",
    "fib=lambda n:n if n<=1 else fib(n-1) + fib(n-2)"
   ]
  },
  {
   "cell_type": "code",
   "execution_count": 404,
   "id": "8c50a33d-1235-4723-8d9c-0de84017acab",
   "metadata": {},
   "outputs": [
    {
     "data": {
      "text/plain": [
       "[0, 1, 1, 2, 3, 5, 8, 13, 21, 34]"
      ]
     },
     "execution_count": 404,
     "metadata": {},
     "output_type": "execute_result"
    }
   ],
   "source": [
    "[fib(i) for i in range(10)]"
   ]
  },
  {
   "cell_type": "code",
   "execution_count": 482,
   "id": "ee11081f-f6da-4632-a0c8-03a043916fd0",
   "metadata": {},
   "outputs": [
    {
     "name": "stdout",
     "output_type": "stream",
     "text": [
      "[0, 1, 1, 2, 3, 5, 8, 13, 21, 34]\n"
     ]
    }
   ],
   "source": [
    "# similarly without using lambda function \n",
    "n=10\n",
    "r=[0,1]\n",
    "for i in range(2,n):\n",
    "    r.append(r[i-1]+r[i-2])\n",
    "print(r)"
   ]
  },
  {
   "cell_type": "markdown",
   "id": "9c689eef-e0e2-41e7-95ef-7de7badf3ea9",
   "metadata": {},
   "source": []
  },
  {
   "cell_type": "markdown",
   "id": "573943ad-bd9e-48bc-ac91-d2c284696229",
   "metadata": {},
   "source": [
    "### 9- Explain the purpose and usage of the `map()` function in Python."
   ]
  },
  {
   "cell_type": "code",
   "execution_count": null,
   "id": "9938766b-a038-4374-a51c-08e5e1231bb0",
   "metadata": {},
   "outputs": [],
   "source": [
    "'''\n",
    "solution :- Map is built in function in Python\n",
    "\n",
    "            It applies a given function to all the items in an iterable \n",
    "\n",
    "            It returns an iterable map object (an iterator) of the results.\n",
    "\n",
    "            First parameter of map() is the function that you want to apply to each item in the iterable\n",
    "\n",
    "            Second parameter onward represents one or more iterables (e.g., lists, tuples, strings) \n",
    "\n",
    "'''"
   ]
  },
  {
   "cell_type": "code",
   "execution_count": null,
   "id": "6c41aeaa-88fd-4ded-a636-6122fd2c9390",
   "metadata": {},
   "outputs": [],
   "source": [
    "# Syntax \n",
    "# map(function , iterable)"
   ]
  },
  {
   "cell_type": "code",
   "execution_count": null,
   "id": "ee95493c-58c5-42f3-9826-e59ba8372f5c",
   "metadata": {},
   "outputs": [],
   "source": [
    "# Example "
   ]
  },
  {
   "cell_type": "code",
   "execution_count": 490,
   "id": "7c7a552c-58e0-4cd4-b0f7-eb52ecdaca61",
   "metadata": {},
   "outputs": [],
   "source": [
    "def sq(n):\n",
    "    return n**2\n",
    "    "
   ]
  },
  {
   "cell_type": "code",
   "execution_count": 492,
   "id": "441dd327-b83b-42c2-a5c6-4a4c4fc9134c",
   "metadata": {},
   "outputs": [
    {
     "data": {
      "text/plain": [
       "[4, 16, 36, 64, 100]"
      ]
     },
     "execution_count": 492,
     "metadata": {},
     "output_type": "execute_result"
    }
   ],
   "source": [
    "list1=[2,4,6,8,10]\n",
    "#now using map function\n",
    "list(map(sq,list1))"
   ]
  },
  {
   "cell_type": "code",
   "execution_count": 494,
   "id": "f00b4222-a1b0-410e-997b-3d712fb5147f",
   "metadata": {},
   "outputs": [
    {
     "data": {
      "text/plain": [
       "[322, 233, 344, 405, 534, 63]"
      ]
     },
     "execution_count": 494,
     "metadata": {},
     "output_type": "execute_result"
    }
   ],
   "source": [
    "# Example 2\n",
    "# using map and lambda function \n",
    "list1=[222,33,44,5,34,3]\n",
    "list2=[100,200,300,400,500,60]\n",
    "list(map(lambda x,y:x+y ,list1,list2 ))"
   ]
  },
  {
   "cell_type": "code",
   "execution_count": 496,
   "id": "dbec1664-4636-47c4-8783-5217d8715410",
   "metadata": {},
   "outputs": [
    {
     "data": {
      "text/plain": [
       "[101, 102, 103, 104, 105, 106]"
      ]
     },
     "execution_count": 496,
     "metadata": {},
     "output_type": "execute_result"
    }
   ],
   "source": [
    "a=[1,2,3,4,5,6]\n",
    "def ad(x):\n",
    "    return x+100\n",
    "list(map(ad,a))"
   ]
  },
  {
   "cell_type": "code",
   "execution_count": null,
   "id": "7f703852-5018-4443-94d2-5c85f8964ace",
   "metadata": {},
   "outputs": [],
   "source": [
    "# map function is like a conveyor belt  which  process each item on by one "
   ]
  },
  {
   "cell_type": "markdown",
   "id": "451756ee-499d-465a-b684-fbed7da691b1",
   "metadata": {},
   "source": [
    "### 10. What is the difference between `map()`, `reduce()`, and `filter()` functions in Python?"
   ]
  },
  {
   "cell_type": "code",
   "execution_count": null,
   "id": "7fbf1883-a750-42ab-bf31-52f343d7fdbe",
   "metadata": {},
   "outputs": [],
   "source": [
    "'''\n",
    "solution :-  Difference between map() , reduce () and filter()\n",
    "\n",
    "\n",
    "            1- map()\n",
    "            \n",
    "            It is a built in function in Python\n",
    "\n",
    "            It applies a given function to all the items in an iterable , and return an iterable map object (an iterator) of the results\n",
    "\n",
    "            It process each item one by one\n",
    "\n",
    "'''"
   ]
  },
  {
   "cell_type": "code",
   "execution_count": null,
   "id": "ee626656-f939-4906-9239-13e2153b27aa",
   "metadata": {},
   "outputs": [],
   "source": [
    "# Example "
   ]
  },
  {
   "cell_type": "code",
   "execution_count": 499,
   "id": "ce5153ef-fc71-4f6a-b7ef-145cbec3c9e1",
   "metadata": {},
   "outputs": [],
   "source": [
    "a1=[2,4,6,8,10]"
   ]
  },
  {
   "cell_type": "code",
   "execution_count": 503,
   "id": "e45a14da-6a2f-4c86-861b-fd4397be6409",
   "metadata": {},
   "outputs": [],
   "source": [
    "def di(x):\n",
    "    return x/2"
   ]
  },
  {
   "cell_type": "code",
   "execution_count": 505,
   "id": "44bc1cc5-5491-4d35-8085-080a95062523",
   "metadata": {},
   "outputs": [
    {
     "data": {
      "text/plain": [
       "[1.0, 2.0, 3.0, 4.0, 5.0]"
      ]
     },
     "execution_count": 505,
     "metadata": {},
     "output_type": "execute_result"
    }
   ],
   "source": [
    "list(map(di,a1))"
   ]
  },
  {
   "cell_type": "code",
   "execution_count": null,
   "id": "61d81893-561a-416b-be45-2c71acb5f59c",
   "metadata": {},
   "outputs": [],
   "source": [
    "'''\n",
    "        2 - reduce()\n",
    "\n",
    "        \n",
    "         It is commonly known as folding / reduction\n",
    "\n",
    "         It reduces items of list to a single value (cumulative value)\n",
    "\n",
    "         Repeat the process until the iterable is exhausted and then return a single cumulative value.\n",
    "\n",
    "'''\n",
    "# syntax\n",
    "# from functools import reduce\n",
    "# reduce (function ,iterable)\n",
    "        "
   ]
  },
  {
   "cell_type": "code",
   "execution_count": 511,
   "id": "c6e4f5b1-8161-4ac5-a0dc-a98b0881a10f",
   "metadata": {},
   "outputs": [
    {
     "data": {
      "text/plain": [
       "3840"
      ]
     },
     "execution_count": 511,
     "metadata": {},
     "output_type": "execute_result"
    }
   ],
   "source": [
    "# Example \n",
    "\n",
    "# first import reduce()\n",
    "\n",
    "from functools import reduce\n",
    "x1=[2,4,6,8,10]\n",
    "reduce(lambda x,y:x*y ,x1)"
   ]
  },
  {
   "cell_type": "code",
   "execution_count": 513,
   "id": "9dfdd0d5-305c-4a06-884e-8cc5f8183ffc",
   "metadata": {},
   "outputs": [],
   "source": [
    "li=[1,2,3,4,5,6,7,8,9,10]"
   ]
  },
  {
   "cell_type": "code",
   "execution_count": 515,
   "id": "bb9379a1-82dd-46db-8007-ad72bd23b4a4",
   "metadata": {},
   "outputs": [
    {
     "data": {
      "text/plain": [
       "55"
      ]
     },
     "execution_count": 515,
     "metadata": {},
     "output_type": "execute_result"
    }
   ],
   "source": [
    "reduce(lambda x,y: x+y,li)"
   ]
  },
  {
   "cell_type": "code",
   "execution_count": null,
   "id": "2b85b9a7-ffba-4281-90cb-d92acd8218f5",
   "metadata": {},
   "outputs": [],
   "source": [
    "'''\n",
    "    3 - filter()\n",
    "\n",
    "        It is used to filter elements from an iterable based on some condition\n",
    "\n",
    "        It helps us to pick specific item from  a list\n",
    "\n",
    "        filtering process involves going through each item in list and decide whether to keep it or discard it based on criteria\n",
    "\n",
    "'''\n",
    "\n",
    "# syntax\n",
    "# filter(function , iterable)\n"
   ]
  },
  {
   "cell_type": "code",
   "execution_count": 517,
   "id": "a41ade2f-a616-478d-afc5-64b3e8686a5b",
   "metadata": {},
   "outputs": [],
   "source": [
    "# Example \n",
    "\n",
    "a=[1,2,3,4,5,6,7,8,9,10,11,12,13,14,15,16,17]"
   ]
  },
  {
   "cell_type": "code",
   "execution_count": 521,
   "id": "4b7f0a4d-5847-43f7-9350-240a152e60ef",
   "metadata": {},
   "outputs": [
    {
     "data": {
      "text/plain": [
       "[1, 3, 5, 7, 9, 11, 13, 15, 17]"
      ]
     },
     "execution_count": 521,
     "metadata": {},
     "output_type": "execute_result"
    }
   ],
   "source": [
    "list(filter(lambda x:x%2!=0,a))"
   ]
  },
  {
   "cell_type": "code",
   "execution_count": 537,
   "id": "b949b4ac-931d-4595-b015-5301226a2928",
   "metadata": {},
   "outputs": [],
   "source": [
    "# Example \n",
    "a=[2,3,4,5,6,7,8,9]"
   ]
  },
  {
   "cell_type": "code",
   "execution_count": 539,
   "id": "e31ee2f0-5a3a-4be2-8417-9dee74172707",
   "metadata": {},
   "outputs": [
    {
     "data": {
      "text/plain": [
       "[2, 4, 6, 8]"
      ]
     },
     "execution_count": 539,
     "metadata": {},
     "output_type": "execute_result"
    }
   ],
   "source": [
    "list(filter(lambda x:x%2==0,a))"
   ]
  },
  {
   "cell_type": "markdown",
   "id": "78a5f2ab-78c9-42bb-8846-fa79241ce966",
   "metadata": {},
   "source": [
    "#### 11 question is based on pen and paper ,   paper image is attached for this answer in doc"
   ]
  },
  {
   "cell_type": "code",
   "execution_count": null,
   "id": "544894e2-3e38-4371-82ba-50ea92a2ee4a",
   "metadata": {},
   "outputs": [],
   "source": []
  },
  {
   "cell_type": "markdown",
   "id": "7d68b69c-3d5d-4238-88d7-eb1f13ffe358",
   "metadata": {},
   "source": [
    "##                                                 PRACTICAL QUESTIONS"
   ]
  },
  {
   "cell_type": "code",
   "execution_count": null,
   "id": "6b77df99-c8ef-468e-8eee-0f473550e8a4",
   "metadata": {},
   "outputs": [],
   "source": []
  },
  {
   "cell_type": "markdown",
   "id": "04cc051a-7dd2-463f-b8d6-010784ef5548",
   "metadata": {},
   "source": [
    "### 1.Write a Python function that takes a list of numbers as input and returns the sum of all even numbers in the list."
   ]
  },
  {
   "cell_type": "code",
   "execution_count": null,
   "id": "8c16eb10-6a50-4f57-9254-87050442bfff",
   "metadata": {},
   "outputs": [],
   "source": [
    "# SOLUTION:-"
   ]
  },
  {
   "cell_type": "code",
   "execution_count": 320,
   "id": "759ec9c5-d7c2-4ba8-bf6c-5805e54f29f1",
   "metadata": {},
   "outputs": [],
   "source": [
    "def even_no(n):\n",
    "    li=[]\n",
    "    a=[]\n",
    "    for i in range(n):\n",
    "        x=int(input(\"enter numbers : \"))\n",
    "        a.append(x)\n",
    "    print(\"-----------------\")\n",
    "    print(a)\n",
    "    for j in a:\n",
    "        if j%2==0:\n",
    "            li.append(j)\n",
    "    print(\"Even numbers in the list :\",li)\n",
    "    sa=sum(li)\n",
    "    print(\"Sum of no :\",sa)\n"
   ]
  },
  {
   "cell_type": "code",
   "execution_count": 322,
   "id": "ded0a4bd-aadd-450c-81b7-25a44c12b1a4",
   "metadata": {},
   "outputs": [
    {
     "name": "stdin",
     "output_type": "stream",
     "text": [
      "enter numbers :  1\n",
      "enter numbers :  2\n",
      "enter numbers :  3\n",
      "enter numbers :  4\n",
      "enter numbers :  5\n",
      "enter numbers :  6\n"
     ]
    },
    {
     "name": "stdout",
     "output_type": "stream",
     "text": [
      "-----------------\n",
      "[1, 2, 3, 4, 5, 6]\n",
      "Even numbers in the list : [2, 4, 6]\n",
      "Sum of no : 12\n"
     ]
    }
   ],
   "source": [
    "even_no(6)"
   ]
  },
  {
   "cell_type": "markdown",
   "id": "91d9eadc-2fa8-4c98-85a3-241c7f0113d6",
   "metadata": {},
   "source": [
    "### 2. Create a Python function that accepts a string and returns the reverse of that string."
   ]
  },
  {
   "cell_type": "code",
   "execution_count": null,
   "id": "4952999f-3856-4f6c-bd4b-09831b154401",
   "metadata": {},
   "outputs": [],
   "source": [
    "# SOLUTION:-"
   ]
  },
  {
   "cell_type": "code",
   "execution_count": 43,
   "id": "05c88a31-5fc8-4615-b6d6-7ae8acd2aff6",
   "metadata": {},
   "outputs": [],
   "source": [
    "def rev():\n",
    "    x=input(\"Enter a string : \")\n",
    "    print(\"------\")\n",
    "    c=x[::-1]\n",
    "    return c"
   ]
  },
  {
   "cell_type": "code",
   "execution_count": 45,
   "id": "0c68434d-dafe-44bc-8c3a-59beabf72fb6",
   "metadata": {},
   "outputs": [
    {
     "name": "stdin",
     "output_type": "stream",
     "text": [
      "Enter a string :  hrishabh\n"
     ]
    },
    {
     "name": "stdout",
     "output_type": "stream",
     "text": [
      "------\n"
     ]
    },
    {
     "data": {
      "text/plain": [
       "'hbahsirh'"
      ]
     },
     "execution_count": 45,
     "metadata": {},
     "output_type": "execute_result"
    }
   ],
   "source": [
    "rev()"
   ]
  },
  {
   "cell_type": "markdown",
   "id": "47f96fc0-7ae8-4192-b756-4322076ff7b5",
   "metadata": {},
   "source": [
    "### 3. Implement a Python function that takes a list of integers and returns a new list containing the squares of each number.."
   ]
  },
  {
   "cell_type": "code",
   "execution_count": null,
   "id": "60f6fca3-3fc7-48f2-b972-1ebb08dac298",
   "metadata": {},
   "outputs": [],
   "source": [
    "# SOLUTION:-"
   ]
  },
  {
   "cell_type": "code",
   "execution_count": 77,
   "id": "eef5f1fe-eaf4-4cc8-a735-325084e94b63",
   "metadata": {},
   "outputs": [],
   "source": [
    "def sq(n):\n",
    "    x=[]\n",
    "    y=[]\n",
    "    for i in range(n):\n",
    "        a=int(input(\"enter numbers : \"))\n",
    "        x.append(a)\n",
    "    print(\"-----------------\")\n",
    "    print(\"List of integers:-\",x)\n",
    "    for j in x:\n",
    "        y.append(j**2)\n",
    "    print(\"------------\")\n",
    "    print(\"Square of integers:-\",y)"
   ]
  },
  {
   "cell_type": "code",
   "execution_count": 79,
   "id": "0ea8cb37-0fac-4646-a3f4-917ff45ac854",
   "metadata": {},
   "outputs": [
    {
     "name": "stdin",
     "output_type": "stream",
     "text": [
      "enter numbers :  11\n",
      "enter numbers :  22\n",
      "enter numbers :  33\n",
      "enter numbers :  44\n",
      "enter numbers :  55\n",
      "enter numbers :  66\n"
     ]
    },
    {
     "name": "stdout",
     "output_type": "stream",
     "text": [
      "-----------------\n",
      "List of integers:- [11, 22, 33, 44, 55, 66]\n",
      "------------\n",
      "Square of integers:- [121, 484, 1089, 1936, 3025, 4356]\n"
     ]
    }
   ],
   "source": [
    "sq(6)"
   ]
  },
  {
   "cell_type": "markdown",
   "id": "a1a15589-cc73-4e93-9e78-42f504b67856",
   "metadata": {},
   "source": [
    "### 4. Write a Python function that checks if a given number is prime or not from 1 to 200."
   ]
  },
  {
   "cell_type": "code",
   "execution_count": 82,
   "id": "aa53bafe-cfec-4b75-b8ae-ba687ada80e6",
   "metadata": {},
   "outputs": [],
   "source": [
    "# SOLUTION:-"
   ]
  },
  {
   "cell_type": "code",
   "execution_count": 236,
   "id": "9ea3b1ef-579e-496b-b73a-5a68f9b0ba50",
   "metadata": {},
   "outputs": [],
   "source": [
    "#manual function\n",
    "def prime_p(n):\n",
    "    a=\"It is not a prime number\"\n",
    "    b=\"It is a prime number\"\n",
    "    if n<2:\n",
    "        return False\n",
    "    for i in range(2,n):\n",
    "        if n%i==0:\n",
    "            return a\n",
    "        return b\n",
    "    for i in range(1,201):\n",
    "        if prime_p(i):\n",
    "            print(i)\n",
    "    "
   ]
  },
  {
   "cell_type": "code",
   "execution_count": 254,
   "id": "c20b27cb-0d76-4a6c-b548-f669c658b7d6",
   "metadata": {},
   "outputs": [
    {
     "data": {
      "text/plain": [
       "'It is a prime number'"
      ]
     },
     "execution_count": 254,
     "metadata": {},
     "output_type": "execute_result"
    }
   ],
   "source": [
    "prime_p(11)"
   ]
  },
  {
   "cell_type": "code",
   "execution_count": 298,
   "id": "8507fb12-8f74-4ec0-9653-a2418ca38c34",
   "metadata": {},
   "outputs": [],
   "source": [
    "# Automatically fetch values from 1 to 200\n",
    "def prime_p():\n",
    "    a=[]\n",
    "    for i in range(2,201):\n",
    "        pri=True\n",
    "        for j in range(2,i):\n",
    "            if i%j==0:\n",
    "                pri=False\n",
    "                break\n",
    "        if pri:\n",
    "            a.append(i)\n",
    "    print(\"Prime numbers list\")\n",
    "    print(a)"
   ]
  },
  {
   "cell_type": "code",
   "execution_count": 300,
   "id": "47fe3218-c03d-44b7-865c-b58c73b0e0d3",
   "metadata": {},
   "outputs": [
    {
     "name": "stdout",
     "output_type": "stream",
     "text": [
      "Prime numbers list\n",
      "[2, 3, 5, 7, 11, 13, 17, 19, 23, 29, 31, 37, 41, 43, 47, 53, 59, 61, 67, 71, 73, 79, 83, 89, 97, 101, 103, 107, 109, 113, 127, 131, 137, 139, 149, 151, 157, 163, 167, 173, 179, 181, 191, 193, 197, 199]\n"
     ]
    }
   ],
   "source": [
    "prime_p()"
   ]
  },
  {
   "cell_type": "markdown",
   "id": "b47323bc-e6d2-4c21-ab55-8ba51e8d804a",
   "metadata": {},
   "source": [
    "### 5. Create an iterator class in Python that generates the Fibonacci sequence up to a specified number of terms."
   ]
  },
  {
   "cell_type": "code",
   "execution_count": null,
   "id": "b134d734-5744-486b-ab9e-b703edfd8c96",
   "metadata": {},
   "outputs": [],
   "source": [
    "# SOLUTION:-"
   ]
  },
  {
   "cell_type": "code",
   "execution_count": 336,
   "id": "3e32a4b8-d66e-4c83-9d8a-a80c6df17b94",
   "metadata": {},
   "outputs": [],
   "source": [
    "class Fibgene:\n",
    "    def __init__(self,x):\n",
    "        self.x=x\n",
    "        self.a,self.b=0,1\n",
    "    def __iter__(self):\n",
    "        return self \n",
    "\n",
    "    def __next__(self):\n",
    "        if self.x>0:\n",
    "            self.x -=1\n",
    "            f1=self.a\n",
    "            self.a,self.b=self.b,self.a+self.b\n",
    "            return f1\n",
    "        else:\n",
    "            raise StopIteration"
   ]
  },
  {
   "cell_type": "code",
   "execution_count": 338,
   "id": "e0c1fdbc-21c9-4d29-8a5c-c8de3327803b",
   "metadata": {},
   "outputs": [
    {
     "name": "stdout",
     "output_type": "stream",
     "text": [
      "0 1 1 2 3 5 8 13 21 34 55 89 144 233 377 610 987 1597 2584 4181 "
     ]
    }
   ],
   "source": [
    "fi=Fibgene(20)\n",
    "for i in fi:\n",
    "    print(i,end=' ')"
   ]
  },
  {
   "cell_type": "code",
   "execution_count": null,
   "id": "4b151751-a00d-4438-baa7-3ab591ea628b",
   "metadata": {},
   "outputs": [],
   "source": [
    "# NOTE - The iterator checks if there are more items to generate , if not it raises a stopiteration exception"
   ]
  },
  {
   "cell_type": "code",
   "execution_count": null,
   "id": "8dc08fec-45f7-42ed-8267-13cf0caac30a",
   "metadata": {},
   "outputs": [],
   "source": [
    "# by using raise stopiteration we can communicate between the iterator and the loop"
   ]
  },
  {
   "cell_type": "markdown",
   "id": "066ab0aa-18e5-42aa-8229-f99f19f83e67",
   "metadata": {},
   "source": [
    "### 6. Write a generator function in Python that yields the powers of 2 up to a given exponent."
   ]
  },
  {
   "cell_type": "code",
   "execution_count": null,
   "id": "3e3fbef1-9b99-4427-9dba-bbce8ad722f0",
   "metadata": {},
   "outputs": [],
   "source": [
    "# SOLUTION:-"
   ]
  },
  {
   "cell_type": "code",
   "execution_count": 683,
   "id": "540a092c-f09d-49dd-9d45-6bc46ba5ccd9",
   "metadata": {},
   "outputs": [],
   "source": [
    "def squ():\n",
    "    x=int(input(\"Enter exponent:\"))\n",
    "    n=1\n",
    "    for i in range(x+1):\n",
    "        yield n\n",
    "        n=n*2"
   ]
  },
  {
   "cell_type": "code",
   "execution_count": 685,
   "id": "aa33347a-67cc-4791-825c-004a2adf7d2f",
   "metadata": {},
   "outputs": [],
   "source": [
    "# Created the generator object \n",
    "a=squ()"
   ]
  },
  {
   "cell_type": "code",
   "execution_count": 687,
   "id": "15e455b3-e110-4abd-914b-fe574e08b403",
   "metadata": {},
   "outputs": [
    {
     "name": "stdin",
     "output_type": "stream",
     "text": [
      "Enter exponent: 6\n"
     ]
    },
    {
     "name": "stdout",
     "output_type": "stream",
     "text": [
      "1\n",
      "2\n",
      "4\n",
      "8\n",
      "16\n",
      "32\n",
      "64\n"
     ]
    }
   ],
   "source": [
    "for i in a:\n",
    "    print(i)"
   ]
  },
  {
   "cell_type": "markdown",
   "id": "c56b50e6-150b-49b4-8db3-03cee6d2dd6e",
   "metadata": {},
   "source": [
    "### 7. Implement a generator function that reads a file line by line and yields each line as a string."
   ]
  },
  {
   "cell_type": "code",
   "execution_count": null,
   "id": "5a9df2ba-85c8-4e84-a210-473c195c31b3",
   "metadata": {},
   "outputs": [],
   "source": [
    "# SOLUTION:-"
   ]
  },
  {
   "cell_type": "code",
   "execution_count": 520,
   "id": "9307e9bc-f340-4933-8ff1-3a1990a68b10",
   "metadata": {},
   "outputs": [],
   "source": [
    "def red():\n",
    "    l1=[\"Apple\",\"Banana\",\"Apricot\",\"Mango\",\"Kiwi\",\"Pineapple\",\"Lemon\",\"Berry\",\"Guvava\",\"Coconut\"]\n",
    "    for i in l1:\n",
    "        yield i"
   ]
  },
  {
   "cell_type": "code",
   "execution_count": 522,
   "id": "a2d1687a-1fb7-4428-a488-14679e9ebd73",
   "metadata": {},
   "outputs": [
    {
     "data": {
      "text/plain": [
       "<generator object red at 0x0000020FCB88D900>"
      ]
     },
     "execution_count": 522,
     "metadata": {},
     "output_type": "execute_result"
    }
   ],
   "source": [
    "red()"
   ]
  },
  {
   "cell_type": "code",
   "execution_count": 524,
   "id": "4c9d40c7-4680-4c17-928f-b18ac242bfc6",
   "metadata": {},
   "outputs": [
    {
     "name": "stdout",
     "output_type": "stream",
     "text": [
      "Fruit:Apple\n",
      "Fruit:Banana\n",
      "Fruit:Apricot\n",
      "Fruit:Mango\n",
      "Fruit:Kiwi\n",
      "Fruit:Pineapple\n",
      "Fruit:Lemon\n",
      "Fruit:Berry\n",
      "Fruit:Guvava\n",
      "Fruit:Coconut\n"
     ]
    }
   ],
   "source": [
    "for j in red():\n",
    "    print(f\"Fruit:{j}\")"
   ]
  },
  {
   "cell_type": "code",
   "execution_count": null,
   "id": "453cc71b-01e2-44ba-9844-901e99906b76",
   "metadata": {},
   "outputs": [],
   "source": [
    "# OR"
   ]
  },
  {
   "cell_type": "code",
   "execution_count": 444,
   "id": "7acf86d7-f322-41e1-b8db-7691a0ac22e2",
   "metadata": {},
   "outputs": [
    {
     "name": "stdout",
     "output_type": "stream",
     "text": [
      "Fruit: Apple\n",
      "Fruit: Banana\n",
      "Fruit: Mango\n",
      "Fruit: Kiwi\n",
      "Fruit: Pineapple\n",
      "Fruit: Lemon\n"
     ]
    }
   ],
   "source": [
    "def fruits_generator():\n",
    "    yield \"Apple\"\n",
    "    yield \"Banana\"\n",
    "    yield \"Mango\"\n",
    "    yield \"Kiwi\"\n",
    "    yield \"Pineapple\"\n",
    "    yield \"Lemon\"\n",
    "for i in fruits_generator():\n",
    "    print(f\"Fruit: {i}\")\n"
   ]
  },
  {
   "cell_type": "code",
   "execution_count": null,
   "id": "8b069291-cb2f-4911-a2fb-e74419dc3f4e",
   "metadata": {},
   "outputs": [],
   "source": []
  },
  {
   "cell_type": "markdown",
   "id": "2eceb749-8041-46c4-9f2e-2529878689eb",
   "metadata": {},
   "source": [
    "### 8. Use a lambda function in Python to sort a list of tuples based on the second element of each tuple.\r"
   ]
  },
  {
   "cell_type": "code",
   "execution_count": null,
   "id": "9dee7b09-3ece-40e2-8dc3-75761eec11b6",
   "metadata": {},
   "outputs": [],
   "source": [
    "# SOLUTION :-"
   ]
  },
  {
   "cell_type": "code",
   "execution_count": 551,
   "id": "5c7fc250-4767-4b9b-9fdb-c40f81c9b8dc",
   "metadata": {},
   "outputs": [
    {
     "name": "stdout",
     "output_type": "stream",
     "text": [
      "[(4, 1), (1, 2), (2, 2), (3, 3), (5, 12)]\n"
     ]
    }
   ],
   "source": [
    "na_m=[(1,2),(2,2),(3,3),(4,1),(5,12)]\n",
    "srt=sorted(na_m,key=lambda x:x[1])\n",
    "print(srt)"
   ]
  },
  {
   "cell_type": "code",
   "execution_count": null,
   "id": "975b251c-b1a3-481e-8b59-1b1d7f477046",
   "metadata": {},
   "outputs": [],
   "source": []
  },
  {
   "cell_type": "markdown",
   "id": "df5d0d61-940e-403c-b5d0-7af4e0a024c3",
   "metadata": {},
   "source": [
    "### 9. Write a Python program that uses `map()` to convert a list of temperatures from Celsius to Fahrenheit"
   ]
  },
  {
   "cell_type": "code",
   "execution_count": 691,
   "id": "25d86c64-24f0-4bc9-807b-e3babaf5218d",
   "metadata": {},
   "outputs": [],
   "source": [
    "# SOLUTION :-"
   ]
  },
  {
   "cell_type": "code",
   "execution_count": 826,
   "id": "611391fe-9045-41b6-a069-1e7ab9f8c7f1",
   "metadata": {},
   "outputs": [],
   "source": [
    "def feh():\n",
    "    c=[2,45,34,23,32,17,19,7]\n",
    "    print(\"Celsius :\",c)\n",
    "    f=list(map(lambda x:x*(9/5)+32,c))\n",
    "    print(\"Fahrenhit :\",f)"
   ]
  },
  {
   "cell_type": "code",
   "execution_count": 828,
   "id": "8f15759f-33c6-48d4-9ec1-24bf24864475",
   "metadata": {},
   "outputs": [
    {
     "name": "stdout",
     "output_type": "stream",
     "text": [
      "Celsius : [2, 45, 34, 23, 32, 17, 19, 7]\n",
      "Fahrenhit : [35.6, 113.0, 93.2, 73.4, 89.6, 62.6, 66.2, 44.6]\n"
     ]
    }
   ],
   "source": [
    "feh()"
   ]
  },
  {
   "cell_type": "code",
   "execution_count": null,
   "id": "780458c9-c541-4002-a6cf-16591c7975ac",
   "metadata": {},
   "outputs": [],
   "source": []
  },
  {
   "cell_type": "markdown",
   "id": "0acb2bfe-a285-41f4-bac5-e417eecd9355",
   "metadata": {},
   "source": [
    "### 10. Create a Python program that uses `filter()` to remove all the vowels from a given string."
   ]
  },
  {
   "cell_type": "code",
   "execution_count": 712,
   "id": "0f1e033c-0363-4841-8d47-47ff657a20e3",
   "metadata": {},
   "outputs": [],
   "source": [
    "# SOLUTION :-"
   ]
  },
  {
   "cell_type": "code",
   "execution_count": 822,
   "id": "ed8e5b80-864a-467d-8f5b-8f8d82d060c8",
   "metadata": {},
   "outputs": [],
   "source": [
    "def vow():\n",
    "    from functools import reduce\n",
    "    st=input(\"Enter a string :\")\n",
    "    re=reduce(lambda x,y:x+y,map(str,filter(lambda x: x  not in \"aeiouAEIOU\",st)))\n",
    "    print(\"Without vowels:\",re)"
   ]
  },
  {
   "cell_type": "code",
   "execution_count": 824,
   "id": "ecc4f41c-e574-4928-8d55-24cc0357ade3",
   "metadata": {},
   "outputs": [
    {
     "name": "stdin",
     "output_type": "stream",
     "text": [
      "Enter a string : welcome to pw skills\n"
     ]
    },
    {
     "name": "stdout",
     "output_type": "stream",
     "text": [
      "Without vowels: wlcm t pw sklls\n"
     ]
    }
   ],
   "source": [
    "vow()"
   ]
  },
  {
   "cell_type": "code",
   "execution_count": null,
   "id": "f52b0a03-1f30-4dd4-a32c-229545c5b3ca",
   "metadata": {},
   "outputs": [],
   "source": []
  },
  {
   "cell_type": "markdown",
   "id": "9f392010-97d1-4b2b-b00f-6cb5ba1f7051",
   "metadata": {},
   "source": [
    " ### 11) Imagine an accounting routine used in a book shop. It works on a list with sublists, which look like this:\r\n",
    "   \n",
    "           €."
   ]
  },
  {
   "cell_type": "markdown",
   "id": "85ca90b7-acb1-4da6-93ee-0ed88e1e5f91",
   "metadata": {},
   "source": [
    "###      Order Number               Book Title and Author                     Quantity          Price per Item\n",
    "           \n",
    "###           34587            Learning Python, Mark Lutz                      4                   40.95\n",
    "           \n",
    "###           98762            Programming Python, Mark Lutz                   5                   56.80\n",
    "           \n",
    "###           77226            Head First Python, Paul Barry                   3                   32.95\n",
    "             \n",
    "###          88112             Einführung in Python3, Bernd Klein              3                   24.99"
   ]
  },
  {
   "cell_type": "markdown",
   "id": "08fbfad2-9e13-4a2e-a1ac-af176e14ebd5",
   "metadata": {},
   "source": [
    "### Write a Python program, which returns a list with 2-tuples. Each tuple consists of the order number and the product of the price per item and the quantity The product should be increased by 10, -€ if the value of the order is smaller than 100,00  €."
   ]
  },
  {
   "cell_type": "markdown",
   "id": "8566e962-2c6a-4253-bd15-49cecdc396bc",
   "metadata": {},
   "source": [
    "## Write a python program using lambda and map"
   ]
  },
  {
   "cell_type": "code",
   "execution_count": 877,
   "id": "76e0f86a-582b-4958-bb85-e8d253d3472d",
   "metadata": {},
   "outputs": [],
   "source": [
    "# SOLUTION:-"
   ]
  },
  {
   "cell_type": "code",
   "execution_count": 1024,
   "id": "cc7ceda6-6d05-4a34-b1a2-bc776f95e5df",
   "metadata": {},
   "outputs": [],
   "source": [
    "def inc():\n",
    "    ord=[34587,98762,77226,88112]\n",
    "    qu=[4,5,3,3]\n",
    "    pr=[40.95,56.80,32.95,24.99]\n",
    "    a=map(lambda x,y:(x+10)*y if x*y<100 else x*y,qu,pr)\n",
    "    n=list(zip(ord,a))\n",
    "    print(n)\n",
    "    "
   ]
  },
  {
   "cell_type": "code",
   "execution_count": 1026,
   "id": "3edf8749-16c6-417a-90e8-3f1d11acba97",
   "metadata": {},
   "outputs": [
    {
     "name": "stdout",
     "output_type": "stream",
     "text": [
      "[(34587, 163.8), (98762, 284.0), (77226, 428.35), (88112, 324.87)]\n"
     ]
    }
   ],
   "source": [
    "inc()"
   ]
  },
  {
   "cell_type": "code",
   "execution_count": null,
   "id": "c8c823aa-1006-4515-a9cc-1b88645546c5",
   "metadata": {},
   "outputs": [],
   "source": []
  }
 ],
 "metadata": {
  "kernelspec": {
   "display_name": "Python 3 (ipykernel)",
   "language": "python",
   "name": "python3"
  },
  "language_info": {
   "codemirror_mode": {
    "name": "ipython",
    "version": 3
   },
   "file_extension": ".py",
   "mimetype": "text/x-python",
   "name": "python",
   "nbconvert_exporter": "python",
   "pygments_lexer": "ipython3",
   "version": "3.12.4"
  }
 },
 "nbformat": 4,
 "nbformat_minor": 5
}
