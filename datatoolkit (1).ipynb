{
 "cells": [
  {
   "cell_type": "code",
   "execution_count": 1060,
   "id": "a09cd8d9-265c-4844-a20b-2baf1e078bb3",
   "metadata": {},
   "outputs": [],
   "source": [
    "import numpy as np\n",
    "import matplotlib.pyplot as plt\n",
    "`\n",
    "import pandas as pd\n",
    "import random\n",
    "import seaborn as sns"
   ]
  },
  {
   "cell_type": "code",
   "execution_count": 1061,
   "id": "2467bd0a-5662-4718-8214-b3625bd54ef6",
   "metadata": {},
   "outputs": [
    {
     "data": {
      "text/plain": [
       "'C:\\\\Users\\\\Hrishabh\\\\data science with generative ai'"
      ]
     },
     "execution_count": 1061,
     "metadata": {},
     "output_type": "execute_result"
    }
   ],
   "source": [
    "pwd"
   ]
  },
  {
   "cell_type": "markdown",
   "id": "187c0ad3-045a-4f2a-9d1c-048a28fc0933",
   "metadata": {},
   "source": [
    "### 1-Demonstrate three different methods for creating identical 2D arrays in NumPy Provide the code for each method and the final output after each method"
   ]
  },
  {
   "cell_type": "code",
   "execution_count": 1063,
   "id": "b7f70a09-f439-417b-8f62-1ee986eb5054",
   "metadata": {},
   "outputs": [],
   "source": [
    "# SOLUTION :-"
   ]
  },
  {
   "cell_type": "code",
   "execution_count": 1064,
   "id": "c6e49a0b-bdb9-4797-a8ef-abcc8e61d5a8",
   "metadata": {},
   "outputs": [
    {
     "name": "stdout",
     "output_type": "stream",
     "text": [
      "[[ 1  2  3  4  5  6  7  8  9 10]]\n",
      "2\n"
     ]
    }
   ],
   "source": [
    "# 1 METHOD OF CREATING A NUMPY ARRAY\n",
    "arr1=np.array([[1,2,3,4,5,6,7,8,9,10]])\n",
    "print(arr1)\n",
    "print(arr1.ndim)"
   ]
  },
  {
   "cell_type": "code",
   "execution_count": 1065,
   "id": "6a9a7c0c-a81c-4e8d-b050-d1c8d4b809ff",
   "metadata": {},
   "outputs": [
    {
     "name": "stdout",
     "output_type": "stream",
     "text": [
      "[[ 1  2  3  4  5  6  7  8  9 10]]\n",
      "2\n"
     ]
    }
   ],
   "source": [
    "# 2 METHOD OF CREATING A NUMPY ARRAY\n",
    "arr2=np.asarray([[1,2,3,4,5,6,7,8,9,10]])\n",
    "print(arr2)\n",
    "print(arr2.ndim)"
   ]
  },
  {
   "cell_type": "code",
   "execution_count": 1066,
   "id": "13b6df88-205f-4426-b260-38160e3d4b1e",
   "metadata": {},
   "outputs": [
    {
     "name": "stdout",
     "output_type": "stream",
     "text": [
      "[[ 1  2  3  4  5  6  7  8  9 10]]\n",
      "2\n"
     ]
    }
   ],
   "source": [
    "# 3 METHOD OF CREATING A NUMPY ARRAY\n",
    "li=[1,2,3,4,5,6,7,8,9,10]\n",
    "arr3=np.asanyarray([li])\n",
    "print(arr3)\n",
    "print(arr3.ndim)"
   ]
  },
  {
   "cell_type": "markdown",
   "id": "b6df4cb9-93e9-49ed-8dd0-13dfb2b22aba",
   "metadata": {},
   "source": [
    "### 2- Using the Numpy function, generate an array of 100 evenly spaced numbers between 1 and 10 and  Reshape that1dD array into a 2D array"
   ]
  },
  {
   "cell_type": "code",
   "execution_count": 1068,
   "id": "756b430e-9b14-4672-a1c0-303d694388e7",
   "metadata": {},
   "outputs": [],
   "source": [
    "# SOLUTION :-"
   ]
  },
  {
   "cell_type": "code",
   "execution_count": 1069,
   "id": "392f981a-bc80-4ca9-81a8-c6a601de783e",
   "metadata": {},
   "outputs": [
    {
     "name": "stdout",
     "output_type": "stream",
     "text": [
      "[ 1.          1.09090909  1.18181818  1.27272727  1.36363636  1.45454545\n",
      "  1.54545455  1.63636364  1.72727273  1.81818182  1.90909091  2.\n",
      "  2.09090909  2.18181818  2.27272727  2.36363636  2.45454545  2.54545455\n",
      "  2.63636364  2.72727273  2.81818182  2.90909091  3.          3.09090909\n",
      "  3.18181818  3.27272727  3.36363636  3.45454545  3.54545455  3.63636364\n",
      "  3.72727273  3.81818182  3.90909091  4.          4.09090909  4.18181818\n",
      "  4.27272727  4.36363636  4.45454545  4.54545455  4.63636364  4.72727273\n",
      "  4.81818182  4.90909091  5.          5.09090909  5.18181818  5.27272727\n",
      "  5.36363636  5.45454545  5.54545455  5.63636364  5.72727273  5.81818182\n",
      "  5.90909091  6.          6.09090909  6.18181818  6.27272727  6.36363636\n",
      "  6.45454545  6.54545455  6.63636364  6.72727273  6.81818182  6.90909091\n",
      "  7.          7.09090909  7.18181818  7.27272727  7.36363636  7.45454545\n",
      "  7.54545455  7.63636364  7.72727273  7.81818182  7.90909091  8.\n",
      "  8.09090909  8.18181818  8.27272727  8.36363636  8.45454545  8.54545455\n",
      "  8.63636364  8.72727273  8.81818182  8.90909091  9.          9.09090909\n",
      "  9.18181818  9.27272727  9.36363636  9.45454545  9.54545455  9.63636364\n",
      "  9.72727273  9.81818182  9.90909091 10.        ]\n",
      "--------------\n",
      "Dimension 1\n"
     ]
    }
   ],
   "source": [
    "n=np.linspace(1,10,100)\n",
    "print(n)\n",
    "print(\"--------------\")\n",
    "print(\"Dimension\",n.ndim)"
   ]
  },
  {
   "cell_type": "code",
   "execution_count": 1070,
   "id": "636ff5ee-2dde-41b3-ba4f-e13bade40ecb",
   "metadata": {},
   "outputs": [
    {
     "name": "stdout",
     "output_type": "stream",
     "text": [
      "[[ 1.          1.09090909  1.18181818  1.27272727  1.36363636  1.45454545\n",
      "   1.54545455  1.63636364  1.72727273  1.81818182  1.90909091  2.\n",
      "   2.09090909  2.18181818  2.27272727  2.36363636  2.45454545  2.54545455\n",
      "   2.63636364  2.72727273]\n",
      " [ 2.81818182  2.90909091  3.          3.09090909  3.18181818  3.27272727\n",
      "   3.36363636  3.45454545  3.54545455  3.63636364  3.72727273  3.81818182\n",
      "   3.90909091  4.          4.09090909  4.18181818  4.27272727  4.36363636\n",
      "   4.45454545  4.54545455]\n",
      " [ 4.63636364  4.72727273  4.81818182  4.90909091  5.          5.09090909\n",
      "   5.18181818  5.27272727  5.36363636  5.45454545  5.54545455  5.63636364\n",
      "   5.72727273  5.81818182  5.90909091  6.          6.09090909  6.18181818\n",
      "   6.27272727  6.36363636]\n",
      " [ 6.45454545  6.54545455  6.63636364  6.72727273  6.81818182  6.90909091\n",
      "   7.          7.09090909  7.18181818  7.27272727  7.36363636  7.45454545\n",
      "   7.54545455  7.63636364  7.72727273  7.81818182  7.90909091  8.\n",
      "   8.09090909  8.18181818]\n",
      " [ 8.27272727  8.36363636  8.45454545  8.54545455  8.63636364  8.72727273\n",
      "   8.81818182  8.90909091  9.          9.09090909  9.18181818  9.27272727\n",
      "   9.36363636  9.45454545  9.54545455  9.63636364  9.72727273  9.81818182\n",
      "   9.90909091 10.        ]]\n",
      "-----------\n",
      "dimension 2\n"
     ]
    }
   ],
   "source": [
    "re=n.reshape(5,20)\n",
    "print(re)\n",
    "print(\"-----------\")\n",
    "print(\"dimension\",re.ndim)"
   ]
  },
  {
   "cell_type": "markdown",
   "id": "dc1baad2-392c-4326-8552-63bf63b6982c",
   "metadata": {},
   "source": [
    "### 3-Explain the following terms"
   ]
  },
  {
   "cell_type": "markdown",
   "id": "022c0a03-b1f7-4075-ae61-94925e6ee735",
   "metadata": {},
   "source": [
    "### (i) The difference in nparray, npasarray and npasanyarray"
   ]
  },
  {
   "cell_type": "markdown",
   "id": "79b25205-9df4-4240-a083-c62c2fda56c2",
   "metadata": {},
   "source": [
    "### (ii) The difference between Deep copy and shallow copy"
   ]
  },
  {
   "cell_type": "code",
   "execution_count": 1074,
   "id": "4276e3c0-535a-4cca-9682-6e0dba6daee4",
   "metadata": {},
   "outputs": [
    {
     "data": {
      "text/plain": [
       "'\\n1-  Deep copy - it constructs a new compound object and then,recursively inserts copies  into it of the object found in the original\\n\\n            modification of copied object does not affect the original\\n\\n            creates new copy of the original elements\\n\\n            does not share reference with the original\\n\\n\\n2- Shallow copy - it constructs a new compound object and then inserts referencens into it to the objects found in the original.\\n\\n                  does not create a new copies of the elements\\n\\n                  modification of copied object affetcs the original\\n\\n                  copies the references to the original elements \\n\\n'"
      ]
     },
     "execution_count": 1074,
     "metadata": {},
     "output_type": "execute_result"
    }
   ],
   "source": [
    "# SOLUTION :-\n",
    "# (a)\n",
    "\n",
    "'''\n",
    "1-nparray  - it creates a new numpy array from the input data\n",
    "\n",
    "             copies the input data\n",
    "             \n",
    "             it will always return a new array\n",
    "\n",
    "2-npasarray - it checks if the input is already a numpy array\n",
    "\n",
    "              it its not then it creates a new array from the input data \n",
    "              \n",
    "              faster than nparray\n",
    "              \n",
    "3-npasanyarray - it additionally allows object arrays and other non numeric data\n",
    "\n",
    "                 returns the original array if its already a numpy array\n",
    "\n",
    "                 it is useful for generic functions working with arrays\n",
    "'''\n",
    "\n",
    "# (b)\n",
    "\n",
    "'''\n",
    "1-  Deep copy - it constructs a new compound object and then,recursively inserts copies  into it of the object found in the original\n",
    "\n",
    "            modification of copied object does not affect the original\n",
    "\n",
    "            creates new copy of the original elements\n",
    "\n",
    "            does not share reference with the original\n",
    "\n",
    "\n",
    "2- Shallow copy - it constructs a new compound object and then inserts referencens into it to the objects found in the original.\n",
    "\n",
    "                  does not create a new copies of the elements\n",
    "\n",
    "                  modification of copied object affetcs the original\n",
    "\n",
    "                  copies the references to the original elements \n",
    "\n",
    "'''"
   ]
  },
  {
   "cell_type": "markdown",
   "id": "be1c3100-192f-4689-93ff-076344a1eed0",
   "metadata": {},
   "source": [
    "### 4- Generate a 3x3 array with random floating-point numbers between 5 and 20 Then, round each number in the array to 2 decimal place."
   ]
  },
  {
   "cell_type": "code",
   "execution_count": 1076,
   "id": "a3d49589-614d-4ca1-bd54-7bfd8f2f9f5d",
   "metadata": {},
   "outputs": [],
   "source": [
    "# SOLUTION :-\n",
    "         "
   ]
  },
  {
   "cell_type": "code",
   "execution_count": 1077,
   "id": "dd11d7d7-1718-4404-97f5-ae0774bf90c1",
   "metadata": {},
   "outputs": [
    {
     "name": "stdout",
     "output_type": "stream",
     "text": [
      "[[ 5.     6.875  8.75 ]\n",
      " [10.625 12.5   14.375]\n",
      " [16.25  18.125 20.   ]]\n"
     ]
    }
   ],
   "source": [
    "n=np.linspace(5,20,9).reshape(3,3)\n",
    "print(n)"
   ]
  },
  {
   "cell_type": "code",
   "execution_count": 1078,
   "id": "2a369ed3-394d-415a-a989-e7ad007aec22",
   "metadata": {},
   "outputs": [
    {
     "name": "stdout",
     "output_type": "stream",
     "text": [
      "After rounding off to 2 decimal place \n",
      "-----------------------------------\n",
      "[[ 5.    6.88  8.75]\n",
      " [10.62 12.5  14.38]\n",
      " [16.25 18.12 20.  ]]\n"
     ]
    }
   ],
   "source": [
    "ro=np.round(n,2)\n",
    "print(\"After rounding off to 2 decimal place \")\n",
    "print('-----------------------------------')\n",
    "print(ro)"
   ]
  },
  {
   "cell_type": "markdown",
   "id": "913daa41-4572-4cf8-bc20-434860dc3cce",
   "metadata": {},
   "source": [
    "### 5 Create a NumPy array with random integers between 1 and 10 of shape (5,6) After creating the array perform the following operations:"
   ]
  },
  {
   "cell_type": "markdown",
   "id": "0a1d4d06-fc54-4177-8203-55391d0caf70",
   "metadata": {},
   "source": [
    "### a)Extract all even integers from array."
   ]
  },
  {
   "cell_type": "markdown",
   "id": "023a28cb-164c-4c41-a869-483df40c815d",
   "metadata": {},
   "source": [
    "### b)Extract all odd integers from array"
   ]
  },
  {
   "cell_type": "code",
   "execution_count": 1082,
   "id": "bd87f75e-d784-4aec-864c-12353b9ac2f1",
   "metadata": {},
   "outputs": [],
   "source": [
    "# SOLUTION :-"
   ]
  },
  {
   "cell_type": "code",
   "execution_count": 1083,
   "id": "9505a867-757d-464e-a228-5ad62d00fe6d",
   "metadata": {},
   "outputs": [
    {
     "name": "stdout",
     "output_type": "stream",
     "text": [
      "[[1 6 3 3 4 2]\n",
      " [1 7 5 3 3 9]\n",
      " [3 1 3 8 3 4]\n",
      " [6 5 7 2 9 2]\n",
      " [1 1 2 6 5 6]]\n",
      "--------------------\n",
      "Even integers: [6 4 2 8 4 6 2 2 2 6 6]\n",
      "------------------------\n",
      "Odd integers: [1 3 3 1 7 5 3 3 9 3 1 3 3 5 7 9 1 1 5]\n"
     ]
    }
   ],
   "source": [
    "rn=np.random.randint(1,10,(5,6))\n",
    "print(rn)\n",
    "# EXTRACTING ALL EVEN INTEGERS FROM ARRAY\n",
    "print(\"--------------------\")\n",
    "even=rn[rn%2==0]\n",
    "print('Even integers:',even)\n",
    "print('------------------------')\n",
    "odd=rn[rn%2!=0]\n",
    "print('Odd integers:',odd)"
   ]
  },
  {
   "cell_type": "markdown",
   "id": "78a0c088-36c5-4beb-a786-03fc35a1c155",
   "metadata": {},
   "source": [
    "### 6 Create a 3D NumPy array of shape (3, 3, 3) containing random integers between 1 and 10 Perform the following operation "
   ]
  },
  {
   "cell_type": "markdown",
   "id": "47ede470-ffb9-4154-bae5-5a6549ccaf2f",
   "metadata": {},
   "source": [
    "### a) Find the indices of the maximum values along each depth level (third axis)."
   ]
  },
  {
   "cell_type": "code",
   "execution_count": 1086,
   "id": "0b120d17-4c73-4868-bdbd-c509189e5b51",
   "metadata": {},
   "outputs": [
    {
     "name": "stdout",
     "output_type": "stream",
     "text": [
      "[[[7 2 7]\n",
      "  [5 3 3]\n",
      "  [9 5 3]]\n",
      "\n",
      " [[5 3 6]\n",
      "  [4 1 2]\n",
      "  [4 2 6]]\n",
      "\n",
      " [[6 9 3]\n",
      "  [4 1 1]\n",
      "  [3 5 7]]]\n",
      "\n",
      "depth level:-0\n",
      "indices:-(array([0], dtype=int64), array([2], dtype=int64))\n",
      "maximum:-9\n",
      "\n",
      "depth level:-1\n",
      "indices:-(array([2], dtype=int64), array([0], dtype=int64))\n",
      "maximum:-9\n",
      "\n",
      "depth level:-2\n",
      "indices:-(array([0, 2], dtype=int64), array([0, 2], dtype=int64))\n",
      "maximum:-7\n"
     ]
    }
   ],
   "source": [
    "arr1=np.random.randint(1,10,(3,3,3))\n",
    "print(arr1)\n",
    "for i in range(3):\n",
    "    maxv=np.max(arr1[:,:,i])\n",
    "    mxin=np.where(arr1[:,:,i]==maxv)\n",
    "    print(f\"\\ndepth level:-{i}\")\n",
    "    print(f\"indices:-{mxin}\")\n",
    "    print(f\"maximum:-{maxv}\",)"
   ]
  },
  {
   "cell_type": "markdown",
   "id": "9c1f9972-e4a3-4b5a-b03d-ae157f567f3d",
   "metadata": {},
   "source": [
    "### b) Perform elementwise multiplication of between both array"
   ]
  },
  {
   "cell_type": "code",
   "execution_count": 1088,
   "id": "47ba60e5-2d6d-4f3e-a9bb-68dbf8cbcee0",
   "metadata": {},
   "outputs": [
    {
     "name": "stdout",
     "output_type": "stream",
     "text": [
      "[[[2 7 8]\n",
      "  [4 1 1]\n",
      "  [7 1 9]]\n",
      "\n",
      " [[9 2 2]\n",
      "  [2 3 6]\n",
      "  [3 1 2]]\n",
      "\n",
      " [[1 8 1]\n",
      "  [4 5 7]\n",
      "  [2 4 4]]]\n",
      "------------------------\n",
      "[[[7 8 8]\n",
      "  [2 9 3]\n",
      "  [9 7 4]]\n",
      "\n",
      " [[4 9 6]\n",
      "  [8 8 9]\n",
      "  [2 5 1]]\n",
      "\n",
      " [[1 2 5]\n",
      "  [1 4 1]\n",
      "  [6 6 3]]]\n",
      "-------------------------\n",
      "after multiplication\n",
      "-----------\n",
      "[[[14 56 64]\n",
      "  [ 8  9  3]\n",
      "  [63  7 36]]\n",
      "\n",
      " [[36 18 12]\n",
      "  [16 24 54]\n",
      "  [ 6  5  2]]\n",
      "\n",
      " [[ 1 16  5]\n",
      "  [ 4 20  7]\n",
      "  [12 24 12]]]\n"
     ]
    }
   ],
   "source": [
    "arr=np.random.randint(1,10,(3,3,3))\n",
    "arrr=np.random.randint(1,10,(3,3,3))\n",
    "print(arr)\n",
    "print('------------------------')\n",
    "print(arrr)\n",
    "print('-------------------------')\n",
    "print(\"after multiplication\")\n",
    "print('-----------')\n",
    "print(arr*arrr)"
   ]
  },
  {
   "cell_type": "markdown",
   "id": "7e740a92-51da-432b-b029-d1a8d29525a2",
   "metadata": {},
   "source": [
    "### 7 Clean and transform the 'Phone' column in the sample dataset to remove non-numeric characters and convert it to a numeric data type Also display the table attriPutes and data types of each column"
   ]
  },
  {
   "cell_type": "code",
   "execution_count": 1090,
   "id": "624d5894-896f-4650-b954-7bbf8e1ea2d7",
   "metadata": {},
   "outputs": [
    {
     "data": {
      "text/html": [
       "<div>\n",
       "<style scoped>\n",
       "    .dataframe tbody tr th:only-of-type {\n",
       "        vertical-align: middle;\n",
       "    }\n",
       "\n",
       "    .dataframe tbody tr th {\n",
       "        vertical-align: top;\n",
       "    }\n",
       "\n",
       "    .dataframe thead th {\n",
       "        text-align: right;\n",
       "    }\n",
       "</style>\n",
       "<table border=\"1\" class=\"dataframe\">\n",
       "  <thead>\n",
       "    <tr style=\"text-align: right;\">\n",
       "      <th></th>\n",
       "      <th>Index</th>\n",
       "      <th>User Id</th>\n",
       "      <th>First Name</th>\n",
       "      <th>Last Name</th>\n",
       "      <th>Gender</th>\n",
       "      <th>Email</th>\n",
       "      <th>Phone</th>\n",
       "      <th>Date of birth</th>\n",
       "      <th>Job Title</th>\n",
       "      <th>Salary</th>\n",
       "    </tr>\n",
       "  </thead>\n",
       "  <tbody>\n",
       "    <tr>\n",
       "      <th>0</th>\n",
       "      <td>1</td>\n",
       "      <td>8717bbf45cCDbEe</td>\n",
       "      <td>Shelia</td>\n",
       "      <td>Mahoney</td>\n",
       "      <td>Male</td>\n",
       "      <td>pwarner@example.org</td>\n",
       "      <td>857.139.8239</td>\n",
       "      <td>27-01-2014</td>\n",
       "      <td>Probation officer</td>\n",
       "      <td>90000</td>\n",
       "    </tr>\n",
       "    <tr>\n",
       "      <th>1</th>\n",
       "      <td>2</td>\n",
       "      <td>3d5AD30A4cD38ed</td>\n",
       "      <td>Jo</td>\n",
       "      <td>Rivers</td>\n",
       "      <td>Female</td>\n",
       "      <td>fergusonkatherine@example.net</td>\n",
       "      <td>NaN</td>\n",
       "      <td>26-07-1931</td>\n",
       "      <td>Dancer</td>\n",
       "      <td>80000</td>\n",
       "    </tr>\n",
       "    <tr>\n",
       "      <th>2</th>\n",
       "      <td>3</td>\n",
       "      <td>810Ce0F276Badec</td>\n",
       "      <td>Sheryl</td>\n",
       "      <td>Lowery</td>\n",
       "      <td>Female</td>\n",
       "      <td>fhoward@example.org</td>\n",
       "      <td>(599)782-0605</td>\n",
       "      <td>25-11-2013</td>\n",
       "      <td>Copy</td>\n",
       "      <td>50000</td>\n",
       "    </tr>\n",
       "    <tr>\n",
       "      <th>3</th>\n",
       "      <td>4</td>\n",
       "      <td>BF2a889C00f0cE1</td>\n",
       "      <td>Whitney</td>\n",
       "      <td>Hooper</td>\n",
       "      <td>Male</td>\n",
       "      <td>zjohnston@example.com</td>\n",
       "      <td>NaN</td>\n",
       "      <td>17-11-2012</td>\n",
       "      <td>Counselling psychologist</td>\n",
       "      <td>65000</td>\n",
       "    </tr>\n",
       "    <tr>\n",
       "      <th>4</th>\n",
       "      <td>5</td>\n",
       "      <td>9afFEafAe1CBBB9</td>\n",
       "      <td>Lindsey</td>\n",
       "      <td>Rice</td>\n",
       "      <td>Female</td>\n",
       "      <td>elin@example.net</td>\n",
       "      <td>(390)417-1635x3010</td>\n",
       "      <td>15-04-1923</td>\n",
       "      <td>Biomedical engineer</td>\n",
       "      <td>100000</td>\n",
       "    </tr>\n",
       "    <tr>\n",
       "      <th>...</th>\n",
       "      <td>...</td>\n",
       "      <td>...</td>\n",
       "      <td>...</td>\n",
       "      <td>...</td>\n",
       "      <td>...</td>\n",
       "      <td>...</td>\n",
       "      <td>...</td>\n",
       "      <td>...</td>\n",
       "      <td>...</td>\n",
       "      <td>...</td>\n",
       "    </tr>\n",
       "    <tr>\n",
       "      <th>995</th>\n",
       "      <td>996</td>\n",
       "      <td>fedF4c7Fd9e7cFa</td>\n",
       "      <td>Kurt</td>\n",
       "      <td>Bryant</td>\n",
       "      <td>Female</td>\n",
       "      <td>lyonsdaisy@example.net</td>\n",
       "      <td>021.775.2933</td>\n",
       "      <td>05-01-1959</td>\n",
       "      <td>Personnel officer</td>\n",
       "      <td>90000</td>\n",
       "    </tr>\n",
       "    <tr>\n",
       "      <th>996</th>\n",
       "      <td>997</td>\n",
       "      <td>ECddaFEDdEc4FAB</td>\n",
       "      <td>Donna</td>\n",
       "      <td>Barry</td>\n",
       "      <td>Female</td>\n",
       "      <td>dariusbryan@example.com</td>\n",
       "      <td>001-149-710-7799x721</td>\n",
       "      <td>06-10-2001</td>\n",
       "      <td>Education administrator</td>\n",
       "      <td>50000</td>\n",
       "    </tr>\n",
       "    <tr>\n",
       "      <th>997</th>\n",
       "      <td>998</td>\n",
       "      <td>2adde51d8B8979E</td>\n",
       "      <td>Cathy</td>\n",
       "      <td>Mckinney</td>\n",
       "      <td>Female</td>\n",
       "      <td>georgechan@example.org</td>\n",
       "      <td>+1-750-774-4128x33265</td>\n",
       "      <td>13-05-1918</td>\n",
       "      <td>Commercial/residential surveyor</td>\n",
       "      <td>60000</td>\n",
       "    </tr>\n",
       "    <tr>\n",
       "      <th>998</th>\n",
       "      <td>999</td>\n",
       "      <td>Fb2FE369D1E171A</td>\n",
       "      <td>Jermaine</td>\n",
       "      <td>Phelps</td>\n",
       "      <td>Male</td>\n",
       "      <td>wanda04@example.net</td>\n",
       "      <td>(915)292-2254</td>\n",
       "      <td>31-08-1971</td>\n",
       "      <td>Ambulance person</td>\n",
       "      <td>100000</td>\n",
       "    </tr>\n",
       "    <tr>\n",
       "      <th>999</th>\n",
       "      <td>1000</td>\n",
       "      <td>8b756f6231DDC6e</td>\n",
       "      <td>Lee</td>\n",
       "      <td>Tran</td>\n",
       "      <td>Female</td>\n",
       "      <td>deannablack@example.org</td>\n",
       "      <td>079.752.5424x67259</td>\n",
       "      <td>24-01-1947</td>\n",
       "      <td>Nurse, learning disability</td>\n",
       "      <td>90000</td>\n",
       "    </tr>\n",
       "  </tbody>\n",
       "</table>\n",
       "<p>1000 rows × 10 columns</p>\n",
       "</div>"
      ],
      "text/plain": [
       "     Index          User Id First Name Last Name  Gender  \\\n",
       "0        1  8717bbf45cCDbEe     Shelia   Mahoney    Male   \n",
       "1        2  3d5AD30A4cD38ed         Jo    Rivers  Female   \n",
       "2        3  810Ce0F276Badec     Sheryl    Lowery  Female   \n",
       "3        4  BF2a889C00f0cE1    Whitney    Hooper    Male   \n",
       "4        5  9afFEafAe1CBBB9    Lindsey      Rice  Female   \n",
       "..     ...              ...        ...       ...     ...   \n",
       "995    996  fedF4c7Fd9e7cFa       Kurt    Bryant  Female   \n",
       "996    997  ECddaFEDdEc4FAB      Donna     Barry  Female   \n",
       "997    998  2adde51d8B8979E      Cathy  Mckinney  Female   \n",
       "998    999  Fb2FE369D1E171A   Jermaine    Phelps    Male   \n",
       "999   1000  8b756f6231DDC6e        Lee      Tran  Female   \n",
       "\n",
       "                             Email                  Phone Date of birth  \\\n",
       "0              pwarner@example.org           857.139.8239    27-01-2014   \n",
       "1    fergusonkatherine@example.net                    NaN    26-07-1931   \n",
       "2              fhoward@example.org          (599)782-0605    25-11-2013   \n",
       "3            zjohnston@example.com                    NaN    17-11-2012   \n",
       "4                 elin@example.net     (390)417-1635x3010    15-04-1923   \n",
       "..                             ...                    ...           ...   \n",
       "995         lyonsdaisy@example.net           021.775.2933    05-01-1959   \n",
       "996        dariusbryan@example.com   001-149-710-7799x721    06-10-2001   \n",
       "997         georgechan@example.org  +1-750-774-4128x33265    13-05-1918   \n",
       "998            wanda04@example.net          (915)292-2254    31-08-1971   \n",
       "999        deannablack@example.org     079.752.5424x67259    24-01-1947   \n",
       "\n",
       "                           Job Title  Salary  \n",
       "0                  Probation officer   90000  \n",
       "1                             Dancer   80000  \n",
       "2                               Copy   50000  \n",
       "3           Counselling psychologist   65000  \n",
       "4                Biomedical engineer  100000  \n",
       "..                               ...     ...  \n",
       "995                Personnel officer   90000  \n",
       "996          Education administrator   50000  \n",
       "997  Commercial/residential surveyor   60000  \n",
       "998                 Ambulance person  100000  \n",
       "999       Nurse, learning disability   90000  \n",
       "\n",
       "[1000 rows x 10 columns]"
      ]
     },
     "execution_count": 1090,
     "metadata": {},
     "output_type": "execute_result"
    }
   ],
   "source": [
    "df = pd.read_csv('C:\\\\Users\\\\Hrishabh\\\\Downloads\\\\People Data.csv')\n",
    "df"
   ]
  },
  {
   "cell_type": "code",
   "execution_count": 1091,
   "id": "2d34f4d9-bb40-4fdd-891a-efcd06c43f41",
   "metadata": {},
   "outputs": [],
   "source": [
    "n=df.dropna(subset=['Phone'])"
   ]
  },
  {
   "cell_type": "markdown",
   "id": "26006cb4-1702-46d6-9d19-c79c7eeeb1d2",
   "metadata": {},
   "source": [
    "#### Removed non numeric characters from phone column"
   ]
  },
  {
   "cell_type": "code",
   "execution_count": 1093,
   "id": "a18f22e8-c313-47a4-ba30-244e5ee5f247",
   "metadata": {},
   "outputs": [
    {
     "data": {
      "text/html": [
       "<div>\n",
       "<style scoped>\n",
       "    .dataframe tbody tr th:only-of-type {\n",
       "        vertical-align: middle;\n",
       "    }\n",
       "\n",
       "    .dataframe tbody tr th {\n",
       "        vertical-align: top;\n",
       "    }\n",
       "\n",
       "    .dataframe thead th {\n",
       "        text-align: right;\n",
       "    }\n",
       "</style>\n",
       "<table border=\"1\" class=\"dataframe\">\n",
       "  <thead>\n",
       "    <tr style=\"text-align: right;\">\n",
       "      <th></th>\n",
       "      <th>Index</th>\n",
       "      <th>User Id</th>\n",
       "      <th>First Name</th>\n",
       "      <th>Last Name</th>\n",
       "      <th>Gender</th>\n",
       "      <th>Email</th>\n",
       "      <th>Phone</th>\n",
       "      <th>Date of birth</th>\n",
       "      <th>Job Title</th>\n",
       "      <th>Salary</th>\n",
       "    </tr>\n",
       "  </thead>\n",
       "  <tbody>\n",
       "    <tr>\n",
       "      <th>0</th>\n",
       "      <td>1</td>\n",
       "      <td>8717bbf45cCDbEe</td>\n",
       "      <td>Shelia</td>\n",
       "      <td>Mahoney</td>\n",
       "      <td>Male</td>\n",
       "      <td>pwarner@example.org</td>\n",
       "      <td>857.139.8239</td>\n",
       "      <td>27-01-2014</td>\n",
       "      <td>Probation officer</td>\n",
       "      <td>90000</td>\n",
       "    </tr>\n",
       "    <tr>\n",
       "      <th>2</th>\n",
       "      <td>3</td>\n",
       "      <td>810Ce0F276Badec</td>\n",
       "      <td>Sheryl</td>\n",
       "      <td>Lowery</td>\n",
       "      <td>Female</td>\n",
       "      <td>fhoward@example.org</td>\n",
       "      <td>(599)782-0605</td>\n",
       "      <td>25-11-2013</td>\n",
       "      <td>Copy</td>\n",
       "      <td>50000</td>\n",
       "    </tr>\n",
       "    <tr>\n",
       "      <th>4</th>\n",
       "      <td>5</td>\n",
       "      <td>9afFEafAe1CBBB9</td>\n",
       "      <td>Lindsey</td>\n",
       "      <td>Rice</td>\n",
       "      <td>Female</td>\n",
       "      <td>elin@example.net</td>\n",
       "      <td>(390)417-1635x3010</td>\n",
       "      <td>15-04-1923</td>\n",
       "      <td>Biomedical engineer</td>\n",
       "      <td>100000</td>\n",
       "    </tr>\n",
       "    <tr>\n",
       "      <th>5</th>\n",
       "      <td>6</td>\n",
       "      <td>aF75e6dDEBC5b66</td>\n",
       "      <td>Sherry</td>\n",
       "      <td>Caldwell</td>\n",
       "      <td>Male</td>\n",
       "      <td>kaitlin13@example.net</td>\n",
       "      <td>8537800927</td>\n",
       "      <td>06-08-1917</td>\n",
       "      <td>Higher education lecturer</td>\n",
       "      <td>50000</td>\n",
       "    </tr>\n",
       "    <tr>\n",
       "      <th>6</th>\n",
       "      <td>7</td>\n",
       "      <td>efeb05c7Cc94EA3</td>\n",
       "      <td>Ernest</td>\n",
       "      <td>Hoffman</td>\n",
       "      <td>Male</td>\n",
       "      <td>jeffharvey@example.com</td>\n",
       "      <td>093.655.7480x7895</td>\n",
       "      <td>22-12-1984</td>\n",
       "      <td>Health visitor</td>\n",
       "      <td>60000</td>\n",
       "    </tr>\n",
       "    <tr>\n",
       "      <th>...</th>\n",
       "      <td>...</td>\n",
       "      <td>...</td>\n",
       "      <td>...</td>\n",
       "      <td>...</td>\n",
       "      <td>...</td>\n",
       "      <td>...</td>\n",
       "      <td>...</td>\n",
       "      <td>...</td>\n",
       "      <td>...</td>\n",
       "      <td>...</td>\n",
       "    </tr>\n",
       "    <tr>\n",
       "      <th>995</th>\n",
       "      <td>996</td>\n",
       "      <td>fedF4c7Fd9e7cFa</td>\n",
       "      <td>Kurt</td>\n",
       "      <td>Bryant</td>\n",
       "      <td>Female</td>\n",
       "      <td>lyonsdaisy@example.net</td>\n",
       "      <td>021.775.2933</td>\n",
       "      <td>05-01-1959</td>\n",
       "      <td>Personnel officer</td>\n",
       "      <td>90000</td>\n",
       "    </tr>\n",
       "    <tr>\n",
       "      <th>996</th>\n",
       "      <td>997</td>\n",
       "      <td>ECddaFEDdEc4FAB</td>\n",
       "      <td>Donna</td>\n",
       "      <td>Barry</td>\n",
       "      <td>Female</td>\n",
       "      <td>dariusbryan@example.com</td>\n",
       "      <td>001-149-710-7799x721</td>\n",
       "      <td>06-10-2001</td>\n",
       "      <td>Education administrator</td>\n",
       "      <td>50000</td>\n",
       "    </tr>\n",
       "    <tr>\n",
       "      <th>997</th>\n",
       "      <td>998</td>\n",
       "      <td>2adde51d8B8979E</td>\n",
       "      <td>Cathy</td>\n",
       "      <td>Mckinney</td>\n",
       "      <td>Female</td>\n",
       "      <td>georgechan@example.org</td>\n",
       "      <td>+1-750-774-4128x33265</td>\n",
       "      <td>13-05-1918</td>\n",
       "      <td>Commercial/residential surveyor</td>\n",
       "      <td>60000</td>\n",
       "    </tr>\n",
       "    <tr>\n",
       "      <th>998</th>\n",
       "      <td>999</td>\n",
       "      <td>Fb2FE369D1E171A</td>\n",
       "      <td>Jermaine</td>\n",
       "      <td>Phelps</td>\n",
       "      <td>Male</td>\n",
       "      <td>wanda04@example.net</td>\n",
       "      <td>(915)292-2254</td>\n",
       "      <td>31-08-1971</td>\n",
       "      <td>Ambulance person</td>\n",
       "      <td>100000</td>\n",
       "    </tr>\n",
       "    <tr>\n",
       "      <th>999</th>\n",
       "      <td>1000</td>\n",
       "      <td>8b756f6231DDC6e</td>\n",
       "      <td>Lee</td>\n",
       "      <td>Tran</td>\n",
       "      <td>Female</td>\n",
       "      <td>deannablack@example.org</td>\n",
       "      <td>079.752.5424x67259</td>\n",
       "      <td>24-01-1947</td>\n",
       "      <td>Nurse, learning disability</td>\n",
       "      <td>90000</td>\n",
       "    </tr>\n",
       "  </tbody>\n",
       "</table>\n",
       "<p>979 rows × 10 columns</p>\n",
       "</div>"
      ],
      "text/plain": [
       "     Index          User Id First Name Last Name  Gender  \\\n",
       "0        1  8717bbf45cCDbEe     Shelia   Mahoney    Male   \n",
       "2        3  810Ce0F276Badec     Sheryl    Lowery  Female   \n",
       "4        5  9afFEafAe1CBBB9    Lindsey      Rice  Female   \n",
       "5        6  aF75e6dDEBC5b66     Sherry  Caldwell    Male   \n",
       "6        7  efeb05c7Cc94EA3     Ernest   Hoffman    Male   \n",
       "..     ...              ...        ...       ...     ...   \n",
       "995    996  fedF4c7Fd9e7cFa       Kurt    Bryant  Female   \n",
       "996    997  ECddaFEDdEc4FAB      Donna     Barry  Female   \n",
       "997    998  2adde51d8B8979E      Cathy  Mckinney  Female   \n",
       "998    999  Fb2FE369D1E171A   Jermaine    Phelps    Male   \n",
       "999   1000  8b756f6231DDC6e        Lee      Tran  Female   \n",
       "\n",
       "                       Email                  Phone Date of birth  \\\n",
       "0        pwarner@example.org           857.139.8239    27-01-2014   \n",
       "2        fhoward@example.org          (599)782-0605    25-11-2013   \n",
       "4           elin@example.net     (390)417-1635x3010    15-04-1923   \n",
       "5      kaitlin13@example.net             8537800927    06-08-1917   \n",
       "6     jeffharvey@example.com      093.655.7480x7895    22-12-1984   \n",
       "..                       ...                    ...           ...   \n",
       "995   lyonsdaisy@example.net           021.775.2933    05-01-1959   \n",
       "996  dariusbryan@example.com   001-149-710-7799x721    06-10-2001   \n",
       "997   georgechan@example.org  +1-750-774-4128x33265    13-05-1918   \n",
       "998      wanda04@example.net          (915)292-2254    31-08-1971   \n",
       "999  deannablack@example.org     079.752.5424x67259    24-01-1947   \n",
       "\n",
       "                           Job Title  Salary  \n",
       "0                  Probation officer   90000  \n",
       "2                               Copy   50000  \n",
       "4                Biomedical engineer  100000  \n",
       "5          Higher education lecturer   50000  \n",
       "6                     Health visitor   60000  \n",
       "..                               ...     ...  \n",
       "995                Personnel officer   90000  \n",
       "996          Education administrator   50000  \n",
       "997  Commercial/residential surveyor   60000  \n",
       "998                 Ambulance person  100000  \n",
       "999       Nurse, learning disability   90000  \n",
       "\n",
       "[979 rows x 10 columns]"
      ]
     },
     "execution_count": 1093,
     "metadata": {},
     "output_type": "execute_result"
    }
   ],
   "source": [
    "n"
   ]
  },
  {
   "cell_type": "code",
   "execution_count": 1094,
   "id": "01a17917-21e1-4f85-ade6-0cb74a8da403",
   "metadata": {},
   "outputs": [
    {
     "data": {
      "text/html": [
       "<div>\n",
       "<style scoped>\n",
       "    .dataframe tbody tr th:only-of-type {\n",
       "        vertical-align: middle;\n",
       "    }\n",
       "\n",
       "    .dataframe tbody tr th {\n",
       "        vertical-align: top;\n",
       "    }\n",
       "\n",
       "    .dataframe thead th {\n",
       "        text-align: right;\n",
       "    }\n",
       "</style>\n",
       "<table border=\"1\" class=\"dataframe\">\n",
       "  <thead>\n",
       "    <tr style=\"text-align: right;\">\n",
       "      <th></th>\n",
       "      <th>Phone</th>\n",
       "    </tr>\n",
       "  </thead>\n",
       "  <tbody>\n",
       "    <tr>\n",
       "      <th>0</th>\n",
       "      <td>857.139.8239</td>\n",
       "    </tr>\n",
       "    <tr>\n",
       "      <th>1</th>\n",
       "      <td>(599)782-0605</td>\n",
       "    </tr>\n",
       "    <tr>\n",
       "      <th>2</th>\n",
       "      <td>(390)417-1635x3010</td>\n",
       "    </tr>\n",
       "    <tr>\n",
       "      <th>3</th>\n",
       "      <td>8537800927</td>\n",
       "    </tr>\n",
       "    <tr>\n",
       "      <th>4</th>\n",
       "      <td>093.655.7480x7895</td>\n",
       "    </tr>\n",
       "    <tr>\n",
       "      <th>...</th>\n",
       "      <td>...</td>\n",
       "    </tr>\n",
       "    <tr>\n",
       "      <th>974</th>\n",
       "      <td>021.775.2933</td>\n",
       "    </tr>\n",
       "    <tr>\n",
       "      <th>975</th>\n",
       "      <td>001-149-710-7799x721</td>\n",
       "    </tr>\n",
       "    <tr>\n",
       "      <th>976</th>\n",
       "      <td>+1-750-774-4128x33265</td>\n",
       "    </tr>\n",
       "    <tr>\n",
       "      <th>977</th>\n",
       "      <td>(915)292-2254</td>\n",
       "    </tr>\n",
       "    <tr>\n",
       "      <th>978</th>\n",
       "      <td>079.752.5424x67259</td>\n",
       "    </tr>\n",
       "  </tbody>\n",
       "</table>\n",
       "<p>979 rows × 1 columns</p>\n",
       "</div>"
      ],
      "text/plain": [
       "                     Phone\n",
       "0             857.139.8239\n",
       "1            (599)782-0605\n",
       "2       (390)417-1635x3010\n",
       "3               8537800927\n",
       "4        093.655.7480x7895\n",
       "..                     ...\n",
       "974           021.775.2933\n",
       "975   001-149-710-7799x721\n",
       "976  +1-750-774-4128x33265\n",
       "977          (915)292-2254\n",
       "978     079.752.5424x67259\n",
       "\n",
       "[979 rows x 1 columns]"
      ]
     },
     "execution_count": 1094,
     "metadata": {},
     "output_type": "execute_result"
    }
   ],
   "source": [
    "x=n['Phone']\n",
    "x.to_csv('phone.csv',index=False)\n",
    "df=pd.read_csv('phone.csv')\n",
    "df"
   ]
  },
  {
   "cell_type": "code",
   "execution_count": 1095,
   "id": "81f7563e-1636-4bb3-bc37-606dae2b5e6a",
   "metadata": {},
   "outputs": [
    {
     "name": "stdout",
     "output_type": "stream",
     "text": [
      "<class 'pandas.core.frame.DataFrame'>\n",
      "Index: 979 entries, 0 to 999\n",
      "Data columns (total 10 columns):\n",
      " #   Column         Non-Null Count  Dtype \n",
      "---  ------         --------------  ----- \n",
      " 0   Index          979 non-null    int64 \n",
      " 1   User Id        979 non-null    object\n",
      " 2   First Name     979 non-null    object\n",
      " 3   Last Name      979 non-null    object\n",
      " 4   Gender         979 non-null    object\n",
      " 5   Email          979 non-null    object\n",
      " 6   Phone          979 non-null    object\n",
      " 7   Date of birth  979 non-null    object\n",
      " 8   Job Title      979 non-null    object\n",
      " 9   Salary         979 non-null    int64 \n",
      "dtypes: int64(2), object(8)\n",
      "memory usage: 84.1+ KB\n"
     ]
    }
   ],
   "source": [
    "n.info()"
   ]
  },
  {
   "cell_type": "markdown",
   "id": "26d6d612-ad2c-4bf7-84d9-3b182561e6a7",
   "metadata": {},
   "source": [
    "### 8 Perform the following tasks using people dataset:"
   ]
  },
  {
   "cell_type": "markdown",
   "id": "86eb4b4f-868c-49da-b4c6-b243133af4a5",
   "metadata": {},
   "source": [
    "### a) Read the 'datacsv' file using pandas, skipping the first 50 rows."
   ]
  },
  {
   "cell_type": "code",
   "execution_count": 1098,
   "id": "2e183e9a-4cb1-4d73-a27a-696e2da5f9d2",
   "metadata": {},
   "outputs": [
    {
     "data": {
      "text/html": [
       "<div>\n",
       "<style scoped>\n",
       "    .dataframe tbody tr th:only-of-type {\n",
       "        vertical-align: middle;\n",
       "    }\n",
       "\n",
       "    .dataframe tbody tr th {\n",
       "        vertical-align: top;\n",
       "    }\n",
       "\n",
       "    .dataframe thead th {\n",
       "        text-align: right;\n",
       "    }\n",
       "</style>\n",
       "<table border=\"1\" class=\"dataframe\">\n",
       "  <thead>\n",
       "    <tr style=\"text-align: right;\">\n",
       "      <th></th>\n",
       "      <th>50</th>\n",
       "      <th>afF3018e9cdd1dA</th>\n",
       "      <th>George</th>\n",
       "      <th>Mercer</th>\n",
       "      <th>Female</th>\n",
       "      <th>douglascontreras@example.net</th>\n",
       "      <th>+1-326-669-0118x4341</th>\n",
       "      <th>11-09-1941</th>\n",
       "      <th>Human resources officer</th>\n",
       "      <th>70000</th>\n",
       "    </tr>\n",
       "  </thead>\n",
       "  <tbody>\n",
       "    <tr>\n",
       "      <th>0</th>\n",
       "      <td>51</td>\n",
       "      <td>CccE5DAb6E288e5</td>\n",
       "      <td>Jo</td>\n",
       "      <td>Zavala</td>\n",
       "      <td>Male</td>\n",
       "      <td>pamela64@example.net</td>\n",
       "      <td>001-859-448-9935x54536</td>\n",
       "      <td>23-11-1992</td>\n",
       "      <td>Nurse, adult</td>\n",
       "      <td>80000</td>\n",
       "    </tr>\n",
       "    <tr>\n",
       "      <th>1</th>\n",
       "      <td>52</td>\n",
       "      <td>DfBDc3621D4bcec</td>\n",
       "      <td>Joshua</td>\n",
       "      <td>Carey</td>\n",
       "      <td>Female</td>\n",
       "      <td>dianashepherd@example.net</td>\n",
       "      <td>001-274-739-8470x814</td>\n",
       "      <td>07-01-1915</td>\n",
       "      <td>Seismic interpreter</td>\n",
       "      <td>70000</td>\n",
       "    </tr>\n",
       "    <tr>\n",
       "      <th>2</th>\n",
       "      <td>53</td>\n",
       "      <td>f55b0A249f5E44D</td>\n",
       "      <td>Rickey</td>\n",
       "      <td>Hobbs</td>\n",
       "      <td>Female</td>\n",
       "      <td>ingramtiffany@example.org</td>\n",
       "      <td>241.179.9509x498</td>\n",
       "      <td>01-07-1910</td>\n",
       "      <td>Barrister</td>\n",
       "      <td>60000</td>\n",
       "    </tr>\n",
       "    <tr>\n",
       "      <th>3</th>\n",
       "      <td>54</td>\n",
       "      <td>Ed71DcfaBFd0beE</td>\n",
       "      <td>Robyn</td>\n",
       "      <td>Reilly</td>\n",
       "      <td>Male</td>\n",
       "      <td>carriecrawford@example.org</td>\n",
       "      <td>207.797.8345x6177</td>\n",
       "      <td>27-07-1982</td>\n",
       "      <td>Engineer, structural</td>\n",
       "      <td>100000</td>\n",
       "    </tr>\n",
       "    <tr>\n",
       "      <th>4</th>\n",
       "      <td>55</td>\n",
       "      <td>FDaFD0c3f5387EC</td>\n",
       "      <td>Christina</td>\n",
       "      <td>Conrad</td>\n",
       "      <td>Male</td>\n",
       "      <td>fuentesclaudia@example.net</td>\n",
       "      <td>001-599-042-7428x143</td>\n",
       "      <td>06-01-1998</td>\n",
       "      <td>Producer, radio</td>\n",
       "      <td>50000</td>\n",
       "    </tr>\n",
       "    <tr>\n",
       "      <th>...</th>\n",
       "      <td>...</td>\n",
       "      <td>...</td>\n",
       "      <td>...</td>\n",
       "      <td>...</td>\n",
       "      <td>...</td>\n",
       "      <td>...</td>\n",
       "      <td>...</td>\n",
       "      <td>...</td>\n",
       "      <td>...</td>\n",
       "      <td>...</td>\n",
       "    </tr>\n",
       "    <tr>\n",
       "      <th>945</th>\n",
       "      <td>996</td>\n",
       "      <td>fedF4c7Fd9e7cFa</td>\n",
       "      <td>Kurt</td>\n",
       "      <td>Bryant</td>\n",
       "      <td>Female</td>\n",
       "      <td>lyonsdaisy@example.net</td>\n",
       "      <td>021.775.2933</td>\n",
       "      <td>05-01-1959</td>\n",
       "      <td>Personnel officer</td>\n",
       "      <td>90000</td>\n",
       "    </tr>\n",
       "    <tr>\n",
       "      <th>946</th>\n",
       "      <td>997</td>\n",
       "      <td>ECddaFEDdEc4FAB</td>\n",
       "      <td>Donna</td>\n",
       "      <td>Barry</td>\n",
       "      <td>Female</td>\n",
       "      <td>dariusbryan@example.com</td>\n",
       "      <td>001-149-710-7799x721</td>\n",
       "      <td>06-10-2001</td>\n",
       "      <td>Education administrator</td>\n",
       "      <td>50000</td>\n",
       "    </tr>\n",
       "    <tr>\n",
       "      <th>947</th>\n",
       "      <td>998</td>\n",
       "      <td>2adde51d8B8979E</td>\n",
       "      <td>Cathy</td>\n",
       "      <td>Mckinney</td>\n",
       "      <td>Female</td>\n",
       "      <td>georgechan@example.org</td>\n",
       "      <td>+1-750-774-4128x33265</td>\n",
       "      <td>13-05-1918</td>\n",
       "      <td>Commercial/residential surveyor</td>\n",
       "      <td>60000</td>\n",
       "    </tr>\n",
       "    <tr>\n",
       "      <th>948</th>\n",
       "      <td>999</td>\n",
       "      <td>Fb2FE369D1E171A</td>\n",
       "      <td>Jermaine</td>\n",
       "      <td>Phelps</td>\n",
       "      <td>Male</td>\n",
       "      <td>wanda04@example.net</td>\n",
       "      <td>(915)292-2254</td>\n",
       "      <td>31-08-1971</td>\n",
       "      <td>Ambulance person</td>\n",
       "      <td>100000</td>\n",
       "    </tr>\n",
       "    <tr>\n",
       "      <th>949</th>\n",
       "      <td>1000</td>\n",
       "      <td>8b756f6231DDC6e</td>\n",
       "      <td>Lee</td>\n",
       "      <td>Tran</td>\n",
       "      <td>Female</td>\n",
       "      <td>deannablack@example.org</td>\n",
       "      <td>079.752.5424x67259</td>\n",
       "      <td>24-01-1947</td>\n",
       "      <td>Nurse, learning disability</td>\n",
       "      <td>90000</td>\n",
       "    </tr>\n",
       "  </tbody>\n",
       "</table>\n",
       "<p>950 rows × 10 columns</p>\n",
       "</div>"
      ],
      "text/plain": [
       "       50  afF3018e9cdd1dA     George    Mercer  Female  \\\n",
       "0      51  CccE5DAb6E288e5         Jo    Zavala    Male   \n",
       "1      52  DfBDc3621D4bcec     Joshua     Carey  Female   \n",
       "2      53  f55b0A249f5E44D     Rickey     Hobbs  Female   \n",
       "3      54  Ed71DcfaBFd0beE      Robyn    Reilly    Male   \n",
       "4      55  FDaFD0c3f5387EC  Christina    Conrad    Male   \n",
       "..    ...              ...        ...       ...     ...   \n",
       "945   996  fedF4c7Fd9e7cFa       Kurt    Bryant  Female   \n",
       "946   997  ECddaFEDdEc4FAB      Donna     Barry  Female   \n",
       "947   998  2adde51d8B8979E      Cathy  Mckinney  Female   \n",
       "948   999  Fb2FE369D1E171A   Jermaine    Phelps    Male   \n",
       "949  1000  8b756f6231DDC6e        Lee      Tran  Female   \n",
       "\n",
       "    douglascontreras@example.net    +1-326-669-0118x4341  11-09-1941  \\\n",
       "0           pamela64@example.net  001-859-448-9935x54536  23-11-1992   \n",
       "1      dianashepherd@example.net    001-274-739-8470x814  07-01-1915   \n",
       "2      ingramtiffany@example.org        241.179.9509x498  01-07-1910   \n",
       "3     carriecrawford@example.org       207.797.8345x6177  27-07-1982   \n",
       "4     fuentesclaudia@example.net    001-599-042-7428x143  06-01-1998   \n",
       "..                           ...                     ...         ...   \n",
       "945       lyonsdaisy@example.net            021.775.2933  05-01-1959   \n",
       "946      dariusbryan@example.com    001-149-710-7799x721  06-10-2001   \n",
       "947       georgechan@example.org   +1-750-774-4128x33265  13-05-1918   \n",
       "948          wanda04@example.net           (915)292-2254  31-08-1971   \n",
       "949      deannablack@example.org      079.752.5424x67259  24-01-1947   \n",
       "\n",
       "             Human resources officer   70000  \n",
       "0                       Nurse, adult   80000  \n",
       "1                Seismic interpreter   70000  \n",
       "2                          Barrister   60000  \n",
       "3               Engineer, structural  100000  \n",
       "4                    Producer, radio   50000  \n",
       "..                               ...     ...  \n",
       "945                Personnel officer   90000  \n",
       "946          Education administrator   50000  \n",
       "947  Commercial/residential surveyor   60000  \n",
       "948                 Ambulance person  100000  \n",
       "949       Nurse, learning disability   90000  \n",
       "\n",
       "[950 rows x 10 columns]"
      ]
     },
     "execution_count": 1098,
     "metadata": {},
     "output_type": "execute_result"
    }
   ],
   "source": [
    "dst=pd.read_csv('C:\\\\Users\\\\Hrishabh\\\\Downloads\\\\People Data.csv',skiprows=50)\n",
    "dst.to_csv('skip.csv',index=False)\n",
    "df=pd.read_csv('skip.csv')\n",
    "df"
   ]
  },
  {
   "cell_type": "markdown",
   "id": "64bee6a0-1e88-4ec0-adaa-7bde9e714fb8",
   "metadata": {},
   "source": [
    "### b) Only read the columns: 'Last Name', ‘Gender’,’Email’,‘Phone’ and ‘Salary’ from the file."
   ]
  },
  {
   "cell_type": "code",
   "execution_count": 1100,
   "id": "eb68ae3c-b184-42a6-a542-1ea83f6e9a4a",
   "metadata": {},
   "outputs": [
    {
     "data": {
      "text/html": [
       "<div>\n",
       "<style scoped>\n",
       "    .dataframe tbody tr th:only-of-type {\n",
       "        vertical-align: middle;\n",
       "    }\n",
       "\n",
       "    .dataframe tbody tr th {\n",
       "        vertical-align: top;\n",
       "    }\n",
       "\n",
       "    .dataframe thead th {\n",
       "        text-align: right;\n",
       "    }\n",
       "</style>\n",
       "<table border=\"1\" class=\"dataframe\">\n",
       "  <thead>\n",
       "    <tr style=\"text-align: right;\">\n",
       "      <th></th>\n",
       "      <th>Last Name</th>\n",
       "      <th>Gender</th>\n",
       "      <th>Email</th>\n",
       "      <th>Phone</th>\n",
       "      <th>Salary</th>\n",
       "    </tr>\n",
       "  </thead>\n",
       "  <tbody>\n",
       "    <tr>\n",
       "      <th>0</th>\n",
       "      <td>Mahoney</td>\n",
       "      <td>Male</td>\n",
       "      <td>pwarner@example.org</td>\n",
       "      <td>857.139.8239</td>\n",
       "      <td>90000</td>\n",
       "    </tr>\n",
       "    <tr>\n",
       "      <th>1</th>\n",
       "      <td>Rivers</td>\n",
       "      <td>Female</td>\n",
       "      <td>fergusonkatherine@example.net</td>\n",
       "      <td>NaN</td>\n",
       "      <td>80000</td>\n",
       "    </tr>\n",
       "    <tr>\n",
       "      <th>2</th>\n",
       "      <td>Lowery</td>\n",
       "      <td>Female</td>\n",
       "      <td>fhoward@example.org</td>\n",
       "      <td>(599)782-0605</td>\n",
       "      <td>50000</td>\n",
       "    </tr>\n",
       "    <tr>\n",
       "      <th>3</th>\n",
       "      <td>Hooper</td>\n",
       "      <td>Male</td>\n",
       "      <td>zjohnston@example.com</td>\n",
       "      <td>NaN</td>\n",
       "      <td>65000</td>\n",
       "    </tr>\n",
       "    <tr>\n",
       "      <th>4</th>\n",
       "      <td>Rice</td>\n",
       "      <td>Female</td>\n",
       "      <td>elin@example.net</td>\n",
       "      <td>(390)417-1635x3010</td>\n",
       "      <td>100000</td>\n",
       "    </tr>\n",
       "    <tr>\n",
       "      <th>...</th>\n",
       "      <td>...</td>\n",
       "      <td>...</td>\n",
       "      <td>...</td>\n",
       "      <td>...</td>\n",
       "      <td>...</td>\n",
       "    </tr>\n",
       "    <tr>\n",
       "      <th>995</th>\n",
       "      <td>Bryant</td>\n",
       "      <td>Female</td>\n",
       "      <td>lyonsdaisy@example.net</td>\n",
       "      <td>021.775.2933</td>\n",
       "      <td>90000</td>\n",
       "    </tr>\n",
       "    <tr>\n",
       "      <th>996</th>\n",
       "      <td>Barry</td>\n",
       "      <td>Female</td>\n",
       "      <td>dariusbryan@example.com</td>\n",
       "      <td>001-149-710-7799x721</td>\n",
       "      <td>50000</td>\n",
       "    </tr>\n",
       "    <tr>\n",
       "      <th>997</th>\n",
       "      <td>Mckinney</td>\n",
       "      <td>Female</td>\n",
       "      <td>georgechan@example.org</td>\n",
       "      <td>+1-750-774-4128x33265</td>\n",
       "      <td>60000</td>\n",
       "    </tr>\n",
       "    <tr>\n",
       "      <th>998</th>\n",
       "      <td>Phelps</td>\n",
       "      <td>Male</td>\n",
       "      <td>wanda04@example.net</td>\n",
       "      <td>(915)292-2254</td>\n",
       "      <td>100000</td>\n",
       "    </tr>\n",
       "    <tr>\n",
       "      <th>999</th>\n",
       "      <td>Tran</td>\n",
       "      <td>Female</td>\n",
       "      <td>deannablack@example.org</td>\n",
       "      <td>079.752.5424x67259</td>\n",
       "      <td>90000</td>\n",
       "    </tr>\n",
       "  </tbody>\n",
       "</table>\n",
       "<p>1000 rows × 5 columns</p>\n",
       "</div>"
      ],
      "text/plain": [
       "    Last Name  Gender                          Email                  Phone  \\\n",
       "0     Mahoney    Male            pwarner@example.org           857.139.8239   \n",
       "1      Rivers  Female  fergusonkatherine@example.net                    NaN   \n",
       "2      Lowery  Female            fhoward@example.org          (599)782-0605   \n",
       "3      Hooper    Male          zjohnston@example.com                    NaN   \n",
       "4        Rice  Female               elin@example.net     (390)417-1635x3010   \n",
       "..        ...     ...                            ...                    ...   \n",
       "995    Bryant  Female         lyonsdaisy@example.net           021.775.2933   \n",
       "996     Barry  Female        dariusbryan@example.com   001-149-710-7799x721   \n",
       "997  Mckinney  Female         georgechan@example.org  +1-750-774-4128x33265   \n",
       "998    Phelps    Male            wanda04@example.net          (915)292-2254   \n",
       "999      Tran  Female        deannablack@example.org     079.752.5424x67259   \n",
       "\n",
       "     Salary  \n",
       "0     90000  \n",
       "1     80000  \n",
       "2     50000  \n",
       "3     65000  \n",
       "4    100000  \n",
       "..      ...  \n",
       "995   90000  \n",
       "996   50000  \n",
       "997   60000  \n",
       "998  100000  \n",
       "999   90000  \n",
       "\n",
       "[1000 rows x 5 columns]"
      ]
     },
     "execution_count": 1100,
     "metadata": {},
     "output_type": "execute_result"
    }
   ],
   "source": [
    "ni=pd.read_csv('C:\\\\Users\\\\Hrishabh\\\\Downloads\\\\People Data.csv')\n",
    "se=ni[['Last Name','Gender','Email','Phone','Salary']]\n",
    "se"
   ]
  },
  {
   "cell_type": "markdown",
   "id": "a6c00edc-4bea-4748-9b36-588153167cb8",
   "metadata": {},
   "source": [
    "### c) Display the first 10 rows of the filtered dataset."
   ]
  },
  {
   "cell_type": "code",
   "execution_count": 1102,
   "id": "c0429590-a85a-47b3-9e20-0a9dd9345efa",
   "metadata": {},
   "outputs": [
    {
     "data": {
      "text/html": [
       "<div>\n",
       "<style scoped>\n",
       "    .dataframe tbody tr th:only-of-type {\n",
       "        vertical-align: middle;\n",
       "    }\n",
       "\n",
       "    .dataframe tbody tr th {\n",
       "        vertical-align: top;\n",
       "    }\n",
       "\n",
       "    .dataframe thead th {\n",
       "        text-align: right;\n",
       "    }\n",
       "</style>\n",
       "<table border=\"1\" class=\"dataframe\">\n",
       "  <thead>\n",
       "    <tr style=\"text-align: right;\">\n",
       "      <th></th>\n",
       "      <th>50</th>\n",
       "      <th>afF3018e9cdd1dA</th>\n",
       "      <th>George</th>\n",
       "      <th>Mercer</th>\n",
       "      <th>Female</th>\n",
       "      <th>douglascontreras@example.net</th>\n",
       "      <th>+1-326-669-0118x4341</th>\n",
       "      <th>11-09-1941</th>\n",
       "      <th>Human resources officer</th>\n",
       "      <th>70000</th>\n",
       "    </tr>\n",
       "  </thead>\n",
       "  <tbody>\n",
       "    <tr>\n",
       "      <th>0</th>\n",
       "      <td>51</td>\n",
       "      <td>CccE5DAb6E288e5</td>\n",
       "      <td>Jo</td>\n",
       "      <td>Zavala</td>\n",
       "      <td>Male</td>\n",
       "      <td>pamela64@example.net</td>\n",
       "      <td>001-859-448-9935x54536</td>\n",
       "      <td>23-11-1992</td>\n",
       "      <td>Nurse, adult</td>\n",
       "      <td>80000</td>\n",
       "    </tr>\n",
       "    <tr>\n",
       "      <th>1</th>\n",
       "      <td>52</td>\n",
       "      <td>DfBDc3621D4bcec</td>\n",
       "      <td>Joshua</td>\n",
       "      <td>Carey</td>\n",
       "      <td>Female</td>\n",
       "      <td>dianashepherd@example.net</td>\n",
       "      <td>001-274-739-8470x814</td>\n",
       "      <td>07-01-1915</td>\n",
       "      <td>Seismic interpreter</td>\n",
       "      <td>70000</td>\n",
       "    </tr>\n",
       "    <tr>\n",
       "      <th>2</th>\n",
       "      <td>53</td>\n",
       "      <td>f55b0A249f5E44D</td>\n",
       "      <td>Rickey</td>\n",
       "      <td>Hobbs</td>\n",
       "      <td>Female</td>\n",
       "      <td>ingramtiffany@example.org</td>\n",
       "      <td>241.179.9509x498</td>\n",
       "      <td>01-07-1910</td>\n",
       "      <td>Barrister</td>\n",
       "      <td>60000</td>\n",
       "    </tr>\n",
       "    <tr>\n",
       "      <th>3</th>\n",
       "      <td>54</td>\n",
       "      <td>Ed71DcfaBFd0beE</td>\n",
       "      <td>Robyn</td>\n",
       "      <td>Reilly</td>\n",
       "      <td>Male</td>\n",
       "      <td>carriecrawford@example.org</td>\n",
       "      <td>207.797.8345x6177</td>\n",
       "      <td>27-07-1982</td>\n",
       "      <td>Engineer, structural</td>\n",
       "      <td>100000</td>\n",
       "    </tr>\n",
       "    <tr>\n",
       "      <th>4</th>\n",
       "      <td>55</td>\n",
       "      <td>FDaFD0c3f5387EC</td>\n",
       "      <td>Christina</td>\n",
       "      <td>Conrad</td>\n",
       "      <td>Male</td>\n",
       "      <td>fuentesclaudia@example.net</td>\n",
       "      <td>001-599-042-7428x143</td>\n",
       "      <td>06-01-1998</td>\n",
       "      <td>Producer, radio</td>\n",
       "      <td>50000</td>\n",
       "    </tr>\n",
       "    <tr>\n",
       "      <th>5</th>\n",
       "      <td>56</td>\n",
       "      <td>998C3Fda97EfAff</td>\n",
       "      <td>Shelby</td>\n",
       "      <td>Cole</td>\n",
       "      <td>Male</td>\n",
       "      <td>kaneaudrey@example.org</td>\n",
       "      <td>663-280-5834</td>\n",
       "      <td>18-08-1975</td>\n",
       "      <td>Therapist, nutritional</td>\n",
       "      <td>85000</td>\n",
       "    </tr>\n",
       "    <tr>\n",
       "      <th>6</th>\n",
       "      <td>57</td>\n",
       "      <td>D7040faD2d368d8</td>\n",
       "      <td>Steve</td>\n",
       "      <td>Donovan</td>\n",
       "      <td>Male</td>\n",
       "      <td>rebekahsantos@example.net</td>\n",
       "      <td>NaN</td>\n",
       "      <td>14-04-1935</td>\n",
       "      <td>Paediatric nurse</td>\n",
       "      <td>65000</td>\n",
       "    </tr>\n",
       "    <tr>\n",
       "      <th>7</th>\n",
       "      <td>58</td>\n",
       "      <td>3CEf7FDfACa48b7</td>\n",
       "      <td>Gina</td>\n",
       "      <td>Little</td>\n",
       "      <td>Female</td>\n",
       "      <td>craig28@example.com</td>\n",
       "      <td>125.219.3673x0076</td>\n",
       "      <td>07-10-1954</td>\n",
       "      <td>Production engineer</td>\n",
       "      <td>60000</td>\n",
       "    </tr>\n",
       "    <tr>\n",
       "      <th>8</th>\n",
       "      <td>59</td>\n",
       "      <td>239dbABfd1d1B1e</td>\n",
       "      <td>Connie</td>\n",
       "      <td>Dawson</td>\n",
       "      <td>Female</td>\n",
       "      <td>connercourtney@example.net</td>\n",
       "      <td>650-748-3069x64529</td>\n",
       "      <td>21-07-1979</td>\n",
       "      <td>Accountant, chartered certified</td>\n",
       "      <td>60000</td>\n",
       "    </tr>\n",
       "    <tr>\n",
       "      <th>9</th>\n",
       "      <td>60</td>\n",
       "      <td>4e03dA0BCAc82e3</td>\n",
       "      <td>Aaron</td>\n",
       "      <td>Page</td>\n",
       "      <td>Male</td>\n",
       "      <td>harrygallagher@example.com</td>\n",
       "      <td>849.500.6331x717</td>\n",
       "      <td>11-03-1981</td>\n",
       "      <td>Administrator</td>\n",
       "      <td>60000</td>\n",
       "    </tr>\n",
       "  </tbody>\n",
       "</table>\n",
       "</div>"
      ],
      "text/plain": [
       "   50  afF3018e9cdd1dA     George   Mercer  Female  \\\n",
       "0  51  CccE5DAb6E288e5         Jo   Zavala    Male   \n",
       "1  52  DfBDc3621D4bcec     Joshua    Carey  Female   \n",
       "2  53  f55b0A249f5E44D     Rickey    Hobbs  Female   \n",
       "3  54  Ed71DcfaBFd0beE      Robyn   Reilly    Male   \n",
       "4  55  FDaFD0c3f5387EC  Christina   Conrad    Male   \n",
       "5  56  998C3Fda97EfAff     Shelby     Cole    Male   \n",
       "6  57  D7040faD2d368d8      Steve  Donovan    Male   \n",
       "7  58  3CEf7FDfACa48b7       Gina   Little  Female   \n",
       "8  59  239dbABfd1d1B1e     Connie   Dawson  Female   \n",
       "9  60  4e03dA0BCAc82e3      Aaron     Page    Male   \n",
       "\n",
       "  douglascontreras@example.net    +1-326-669-0118x4341  11-09-1941  \\\n",
       "0         pamela64@example.net  001-859-448-9935x54536  23-11-1992   \n",
       "1    dianashepherd@example.net    001-274-739-8470x814  07-01-1915   \n",
       "2    ingramtiffany@example.org        241.179.9509x498  01-07-1910   \n",
       "3   carriecrawford@example.org       207.797.8345x6177  27-07-1982   \n",
       "4   fuentesclaudia@example.net    001-599-042-7428x143  06-01-1998   \n",
       "5       kaneaudrey@example.org            663-280-5834  18-08-1975   \n",
       "6    rebekahsantos@example.net                     NaN  14-04-1935   \n",
       "7          craig28@example.com       125.219.3673x0076  07-10-1954   \n",
       "8   connercourtney@example.net      650-748-3069x64529  21-07-1979   \n",
       "9   harrygallagher@example.com        849.500.6331x717  11-03-1981   \n",
       "\n",
       "           Human resources officer   70000  \n",
       "0                     Nurse, adult   80000  \n",
       "1              Seismic interpreter   70000  \n",
       "2                        Barrister   60000  \n",
       "3             Engineer, structural  100000  \n",
       "4                  Producer, radio   50000  \n",
       "5           Therapist, nutritional   85000  \n",
       "6                 Paediatric nurse   65000  \n",
       "7              Production engineer   60000  \n",
       "8  Accountant, chartered certified   60000  \n",
       "9                    Administrator   60000  "
      ]
     },
     "execution_count": 1102,
     "metadata": {},
     "output_type": "execute_result"
    }
   ],
   "source": [
    "dst.head(10)"
   ]
  },
  {
   "cell_type": "markdown",
   "id": "a56cfea5-d1ee-4b1c-a658-1bdf3f31d265",
   "metadata": {},
   "source": [
    "### d) Extract the ‘Salary’' column as a Series and display its last 5 values"
   ]
  },
  {
   "cell_type": "code",
   "execution_count": 1104,
   "id": "0bc40310-208f-4288-8267-42b2d5944558",
   "metadata": {},
   "outputs": [
    {
     "data": {
      "text/plain": [
       "995     90000\n",
       "996     50000\n",
       "997     60000\n",
       "998    100000\n",
       "999     90000\n",
       "Name: Salary, dtype: int64"
      ]
     },
     "execution_count": 1104,
     "metadata": {},
     "output_type": "execute_result"
    }
   ],
   "source": [
    "a=se.Salary\n",
    "a.tail()"
   ]
  },
  {
   "cell_type": "markdown",
   "id": "9d5f8795-bd0a-4aad-8c41-fbdd1470a61a",
   "metadata": {},
   "source": [
    "### 9 Filter and select rows from the People_Dataset, where the “Last Name' column contains the name 'Duke',  'Gender' column contains the word Female and ‘salary’ should be less than 85000"
   ]
  },
  {
   "cell_type": "code",
   "execution_count": 1106,
   "id": "7cf71af5-56b9-4657-94f0-66f2e505699a",
   "metadata": {},
   "outputs": [
    {
     "data": {
      "text/html": [
       "<div>\n",
       "<style scoped>\n",
       "    .dataframe tbody tr th:only-of-type {\n",
       "        vertical-align: middle;\n",
       "    }\n",
       "\n",
       "    .dataframe tbody tr th {\n",
       "        vertical-align: top;\n",
       "    }\n",
       "\n",
       "    .dataframe thead th {\n",
       "        text-align: right;\n",
       "    }\n",
       "</style>\n",
       "<table border=\"1\" class=\"dataframe\">\n",
       "  <thead>\n",
       "    <tr style=\"text-align: right;\">\n",
       "      <th></th>\n",
       "      <th>Index</th>\n",
       "      <th>User Id</th>\n",
       "      <th>First Name</th>\n",
       "      <th>Last Name</th>\n",
       "      <th>Gender</th>\n",
       "      <th>Email</th>\n",
       "      <th>Phone</th>\n",
       "      <th>Date of birth</th>\n",
       "      <th>Job Title</th>\n",
       "      <th>Salary</th>\n",
       "    </tr>\n",
       "  </thead>\n",
       "  <tbody>\n",
       "    <tr>\n",
       "      <th>0</th>\n",
       "      <td>1</td>\n",
       "      <td>8717bbf45cCDbEe</td>\n",
       "      <td>Shelia</td>\n",
       "      <td>Mahoney</td>\n",
       "      <td>Male</td>\n",
       "      <td>pwarner@example.org</td>\n",
       "      <td>857.139.8239</td>\n",
       "      <td>27-01-2014</td>\n",
       "      <td>Probation officer</td>\n",
       "      <td>90000</td>\n",
       "    </tr>\n",
       "    <tr>\n",
       "      <th>1</th>\n",
       "      <td>2</td>\n",
       "      <td>3d5AD30A4cD38ed</td>\n",
       "      <td>Jo</td>\n",
       "      <td>Rivers</td>\n",
       "      <td>Female</td>\n",
       "      <td>fergusonkatherine@example.net</td>\n",
       "      <td>NaN</td>\n",
       "      <td>26-07-1931</td>\n",
       "      <td>Dancer</td>\n",
       "      <td>80000</td>\n",
       "    </tr>\n",
       "    <tr>\n",
       "      <th>2</th>\n",
       "      <td>3</td>\n",
       "      <td>810Ce0F276Badec</td>\n",
       "      <td>Sheryl</td>\n",
       "      <td>Lowery</td>\n",
       "      <td>Female</td>\n",
       "      <td>fhoward@example.org</td>\n",
       "      <td>(599)782-0605</td>\n",
       "      <td>25-11-2013</td>\n",
       "      <td>Copy</td>\n",
       "      <td>50000</td>\n",
       "    </tr>\n",
       "    <tr>\n",
       "      <th>3</th>\n",
       "      <td>4</td>\n",
       "      <td>BF2a889C00f0cE1</td>\n",
       "      <td>Whitney</td>\n",
       "      <td>Hooper</td>\n",
       "      <td>Male</td>\n",
       "      <td>zjohnston@example.com</td>\n",
       "      <td>NaN</td>\n",
       "      <td>17-11-2012</td>\n",
       "      <td>Counselling psychologist</td>\n",
       "      <td>65000</td>\n",
       "    </tr>\n",
       "    <tr>\n",
       "      <th>4</th>\n",
       "      <td>5</td>\n",
       "      <td>9afFEafAe1CBBB9</td>\n",
       "      <td>Lindsey</td>\n",
       "      <td>Rice</td>\n",
       "      <td>Female</td>\n",
       "      <td>elin@example.net</td>\n",
       "      <td>(390)417-1635x3010</td>\n",
       "      <td>15-04-1923</td>\n",
       "      <td>Biomedical engineer</td>\n",
       "      <td>100000</td>\n",
       "    </tr>\n",
       "    <tr>\n",
       "      <th>...</th>\n",
       "      <td>...</td>\n",
       "      <td>...</td>\n",
       "      <td>...</td>\n",
       "      <td>...</td>\n",
       "      <td>...</td>\n",
       "      <td>...</td>\n",
       "      <td>...</td>\n",
       "      <td>...</td>\n",
       "      <td>...</td>\n",
       "      <td>...</td>\n",
       "    </tr>\n",
       "    <tr>\n",
       "      <th>995</th>\n",
       "      <td>996</td>\n",
       "      <td>fedF4c7Fd9e7cFa</td>\n",
       "      <td>Kurt</td>\n",
       "      <td>Bryant</td>\n",
       "      <td>Female</td>\n",
       "      <td>lyonsdaisy@example.net</td>\n",
       "      <td>021.775.2933</td>\n",
       "      <td>05-01-1959</td>\n",
       "      <td>Personnel officer</td>\n",
       "      <td>90000</td>\n",
       "    </tr>\n",
       "    <tr>\n",
       "      <th>996</th>\n",
       "      <td>997</td>\n",
       "      <td>ECddaFEDdEc4FAB</td>\n",
       "      <td>Donna</td>\n",
       "      <td>Barry</td>\n",
       "      <td>Female</td>\n",
       "      <td>dariusbryan@example.com</td>\n",
       "      <td>001-149-710-7799x721</td>\n",
       "      <td>06-10-2001</td>\n",
       "      <td>Education administrator</td>\n",
       "      <td>50000</td>\n",
       "    </tr>\n",
       "    <tr>\n",
       "      <th>997</th>\n",
       "      <td>998</td>\n",
       "      <td>2adde51d8B8979E</td>\n",
       "      <td>Cathy</td>\n",
       "      <td>Mckinney</td>\n",
       "      <td>Female</td>\n",
       "      <td>georgechan@example.org</td>\n",
       "      <td>+1-750-774-4128x33265</td>\n",
       "      <td>13-05-1918</td>\n",
       "      <td>Commercial/residential surveyor</td>\n",
       "      <td>60000</td>\n",
       "    </tr>\n",
       "    <tr>\n",
       "      <th>998</th>\n",
       "      <td>999</td>\n",
       "      <td>Fb2FE369D1E171A</td>\n",
       "      <td>Jermaine</td>\n",
       "      <td>Phelps</td>\n",
       "      <td>Male</td>\n",
       "      <td>wanda04@example.net</td>\n",
       "      <td>(915)292-2254</td>\n",
       "      <td>31-08-1971</td>\n",
       "      <td>Ambulance person</td>\n",
       "      <td>100000</td>\n",
       "    </tr>\n",
       "    <tr>\n",
       "      <th>999</th>\n",
       "      <td>1000</td>\n",
       "      <td>8b756f6231DDC6e</td>\n",
       "      <td>Lee</td>\n",
       "      <td>Tran</td>\n",
       "      <td>Female</td>\n",
       "      <td>deannablack@example.org</td>\n",
       "      <td>079.752.5424x67259</td>\n",
       "      <td>24-01-1947</td>\n",
       "      <td>Nurse, learning disability</td>\n",
       "      <td>90000</td>\n",
       "    </tr>\n",
       "  </tbody>\n",
       "</table>\n",
       "<p>1000 rows × 10 columns</p>\n",
       "</div>"
      ],
      "text/plain": [
       "     Index          User Id First Name Last Name  Gender  \\\n",
       "0        1  8717bbf45cCDbEe     Shelia   Mahoney    Male   \n",
       "1        2  3d5AD30A4cD38ed         Jo    Rivers  Female   \n",
       "2        3  810Ce0F276Badec     Sheryl    Lowery  Female   \n",
       "3        4  BF2a889C00f0cE1    Whitney    Hooper    Male   \n",
       "4        5  9afFEafAe1CBBB9    Lindsey      Rice  Female   \n",
       "..     ...              ...        ...       ...     ...   \n",
       "995    996  fedF4c7Fd9e7cFa       Kurt    Bryant  Female   \n",
       "996    997  ECddaFEDdEc4FAB      Donna     Barry  Female   \n",
       "997    998  2adde51d8B8979E      Cathy  Mckinney  Female   \n",
       "998    999  Fb2FE369D1E171A   Jermaine    Phelps    Male   \n",
       "999   1000  8b756f6231DDC6e        Lee      Tran  Female   \n",
       "\n",
       "                             Email                  Phone Date of birth  \\\n",
       "0              pwarner@example.org           857.139.8239    27-01-2014   \n",
       "1    fergusonkatherine@example.net                    NaN    26-07-1931   \n",
       "2              fhoward@example.org          (599)782-0605    25-11-2013   \n",
       "3            zjohnston@example.com                    NaN    17-11-2012   \n",
       "4                 elin@example.net     (390)417-1635x3010    15-04-1923   \n",
       "..                             ...                    ...           ...   \n",
       "995         lyonsdaisy@example.net           021.775.2933    05-01-1959   \n",
       "996        dariusbryan@example.com   001-149-710-7799x721    06-10-2001   \n",
       "997         georgechan@example.org  +1-750-774-4128x33265    13-05-1918   \n",
       "998            wanda04@example.net          (915)292-2254    31-08-1971   \n",
       "999        deannablack@example.org     079.752.5424x67259    24-01-1947   \n",
       "\n",
       "                           Job Title  Salary  \n",
       "0                  Probation officer   90000  \n",
       "1                             Dancer   80000  \n",
       "2                               Copy   50000  \n",
       "3           Counselling psychologist   65000  \n",
       "4                Biomedical engineer  100000  \n",
       "..                               ...     ...  \n",
       "995                Personnel officer   90000  \n",
       "996          Education administrator   50000  \n",
       "997  Commercial/residential surveyor   60000  \n",
       "998                 Ambulance person  100000  \n",
       "999       Nurse, learning disability   90000  \n",
       "\n",
       "[1000 rows x 10 columns]"
      ]
     },
     "execution_count": 1106,
     "metadata": {},
     "output_type": "execute_result"
    }
   ],
   "source": [
    "df=pd.read_csv('C:\\\\Users\\\\Hrishabh\\\\Downloads\\\\People Data.csv')\n",
    "df"
   ]
  },
  {
   "cell_type": "code",
   "execution_count": 1107,
   "id": "30d65280-eff3-42c5-a57a-3e446fe73d96",
   "metadata": {},
   "outputs": [],
   "source": [
    "n=df[(df['Last Name'].str.contains('Duke',case=False)) & (df['Gender']==\"Female\")&(df['Salary']<85000)]\n",
    "n.to_csv('filtereddata.csv',index=False)\n",
    "df=pd.read_csv('filtereddata.csv')"
   ]
  },
  {
   "cell_type": "code",
   "execution_count": 1108,
   "id": "2aad48f6-4287-4596-9ab2-be0fdc08503a",
   "metadata": {},
   "outputs": [
    {
     "data": {
      "text/html": [
       "<div>\n",
       "<style scoped>\n",
       "    .dataframe tbody tr th:only-of-type {\n",
       "        vertical-align: middle;\n",
       "    }\n",
       "\n",
       "    .dataframe tbody tr th {\n",
       "        vertical-align: top;\n",
       "    }\n",
       "\n",
       "    .dataframe thead th {\n",
       "        text-align: right;\n",
       "    }\n",
       "</style>\n",
       "<table border=\"1\" class=\"dataframe\">\n",
       "  <thead>\n",
       "    <tr style=\"text-align: right;\">\n",
       "      <th></th>\n",
       "      <th>Index</th>\n",
       "      <th>User Id</th>\n",
       "      <th>First Name</th>\n",
       "      <th>Last Name</th>\n",
       "      <th>Gender</th>\n",
       "      <th>Email</th>\n",
       "      <th>Phone</th>\n",
       "      <th>Date of birth</th>\n",
       "      <th>Job Title</th>\n",
       "      <th>Salary</th>\n",
       "    </tr>\n",
       "  </thead>\n",
       "  <tbody>\n",
       "    <tr>\n",
       "      <th>0</th>\n",
       "      <td>46</td>\n",
       "      <td>99A502C175C4EBd</td>\n",
       "      <td>Olivia</td>\n",
       "      <td>Duke</td>\n",
       "      <td>Female</td>\n",
       "      <td>diana26@example.net</td>\n",
       "      <td>001-366-475-8607x04350</td>\n",
       "      <td>13-10-1934</td>\n",
       "      <td>Dentist</td>\n",
       "      <td>60000</td>\n",
       "    </tr>\n",
       "    <tr>\n",
       "      <th>1</th>\n",
       "      <td>211</td>\n",
       "      <td>DF17975CC0a0373</td>\n",
       "      <td>Katrina</td>\n",
       "      <td>Duke</td>\n",
       "      <td>Female</td>\n",
       "      <td>robin78@example.com</td>\n",
       "      <td>740.434.0212</td>\n",
       "      <td>21-09-1935</td>\n",
       "      <td>Producer, radio</td>\n",
       "      <td>50000</td>\n",
       "    </tr>\n",
       "    <tr>\n",
       "      <th>2</th>\n",
       "      <td>458</td>\n",
       "      <td>dcE1B7DE83c1076</td>\n",
       "      <td>Traci</td>\n",
       "      <td>Duke</td>\n",
       "      <td>Female</td>\n",
       "      <td>perryhoffman@example.org</td>\n",
       "      <td>+1-903-596-0995x489</td>\n",
       "      <td>11-02-1997</td>\n",
       "      <td>Herbalist</td>\n",
       "      <td>50000</td>\n",
       "    </tr>\n",
       "    <tr>\n",
       "      <th>3</th>\n",
       "      <td>730</td>\n",
       "      <td>c9b482D7aa3e682</td>\n",
       "      <td>Lonnie</td>\n",
       "      <td>Duke</td>\n",
       "      <td>Female</td>\n",
       "      <td>kevinkramer@example.net</td>\n",
       "      <td>982.692.6257</td>\n",
       "      <td>12-05-2015</td>\n",
       "      <td>Nurse, adult</td>\n",
       "      <td>70000</td>\n",
       "    </tr>\n",
       "  </tbody>\n",
       "</table>\n",
       "</div>"
      ],
      "text/plain": [
       "   Index          User Id First Name Last Name  Gender  \\\n",
       "0     46  99A502C175C4EBd     Olivia      Duke  Female   \n",
       "1    211  DF17975CC0a0373    Katrina      Duke  Female   \n",
       "2    458  dcE1B7DE83c1076      Traci      Duke  Female   \n",
       "3    730  c9b482D7aa3e682     Lonnie      Duke  Female   \n",
       "\n",
       "                      Email                   Phone Date of birth  \\\n",
       "0       diana26@example.net  001-366-475-8607x04350    13-10-1934   \n",
       "1       robin78@example.com            740.434.0212    21-09-1935   \n",
       "2  perryhoffman@example.org     +1-903-596-0995x489    11-02-1997   \n",
       "3   kevinkramer@example.net            982.692.6257    12-05-2015   \n",
       "\n",
       "         Job Title  Salary  \n",
       "0          Dentist   60000  \n",
       "1  Producer, radio   50000  \n",
       "2        Herbalist   50000  \n",
       "3     Nurse, adult   70000  "
      ]
     },
     "execution_count": 1108,
     "metadata": {},
     "output_type": "execute_result"
    }
   ],
   "source": [
    "df"
   ]
  },
  {
   "cell_type": "markdown",
   "id": "1902dcf1-ae9e-466f-881d-2ef1314154b1",
   "metadata": {},
   "source": [
    "### 10- Create a 7*5 Dataframe in Pandas using a series generated from 35 random integers Petween 1 to 6)?\n"
   ]
  },
  {
   "cell_type": "code",
   "execution_count": 1110,
   "id": "a674f4e6-ffcf-4c36-86e5-35691baea0af",
   "metadata": {},
   "outputs": [
    {
     "data": {
      "text/html": [
       "<div>\n",
       "<style scoped>\n",
       "    .dataframe tbody tr th:only-of-type {\n",
       "        vertical-align: middle;\n",
       "    }\n",
       "\n",
       "    .dataframe tbody tr th {\n",
       "        vertical-align: top;\n",
       "    }\n",
       "\n",
       "    .dataframe thead th {\n",
       "        text-align: right;\n",
       "    }\n",
       "</style>\n",
       "<table border=\"1\" class=\"dataframe\">\n",
       "  <thead>\n",
       "    <tr style=\"text-align: right;\">\n",
       "      <th></th>\n",
       "      <th>0</th>\n",
       "      <th>1</th>\n",
       "      <th>2</th>\n",
       "      <th>3</th>\n",
       "      <th>4</th>\n",
       "    </tr>\n",
       "  </thead>\n",
       "  <tbody>\n",
       "    <tr>\n",
       "      <th>0</th>\n",
       "      <td>5</td>\n",
       "      <td>6</td>\n",
       "      <td>2</td>\n",
       "      <td>3</td>\n",
       "      <td>4</td>\n",
       "    </tr>\n",
       "    <tr>\n",
       "      <th>1</th>\n",
       "      <td>3</td>\n",
       "      <td>3</td>\n",
       "      <td>5</td>\n",
       "      <td>6</td>\n",
       "      <td>6</td>\n",
       "    </tr>\n",
       "    <tr>\n",
       "      <th>2</th>\n",
       "      <td>5</td>\n",
       "      <td>3</td>\n",
       "      <td>2</td>\n",
       "      <td>1</td>\n",
       "      <td>1</td>\n",
       "    </tr>\n",
       "    <tr>\n",
       "      <th>3</th>\n",
       "      <td>2</td>\n",
       "      <td>4</td>\n",
       "      <td>2</td>\n",
       "      <td>1</td>\n",
       "      <td>5</td>\n",
       "    </tr>\n",
       "    <tr>\n",
       "      <th>4</th>\n",
       "      <td>5</td>\n",
       "      <td>5</td>\n",
       "      <td>5</td>\n",
       "      <td>5</td>\n",
       "      <td>6</td>\n",
       "    </tr>\n",
       "    <tr>\n",
       "      <th>5</th>\n",
       "      <td>3</td>\n",
       "      <td>4</td>\n",
       "      <td>5</td>\n",
       "      <td>4</td>\n",
       "      <td>4</td>\n",
       "    </tr>\n",
       "    <tr>\n",
       "      <th>6</th>\n",
       "      <td>3</td>\n",
       "      <td>4</td>\n",
       "      <td>2</td>\n",
       "      <td>1</td>\n",
       "      <td>5</td>\n",
       "    </tr>\n",
       "  </tbody>\n",
       "</table>\n",
       "</div>"
      ],
      "text/plain": [
       "   0  1  2  3  4\n",
       "0  5  6  2  3  4\n",
       "1  3  3  5  6  6\n",
       "2  5  3  2  1  1\n",
       "3  2  4  2  1  5\n",
       "4  5  5  5  5  6\n",
       "5  3  4  5  4  4\n",
       "6  3  4  2  1  5"
      ]
     },
     "execution_count": 1110,
     "metadata": {},
     "output_type": "execute_result"
    }
   ],
   "source": [
    "sei=pd.Series(np.random.randint(1,7,35))\n",
    "x=sei.values.reshape(7,5)\n",
    "df=pd.DataFrame(x)\n",
    "df"
   ]
  },
  {
   "cell_type": "markdown",
   "id": "94515af8-4a1b-496a-98d1-0da79961c907",
   "metadata": {},
   "source": [
    "### 11 Create two different Series, each of length 50, with the following criteria:"
   ]
  },
  {
   "cell_type": "markdown",
   "id": "092f527d-38a9-4e3a-baf6-35e956a2d495",
   "metadata": {},
   "source": [
    "#### a) The first Series should contain random numbers ranging from 10 to 50."
   ]
  },
  {
   "cell_type": "code",
   "execution_count": 1113,
   "id": "9e4a846e-9ee2-4626-bb56-ae4193a026ae",
   "metadata": {},
   "outputs": [
    {
     "name": "stdout",
     "output_type": "stream",
     "text": [
      "0     40\n",
      "1     22\n",
      "2     24\n",
      "3     25\n",
      "4     49\n",
      "5     22\n",
      "6     34\n",
      "7     41\n",
      "8     27\n",
      "9     16\n",
      "10    17\n",
      "11    19\n",
      "12    22\n",
      "13    27\n",
      "14    47\n",
      "15    35\n",
      "16    18\n",
      "17    31\n",
      "18    27\n",
      "19    14\n",
      "20    39\n",
      "21    47\n",
      "22    35\n",
      "23    18\n",
      "24    49\n",
      "25    21\n",
      "26    33\n",
      "27    37\n",
      "28    26\n",
      "29    18\n",
      "30    30\n",
      "31    43\n",
      "32    35\n",
      "33    24\n",
      "34    19\n",
      "35    35\n",
      "36    14\n",
      "37    48\n",
      "38    43\n",
      "39    10\n",
      "40    50\n",
      "41    23\n",
      "42    24\n",
      "43    21\n",
      "44    15\n",
      "45    34\n",
      "46    23\n",
      "47    12\n",
      "48    12\n",
      "49    19\n",
      "dtype: int32\n"
     ]
    }
   ],
   "source": [
    "a=pd.Series(np.random.randint(10,51,50))\n",
    "print(a)"
   ]
  },
  {
   "cell_type": "markdown",
   "id": "a5046b3e-b2ef-4807-9f7b-22f2961d7ecc",
   "metadata": {},
   "source": [
    "#### b)  The second Series should contain random numbers ranging from 100 to 1000."
   ]
  },
  {
   "cell_type": "code",
   "execution_count": 1115,
   "id": "a4ae9e3a-5878-4451-bb82-4f9ac52f077f",
   "metadata": {},
   "outputs": [
    {
     "name": "stdout",
     "output_type": "stream",
     "text": [
      "0     805\n",
      "1     337\n",
      "2     850\n",
      "3     139\n",
      "4     165\n",
      "5     950\n",
      "6     781\n",
      "7     179\n",
      "8     747\n",
      "9     871\n",
      "10    979\n",
      "11    221\n",
      "12    264\n",
      "13    913\n",
      "14    132\n",
      "15    690\n",
      "16    913\n",
      "17    402\n",
      "18    265\n",
      "19    514\n",
      "20    751\n",
      "21    440\n",
      "22    474\n",
      "23    840\n",
      "24    859\n",
      "25    398\n",
      "26    908\n",
      "27    111\n",
      "28    645\n",
      "29    908\n",
      "30    785\n",
      "31    919\n",
      "32    602\n",
      "33    120\n",
      "34    432\n",
      "35    757\n",
      "36    107\n",
      "37    169\n",
      "38    940\n",
      "39    787\n",
      "40    903\n",
      "41    534\n",
      "42    987\n",
      "43    992\n",
      "44    722\n",
      "45    783\n",
      "46    648\n",
      "47    484\n",
      "48    254\n",
      "49    470\n",
      "dtype: int32\n"
     ]
    }
   ],
   "source": [
    "b=pd.Series(np.random.randint(100,1000,50))\n",
    "print(b)"
   ]
  },
  {
   "cell_type": "markdown",
   "id": "bffd8a8b-d2a9-4c1d-b1e3-f3623dca4fb1",
   "metadata": {},
   "source": [
    "#### Create a DataFrame by 'joining these Series by column, and, change the names of the columns to 'col1', 'col2', etc"
   ]
  },
  {
   "cell_type": "code",
   "execution_count": 1117,
   "id": "2dee26b8-88cd-4f22-b850-c46abdd518f2",
   "metadata": {},
   "outputs": [
    {
     "data": {
      "text/html": [
       "<div>\n",
       "<style scoped>\n",
       "    .dataframe tbody tr th:only-of-type {\n",
       "        vertical-align: middle;\n",
       "    }\n",
       "\n",
       "    .dataframe tbody tr th {\n",
       "        vertical-align: top;\n",
       "    }\n",
       "\n",
       "    .dataframe thead th {\n",
       "        text-align: right;\n",
       "    }\n",
       "</style>\n",
       "<table border=\"1\" class=\"dataframe\">\n",
       "  <thead>\n",
       "    <tr style=\"text-align: right;\">\n",
       "      <th></th>\n",
       "      <th>col1</th>\n",
       "      <th>col2</th>\n",
       "    </tr>\n",
       "  </thead>\n",
       "  <tbody>\n",
       "    <tr>\n",
       "      <th>0</th>\n",
       "      <td>40</td>\n",
       "      <td>805</td>\n",
       "    </tr>\n",
       "    <tr>\n",
       "      <th>1</th>\n",
       "      <td>22</td>\n",
       "      <td>337</td>\n",
       "    </tr>\n",
       "    <tr>\n",
       "      <th>2</th>\n",
       "      <td>24</td>\n",
       "      <td>850</td>\n",
       "    </tr>\n",
       "    <tr>\n",
       "      <th>3</th>\n",
       "      <td>25</td>\n",
       "      <td>139</td>\n",
       "    </tr>\n",
       "    <tr>\n",
       "      <th>4</th>\n",
       "      <td>49</td>\n",
       "      <td>165</td>\n",
       "    </tr>\n",
       "    <tr>\n",
       "      <th>5</th>\n",
       "      <td>22</td>\n",
       "      <td>950</td>\n",
       "    </tr>\n",
       "    <tr>\n",
       "      <th>6</th>\n",
       "      <td>34</td>\n",
       "      <td>781</td>\n",
       "    </tr>\n",
       "    <tr>\n",
       "      <th>7</th>\n",
       "      <td>41</td>\n",
       "      <td>179</td>\n",
       "    </tr>\n",
       "    <tr>\n",
       "      <th>8</th>\n",
       "      <td>27</td>\n",
       "      <td>747</td>\n",
       "    </tr>\n",
       "    <tr>\n",
       "      <th>9</th>\n",
       "      <td>16</td>\n",
       "      <td>871</td>\n",
       "    </tr>\n",
       "    <tr>\n",
       "      <th>10</th>\n",
       "      <td>17</td>\n",
       "      <td>979</td>\n",
       "    </tr>\n",
       "    <tr>\n",
       "      <th>11</th>\n",
       "      <td>19</td>\n",
       "      <td>221</td>\n",
       "    </tr>\n",
       "    <tr>\n",
       "      <th>12</th>\n",
       "      <td>22</td>\n",
       "      <td>264</td>\n",
       "    </tr>\n",
       "    <tr>\n",
       "      <th>13</th>\n",
       "      <td>27</td>\n",
       "      <td>913</td>\n",
       "    </tr>\n",
       "    <tr>\n",
       "      <th>14</th>\n",
       "      <td>47</td>\n",
       "      <td>132</td>\n",
       "    </tr>\n",
       "    <tr>\n",
       "      <th>15</th>\n",
       "      <td>35</td>\n",
       "      <td>690</td>\n",
       "    </tr>\n",
       "    <tr>\n",
       "      <th>16</th>\n",
       "      <td>18</td>\n",
       "      <td>913</td>\n",
       "    </tr>\n",
       "    <tr>\n",
       "      <th>17</th>\n",
       "      <td>31</td>\n",
       "      <td>402</td>\n",
       "    </tr>\n",
       "    <tr>\n",
       "      <th>18</th>\n",
       "      <td>27</td>\n",
       "      <td>265</td>\n",
       "    </tr>\n",
       "    <tr>\n",
       "      <th>19</th>\n",
       "      <td>14</td>\n",
       "      <td>514</td>\n",
       "    </tr>\n",
       "    <tr>\n",
       "      <th>20</th>\n",
       "      <td>39</td>\n",
       "      <td>751</td>\n",
       "    </tr>\n",
       "    <tr>\n",
       "      <th>21</th>\n",
       "      <td>47</td>\n",
       "      <td>440</td>\n",
       "    </tr>\n",
       "    <tr>\n",
       "      <th>22</th>\n",
       "      <td>35</td>\n",
       "      <td>474</td>\n",
       "    </tr>\n",
       "    <tr>\n",
       "      <th>23</th>\n",
       "      <td>18</td>\n",
       "      <td>840</td>\n",
       "    </tr>\n",
       "    <tr>\n",
       "      <th>24</th>\n",
       "      <td>49</td>\n",
       "      <td>859</td>\n",
       "    </tr>\n",
       "    <tr>\n",
       "      <th>25</th>\n",
       "      <td>21</td>\n",
       "      <td>398</td>\n",
       "    </tr>\n",
       "    <tr>\n",
       "      <th>26</th>\n",
       "      <td>33</td>\n",
       "      <td>908</td>\n",
       "    </tr>\n",
       "    <tr>\n",
       "      <th>27</th>\n",
       "      <td>37</td>\n",
       "      <td>111</td>\n",
       "    </tr>\n",
       "    <tr>\n",
       "      <th>28</th>\n",
       "      <td>26</td>\n",
       "      <td>645</td>\n",
       "    </tr>\n",
       "    <tr>\n",
       "      <th>29</th>\n",
       "      <td>18</td>\n",
       "      <td>908</td>\n",
       "    </tr>\n",
       "    <tr>\n",
       "      <th>30</th>\n",
       "      <td>30</td>\n",
       "      <td>785</td>\n",
       "    </tr>\n",
       "    <tr>\n",
       "      <th>31</th>\n",
       "      <td>43</td>\n",
       "      <td>919</td>\n",
       "    </tr>\n",
       "    <tr>\n",
       "      <th>32</th>\n",
       "      <td>35</td>\n",
       "      <td>602</td>\n",
       "    </tr>\n",
       "    <tr>\n",
       "      <th>33</th>\n",
       "      <td>24</td>\n",
       "      <td>120</td>\n",
       "    </tr>\n",
       "    <tr>\n",
       "      <th>34</th>\n",
       "      <td>19</td>\n",
       "      <td>432</td>\n",
       "    </tr>\n",
       "    <tr>\n",
       "      <th>35</th>\n",
       "      <td>35</td>\n",
       "      <td>757</td>\n",
       "    </tr>\n",
       "    <tr>\n",
       "      <th>36</th>\n",
       "      <td>14</td>\n",
       "      <td>107</td>\n",
       "    </tr>\n",
       "    <tr>\n",
       "      <th>37</th>\n",
       "      <td>48</td>\n",
       "      <td>169</td>\n",
       "    </tr>\n",
       "    <tr>\n",
       "      <th>38</th>\n",
       "      <td>43</td>\n",
       "      <td>940</td>\n",
       "    </tr>\n",
       "    <tr>\n",
       "      <th>39</th>\n",
       "      <td>10</td>\n",
       "      <td>787</td>\n",
       "    </tr>\n",
       "    <tr>\n",
       "      <th>40</th>\n",
       "      <td>50</td>\n",
       "      <td>903</td>\n",
       "    </tr>\n",
       "    <tr>\n",
       "      <th>41</th>\n",
       "      <td>23</td>\n",
       "      <td>534</td>\n",
       "    </tr>\n",
       "    <tr>\n",
       "      <th>42</th>\n",
       "      <td>24</td>\n",
       "      <td>987</td>\n",
       "    </tr>\n",
       "    <tr>\n",
       "      <th>43</th>\n",
       "      <td>21</td>\n",
       "      <td>992</td>\n",
       "    </tr>\n",
       "    <tr>\n",
       "      <th>44</th>\n",
       "      <td>15</td>\n",
       "      <td>722</td>\n",
       "    </tr>\n",
       "    <tr>\n",
       "      <th>45</th>\n",
       "      <td>34</td>\n",
       "      <td>783</td>\n",
       "    </tr>\n",
       "    <tr>\n",
       "      <th>46</th>\n",
       "      <td>23</td>\n",
       "      <td>648</td>\n",
       "    </tr>\n",
       "    <tr>\n",
       "      <th>47</th>\n",
       "      <td>12</td>\n",
       "      <td>484</td>\n",
       "    </tr>\n",
       "    <tr>\n",
       "      <th>48</th>\n",
       "      <td>12</td>\n",
       "      <td>254</td>\n",
       "    </tr>\n",
       "    <tr>\n",
       "      <th>49</th>\n",
       "      <td>19</td>\n",
       "      <td>470</td>\n",
       "    </tr>\n",
       "  </tbody>\n",
       "</table>\n",
       "</div>"
      ],
      "text/plain": [
       "    col1  col2\n",
       "0     40   805\n",
       "1     22   337\n",
       "2     24   850\n",
       "3     25   139\n",
       "4     49   165\n",
       "5     22   950\n",
       "6     34   781\n",
       "7     41   179\n",
       "8     27   747\n",
       "9     16   871\n",
       "10    17   979\n",
       "11    19   221\n",
       "12    22   264\n",
       "13    27   913\n",
       "14    47   132\n",
       "15    35   690\n",
       "16    18   913\n",
       "17    31   402\n",
       "18    27   265\n",
       "19    14   514\n",
       "20    39   751\n",
       "21    47   440\n",
       "22    35   474\n",
       "23    18   840\n",
       "24    49   859\n",
       "25    21   398\n",
       "26    33   908\n",
       "27    37   111\n",
       "28    26   645\n",
       "29    18   908\n",
       "30    30   785\n",
       "31    43   919\n",
       "32    35   602\n",
       "33    24   120\n",
       "34    19   432\n",
       "35    35   757\n",
       "36    14   107\n",
       "37    48   169\n",
       "38    43   940\n",
       "39    10   787\n",
       "40    50   903\n",
       "41    23   534\n",
       "42    24   987\n",
       "43    21   992\n",
       "44    15   722\n",
       "45    34   783\n",
       "46    23   648\n",
       "47    12   484\n",
       "48    12   254\n",
       "49    19   470"
      ]
     },
     "execution_count": 1117,
     "metadata": {},
     "output_type": "execute_result"
    }
   ],
   "source": [
    "x=pd.concat([a,b],axis=1)\n",
    "x.columns=['col1','col2']\n",
    "x"
   ]
  },
  {
   "cell_type": "markdown",
   "id": "427a01a2-4130-4de0-8fa4-cd890e9a54fe",
   "metadata": {},
   "source": [
    "### 12 Perform the following operations using people data set:"
   ]
  },
  {
   "cell_type": "markdown",
   "id": "56c154e6-8fbf-4139-a3d1-680a4d31f38e",
   "metadata": {},
   "source": [
    "#### a) Delete the 'Email', 'Phone', and 'Date of birth' columns from the dataset."
   ]
  },
  {
   "cell_type": "code",
   "execution_count": 1120,
   "id": "ecd562b8-816e-4d80-a576-6a481feb2ec3",
   "metadata": {},
   "outputs": [],
   "source": [
    "df = pd.read_csv('C:\\\\Users\\\\Hrishabh\\\\Downloads\\\\People Data.csv')\n",
    "df=df.drop(['Email','Phone','Date of birth'],axis=1)"
   ]
  },
  {
   "cell_type": "markdown",
   "id": "1b68813d-89d7-427e-859f-b01a213b1bd4",
   "metadata": {},
   "source": [
    "#### b) Delete the rows containing any missing values."
   ]
  },
  {
   "cell_type": "code",
   "execution_count": 1122,
   "id": "eaf3784b-201a-45ed-bdec-3d2eb37410a0",
   "metadata": {},
   "outputs": [],
   "source": [
    "df=df.dropna()"
   ]
  },
  {
   "cell_type": "markdown",
   "id": "b0d43bb9-2cda-483d-b541-2ffc8c78c346",
   "metadata": {},
   "source": [
    "#### d) Print the final output also"
   ]
  },
  {
   "cell_type": "code",
   "execution_count": 1124,
   "id": "8467aed2-ee19-45a4-9591-646ef493f56b",
   "metadata": {},
   "outputs": [
    {
     "data": {
      "text/html": [
       "<div>\n",
       "<style scoped>\n",
       "    .dataframe tbody tr th:only-of-type {\n",
       "        vertical-align: middle;\n",
       "    }\n",
       "\n",
       "    .dataframe tbody tr th {\n",
       "        vertical-align: top;\n",
       "    }\n",
       "\n",
       "    .dataframe thead th {\n",
       "        text-align: right;\n",
       "    }\n",
       "</style>\n",
       "<table border=\"1\" class=\"dataframe\">\n",
       "  <thead>\n",
       "    <tr style=\"text-align: right;\">\n",
       "      <th></th>\n",
       "      <th>Index</th>\n",
       "      <th>User Id</th>\n",
       "      <th>First Name</th>\n",
       "      <th>Last Name</th>\n",
       "      <th>Gender</th>\n",
       "      <th>Job Title</th>\n",
       "      <th>Salary</th>\n",
       "    </tr>\n",
       "  </thead>\n",
       "  <tbody>\n",
       "    <tr>\n",
       "      <th>0</th>\n",
       "      <td>1</td>\n",
       "      <td>8717bbf45cCDbEe</td>\n",
       "      <td>Shelia</td>\n",
       "      <td>Mahoney</td>\n",
       "      <td>Male</td>\n",
       "      <td>Probation officer</td>\n",
       "      <td>90000</td>\n",
       "    </tr>\n",
       "    <tr>\n",
       "      <th>1</th>\n",
       "      <td>2</td>\n",
       "      <td>3d5AD30A4cD38ed</td>\n",
       "      <td>Jo</td>\n",
       "      <td>Rivers</td>\n",
       "      <td>Female</td>\n",
       "      <td>Dancer</td>\n",
       "      <td>80000</td>\n",
       "    </tr>\n",
       "    <tr>\n",
       "      <th>2</th>\n",
       "      <td>3</td>\n",
       "      <td>810Ce0F276Badec</td>\n",
       "      <td>Sheryl</td>\n",
       "      <td>Lowery</td>\n",
       "      <td>Female</td>\n",
       "      <td>Copy</td>\n",
       "      <td>50000</td>\n",
       "    </tr>\n",
       "    <tr>\n",
       "      <th>3</th>\n",
       "      <td>4</td>\n",
       "      <td>BF2a889C00f0cE1</td>\n",
       "      <td>Whitney</td>\n",
       "      <td>Hooper</td>\n",
       "      <td>Male</td>\n",
       "      <td>Counselling psychologist</td>\n",
       "      <td>65000</td>\n",
       "    </tr>\n",
       "    <tr>\n",
       "      <th>4</th>\n",
       "      <td>5</td>\n",
       "      <td>9afFEafAe1CBBB9</td>\n",
       "      <td>Lindsey</td>\n",
       "      <td>Rice</td>\n",
       "      <td>Female</td>\n",
       "      <td>Biomedical engineer</td>\n",
       "      <td>100000</td>\n",
       "    </tr>\n",
       "    <tr>\n",
       "      <th>...</th>\n",
       "      <td>...</td>\n",
       "      <td>...</td>\n",
       "      <td>...</td>\n",
       "      <td>...</td>\n",
       "      <td>...</td>\n",
       "      <td>...</td>\n",
       "      <td>...</td>\n",
       "    </tr>\n",
       "    <tr>\n",
       "      <th>995</th>\n",
       "      <td>996</td>\n",
       "      <td>fedF4c7Fd9e7cFa</td>\n",
       "      <td>Kurt</td>\n",
       "      <td>Bryant</td>\n",
       "      <td>Female</td>\n",
       "      <td>Personnel officer</td>\n",
       "      <td>90000</td>\n",
       "    </tr>\n",
       "    <tr>\n",
       "      <th>996</th>\n",
       "      <td>997</td>\n",
       "      <td>ECddaFEDdEc4FAB</td>\n",
       "      <td>Donna</td>\n",
       "      <td>Barry</td>\n",
       "      <td>Female</td>\n",
       "      <td>Education administrator</td>\n",
       "      <td>50000</td>\n",
       "    </tr>\n",
       "    <tr>\n",
       "      <th>997</th>\n",
       "      <td>998</td>\n",
       "      <td>2adde51d8B8979E</td>\n",
       "      <td>Cathy</td>\n",
       "      <td>Mckinney</td>\n",
       "      <td>Female</td>\n",
       "      <td>Commercial/residential surveyor</td>\n",
       "      <td>60000</td>\n",
       "    </tr>\n",
       "    <tr>\n",
       "      <th>998</th>\n",
       "      <td>999</td>\n",
       "      <td>Fb2FE369D1E171A</td>\n",
       "      <td>Jermaine</td>\n",
       "      <td>Phelps</td>\n",
       "      <td>Male</td>\n",
       "      <td>Ambulance person</td>\n",
       "      <td>100000</td>\n",
       "    </tr>\n",
       "    <tr>\n",
       "      <th>999</th>\n",
       "      <td>1000</td>\n",
       "      <td>8b756f6231DDC6e</td>\n",
       "      <td>Lee</td>\n",
       "      <td>Tran</td>\n",
       "      <td>Female</td>\n",
       "      <td>Nurse, learning disability</td>\n",
       "      <td>90000</td>\n",
       "    </tr>\n",
       "  </tbody>\n",
       "</table>\n",
       "<p>1000 rows × 7 columns</p>\n",
       "</div>"
      ],
      "text/plain": [
       "     Index          User Id First Name Last Name  Gender  \\\n",
       "0        1  8717bbf45cCDbEe     Shelia   Mahoney    Male   \n",
       "1        2  3d5AD30A4cD38ed         Jo    Rivers  Female   \n",
       "2        3  810Ce0F276Badec     Sheryl    Lowery  Female   \n",
       "3        4  BF2a889C00f0cE1    Whitney    Hooper    Male   \n",
       "4        5  9afFEafAe1CBBB9    Lindsey      Rice  Female   \n",
       "..     ...              ...        ...       ...     ...   \n",
       "995    996  fedF4c7Fd9e7cFa       Kurt    Bryant  Female   \n",
       "996    997  ECddaFEDdEc4FAB      Donna     Barry  Female   \n",
       "997    998  2adde51d8B8979E      Cathy  Mckinney  Female   \n",
       "998    999  Fb2FE369D1E171A   Jermaine    Phelps    Male   \n",
       "999   1000  8b756f6231DDC6e        Lee      Tran  Female   \n",
       "\n",
       "                           Job Title  Salary  \n",
       "0                  Probation officer   90000  \n",
       "1                             Dancer   80000  \n",
       "2                               Copy   50000  \n",
       "3           Counselling psychologist   65000  \n",
       "4                Biomedical engineer  100000  \n",
       "..                               ...     ...  \n",
       "995                Personnel officer   90000  \n",
       "996          Education administrator   50000  \n",
       "997  Commercial/residential surveyor   60000  \n",
       "998                 Ambulance person  100000  \n",
       "999       Nurse, learning disability   90000  \n",
       "\n",
       "[1000 rows x 7 columns]"
      ]
     },
     "execution_count": 1124,
     "metadata": {},
     "output_type": "execute_result"
    }
   ],
   "source": [
    "df"
   ]
  },
  {
   "cell_type": "markdown",
   "id": "7bc53560-66c6-4ba7-8c0f-92397b0551f7",
   "metadata": {},
   "source": [
    "### 13 Create two NumPy arrays, x and y, each containing 100 random float values between 0 and 1. Perform the following tasks using Matplotlib and NumPy:"
   ]
  },
  {
   "cell_type": "markdown",
   "id": "2a07687d-2bfe-4475-a2b5-5350ec020ec0",
   "metadata": {},
   "source": [
    "#### a) Create a scatter plot using x and y, setting the color of the points to red and the marker style to 'o'."
   ]
  },
  {
   "cell_type": "code",
   "execution_count": 1127,
   "id": "17e0b683-80de-47bb-80bd-4f7bb68426f5",
   "metadata": {},
   "outputs": [
    {
     "data": {
      "image/png": "[encoded data removed]",
      "text/plain": [
       "<Figure size 640x480 with 1 Axes>"
      ]
     },
     "metadata": {},
     "output_type": "display_data"
    }
   ],
   "source": [
    "x=np.random.rand(100)\n",
    "y=np.random.rand(100)\n",
    "plt.scatter(x,y,color=\"red\",marker=\"o\")\n",
    "plt.show()"
   ]
  },
  {
   "cell_type": "markdown",
   "id": "090d35fc-ed77-4924-bdc2-b7f95a2e93d6",
   "metadata": {},
   "source": [
    "#### b) Add a horizontal line at y = 0.5 using a dashed line style and label it as 'y = 0.5'."
   ]
  },
  {
   "cell_type": "code",
   "execution_count": 1129,
   "id": "15a2206d-ea12-4f7d-8133-169b940d0e35",
   "metadata": {},
   "outputs": [
    {
     "data": {
      "image/png": "[encoded data removed]",
      "text/plain": [
       "<Figure size 640x480 with 1 Axes>"
      ]
     },
     "metadata": {},
     "output_type": "display_data"
    }
   ],
   "source": [
    "plt.scatter(x,y,color=\"red\",marker=\"o\")\n",
    "plt.axhline(y=0.5,linestyle=\"--\",label=\"0.5\")\n",
    "plt.legend()\n",
    "plt.show()"
   ]
  },
  {
   "cell_type": "markdown",
   "id": "a793404c-a7a5-4bf9-a571-698e3aef56c3",
   "metadata": {},
   "source": [
    "#### c) Add a vertical line at x = 0.5 using a dotted line style and label it as 'x = 0.5'."
   ]
  },
  {
   "cell_type": "code",
   "execution_count": 1131,
   "id": "237b8dc3-b6f7-4df3-9922-8a1f16ac50a4",
   "metadata": {},
   "outputs": [
    {
     "data": {
      "image/png": "[encoded data removed]",
      "text/plain": [
       "<Figure size 640x480 with 1 Axes>"
      ]
     },
     "metadata": {},
     "output_type": "display_data"
    }
   ],
   "source": [
    "plt.scatter(x,y,color=\"red\",marker=\"o\")\n",
    "plt.axvline(x=0.5,linestyle=\"--\",label=\"0.5\")\n",
    "plt.legend()\n",
    "plt.show()"
   ]
  },
  {
   "cell_type": "markdown",
   "id": "22ec9b05-890f-44c1-89f9-95fd237a2eef",
   "metadata": {},
   "source": [
    "#### d) Label the x-axis as 'X-axis' and the y-axis as 'Y-axis'."
   ]
  },
  {
   "cell_type": "code",
   "execution_count": 1133,
   "id": "7eea2fc4-30ab-41bd-ab6e-a50526eda128",
   "metadata": {},
   "outputs": [
    {
     "data": {
      "image/png": "[encoded data removed]",
      "text/plain": [
       "<Figure size 640x480 with 1 Axes>"
      ]
     },
     "metadata": {},
     "output_type": "display_data"
    }
   ],
   "source": [
    "plt.scatter(x,y,color=\"red\",marker=\"o\")\n",
    "plt.xlabel(\"X-axis\")\n",
    "plt.ylabel(\"Y-axis\")\n",
    "plt.axvline(x=0.5,linestyle=\"--\",label=\"0.5\")\n",
    "plt.axhline(y=0.5,linestyle=\"--\",label=\"0.5\")\n",
    "plt.show()"
   ]
  },
  {
   "cell_type": "markdown",
   "id": "6885a4ee-38ba-45dc-bbc6-b36716f806bf",
   "metadata": {},
   "source": [
    "#### e) Set the title of the plot as 'Advanced Scatter Plot of Random Values'."
   ]
  },
  {
   "cell_type": "code",
   "execution_count": 1135,
   "id": "db18eb85-47ed-4b04-ad6f-16e52d23a4ee",
   "metadata": {},
   "outputs": [
    {
     "data": {
      "image/png": "[encoded data removed]",
      "text/plain": [
       "<Figure size 640x480 with 1 Axes>"
      ]
     },
     "metadata": {},
     "output_type": "display_data"
    }
   ],
   "source": [
    "plt.scatter(x,y,color=\"red\",marker=\"o\")\n",
    "plt.xlabel(\"X-axis\")\n",
    "plt.ylabel(\"Y-axis\")\n",
    "plt.axvline(x=0.5,linestyle=\"--\",label=\"0.5\")\n",
    "plt.axhline(y=0.5,linestyle=\"--\",label=\"0.5\")\n",
    "plt.title(\"Advanced Scatter Plot of Random Values\")\n",
    "plt.show()"
   ]
  },
  {
   "cell_type": "markdown",
   "id": "98126ab4-e0f5-48ed-87f3-09e88537c096",
   "metadata": {},
   "source": [
    "#### f) Display a legend for the scatter plot, the horizontal line, and the vertical line."
   ]
  },
  {
   "cell_type": "code",
   "execution_count": 1137,
   "id": "d019a23b-eee0-40cd-80e0-5073fd690bfe",
   "metadata": {},
   "outputs": [
    {
     "data": {
      "image/png": "[encoded data removed]",
      "text/plain": [
       "<Figure size 640x480 with 1 Axes>"
      ]
     },
     "metadata": {},
     "output_type": "display_data"
    }
   ],
   "source": [
    "plt.scatter(x,y,color=\"red\",marker=\"o\")\n",
    "plt.xlabel(\"X-axis\")\n",
    "plt.ylabel(\"Y-axis\")\n",
    "plt.axvline(x=0.5,linestyle=\"--\",label=\"0.5\",color=\"green\")\n",
    "plt.axhline(y=0.5,linestyle=\"--\",label=\"0.5\")\n",
    "plt.title(\"Advanced Scatter Plot of Random Values\")\n",
    "plt.legend()\n",
    "plt.show()"
   ]
  },
  {
   "cell_type": "markdown",
   "id": "a24aea29-5ae1-457c-9b3c-d955e239ceb8",
   "metadata": {},
   "source": [
    "### 14  Create a time-series dataset in a Pandas DataFrame with columns: 'Date', 'Temperature', 'Humidity' and Perform the following tasks using Matplotlib:"
   ]
  },
  {
   "cell_type": "code",
   "execution_count": 1139,
   "id": "8fa84765-abc1-4d84-9296-deab95f1ce93",
   "metadata": {},
   "outputs": [
    {
     "data": {
      "text/html": [
       "<div>\n",
       "<style scoped>\n",
       "    .dataframe tbody tr th:only-of-type {\n",
       "        vertical-align: middle;\n",
       "    }\n",
       "\n",
       "    .dataframe tbody tr th {\n",
       "        vertical-align: top;\n",
       "    }\n",
       "\n",
       "    .dataframe thead th {\n",
       "        text-align: right;\n",
       "    }\n",
       "</style>\n",
       "<table border=\"1\" class=\"dataframe\">\n",
       "  <thead>\n",
       "    <tr style=\"text-align: right;\">\n",
       "      <th></th>\n",
       "      <th>Date</th>\n",
       "      <th>Temperature</th>\n",
       "      <th>Humidity</th>\n",
       "    </tr>\n",
       "  </thead>\n",
       "  <tbody>\n",
       "    <tr>\n",
       "      <th>0</th>\n",
       "      <td>2024-08-01</td>\n",
       "      <td>30.976270</td>\n",
       "      <td>66.946192</td>\n",
       "    </tr>\n",
       "    <tr>\n",
       "      <th>1</th>\n",
       "      <td>2024-08-02</td>\n",
       "      <td>34.303787</td>\n",
       "      <td>75.835765</td>\n",
       "    </tr>\n",
       "    <tr>\n",
       "      <th>2</th>\n",
       "      <td>2024-08-03</td>\n",
       "      <td>32.055268</td>\n",
       "      <td>67.503488</td>\n",
       "    </tr>\n",
       "    <tr>\n",
       "      <th>3</th>\n",
       "      <td>2024-08-04</td>\n",
       "      <td>30.897664</td>\n",
       "      <td>85.670920</td>\n",
       "    </tr>\n",
       "  </tbody>\n",
       "</table>\n",
       "</div>"
      ],
      "text/plain": [
       "        Date  Temperature   Humidity\n",
       "0 2024-08-01    30.976270  66.946192\n",
       "1 2024-08-02    34.303787  75.835765\n",
       "2 2024-08-03    32.055268  67.503488\n",
       "3 2024-08-04    30.897664  85.670920"
      ]
     },
     "execution_count": 1139,
     "metadata": {},
     "output_type": "execute_result"
    }
   ],
   "source": [
    "np.random.seed(0)\n",
    "d_range=pd.date_range(start=\"2024-08-1\",end=\"2024-08-4\",freq=\"D\")\n",
    "tem=np.random.uniform(20,40,size=len(d_range))\n",
    "hm=np.random.uniform(50,90,size=len(d_range))\n",
    "dsf=pd.DataFrame({'Date':d_range,'Temperature':tem,'Humidity':hm})\n",
    "dsf"
   ]
  },
  {
   "cell_type": "markdown",
   "id": "85ba2a80-8113-44cf-b145-02be89b800e8",
   "metadata": {},
   "source": [
    "#### a) Plot the 'Temperature' and 'Humidity' on the same plot with different y-axes (left y-axis for 'Temperature' and right y-axis for 'Humidity')."
   ]
  },
  {
   "cell_type": "code",
   "execution_count": 1141,
   "id": "dd182253-d973-4326-8521-55e0dbc2ec45",
   "metadata": {},
   "outputs": [
    {
     "data": {
      "image/png": "[encoded data removed]",
      "text/plain": [
       "<Figure size 1400x1400 with 2 Axes>"
      ]
     },
     "metadata": {},
     "output_type": "display_data"
    }
   ],
   "source": [
    "plt.figure(figsize=(14,14))\n",
    "plt.subplot(1,2,1)\n",
    "plt.plot(dsf['Date'],dsf['Temperature'])\n",
    "plt.subplot(1,2,2)\n",
    "plt.plot(dsf['Date'],dsf['Humidity'])\n",
    "plt.show()"
   ]
  },
  {
   "cell_type": "markdown",
   "id": "d5d648f1-670f-4c78-8f63-b7225780525a",
   "metadata": {},
   "source": [
    "#### b) Label the x-axis as 'Date"
   ]
  },
  {
   "cell_type": "code",
   "execution_count": 1143,
   "id": "04fd79d8-5bc8-49ff-94b5-a8d9ac2aab3d",
   "metadata": {},
   "outputs": [
    {
     "data": {
      "image/png": "[encoded data removed]",
      "text/plain": [
       "<Figure size 1400x1400 with 2 Axes>"
      ]
     },
     "metadata": {},
     "output_type": "display_data"
    }
   ],
   "source": [
    "plt.figure(figsize=(14,14))\n",
    "plt.subplot(1,2,1)\n",
    "plt.plot(dsf['Date'],dsf['Temperature'])\n",
    "plt.xlabel(\"Date\")\n",
    "plt.subplot(1,2,2)\n",
    "plt.plot(dsf['Date'],dsf['Humidity'])\n",
    "plt.xlabel(\"Date\")\n",
    "plt.show()"
   ]
  },
  {
   "cell_type": "markdown",
   "id": "9e54c4f4-e652-4cc9-beb7-629a20224bff",
   "metadata": {},
   "source": [
    "#### c) Set the title of the plot as 'Temperature and Humidity Over Time"
   ]
  },
  {
   "cell_type": "code",
   "execution_count": 1145,
   "id": "511c1ba6-f611-4da5-9c3d-7a46d79ded2e",
   "metadata": {},
   "outputs": [
    {
     "data": {
      "image/png": "[encoded data removed]",
      "text/plain": [
       "<Figure size 1400x1400 with 2 Axes>"
      ]
     },
     "metadata": {},
     "output_type": "display_data"
    }
   ],
   "source": [
    "plt.figure(figsize=(14,14))\n",
    "plt.subplot(1,2,1)\n",
    "plt.plot(dsf['Date'],dsf['Temperature'],label=\"Temperature\")\n",
    "plt.legend()\n",
    "plt.xlabel(\"Date\")\n",
    "plt.title(\"Temperature and Humidity Over Time\")\n",
    "plt.subplot(1,2,2)\n",
    "plt.plot(dsf['Date'],dsf['Humidity'],label=\"Humidity\")\n",
    "plt.legend()\n",
    "plt.xlabel(\"Date\")\n",
    "plt.title(\"Temperature and Humidity Over Time\")\n",
    "plt.show()"
   ]
  },
  {
   "cell_type": "markdown",
   "id": "48d72441-6c01-4366-a7f0-881f1d548856",
   "metadata": {},
   "source": [
    "### 15 Create a NumPy array data containing 1000 samples from a normal distribution. Perform the following tasks using Matplotlib:"
   ]
  },
  {
   "cell_type": "code",
   "execution_count": 1147,
   "id": "927d4930-babe-43f5-88b0-1ff8777c2896",
   "metadata": {},
   "outputs": [],
   "source": [
    "a=np.random.randn(1000)"
   ]
  },
  {
   "cell_type": "markdown",
   "id": "37f570a4-02a0-41ae-a7de-8da419fdc6c2",
   "metadata": {},
   "source": [
    "#### a) Plot a histogram of the data with 30 bins"
   ]
  },
  {
   "cell_type": "code",
   "execution_count": 1149,
   "id": "da0e9146-b51e-44f4-af29-75791746fdea",
   "metadata": {},
   "outputs": [
    {
     "data": {
      "image/png": "[encoded data removed]",
      "text/plain": [
       "<Figure size 640x480 with 1 Axes>"
      ]
     },
     "metadata": {},
     "output_type": "display_data"
    }
   ],
   "source": [
    "plt.hist(a,bins=30)\n",
    "plt.show()"
   ]
  },
  {
   "cell_type": "markdown",
   "id": "50730904-4d01-4cde-ab26-9e36a243dcf0",
   "metadata": {},
   "source": [
    "#### b) Overlay a line plot representing the normal distribution's probability density function (PDF)."
   ]
  },
  {
   "cell_type": "code",
   "execution_count": 1151,
   "id": "2cb658de-ed64-48cf-a2d2-f4416ea8ebd9",
   "metadata": {},
   "outputs": [
    {
     "data": {
      "image/png": "[encoded data removed]",
      "text/plain": [
       "<Figure size 640x480 with 1 Axes>"
      ]
     },
     "metadata": {},
     "output_type": "display_data"
    }
   ],
   "source": [
    "from scipy.stats import norm\n",
    "plt.hist(a,density=True,bins=30)\n",
    "x=np.linspace(-3,3,100)\n",
    "plt.plot(x,norm.pdf(x,0,1),'r-')\n",
    "plt.show()"
   ]
  },
  {
   "cell_type": "markdown",
   "id": "828cd28e-c093-490c-83f6-4a5684af09e9",
   "metadata": {},
   "source": [
    "#### c) Label the x-axis as 'Value' and the y-axis as 'Frequency/Probability'."
   ]
  },
  {
   "cell_type": "code",
   "execution_count": 1153,
   "id": "76fe0cd1-4da6-4b8c-8d54-cf6e28325c37",
   "metadata": {},
   "outputs": [
    {
     "data": {
      "image/png": "[encoded data removed]",
      "text/plain": [
       "<Figure size 640x480 with 1 Axes>"
      ]
     },
     "metadata": {},
     "output_type": "display_data"
    }
   ],
   "source": [
    "plt.hist(a,density=True,bins=30)\n",
    "x=np.linspace(-3,3,100)\n",
    "plt.plot(x,norm.pdf(x,0,1),'r-')\n",
    "plt.xlabel(\"Value\")\n",
    "plt.ylabel(\"Frequency/Probability\")\n",
    "plt.show()"
   ]
  },
  {
   "cell_type": "markdown",
   "id": "91f195d4-8127-4f63-9a92-00c606dcfc82",
   "metadata": {},
   "source": [
    "### d) Set the title of the plot as 'Histogram with PDF Overlay'."
   ]
  },
  {
   "cell_type": "code",
   "execution_count": 1156,
   "id": "22a17f73-b15f-473f-aa14-26e1c0583ea2",
   "metadata": {},
   "outputs": [
    {
     "data": {
      "image/png": "[encoded data removed]",
      "text/plain": [
       "<Figure size 640x480 with 1 Axes>"
      ]
     },
     "metadata": {},
     "output_type": "display_data"
    }
   ],
   "source": [
    "plt.hist(a,density=True,bins=30)\n",
    "x=np.linspace(-3,3,100)\n",
    "plt.plot(x,norm.pdf(x,0,1),'r-')\n",
    "plt.xlabel(\"Value\")\n",
    "plt.ylabel(\"Frequency/Probability\")\n",
    "plt.title('Histogram with PDF Overlay')\n",
    "plt.show()"
   ]
  },
  {
   "cell_type": "markdown",
   "id": "6115fbb2-4c17-4907-a485-016b10a8c649",
   "metadata": {},
   "source": [
    "### 16 Set the title of the plot as 'Histogram with PDF Overlay"
   ]
  },
  {
   "cell_type": "code",
   "execution_count": 1158,
   "id": "8f5426aa-dab7-46b5-a7cb-cde49f3a2a3c",
   "metadata": {},
   "outputs": [
    {
     "data": {
      "image/png": "[encoded data removed]",
      "text/plain": [
       "<Figure size 640x480 with 1 Axes>"
      ]
     },
     "metadata": {},
     "output_type": "display_data"
    }
   ],
   "source": [
    "plt.hist(a,density=True,bins=30)\n",
    "x=np.linspace(-3,3,100)\n",
    "plt.plot(x,norm.pdf(x,0,1),'r-')\n",
    "plt.xlabel(\"Value\")\n",
    "plt.ylabel(\"Frequency/Probability\")\n",
    "plt.title('Histogram with PDF Overlay')\n",
    "plt.show()"
   ]
  },
  {
   "cell_type": "markdown",
   "id": "c2c83092-3942-428d-8b3f-3ae84ee24e8f",
   "metadata": {},
   "source": [
    "### 17 Create a Seaborn scatter plot of two random arrays, color points based on their position relative to the origin (quadrants), add a legend, label the axes, and set the title as 'Quadrant-wise Scatter Plot'."
   ]
  },
  {
   "cell_type": "code",
   "execution_count": 1160,
   "id": "c880627f-357c-4402-8aea-b0ae0846da8d",
   "metadata": {},
   "outputs": [
    {
     "data": {
      "image/png": "[encoded data removed]",
      "text/plain": [
       "<Figure size 640x480 with 1 Axes>"
      ]
     },
     "metadata": {},
     "output_type": "display_data"
    }
   ],
   "source": [
    "a=np.random.rand(20)\n",
    "b=np.random.rand(20)\n",
    "q=np.where((a > 0.5) & (b > 0.5), 'Q1',np.where((a > 0.5) & (b <= 0.5), 'Q2',np.where((a <= 0.5) & (b > 0.5), 'Q3', 'Q4')))\n",
    "sns.scatterplot(x=a,y=b,hue=q)\n",
    "plt.legend(title=\"Quadrant\")\n",
    "plt.xlabel(\"X axis\")\n",
    "plt.ylabel(\"Y axis\")\n",
    "plt.title(\"Quadrant wise scatter plot\")\n",
    "plt.show()"
   ]
  },
  {
   "cell_type": "markdown",
   "id": "7306707f-08c7-49fb-b0b1-2c1d2e75cef1",
   "metadata": {},
   "source": [
    "### 18 With Bokeh, plot a line chart of a sine wave function, add grid lines, label the axes, and set the title as 'SineWave Function'"
   ]
  },
  {
   "cell_type": "code",
   "execution_count": 1162,
   "id": "9c6b8d46-ce21-4637-97ff-8c7c202579d1",
   "metadata": {},
   "outputs": [
    {
     "data": {
      "text/html": [
       "    <style>\n",
       "        .bk-notebook-logo {\n",
       "            display: block;\n",
       "            width: 20px;\n",
       "            height: 20px;\n",
       "            background-image: url(data:image/png;base64,iVBORw0KGgoAAAANSUhEUgAAABQAAAAUCAYAAACNiR0NAAAABHNCSVQICAgIfAhkiAAAAAlwSFlzAAALEgAACxIB0t1+/AAAABx0RVh0U29mdHdhcmUAQWRvYmUgRmlyZXdvcmtzIENTNui8sowAAAOkSURBVDiNjZRtaJVlGMd/1/08zzln5zjP1LWcU9N0NkN8m2CYjpgQYQXqSs0I84OLIC0hkEKoPtiH3gmKoiJDU7QpLgoLjLIQCpEsNJ1vqUOdO7ppbuec5+V+rj4ctwzd8IIbbi6u+8f1539dt3A78eXC7QizUF7gyV1fD1Yqg4JWz84yffhm0qkFqBogB9rM8tZdtwVsPUhWhGcFJngGeWrPzHm5oaMmkfEg1usvLFyc8jLRqDOMru7AyC8saQr7GG7f5fvDeH7Ej8CM66nIF+8yngt6HWaKh7k49Soy9nXurCi1o3qUbS3zWfrYeQDTB/Qj6kX6Ybhw4B+bOYoLKCC9H3Nu/leUTZ1JdRWkkn2ldcCamzrcf47KKXdAJllSlxAOkRgyHsGC/zRday5Qld9DyoM4/q/rUoy/CXh3jzOu3bHUVZeU+DEn8FInkPBFlu3+nW3Nw0mk6vCDiWg8CeJaxEwuHS3+z5RgY+YBR6V1Z1nxSOfoaPa4LASWxxdNp+VWTk7+4vzaou8v8PN+xo+KY2xsw6une2frhw05CTYOmQvsEhjhWjn0bmXPjpE1+kplmmkP3suftwTubK9Vq22qKmrBhpY4jvd5afdRA3wGjFAgcnTK2s4hY0/GPNIb0nErGMCRxWOOX64Z8RAC4oCXdklmEvcL8o0BfkNK4lUg9HTl+oPlQxdNo3Mg4Nv175e/1LDGzZen30MEjRUtmXSfiTVu1kK8W4txyV6BMKlbgk3lMwYCiusNy9fVfvvwMxv8Ynl6vxoByANLTWplvuj/nF9m2+PDtt1eiHPBr1oIfhCChQMBw6Aw0UulqTKZdfVvfG7VcfIqLG9bcldL/+pdWTLxLUy8Qq38heUIjh4XlzZxzQm19lLFlr8vdQ97rjZVOLf8nclzckbcD4wxXMidpX30sFd37Fv/GtwwhzhxGVAprjbg0gCAEeIgwCZyTV2Z1REEW8O4py0wsjeloKoMr6iCY6dP92H6Vw/oTyICIthibxjm/DfN9lVz8IqtqKYLUXfoKVMVQVVJOElGjrnnUt9T9wbgp8AyYKaGlqingHZU/uG2NTZSVqwHQTWkx9hxjkpWDaCg6Ckj5qebgBVbT3V3NNXMSiWSDdGV3hrtzla7J+duwPOToIg42ChPQOQjspnSlp1V+Gjdged7+8UN5CRAV7a5EdFNwCjEaBR27b3W890TE7g24NAP/mMDXRWrGoFPQI9ls/MWO2dWFAar/xcOIImbbpA3zgAAAABJRU5ErkJggg==);\n",
       "        }\n",
       "    </style>\n",
       "    <div>\n",
       "        <a href=\"https://bokeh.org\" target=\"_blank\" class=\"bk-notebook-logo\"></a>\n",
       "        <span id=\"b3f1d3a3-3d07-483d-8351-7958119b0ce1\">Loading BokehJS ...</span>\n",
       "    </div>\n"
      ]
     },
     "metadata": {},
     "output_type": "display_data"
    },
    {
     "data": {
      "application/javascript": [
       "'use strict';\n",
       "(function(root) {\n",
       "  function now() {\n",
       "    return new Date();\n",
       "  }\n",
       "\n",
       "  const force = true;\n",
       "\n",
       "  if (typeof root._bokeh_onload_callbacks === \"undefined\" || force === true) {\n",
       "    root._bokeh_onload_callbacks = [];\n",
       "    root._bokeh_is_loading = undefined;\n",
       "  }\n",
       "\n",
       "const JS_MIME_TYPE = 'application/javascript';\n",
       "  const HTML_MIME_TYPE = 'text/html';\n",
       "  const EXEC_MIME_TYPE = 'application/vnd.bokehjs_exec.v0+json';\n",
       "  const CLASS_NAME = 'output_bokeh rendered_html';\n",
       "\n",
       "  /**\n",
       "   * Render data to the DOM node\n",
       "   */\n",
       "  function render(props, node) {\n",
       "    const script = document.createElement(\"script\");\n",
       "    node.appendChild(script);\n",
       "  }\n",
       "\n",
       "  /**\n",
       "   * Handle when an output is cleared or removed\n",
       "   */\n",
       "  function handleClearOutput(event, handle) {\n",
       "    function drop(id) {\n",
       "      const view = Bokeh.index.get_by_id(id)\n",
       "      if (view != null) {\n",
       "        view.model.document.clear()\n",
       "        Bokeh.index.delete(view)\n",
       "      }\n",
       "    }\n",
       "\n",
       "    const cell = handle.cell;\n",
       "\n",
       "    const id = cell.output_area._bokeh_element_id;\n",
       "    const server_id = cell.output_area._bokeh_server_id;\n",
       "\n",
       "    // Clean up Bokeh references\n",
       "    if (id != null) {\n",
       "      drop(id)\n",
       "    }\n",
       "\n",
       "    if (server_id !== undefined) {\n",
       "      // Clean up Bokeh references\n",
       "      const cmd_clean = \"from bokeh.io.state import curstate; print(curstate().uuid_to_server['\" + server_id + \"'].get_sessions()[0].document.roots[0]._id)\";\n",
       "      cell.notebook.kernel.execute(cmd_clean, {\n",
       "        iopub: {\n",
       "          output: function(msg) {\n",
       "            const id = msg.content.text.trim()\n",
       "            drop(id)\n",
       "          }\n",
       "        }\n",
       "      });\n",
       "      // Destroy server and session\n",
       "      const cmd_destroy = \"import bokeh.io.notebook as ion; ion.destroy_server('\" + server_id + \"')\";\n",
       "      cell.notebook.kernel.execute(cmd_destroy);\n",
       "    }\n",
       "  }\n",
       "\n",
       "  /**\n",
       "   * Handle when a new output is added\n",
       "   */\n",
       "  function handleAddOutput(event, handle) {\n",
       "    const output_area = handle.output_area;\n",
       "    const output = handle.output;\n",
       "\n",
       "    // limit handleAddOutput to display_data with EXEC_MIME_TYPE content only\n",
       "    if ((output.output_type != \"display_data\") || (!Object.prototype.hasOwnProperty.call(output.data, EXEC_MIME_TYPE))) {\n",
       "      return\n",
       "    }\n",
       "\n",
       "    const toinsert = output_area.element.find(\".\" + CLASS_NAME.split(' ')[0]);\n",
       "\n",
       "    if (output.metadata[EXEC_MIME_TYPE][\"id\"] !== undefined) {\n",
       "      toinsert[toinsert.length - 1].firstChild.textContent = output.data[JS_MIME_TYPE];\n",
       "      // store reference to embed id on output_area\n",
       "      output_area._bokeh_element_id = output.metadata[EXEC_MIME_TYPE][\"id\"];\n",
       "    }\n",
       "    if (output.metadata[EXEC_MIME_TYPE][\"server_id\"] !== undefined) {\n",
       "      const bk_div = document.createElement(\"div\");\n",
       "      bk_div.innerHTML = output.data[HTML_MIME_TYPE];\n",
       "      const script_attrs = bk_div.children[0].attributes;\n",
       "      for (let i = 0; i < script_attrs.length; i++) {\n",
       "        toinsert[toinsert.length - 1].firstChild.setAttribute(script_attrs[i].name, script_attrs[i].value);\n",
       "        toinsert[toinsert.length - 1].firstChild.textContent = bk_div.children[0].textContent\n",
       "      }\n",
       "      // store reference to server id on output_area\n",
       "      output_area._bokeh_server_id = output.metadata[EXEC_MIME_TYPE][\"server_id\"];\n",
       "    }\n",
       "  }\n",
       "\n",
       "  function register_renderer(events, OutputArea) {\n",
       "\n",
       "    function append_mime(data, metadata, element) {\n",
       "      // create a DOM node to render to\n",
       "      const toinsert = this.create_output_subarea(\n",
       "        metadata,\n",
       "        CLASS_NAME,\n",
       "        EXEC_MIME_TYPE\n",
       "      );\n",
       "      this.keyboard_manager.register_events(toinsert);\n",
       "      // Render to node\n",
       "      const props = {data: data, metadata: metadata[EXEC_MIME_TYPE]};\n",
       "      render(props, toinsert[toinsert.length - 1]);\n",
       "      element.append(toinsert);\n",
       "      return toinsert\n",
       "    }\n",
       "\n",
       "    /* Handle when an output is cleared or removed */\n",
       "    events.on('clear_output.CodeCell', handleClearOutput);\n",
       "    events.on('delete.Cell', handleClearOutput);\n",
       "\n",
       "    /* Handle when a new output is added */\n",
       "    events.on('output_added.OutputArea', handleAddOutput);\n",
       "\n",
       "    /**\n",
       "     * Register the mime type and append_mime function with output_area\n",
       "     */\n",
       "    OutputArea.prototype.register_mime_type(EXEC_MIME_TYPE, append_mime, {\n",
       "      /* Is output safe? */\n",
       "      safe: true,\n",
       "      /* Index of renderer in `output_area.display_order` */\n",
       "      index: 0\n",
       "    });\n",
       "  }\n",
       "\n",
       "  // register the mime type if in Jupyter Notebook environment and previously unregistered\n",
       "  if (root.Jupyter !== undefined) {\n",
       "    const events = require('base/js/events');\n",
       "    const OutputArea = require('notebook/js/outputarea').OutputArea;\n",
       "\n",
       "    if (OutputArea.prototype.mime_types().indexOf(EXEC_MIME_TYPE) == -1) {\n",
       "      register_renderer(events, OutputArea);\n",
       "    }\n",
       "  }\n",
       "  if (typeof (root._bokeh_timeout) === \"undefined\" || force === true) {\n",
       "    root._bokeh_timeout = Date.now() + 5000;\n",
       "    root._bokeh_failed_load = false;\n",
       "  }\n",
       "\n",
       "  const NB_LOAD_WARNING = {'data': {'text/html':\n",
       "     \"<div style='background-color: #fdd'>\\n\"+\n",
       "     \"<p>\\n\"+\n",
       "     \"BokehJS does not appear to have successfully loaded. If loading BokehJS from CDN, this \\n\"+\n",
       "     \"may be due to a slow or bad network connection. Possible fixes:\\n\"+\n",
       "     \"</p>\\n\"+\n",
       "     \"<ul>\\n\"+\n",
       "     \"<li>re-rerun `output_notebook()` to attempt to load from CDN again, or</li>\\n\"+\n",
       "     \"<li>use INLINE resources instead, as so:</li>\\n\"+\n",
       "     \"</ul>\\n\"+\n",
       "     \"<code>\\n\"+\n",
       "     \"from bokeh.resources import INLINE\\n\"+\n",
       "     \"output_notebook(resources=INLINE)\\n\"+\n",
       "     \"</code>\\n\"+\n",
       "     \"</div>\"}};\n",
       "\n",
       "  function display_loaded(error = null) {\n",
       "    const el = document.getElementById(\"b3f1d3a3-3d07-483d-8351-7958119b0ce1\");\n",
       "    if (el != null) {\n",
       "      const html = (() => {\n",
       "        if (typeof root.Bokeh === \"undefined\") {\n",
       "          if (error == null) {\n",
       "            return \"BokehJS is loading ...\";\n",
       "          } else {\n",
       "            return \"BokehJS failed to load.\";\n",
       "          }\n",
       "        } else {\n",
       "          const prefix = `BokehJS ${root.Bokeh.version}`;\n",
       "          if (error == null) {\n",
       "            return `${prefix} successfully loaded.`;\n",
       "          } else {\n",
       "            return `${prefix} <b>encountered errors</b> while loading and may not function as expected.`;\n",
       "          }\n",
       "        }\n",
       "      })();\n",
       "      el.innerHTML = html;\n",
       "\n",
       "      if (error != null) {\n",
       "        const wrapper = document.createElement(\"div\");\n",
       "        wrapper.style.overflow = \"auto\";\n",
       "        wrapper.style.height = \"5em\";\n",
       "        wrapper.style.resize = \"vertical\";\n",
       "        const content = document.createElement(\"div\");\n",
       "        content.style.fontFamily = \"monospace\";\n",
       "        content.style.whiteSpace = \"pre-wrap\";\n",
       "        content.style.backgroundColor = \"rgb(255, 221, 221)\";\n",
       "        content.textContent = error.stack ?? error.toString();\n",
       "        wrapper.append(content);\n",
       "        el.append(wrapper);\n",
       "      }\n",
       "    } else if (Date.now() < root._bokeh_timeout) {\n",
       "      setTimeout(() => display_loaded(error), 100);\n",
       "    }\n",
       "  }\n",
       "\n",
       "  function run_callbacks() {\n",
       "    try {\n",
       "      root._bokeh_onload_callbacks.forEach(function(callback) {\n",
       "        if (callback != null)\n",
       "          callback();\n",
       "      });\n",
       "    } finally {\n",
       "      delete root._bokeh_onload_callbacks\n",
       "    }\n",
       "    console.debug(\"Bokeh: all callbacks have finished\");\n",
       "  }\n",
       "\n",
       "  function load_libs(css_urls, js_urls, callback) {\n",
       "    if (css_urls == null) css_urls = [];\n",
       "    if (js_urls == null) js_urls = [];\n",
       "\n",
       "    root._bokeh_onload_callbacks.push(callback);\n",
       "    if (root._bokeh_is_loading > 0) {\n",
       "      console.debug(\"Bokeh: BokehJS is being loaded, scheduling callback at\", now());\n",
       "      return null;\n",
       "    }\n",
       "    if (js_urls == null || js_urls.length === 0) {\n",
       "      run_callbacks();\n",
       "      return null;\n",
       "    }\n",
       "    console.debug(\"Bokeh: BokehJS not loaded, scheduling load and callback at\", now());\n",
       "    root._bokeh_is_loading = css_urls.length + js_urls.length;\n",
       "\n",
       "    function on_load() {\n",
       "      root._bokeh_is_loading--;\n",
       "      if (root._bokeh_is_loading === 0) {\n",
       "        console.debug(\"Bokeh: all BokehJS libraries/stylesheets loaded\");\n",
       "        run_callbacks()\n",
       "      }\n",
       "    }\n",
       "\n",
       "    function on_error(url) {\n",
       "      console.error(\"failed to load \" + url);\n",
       "    }\n",
       "\n",
       "    for (let i = 0; i < css_urls.length; i++) {\n",
       "      const url = css_urls[i];\n",
       "      const element = document.createElement(\"link\");\n",
       "      element.onload = on_load;\n",
       "      element.onerror = on_error.bind(null, url);\n",
       "      element.rel = \"stylesheet\";\n",
       "      element.type = \"text/css\";\n",
       "      element.href = url;\n",
       "      console.debug(\"Bokeh: injecting link tag for BokehJS stylesheet: \", url);\n",
       "      document.body.appendChild(element);\n",
       "    }\n",
       "\n",
       "    for (let i = 0; i < js_urls.length; i++) {\n",
       "      const url = js_urls[i];\n",
       "      const element = document.createElement('script');\n",
       "      element.onload = on_load;\n",
       "      element.onerror = on_error.bind(null, url);\n",
       "      element.async = false;\n",
       "      element.src = url;\n",
       "      console.debug(\"Bokeh: injecting script tag for BokehJS library: \", url);\n",
       "      document.head.appendChild(element);\n",
       "    }\n",
       "  };\n",
       "\n",
       "  function inject_raw_css(css) {\n",
       "    const element = document.createElement(\"style\");\n",
       "    element.appendChild(document.createTextNode(css));\n",
       "    document.body.appendChild(element);\n",
       "  }\n",
       "\n",
       "  const js_urls = [\"https://cdn.bokeh.org/bokeh/release/bokeh-3.4.1.min.js\", \"https://cdn.bokeh.org/bokeh/release/bokeh-gl-3.4.1.min.js\", \"https://cdn.bokeh.org/bokeh/release/bokeh-widgets-3.4.1.min.js\", \"https://cdn.bokeh.org/bokeh/release/bokeh-tables-3.4.1.min.js\", \"https://cdn.bokeh.org/bokeh/release/bokeh-mathjax-3.4.1.min.js\"];\n",
       "  const css_urls = [];\n",
       "\n",
       "  const inline_js = [    function(Bokeh) {\n",
       "      Bokeh.set_log_level(\"info\");\n",
       "    },\n",
       "function(Bokeh) {\n",
       "    }\n",
       "  ];\n",
       "\n",
       "  function run_inline_js() {\n",
       "    if (root.Bokeh !== undefined || force === true) {\n",
       "      try {\n",
       "            for (let i = 0; i < inline_js.length; i++) {\n",
       "      inline_js[i].call(root, root.Bokeh);\n",
       "    }\n",
       "\n",
       "      } catch (error) {display_loaded(error);throw error;\n",
       "      }if (force === true) {\n",
       "        display_loaded();\n",
       "      }} else if (Date.now() < root._bokeh_timeout) {\n",
       "      setTimeout(run_inline_js, 100);\n",
       "    } else if (!root._bokeh_failed_load) {\n",
       "      console.log(\"Bokeh: BokehJS failed to load within specified timeout.\");\n",
       "      root._bokeh_failed_load = true;\n",
       "    } else if (force !== true) {\n",
       "      const cell = $(document.getElementById(\"b3f1d3a3-3d07-483d-8351-7958119b0ce1\")).parents('.cell').data().cell;\n",
       "      cell.output_area.append_execute_result(NB_LOAD_WARNING)\n",
       "    }\n",
       "  }\n",
       "\n",
       "  if (root._bokeh_is_loading === 0) {\n",
       "    console.debug(\"Bokeh: BokehJS loaded, going straight to plotting\");\n",
       "    run_inline_js();\n",
       "  } else {\n",
       "    load_libs(css_urls, js_urls, function() {\n",
       "      console.debug(\"Bokeh: BokehJS plotting callback run at\", now());\n",
       "      run_inline_js();\n",
       "    });\n",
       "  }\n",
       "}(window));"
      ],
      "application/vnd.bokehjs_load.v0+json": "'use strict';\n(function(root) {\n  function now() {\n    return new Date();\n  }\n\n  const force = true;\n\n  if (typeof root._bokeh_onload_callbacks === \"undefined\" || force === true) {\n    root._bokeh_onload_callbacks = [];\n    root._bokeh_is_loading = undefined;\n  }\n\n\n  if (typeof (root._bokeh_timeout) === \"undefined\" || force === true) {\n    root._bokeh_timeout = Date.now() + 5000;\n    root._bokeh_failed_load = false;\n  }\n\n  const NB_LOAD_WARNING = {'data': {'text/html':\n     \"<div style='background-color: #fdd'>\\n\"+\n     \"<p>\\n\"+\n     \"BokehJS does not appear to have successfully loaded. If loading BokehJS from CDN, this \\n\"+\n     \"may be due to a slow or bad network connection. Possible fixes:\\n\"+\n     \"</p>\\n\"+\n     \"<ul>\\n\"+\n     \"<li>re-rerun `output_notebook()` to attempt to load from CDN again, or</li>\\n\"+\n     \"<li>use INLINE resources instead, as so:</li>\\n\"+\n     \"</ul>\\n\"+\n     \"<code>\\n\"+\n     \"from bokeh.resources import INLINE\\n\"+\n     \"output_notebook(resources=INLINE)\\n\"+\n     \"</code>\\n\"+\n     \"</div>\"}};\n\n  function display_loaded(error = null) {\n    const el = document.getElementById(\"b3f1d3a3-3d07-483d-8351-7958119b0ce1\");\n    if (el != null) {\n      const html = (() => {\n        if (typeof root.Bokeh === \"undefined\") {\n          if (error == null) {\n            return \"BokehJS is loading ...\";\n          } else {\n            return \"BokehJS failed to load.\";\n          }\n        } else {\n          const prefix = `BokehJS ${root.Bokeh.version}`;\n          if (error == null) {\n            return `${prefix} successfully loaded.`;\n          } else {\n            return `${prefix} <b>encountered errors</b> while loading and may not function as expected.`;\n          }\n        }\n      })();\n      el.innerHTML = html;\n\n      if (error != null) {\n        const wrapper = document.createElement(\"div\");\n        wrapper.style.overflow = \"auto\";\n        wrapper.style.height = \"5em\";\n        wrapper.style.resize = \"vertical\";\n        const content = document.createElement(\"div\");\n        content.style.fontFamily = \"monospace\";\n        content.style.whiteSpace = \"pre-wrap\";\n        content.style.backgroundColor = \"rgb(255, 221, 221)\";\n        content.textContent = error.stack ?? error.toString();\n        wrapper.append(content);\n        el.append(wrapper);\n      }\n    } else if (Date.now() < root._bokeh_timeout) {\n      setTimeout(() => display_loaded(error), 100);\n    }\n  }\n\n  function run_callbacks() {\n    try {\n      root._bokeh_onload_callbacks.forEach(function(callback) {\n        if (callback != null)\n          callback();\n      });\n    } finally {\n      delete root._bokeh_onload_callbacks\n    }\n    console.debug(\"Bokeh: all callbacks have finished\");\n  }\n\n  function load_libs(css_urls, js_urls, callback) {\n    if (css_urls == null) css_urls = [];\n    if (js_urls == null) js_urls = [];\n\n    root._bokeh_onload_callbacks.push(callback);\n    if (root._bokeh_is_loading > 0) {\n      console.debug(\"Bokeh: BokehJS is being loaded, scheduling callback at\", now());\n      return null;\n    }\n    if (js_urls == null || js_urls.length === 0) {\n      run_callbacks();\n      return null;\n    }\n    console.debug(\"Bokeh: BokehJS not loaded, scheduling load and callback at\", now());\n    root._bokeh_is_loading = css_urls.length + js_urls.length;\n\n    function on_load() {\n      root._bokeh_is_loading--;\n      if (root._bokeh_is_loading === 0) {\n        console.debug(\"Bokeh: all BokehJS libraries/stylesheets loaded\");\n        run_callbacks()\n      }\n    }\n\n    function on_error(url) {\n      console.error(\"failed to load \" + url);\n    }\n\n    for (let i = 0; i < css_urls.length; i++) {\n      const url = css_urls[i];\n      const element = document.createElement(\"link\");\n      element.onload = on_load;\n      element.onerror = on_error.bind(null, url);\n      element.rel = \"stylesheet\";\n      element.type = \"text/css\";\n      element.href = url;\n      console.debug(\"Bokeh: injecting link tag for BokehJS stylesheet: \", url);\n      document.body.appendChild(element);\n    }\n\n    for (let i = 0; i < js_urls.length; i++) {\n      const url = js_urls[i];\n      const element = document.createElement('script');\n      element.onload = on_load;\n      element.onerror = on_error.bind(null, url);\n      element.async = false;\n      element.src = url;\n      console.debug(\"Bokeh: injecting script tag for BokehJS library: \", url);\n      document.head.appendChild(element);\n    }\n  };\n\n  function inject_raw_css(css) {\n    const element = document.createElement(\"style\");\n    element.appendChild(document.createTextNode(css));\n    document.body.appendChild(element);\n  }\n\n  const js_urls = [\"https://cdn.bokeh.org/bokeh/release/bokeh-3.4.1.min.js\", \"https://cdn.bokeh.org/bokeh/release/bokeh-gl-3.4.1.min.js\", \"https://cdn.bokeh.org/bokeh/release/bokeh-widgets-3.4.1.min.js\", \"https://cdn.bokeh.org/bokeh/release/bokeh-tables-3.4.1.min.js\", \"https://cdn.bokeh.org/bokeh/release/bokeh-mathjax-3.4.1.min.js\"];\n  const css_urls = [];\n\n  const inline_js = [    function(Bokeh) {\n      Bokeh.set_log_level(\"info\");\n    },\nfunction(Bokeh) {\n    }\n  ];\n\n  function run_inline_js() {\n    if (root.Bokeh !== undefined || force === true) {\n      try {\n            for (let i = 0; i < inline_js.length; i++) {\n      inline_js[i].call(root, root.Bokeh);\n    }\n\n      } catch (error) {display_loaded(error);throw error;\n      }if (force === true) {\n        display_loaded();\n      }} else if (Date.now() < root._bokeh_timeout) {\n      setTimeout(run_inline_js, 100);\n    } else if (!root._bokeh_failed_load) {\n      console.log(\"Bokeh: BokehJS failed to load within specified timeout.\");\n      root._bokeh_failed_load = true;\n    } else if (force !== true) {\n      const cell = $(document.getElementById(\"b3f1d3a3-3d07-483d-8351-7958119b0ce1\")).parents('.cell').data().cell;\n      cell.output_area.append_execute_result(NB_LOAD_WARNING)\n    }\n  }\n\n  if (root._bokeh_is_loading === 0) {\n    console.debug(\"Bokeh: BokehJS loaded, going straight to plotting\");\n    run_inline_js();\n  } else {\n    load_libs(css_urls, js_urls, function() {\n      console.debug(\"Bokeh: BokehJS plotting callback run at\", now());\n      run_inline_js();\n    });\n  }\n}(window));"
     },
     "metadata": {},
     "output_type": "display_data"
    }
   ],
   "source": [
    "import bokeh.io\n",
    "import bokeh.plotting \n",
    "bokeh.io.output_notebook()\n",
    "from bokeh.plotting import figure, output_file, show\n",
    "from bokeh.models import HoverTool"
   ]
  },
  {
   "cell_type": "code",
   "execution_count": 1164,
   "id": "e38390d8-30b5-4dd2-9241-cf4808b5368b",
   "metadata": {},
   "outputs": [
    {
     "data": {
      "text/html": [
       "\n",
       "  <div id=\"a13a798c-de73-44e2-b2b0-34141fc885f6\" data-root-id=\"p2232\" style=\"display: contents;\"></div>\n"
      ]
     },
     "metadata": {},
     "output_type": "display_data"
    },
    {
     "data": {
      "application/javascript": [
       "(function(root) {\n",
       "  function embed_document(root) {\n",
       "  const docs_json = {\"c8947e56-a814-47a3-8bb6-0c333d77b9b5\":{\"version\":\"3.4.1\",\"title\":\"Bokeh Application\",\"roots\":[{\"type\":\"object\",\"name\":\"Figure\",\"id\":\"p2232\",\"attributes\":{\"x_range\":{\"type\":\"object\",\"name\":\"DataRange1d\",\"id\":\"p2233\"},\"y_range\":{\"type\":\"object\",\"name\":\"DataRange1d\",\"id\":\"p2234\"},\"x_scale\":{\"type\":\"object\",\"name\":\"LinearScale\",\"id\":\"p2242\"},\"y_scale\":{\"type\":\"object\",\"name\":\"LinearScale\",\"id\":\"p2243\"},\"title\":{\"type\":\"object\",\"name\":\"Title\",\"id\":\"p2235\",\"attributes\":{\"text\":\"Sinwave function\"}},\"renderers\":[{\"type\":\"object\",\"name\":\"GlyphRenderer\",\"id\":\"p2271\",\"attributes\":{\"data_source\":{\"type\":\"object\",\"name\":\"ColumnDataSource\",\"id\":\"p2265\",\"attributes\":{\"selected\":{\"type\":\"object\",\"name\":\"Selection\",\"id\":\"p2266\",\"attributes\":{\"indices\":[],\"line_indices\":[]}},\"selection_policy\":{\"type\":\"object\",\"name\":\"UnionRenderers\",\"id\":\"p2267\"},\"data\":{\"type\":\"map\",\"entries\":[[\"x\",{\"type\":\"ndarray\",\"array\":{\"type\":\"bytes\",\"data\":\"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\"},\"shape\":[1000],\"dtype\":\"float64\",\"order\":\"little\"}],[\"y\",{\"type\":\"ndarray\",\"array\":{\"type\":\"bytes\",\"data\":\"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\"},\"shape\":[1000],\"dtype\":\"float64\",\"order\":\"little\"}]]}}},\"view\":{\"type\":\"object\",\"name\":\"CDSView\",\"id\":\"p2272\",\"attributes\":{\"filter\":{\"type\":\"object\",\"name\":\"AllIndices\",\"id\":\"p2273\"}}},\"glyph\":{\"type\":\"object\",\"name\":\"Line\",\"id\":\"p2268\",\"attributes\":{\"x\":{\"type\":\"field\",\"field\":\"x\"},\"y\":{\"type\":\"field\",\"field\":\"y\"},\"line_color\":\"#1f77b4\",\"line_width\":2}},\"nonselection_glyph\":{\"type\":\"object\",\"name\":\"Line\",\"id\":\"p2269\",\"attributes\":{\"x\":{\"type\":\"field\",\"field\":\"x\"},\"y\":{\"type\":\"field\",\"field\":\"y\"},\"line_color\":\"#1f77b4\",\"line_alpha\":0.1,\"line_width\":2}},\"muted_glyph\":{\"type\":\"object\",\"name\":\"Line\",\"id\":\"p2270\",\"attributes\":{\"x\":{\"type\":\"field\",\"field\":\"x\"},\"y\":{\"type\":\"field\",\"field\":\"y\"},\"line_color\":\"#1f77b4\",\"line_alpha\":0.2,\"line_width\":2}}}}],\"toolbar\":{\"type\":\"object\",\"name\":\"Toolbar\",\"id\":\"p2241\",\"attributes\":{\"tools\":[{\"type\":\"object\",\"name\":\"PanTool\",\"id\":\"p2254\"},{\"type\":\"object\",\"name\":\"WheelZoomTool\",\"id\":\"p2255\",\"attributes\":{\"renderers\":\"auto\"}},{\"type\":\"object\",\"name\":\"BoxZoomTool\",\"id\":\"p2256\",\"attributes\":{\"overlay\":{\"type\":\"object\",\"name\":\"BoxAnnotation\",\"id\":\"p2257\",\"attributes\":{\"syncable\":false,\"level\":\"overlay\",\"visible\":false,\"left\":{\"type\":\"number\",\"value\":\"nan\"},\"right\":{\"type\":\"number\",\"value\":\"nan\"},\"top\":{\"type\":\"number\",\"value\":\"nan\"},\"bottom\":{\"type\":\"number\",\"value\":\"nan\"},\"left_units\":\"canvas\",\"right_units\":\"canvas\",\"top_units\":\"canvas\",\"bottom_units\":\"canvas\",\"line_color\":\"black\",\"line_alpha\":1.0,\"line_width\":2,\"line_dash\":[4,4],\"fill_color\":\"lightgrey\",\"fill_alpha\":0.5}}}},{\"type\":\"object\",\"name\":\"SaveTool\",\"id\":\"p2262\"},{\"type\":\"object\",\"name\":\"ResetTool\",\"id\":\"p2263\"},{\"type\":\"object\",\"name\":\"HelpTool\",\"id\":\"p2264\"}]}},\"left\":[{\"type\":\"object\",\"name\":\"LinearAxis\",\"id\":\"p2249\",\"attributes\":{\"ticker\":{\"type\":\"object\",\"name\":\"BasicTicker\",\"id\":\"p2250\",\"attributes\":{\"mantissas\":[1,2,5]}},\"formatter\":{\"type\":\"object\",\"name\":\"BasicTickFormatter\",\"id\":\"p2251\"},\"axis_label\":\"Y axis\",\"major_label_policy\":{\"type\":\"object\",\"name\":\"AllLabels\",\"id\":\"p2252\"}}}],\"below\":[{\"type\":\"object\",\"name\":\"LinearAxis\",\"id\":\"p2244\",\"attributes\":{\"ticker\":{\"type\":\"object\",\"name\":\"BasicTicker\",\"id\":\"p2245\",\"attributes\":{\"mantissas\":[1,2,5]}},\"formatter\":{\"type\":\"object\",\"name\":\"BasicTickFormatter\",\"id\":\"p2246\"},\"axis_label\":\"X axis\",\"major_label_policy\":{\"type\":\"object\",\"name\":\"AllLabels\",\"id\":\"p2247\"}}}],\"center\":[{\"type\":\"object\",\"name\":\"Grid\",\"id\":\"p2248\",\"attributes\":{\"axis\":{\"id\":\"p2244\"}}},{\"type\":\"object\",\"name\":\"Grid\",\"id\":\"p2253\",\"attributes\":{\"dimension\":1,\"axis\":{\"id\":\"p2249\"}}}]}}]}};\n",
       "  const render_items = [{\"docid\":\"c8947e56-a814-47a3-8bb6-0c333d77b9b5\",\"roots\":{\"p2232\":\"a13a798c-de73-44e2-b2b0-34141fc885f6\"},\"root_ids\":[\"p2232\"]}];\n",
       "  void root.Bokeh.embed.embed_items_notebook(docs_json, render_items);\n",
       "  }\n",
       "  if (root.Bokeh !== undefined) {\n",
       "    embed_document(root);\n",
       "  } else {\n",
       "    let attempts = 0;\n",
       "    const timer = setInterval(function(root) {\n",
       "      if (root.Bokeh !== undefined) {\n",
       "        clearInterval(timer);\n",
       "        embed_document(root);\n",
       "      } else {\n",
       "        attempts++;\n",
       "        if (attempts > 100) {\n",
       "          clearInterval(timer);\n",
       "          console.log(\"Bokeh: ERROR: Unable to run BokehJS code because BokehJS library is missing\");\n",
       "        }\n",
       "      }\n",
       "    }, 10, root)\n",
       "  }\n",
       "})(window);"
      ],
      "application/vnd.bokehjs_exec.v0+json": ""
     },
     "metadata": {
      "application/vnd.bokehjs_exec.v0+json": {
       "id": "p2232"
      }
     },
     "output_type": "display_data"
    }
   ],
   "source": [
    "\n",
    "x = np.linspace(0, 16, 1000)\n",
    "y = np.sin(x)\n",
    "\n",
    "# Create the plot\n",
    "n = figure(title=\"Sinwave function\", x_axis_label='X axis', y_axis_label='Y axis')\n",
    "n.line(x=x, y=y, line_width=2)\n",
    "\n",
    "\n",
    "show(n)"
   ]
  },
  {
   "cell_type": "markdown",
   "id": "3f7f4219-ac5a-4b9f-a14f-416ab817980e",
   "metadata": {},
   "source": [
    "### 19 Using Bokeh, generate a bar chart of randomly generated categorical data, color bars based on their values, add hover tooltips to display exact values, label the axes, and set the title as 'Random Categorical Bar Chart"
   ]
  },
  {
   "cell_type": "code",
   "execution_count": 1183,
   "id": "4dc273af-3621-4636-b710-e38efde645fb",
   "metadata": {},
   "outputs": [
    {
     "data": {
      "text/html": [
       "\n",
       "  <div id=\"e2fb636d-f2c0-43a6-9ac8-1a1098966839\" data-root-id=\"p2320\" style=\"display: contents;\"></div>\n"
      ]
     },
     "metadata": {},
     "output_type": "display_data"
    },
    {
     "data": {
      "application/javascript": [
       "(function(root) {\n",
       "  function embed_document(root) {\n",
       "  const docs_json = {\"6866769e-0cfe-4592-80e3-bef80c35ff6c\":{\"version\":\"3.4.1\",\"title\":\"Bokeh Application\",\"roots\":[{\"type\":\"object\",\"name\":\"Figure\",\"id\":\"p2320\",\"attributes\":{\"x_range\":{\"type\":\"object\",\"name\":\"FactorRange\",\"id\":\"p2330\",\"attributes\":{\"factors\":[\"A\",\"B\",\"C\",\"D\",\"E\"]}},\"y_range\":{\"type\":\"object\",\"name\":\"DataRange1d\",\"id\":\"p2322\"},\"x_scale\":{\"type\":\"object\",\"name\":\"CategoricalScale\",\"id\":\"p2331\"},\"y_scale\":{\"type\":\"object\",\"name\":\"LinearScale\",\"id\":\"p2332\"},\"title\":{\"type\":\"object\",\"name\":\"Title\",\"id\":\"p2323\",\"attributes\":{\"text\":\"Random Categorical Bar Chart\"}},\"renderers\":[{\"type\":\"object\",\"name\":\"GlyphRenderer\",\"id\":\"p2360\",\"attributes\":{\"data_source\":{\"type\":\"object\",\"name\":\"ColumnDataSource\",\"id\":\"p2354\",\"attributes\":{\"selected\":{\"type\":\"object\",\"name\":\"Selection\",\"id\":\"p2355\",\"attributes\":{\"indices\":[],\"line_indices\":[]}},\"selection_policy\":{\"type\":\"object\",\"name\":\"UnionRenderers\",\"id\":\"p2356\"},\"data\":{\"type\":\"map\",\"entries\":[[\"x\",[\"A\",\"B\",\"C\",\"D\",\"E\"]],[\"top\",[74,88,90,26,38]]]}}},\"view\":{\"type\":\"object\",\"name\":\"CDSView\",\"id\":\"p2361\",\"attributes\":{\"filter\":{\"type\":\"object\",\"name\":\"AllIndices\",\"id\":\"p2362\"}}},\"glyph\":{\"type\":\"object\",\"name\":\"VBar\",\"id\":\"p2357\",\"attributes\":{\"x\":{\"type\":\"field\",\"field\":\"x\"},\"width\":{\"type\":\"value\",\"value\":0.9},\"top\":{\"type\":\"field\",\"field\":\"top\"},\"line_color\":{\"type\":\"value\",\"value\":\"#1f77b4\"},\"fill_color\":{\"type\":\"value\",\"value\":\"#1f77b4\"}}},\"nonselection_glyph\":{\"type\":\"object\",\"name\":\"VBar\",\"id\":\"p2358\",\"attributes\":{\"x\":{\"type\":\"field\",\"field\":\"x\"},\"width\":{\"type\":\"value\",\"value\":0.9},\"top\":{\"type\":\"field\",\"field\":\"top\"},\"line_color\":{\"type\":\"value\",\"value\":\"#1f77b4\"},\"line_alpha\":{\"type\":\"value\",\"value\":0.1},\"fill_color\":{\"type\":\"value\",\"value\":\"#1f77b4\"},\"fill_alpha\":{\"type\":\"value\",\"value\":0.1},\"hatch_alpha\":{\"type\":\"value\",\"value\":0.1}}},\"muted_glyph\":{\"type\":\"object\",\"name\":\"VBar\",\"id\":\"p2359\",\"attributes\":{\"x\":{\"type\":\"field\",\"field\":\"x\"},\"width\":{\"type\":\"value\",\"value\":0.9},\"top\":{\"type\":\"field\",\"field\":\"top\"},\"line_color\":{\"type\":\"value\",\"value\":\"#1f77b4\"},\"line_alpha\":{\"type\":\"value\",\"value\":0.2},\"fill_color\":{\"type\":\"value\",\"value\":\"#1f77b4\"},\"fill_alpha\":{\"type\":\"value\",\"value\":0.2},\"hatch_alpha\":{\"type\":\"value\",\"value\":0.2}}}}}],\"toolbar\":{\"type\":\"object\",\"name\":\"Toolbar\",\"id\":\"p2329\",\"attributes\":{\"tools\":[{\"type\":\"object\",\"name\":\"PanTool\",\"id\":\"p2343\"},{\"type\":\"object\",\"name\":\"WheelZoomTool\",\"id\":\"p2344\",\"attributes\":{\"renderers\":\"auto\"}},{\"type\":\"object\",\"name\":\"BoxZoomTool\",\"id\":\"p2345\",\"attributes\":{\"overlay\":{\"type\":\"object\",\"name\":\"BoxAnnotation\",\"id\":\"p2346\",\"attributes\":{\"syncable\":false,\"level\":\"overlay\",\"visible\":false,\"left\":{\"type\":\"number\",\"value\":\"nan\"},\"right\":{\"type\":\"number\",\"value\":\"nan\"},\"top\":{\"type\":\"number\",\"value\":\"nan\"},\"bottom\":{\"type\":\"number\",\"value\":\"nan\"},\"left_units\":\"canvas\",\"right_units\":\"canvas\",\"top_units\":\"canvas\",\"bottom_units\":\"canvas\",\"line_color\":\"black\",\"line_alpha\":1.0,\"line_width\":2,\"line_dash\":[4,4],\"fill_color\":\"lightgrey\",\"fill_alpha\":0.5}}}},{\"type\":\"object\",\"name\":\"SaveTool\",\"id\":\"p2351\"},{\"type\":\"object\",\"name\":\"ResetTool\",\"id\":\"p2352\"},{\"type\":\"object\",\"name\":\"HelpTool\",\"id\":\"p2353\"},{\"type\":\"object\",\"name\":\"HoverTool\",\"id\":\"p2363\",\"attributes\":{\"renderers\":\"auto\",\"tooltips\":[[\"Category\",\"@x\"],[\"Value\",\"@y\"]]}}]}},\"left\":[{\"type\":\"object\",\"name\":\"LinearAxis\",\"id\":\"p2338\",\"attributes\":{\"ticker\":{\"type\":\"object\",\"name\":\"BasicTicker\",\"id\":\"p2339\",\"attributes\":{\"mantissas\":[1,2,5]}},\"formatter\":{\"type\":\"object\",\"name\":\"BasicTickFormatter\",\"id\":\"p2340\"},\"axis_label\":\"Values\",\"major_label_policy\":{\"type\":\"object\",\"name\":\"AllLabels\",\"id\":\"p2341\"}}}],\"below\":[{\"type\":\"object\",\"name\":\"CategoricalAxis\",\"id\":\"p2333\",\"attributes\":{\"ticker\":{\"type\":\"object\",\"name\":\"CategoricalTicker\",\"id\":\"p2334\"},\"formatter\":{\"type\":\"object\",\"name\":\"CategoricalTickFormatter\",\"id\":\"p2335\"},\"axis_label\":\"Categories\",\"major_label_policy\":{\"type\":\"object\",\"name\":\"AllLabels\",\"id\":\"p2336\"}}}],\"center\":[{\"type\":\"object\",\"name\":\"Grid\",\"id\":\"p2337\",\"attributes\":{\"axis\":{\"id\":\"p2333\"}}},{\"type\":\"object\",\"name\":\"Grid\",\"id\":\"p2342\",\"attributes\":{\"dimension\":1,\"axis\":{\"id\":\"p2338\"}}}]}}]}};\n",
       "  const render_items = [{\"docid\":\"6866769e-0cfe-4592-80e3-bef80c35ff6c\",\"roots\":{\"p2320\":\"e2fb636d-f2c0-43a6-9ac8-1a1098966839\"},\"root_ids\":[\"p2320\"]}];\n",
       "  void root.Bokeh.embed.embed_items_notebook(docs_json, render_items);\n",
       "  }\n",
       "  if (root.Bokeh !== undefined) {\n",
       "    embed_document(root);\n",
       "  } else {\n",
       "    let attempts = 0;\n",
       "    const timer = setInterval(function(root) {\n",
       "      if (root.Bokeh !== undefined) {\n",
       "        clearInterval(timer);\n",
       "        embed_document(root);\n",
       "      } else {\n",
       "        attempts++;\n",
       "        if (attempts > 100) {\n",
       "          clearInterval(timer);\n",
       "          console.log(\"Bokeh: ERROR: Unable to run BokehJS code because BokehJS library is missing\");\n",
       "        }\n",
       "      }\n",
       "    }, 10, root)\n",
       "  }\n",
       "})(window);"
      ],
      "application/vnd.bokehjs_exec.v0+json": ""
     },
     "metadata": {
      "application/vnd.bokehjs_exec.v0+json": {
       "id": "p2320"
      }
     },
     "output_type": "display_data"
    }
   ],
   "source": [
    "categories = ['A', 'B', 'C', 'D', 'E']\n",
    "values = [random.randint(1, 100) for _ in categories]\n",
    "p = figure(x_range=categories, title='Random Categorical Bar Chart',x_axis_label='Categories', y_axis_label='Values')\n",
    "p.vbar(x=categories, top=values, width=0.9)\n",
    "p.add_tools(HoverTool(tooltips=[(\"Category\", \"@x\"), (\"Value\", \"@y\")]))\n",
    "\n",
    "show(p)"
   ]
  },
  {
   "cell_type": "markdown",
   "id": "f64911db-f91a-4d93-b191-b372e171511f",
   "metadata": {},
   "source": [
    "### 20 Using Plotly, create a basic line plot of a randomly generated dataset, label the axes, and set the title as 'Simple Line Plot"
   ]
  },
  {
   "cell_type": "code",
   "execution_count": 1195,
   "id": "49977429-32c8-49ac-99cd-7f4507812272",
   "metadata": {},
   "outputs": [],
   "source": [
    "import plotly.graph_objects as go\n",
    "import plotly.express as px\n",
    "import plotly.io as pio"
   ]
  },
  {
   "cell_type": "code",
   "execution_count": 1170,
   "id": "87991291-364a-4e50-b9f1-60975a9e14c4",
   "metadata": {},
   "outputs": [],
   "source": [
    "ran=np.random.randint(1,100,10)\n",
    "ran1=np.random.randint(1,100,10)"
   ]
  },
  {
   "cell_type": "code",
   "execution_count": 1203,
   "id": "4ea04065-5d22-4c13-b794-2f134ac15f1a",
   "metadata": {},
   "outputs": [
    {
     "data": {
      "application/vnd.plotly.v1+json": {
       "config": {
        "plotlyServerURL": "https://plot.ly"
       },
       "data": [
        {
         "hovertemplate": "x=%{x}<br>index=%{y}<extra></extra>",
         "legendgroup": "",
         "line": {
          "color": "#636efa",
          "dash": "solid"
         },
         "marker": {
          "symbol": "circle"
         },
         "mode": "lines",
         "name": "",
         "orientation": "h",
         "showlegend": false,
         "type": "scatter",
         "x": [
          85,
          99,
          17,
          46,
          40,
          34,
          98,
          66,
          74,
          88
         ],
         "xaxis": "x",
         "y": [
          0,
          1,
          2,
          3,
          4,
          5,
          6,
          7,
          8,
          9
         ],
         "yaxis": "y"
        }
       ],
       "layout": {
        "height": 700,
        "legend": {
         "tracegroupgap": 0
        },
        "template": {
         "data": {
          "bar": [
           {
            "error_x": {
             "color": "#2a3f5f"
            },
            "error_y": {
             "color": "#2a3f5f"
            },
            "marker": {
             "line": {
              "color": "#E5ECF6",
              "width": 0.5
             },
             "pattern": {
              "fillmode": "overlay",
              "size": 10,
              "solidity": 0.2
             }
            },
            "type": "bar"
           }
          ],
          "barpolar": [
           {
            "marker": {
             "line": {
              "color": "#E5ECF6",
              "width": 0.5
             },
             "pattern": {
              "fillmode": "overlay",
              "size": 10,
              "solidity": 0.2
             }
            },
            "type": "barpolar"
           }
          ],
          "carpet": [
           {
            "aaxis": {
             "endlinecolor": "#2a3f5f",
             "gridcolor": "white",
             "linecolor": "white",
             "minorgridcolor": "white",
             "startlinecolor": "#2a3f5f"
            },
            "baxis": {
             "endlinecolor": "#2a3f5f",
             "gridcolor": "white",
             "linecolor": "white",
             "minorgridcolor": "white",
             "startlinecolor": "#2a3f5f"
            },
            "type": "carpet"
           }
          ],
          "choropleth": [
           {
            "colorbar": {
             "outlinewidth": 0,
             "ticks": ""
            },
            "type": "choropleth"
           }
          ],
          "contour": [
           {
            "colorbar": {
             "outlinewidth": 0,
             "ticks": ""
            },
            "colorscale": [
             [
              0,
              "#0d0887"
             ],
             [
              0.1111111111111111,
              "#46039f"
             ],
             [
              0.2222222222222222,
              "#7201a8"
             ],
             [
              0.3333333333333333,
              "#9c179e"
             ],
             [
              0.4444444444444444,
              "#bd3786"
             ],
             [
              0.5555555555555556,
              "#d8576b"
             ],
             [
              0.6666666666666666,
              "#ed7953"
             ],
             [
              0.7777777777777778,
              "#fb9f3a"
             ],
             [
              0.8888888888888888,
              "#fdca26"
             ],
             [
              1,
              "#f0f921"
             ]
            ],
            "type": "contour"
           }
          ],
          "contourcarpet": [
           {
            "colorbar": {
             "outlinewidth": 0,
             "ticks": ""
            },
            "type": "contourcarpet"
           }
          ],
          "heatmap": [
           {
            "colorbar": {
             "outlinewidth": 0,
             "ticks": ""
            },
            "colorscale": [
             [
              0,
              "#0d0887"
             ],
             [
              0.1111111111111111,
              "#46039f"
             ],
             [
              0.2222222222222222,
              "#7201a8"
             ],
             [
              0.3333333333333333,
              "#9c179e"
             ],
             [
              0.4444444444444444,
              "#bd3786"
             ],
             [
              0.5555555555555556,
              "#d8576b"
             ],
             [
              0.6666666666666666,
              "#ed7953"
             ],
             [
              0.7777777777777778,
              "#fb9f3a"
             ],
             [
              0.8888888888888888,
              "#fdca26"
             ],
             [
              1,
              "#f0f921"
             ]
            ],
            "type": "heatmap"
           }
          ],
          "heatmapgl": [
           {
            "colorbar": {
             "outlinewidth": 0,
             "ticks": ""
            },
            "colorscale": [
             [
              0,
              "#0d0887"
             ],
             [
              0.1111111111111111,
              "#46039f"
             ],
             [
              0.2222222222222222,
              "#7201a8"
             ],
             [
              0.3333333333333333,
              "#9c179e"
             ],
             [
              0.4444444444444444,
              "#bd3786"
             ],
             [
              0.5555555555555556,
              "#d8576b"
             ],
             [
              0.6666666666666666,
              "#ed7953"
             ],
             [
              0.7777777777777778,
              "#fb9f3a"
             ],
             [
              0.8888888888888888,
              "#fdca26"
             ],
             [
              1,
              "#f0f921"
             ]
            ],
            "type": "heatmapgl"
           }
          ],
          "histogram": [
           {
            "marker": {
             "pattern": {
              "fillmode": "overlay",
              "size": 10,
              "solidity": 0.2
             }
            },
            "type": "histogram"
           }
          ],
          "histogram2d": [
           {
            "colorbar": {
             "outlinewidth": 0,
             "ticks": ""
            },
            "colorscale": [
             [
              0,
              "#0d0887"
             ],
             [
              0.1111111111111111,
              "#46039f"
             ],
             [
              0.2222222222222222,
              "#7201a8"
             ],
             [
              0.3333333333333333,
              "#9c179e"
             ],
             [
              0.4444444444444444,
              "#bd3786"
             ],
             [
              0.5555555555555556,
              "#d8576b"
             ],
             [
              0.6666666666666666,
              "#ed7953"
             ],
             [
              0.7777777777777778,
              "#fb9f3a"
             ],
             [
              0.8888888888888888,
              "#fdca26"
             ],
             [
              1,
              "#f0f921"
             ]
            ],
            "type": "histogram2d"
           }
          ],
          "histogram2dcontour": [
           {
            "colorbar": {
             "outlinewidth": 0,
             "ticks": ""
            },
            "colorscale": [
             [
              0,
              "#0d0887"
             ],
             [
              0.1111111111111111,
              "#46039f"
             ],
             [
              0.2222222222222222,
              "#7201a8"
             ],
             [
              0.3333333333333333,
              "#9c179e"
             ],
             [
              0.4444444444444444,
              "#bd3786"
             ],
             [
              0.5555555555555556,
              "#d8576b"
             ],
             [
              0.6666666666666666,
              "#ed7953"
             ],
             [
              0.7777777777777778,
              "#fb9f3a"
             ],
             [
              0.8888888888888888,
              "#fdca26"
             ],
             [
              1,
              "#f0f921"
             ]
            ],
            "type": "histogram2dcontour"
           }
          ],
          "mesh3d": [
           {
            "colorbar": {
             "outlinewidth": 0,
             "ticks": ""
            },
            "type": "mesh3d"
           }
          ],
          "parcoords": [
           {
            "line": {
             "colorbar": {
              "outlinewidth": 0,
              "ticks": ""
             }
            },
            "type": "parcoords"
           }
          ],
          "pie": [
           {
            "automargin": true,
            "type": "pie"
           }
          ],
          "scatter": [
           {
            "fillpattern": {
             "fillmode": "overlay",
             "size": 10,
             "solidity": 0.2
            },
            "type": "scatter"
           }
          ],
          "scatter3d": [
           {
            "line": {
             "colorbar": {
              "outlinewidth": 0,
              "ticks": ""
             }
            },
            "marker": {
             "colorbar": {
              "outlinewidth": 0,
              "ticks": ""
             }
            },
            "type": "scatter3d"
           }
          ],
          "scattercarpet": [
           {
            "marker": {
             "colorbar": {
              "outlinewidth": 0,
              "ticks": ""
             }
            },
            "type": "scattercarpet"
           }
          ],
          "scattergeo": [
           {
            "marker": {
             "colorbar": {
              "outlinewidth": 0,
              "ticks": ""
             }
            },
            "type": "scattergeo"
           }
          ],
          "scattergl": [
           {
            "marker": {
             "colorbar": {
              "outlinewidth": 0,
              "ticks": ""
             }
            },
            "type": "scattergl"
           }
          ],
          "scattermapbox": [
           {
            "marker": {
             "colorbar": {
              "outlinewidth": 0,
              "ticks": ""
             }
            },
            "type": "scattermapbox"
           }
          ],
          "scatterpolar": [
           {
            "marker": {
             "colorbar": {
              "outlinewidth": 0,
              "ticks": ""
             }
            },
            "type": "scatterpolar"
           }
          ],
          "scatterpolargl": [
           {
            "marker": {
             "colorbar": {
              "outlinewidth": 0,
              "ticks": ""
             }
            },
            "type": "scatterpolargl"
           }
          ],
          "scatterternary": [
           {
            "marker": {
             "colorbar": {
              "outlinewidth": 0,
              "ticks": ""
             }
            },
            "type": "scatterternary"
           }
          ],
          "surface": [
           {
            "colorbar": {
             "outlinewidth": 0,
             "ticks": ""
            },
            "colorscale": [
             [
              0,
              "#0d0887"
             ],
             [
              0.1111111111111111,
              "#46039f"
             ],
             [
              0.2222222222222222,
              "#7201a8"
             ],
             [
              0.3333333333333333,
              "#9c179e"
             ],
             [
              0.4444444444444444,
              "#bd3786"
             ],
             [
              0.5555555555555556,
              "#d8576b"
             ],
             [
              0.6666666666666666,
              "#ed7953"
             ],
             [
              0.7777777777777778,
              "#fb9f3a"
             ],
             [
              0.8888888888888888,
              "#fdca26"
             ],
             [
              1,
              "#f0f921"
             ]
            ],
            "type": "surface"
           }
          ],
          "table": [
           {
            "cells": {
             "fill": {
              "color": "#EBF0F8"
             },
             "line": {
              "color": "white"
             }
            },
            "header": {
             "fill": {
              "color": "#C8D4E3"
             },
             "line": {
              "color": "white"
             }
            },
            "type": "table"
           }
          ]
         },
         "layout": {
          "annotationdefaults": {
           "arrowcolor": "#2a3f5f",
           "arrowhead": 0,
           "arrowwidth": 1
          },
          "autotypenumbers": "strict",
          "coloraxis": {
           "colorbar": {
            "outlinewidth": 0,
            "ticks": ""
           }
          },
          "colorscale": {
           "diverging": [
            [
             0,
             "#8e0152"
            ],
            [
             0.1,
             "#c51b7d"
            ],
            [
             0.2,
             "#de77ae"
            ],
            [
             0.3,
             "#f1b6da"
            ],
            [
             0.4,
             "#fde0ef"
            ],
            [
             0.5,
             "#f7f7f7"
            ],
            [
             0.6,
             "#e6f5d0"
            ],
            [
             0.7,
             "#b8e186"
            ],
            [
             0.8,
             "#7fbc41"
            ],
            [
             0.9,
             "#4d9221"
            ],
            [
             1,
             "#276419"
            ]
           ],
           "sequential": [
            [
             0,
             "#0d0887"
            ],
            [
             0.1111111111111111,
             "#46039f"
            ],
            [
             0.2222222222222222,
             "#7201a8"
            ],
            [
             0.3333333333333333,
             "#9c179e"
            ],
            [
             0.4444444444444444,
             "#bd3786"
            ],
            [
             0.5555555555555556,
             "#d8576b"
            ],
            [
             0.6666666666666666,
             "#ed7953"
            ],
            [
             0.7777777777777778,
             "#fb9f3a"
            ],
            [
             0.8888888888888888,
             "#fdca26"
            ],
            [
             1,
             "#f0f921"
            ]
           ],
           "sequentialminus": [
            [
             0,
             "#0d0887"
            ],
            [
             0.1111111111111111,
             "#46039f"
            ],
            [
             0.2222222222222222,
             "#7201a8"
            ],
            [
             0.3333333333333333,
             "#9c179e"
            ],
            [
             0.4444444444444444,
             "#bd3786"
            ],
            [
             0.5555555555555556,
             "#d8576b"
            ],
            [
             0.6666666666666666,
             "#ed7953"
            ],
            [
             0.7777777777777778,
             "#fb9f3a"
            ],
            [
             0.8888888888888888,
             "#fdca26"
            ],
            [
             1,
             "#f0f921"
            ]
           ]
          },
          "colorway": [
           "#636efa",
           "#EF553B",
           "#00cc96",
           "#ab63fa",
           "#FFA15A",
           "#19d3f3",
           "#FF6692",
           "#B6E880",
           "#FF97FF",
           "#FECB52"
          ],
          "font": {
           "color": "#2a3f5f"
          },
          "geo": {
           "bgcolor": "white",
           "lakecolor": "white",
           "landcolor": "#E5ECF6",
           "showlakes": true,
           "showland": true,
           "subunitcolor": "white"
          },
          "hoverlabel": {
           "align": "left"
          },
          "hovermode": "closest",
          "mapbox": {
           "style": "light"
          },
          "paper_bgcolor": "white",
          "plot_bgcolor": "#E5ECF6",
          "polar": {
           "angularaxis": {
            "gridcolor": "white",
            "linecolor": "white",
            "ticks": ""
           },
           "bgcolor": "#E5ECF6",
           "radialaxis": {
            "gridcolor": "white",
            "linecolor": "white",
            "ticks": ""
           }
          },
          "scene": {
           "xaxis": {
            "backgroundcolor": "#E5ECF6",
            "gridcolor": "white",
            "gridwidth": 2,
            "linecolor": "white",
            "showbackground": true,
            "ticks": "",
            "zerolinecolor": "white"
           },
           "yaxis": {
            "backgroundcolor": "#E5ECF6",
            "gridcolor": "white",
            "gridwidth": 2,
            "linecolor": "white",
            "showbackground": true,
            "ticks": "",
            "zerolinecolor": "white"
           },
           "zaxis": {
            "backgroundcolor": "#E5ECF6",
            "gridcolor": "white",
            "gridwidth": 2,
            "linecolor": "white",
            "showbackground": true,
            "ticks": "",
            "zerolinecolor": "white"
           }
          },
          "shapedefaults": {
           "line": {
            "color": "#2a3f5f"
           }
          },
          "ternary": {
           "aaxis": {
            "gridcolor": "white",
            "linecolor": "white",
            "ticks": ""
           },
           "baxis": {
            "gridcolor": "white",
            "linecolor": "white",
            "ticks": ""
           },
           "bgcolor": "#E5ECF6",
           "caxis": {
            "gridcolor": "white",
            "linecolor": "white",
            "ticks": ""
           }
          },
          "title": {
           "x": 0.05
          },
          "xaxis": {
           "automargin": true,
           "gridcolor": "white",
           "linecolor": "white",
           "ticks": "",
           "title": {
            "standoff": 15
           },
           "zerolinecolor": "white",
           "zerolinewidth": 2
          },
          "yaxis": {
           "automargin": true,
           "gridcolor": "white",
           "linecolor": "white",
           "ticks": "",
           "title": {
            "standoff": 15
           },
           "zerolinecolor": "white",
           "zerolinewidth": 2
          }
         }
        },
        "title": {
         "text": "simple line plot"
        },
        "width": 900,
        "xaxis": {
         "anchor": "y",
         "autorange": true,
         "domain": [
          0,
          1
         ],
         "range": [
          17,
          99
         ],
         "title": {
          "text": "x axis"
         },
         "type": "linear"
        },
        "yaxis": {
         "anchor": "x",
         "autorange": true,
         "domain": [
          0,
          1
         ],
         "range": [
          -0.5,
          9.5
         ],
         "title": {
          "text": "y axis"
         },
         "type": "linear"
        }
       }
      },
      "image/png": "[encoded data removed]",
      "text/html": [
       "<div>                            <div id=\"7b8f2a12-d180-4c52-a898-7fc07a07a66a\" class=\"plotly-graph-div\" style=\"height:700px; width:900px;\"></div>            <script type=\"text/javascript\">                require([\"plotly\"], function(Plotly) {                    window.PLOTLYENV=window.PLOTLYENV || {};                                    if (document.getElementById(\"7b8f2a12-d180-4c52-a898-7fc07a07a66a\")) {                    Plotly.newPlot(                        \"7b8f2a12-d180-4c52-a898-7fc07a07a66a\",                        [{\"hovertemplate\":\"x=%{x}\\u003cbr\\u003eindex=%{y}\\u003cextra\\u003e\\u003c\\u002fextra\\u003e\",\"legendgroup\":\"\",\"line\":{\"color\":\"#636efa\",\"dash\":\"solid\"},\"marker\":{\"symbol\":\"circle\"},\"mode\":\"lines\",\"name\":\"\",\"orientation\":\"h\",\"showlegend\":false,\"x\":[85,99,17,46,40,34,98,66,74,88],\"xaxis\":\"x\",\"y\":[0,1,2,3,4,5,6,7,8,9],\"yaxis\":\"y\",\"type\":\"scatter\"}],                        {\"template\":{\"data\":{\"histogram2dcontour\":[{\"type\":\"histogram2dcontour\",\"colorbar\":{\"outlinewidth\":0,\"ticks\":\"\"},\"colorscale\":[[0.0,\"#0d0887\"],[0.1111111111111111,\"#46039f\"],[0.2222222222222222,\"#7201a8\"],[0.3333333333333333,\"#9c179e\"],[0.4444444444444444,\"#bd3786\"],[0.5555555555555556,\"#d8576b\"],[0.6666666666666666,\"#ed7953\"],[0.7777777777777778,\"#fb9f3a\"],[0.8888888888888888,\"#fdca26\"],[1.0,\"#f0f921\"]]}],\"choropleth\":[{\"type\":\"choropleth\",\"colorbar\":{\"outlinewidth\":0,\"ticks\":\"\"}}],\"histogram2d\":[{\"type\":\"histogram2d\",\"colorbar\":{\"outlinewidth\":0,\"ticks\":\"\"},\"colorscale\":[[0.0,\"#0d0887\"],[0.1111111111111111,\"#46039f\"],[0.2222222222222222,\"#7201a8\"],[0.3333333333333333,\"#9c179e\"],[0.4444444444444444,\"#bd3786\"],[0.5555555555555556,\"#d8576b\"],[0.6666666666666666,\"#ed7953\"],[0.7777777777777778,\"#fb9f3a\"],[0.8888888888888888,\"#fdca26\"],[1.0,\"#f0f921\"]]}],\"heatmap\":[{\"type\":\"heatmap\",\"colorbar\":{\"outlinewidth\":0,\"ticks\":\"\"},\"colorscale\":[[0.0,\"#0d0887\"],[0.1111111111111111,\"#46039f\"],[0.2222222222222222,\"#7201a8\"],[0.3333333333333333,\"#9c179e\"],[0.4444444444444444,\"#bd3786\"],[0.5555555555555556,\"#d8576b\"],[0.6666666666666666,\"#ed7953\"],[0.7777777777777778,\"#fb9f3a\"],[0.8888888888888888,\"#fdca26\"],[1.0,\"#f0f921\"]]}],\"heatmapgl\":[{\"type\":\"heatmapgl\",\"colorbar\":{\"outlinewidth\":0,\"ticks\":\"\"},\"colorscale\":[[0.0,\"#0d0887\"],[0.1111111111111111,\"#46039f\"],[0.2222222222222222,\"#7201a8\"],[0.3333333333333333,\"#9c179e\"],[0.4444444444444444,\"#bd3786\"],[0.5555555555555556,\"#d8576b\"],[0.6666666666666666,\"#ed7953\"],[0.7777777777777778,\"#fb9f3a\"],[0.8888888888888888,\"#fdca26\"],[1.0,\"#f0f921\"]]}],\"contourcarpet\":[{\"type\":\"contourcarpet\",\"colorbar\":{\"outlinewidth\":0,\"ticks\":\"\"}}],\"contour\":[{\"type\":\"contour\",\"colorbar\":{\"outlinewidth\":0,\"ticks\":\"\"},\"colorscale\":[[0.0,\"#0d0887\"],[0.1111111111111111,\"#46039f\"],[0.2222222222222222,\"#7201a8\"],[0.3333333333333333,\"#9c179e\"],[0.4444444444444444,\"#bd3786\"],[0.5555555555555556,\"#d8576b\"],[0.6666666666666666,\"#ed7953\"],[0.7777777777777778,\"#fb9f3a\"],[0.8888888888888888,\"#fdca26\"],[1.0,\"#f0f921\"]]}],\"surface\":[{\"type\":\"surface\",\"colorbar\":{\"outlinewidth\":0,\"ticks\":\"\"},\"colorscale\":[[0.0,\"#0d0887\"],[0.1111111111111111,\"#46039f\"],[0.2222222222222222,\"#7201a8\"],[0.3333333333333333,\"#9c179e\"],[0.4444444444444444,\"#bd3786\"],[0.5555555555555556,\"#d8576b\"],[0.6666666666666666,\"#ed7953\"],[0.7777777777777778,\"#fb9f3a\"],[0.8888888888888888,\"#fdca26\"],[1.0,\"#f0f921\"]]}],\"mesh3d\":[{\"type\":\"mesh3d\",\"colorbar\":{\"outlinewidth\":0,\"ticks\":\"\"}}],\"scatter\":[{\"fillpattern\":{\"fillmode\":\"overlay\",\"size\":10,\"solidity\":0.2},\"type\":\"scatter\"}],\"parcoords\":[{\"type\":\"parcoords\",\"line\":{\"colorbar\":{\"outlinewidth\":0,\"ticks\":\"\"}}}],\"scatterpolargl\":[{\"type\":\"scatterpolargl\",\"marker\":{\"colorbar\":{\"outlinewidth\":0,\"ticks\":\"\"}}}],\"bar\":[{\"error_x\":{\"color\":\"#2a3f5f\"},\"error_y\":{\"color\":\"#2a3f5f\"},\"marker\":{\"line\":{\"color\":\"#E5ECF6\",\"width\":0.5},\"pattern\":{\"fillmode\":\"overlay\",\"size\":10,\"solidity\":0.2}},\"type\":\"bar\"}],\"scattergeo\":[{\"type\":\"scattergeo\",\"marker\":{\"colorbar\":{\"outlinewidth\":0,\"ticks\":\"\"}}}],\"scatterpolar\":[{\"type\":\"scatterpolar\",\"marker\":{\"colorbar\":{\"outlinewidth\":0,\"ticks\":\"\"}}}],\"histogram\":[{\"marker\":{\"pattern\":{\"fillmode\":\"overlay\",\"size\":10,\"solidity\":0.2}},\"type\":\"histogram\"}],\"scattergl\":[{\"type\":\"scattergl\",\"marker\":{\"colorbar\":{\"outlinewidth\":0,\"ticks\":\"\"}}}],\"scatter3d\":[{\"type\":\"scatter3d\",\"line\":{\"colorbar\":{\"outlinewidth\":0,\"ticks\":\"\"}},\"marker\":{\"colorbar\":{\"outlinewidth\":0,\"ticks\":\"\"}}}],\"scattermapbox\":[{\"type\":\"scattermapbox\",\"marker\":{\"colorbar\":{\"outlinewidth\":0,\"ticks\":\"\"}}}],\"scatterternary\":[{\"type\":\"scatterternary\",\"marker\":{\"colorbar\":{\"outlinewidth\":0,\"ticks\":\"\"}}}],\"scattercarpet\":[{\"type\":\"scattercarpet\",\"marker\":{\"colorbar\":{\"outlinewidth\":0,\"ticks\":\"\"}}}],\"carpet\":[{\"aaxis\":{\"endlinecolor\":\"#2a3f5f\",\"gridcolor\":\"white\",\"linecolor\":\"white\",\"minorgridcolor\":\"white\",\"startlinecolor\":\"#2a3f5f\"},\"baxis\":{\"endlinecolor\":\"#2a3f5f\",\"gridcolor\":\"white\",\"linecolor\":\"white\",\"minorgridcolor\":\"white\",\"startlinecolor\":\"#2a3f5f\"},\"type\":\"carpet\"}],\"table\":[{\"cells\":{\"fill\":{\"color\":\"#EBF0F8\"},\"line\":{\"color\":\"white\"}},\"header\":{\"fill\":{\"color\":\"#C8D4E3\"},\"line\":{\"color\":\"white\"}},\"type\":\"table\"}],\"barpolar\":[{\"marker\":{\"line\":{\"color\":\"#E5ECF6\",\"width\":0.5},\"pattern\":{\"fillmode\":\"overlay\",\"size\":10,\"solidity\":0.2}},\"type\":\"barpolar\"}],\"pie\":[{\"automargin\":true,\"type\":\"pie\"}]},\"layout\":{\"autotypenumbers\":\"strict\",\"colorway\":[\"#636efa\",\"#EF553B\",\"#00cc96\",\"#ab63fa\",\"#FFA15A\",\"#19d3f3\",\"#FF6692\",\"#B6E880\",\"#FF97FF\",\"#FECB52\"],\"font\":{\"color\":\"#2a3f5f\"},\"hovermode\":\"closest\",\"hoverlabel\":{\"align\":\"left\"},\"paper_bgcolor\":\"white\",\"plot_bgcolor\":\"#E5ECF6\",\"polar\":{\"bgcolor\":\"#E5ECF6\",\"angularaxis\":{\"gridcolor\":\"white\",\"linecolor\":\"white\",\"ticks\":\"\"},\"radialaxis\":{\"gridcolor\":\"white\",\"linecolor\":\"white\",\"ticks\":\"\"}},\"ternary\":{\"bgcolor\":\"#E5ECF6\",\"aaxis\":{\"gridcolor\":\"white\",\"linecolor\":\"white\",\"ticks\":\"\"},\"baxis\":{\"gridcolor\":\"white\",\"linecolor\":\"white\",\"ticks\":\"\"},\"caxis\":{\"gridcolor\":\"white\",\"linecolor\":\"white\",\"ticks\":\"\"}},\"coloraxis\":{\"colorbar\":{\"outlinewidth\":0,\"ticks\":\"\"}},\"colorscale\":{\"sequential\":[[0.0,\"#0d0887\"],[0.1111111111111111,\"#46039f\"],[0.2222222222222222,\"#7201a8\"],[0.3333333333333333,\"#9c179e\"],[0.4444444444444444,\"#bd3786\"],[0.5555555555555556,\"#d8576b\"],[0.6666666666666666,\"#ed7953\"],[0.7777777777777778,\"#fb9f3a\"],[0.8888888888888888,\"#fdca26\"],[1.0,\"#f0f921\"]],\"sequentialminus\":[[0.0,\"#0d0887\"],[0.1111111111111111,\"#46039f\"],[0.2222222222222222,\"#7201a8\"],[0.3333333333333333,\"#9c179e\"],[0.4444444444444444,\"#bd3786\"],[0.5555555555555556,\"#d8576b\"],[0.6666666666666666,\"#ed7953\"],[0.7777777777777778,\"#fb9f3a\"],[0.8888888888888888,\"#fdca26\"],[1.0,\"#f0f921\"]],\"diverging\":[[0,\"#8e0152\"],[0.1,\"#c51b7d\"],[0.2,\"#de77ae\"],[0.3,\"#f1b6da\"],[0.4,\"#fde0ef\"],[0.5,\"#f7f7f7\"],[0.6,\"#e6f5d0\"],[0.7,\"#b8e186\"],[0.8,\"#7fbc41\"],[0.9,\"#4d9221\"],[1,\"#276419\"]]},\"xaxis\":{\"gridcolor\":\"white\",\"linecolor\":\"white\",\"ticks\":\"\",\"title\":{\"standoff\":15},\"zerolinecolor\":\"white\",\"automargin\":true,\"zerolinewidth\":2},\"yaxis\":{\"gridcolor\":\"white\",\"linecolor\":\"white\",\"ticks\":\"\",\"title\":{\"standoff\":15},\"zerolinecolor\":\"white\",\"automargin\":true,\"zerolinewidth\":2},\"scene\":{\"xaxis\":{\"backgroundcolor\":\"#E5ECF6\",\"gridcolor\":\"white\",\"linecolor\":\"white\",\"showbackground\":true,\"ticks\":\"\",\"zerolinecolor\":\"white\",\"gridwidth\":2},\"yaxis\":{\"backgroundcolor\":\"#E5ECF6\",\"gridcolor\":\"white\",\"linecolor\":\"white\",\"showbackground\":true,\"ticks\":\"\",\"zerolinecolor\":\"white\",\"gridwidth\":2},\"zaxis\":{\"backgroundcolor\":\"#E5ECF6\",\"gridcolor\":\"white\",\"linecolor\":\"white\",\"showbackground\":true,\"ticks\":\"\",\"zerolinecolor\":\"white\",\"gridwidth\":2}},\"shapedefaults\":{\"line\":{\"color\":\"#2a3f5f\"}},\"annotationdefaults\":{\"arrowcolor\":\"#2a3f5f\",\"arrowhead\":0,\"arrowwidth\":1},\"geo\":{\"bgcolor\":\"white\",\"landcolor\":\"#E5ECF6\",\"subunitcolor\":\"white\",\"showland\":true,\"showlakes\":true,\"lakecolor\":\"white\"},\"title\":{\"x\":0.05},\"mapbox\":{\"style\":\"light\"}}},\"xaxis\":{\"anchor\":\"y\",\"domain\":[0.0,1.0],\"title\":{\"text\":\"x axis\"}},\"yaxis\":{\"anchor\":\"x\",\"domain\":[0.0,1.0],\"title\":{\"text\":\"y axis\"}},\"legend\":{\"tracegroupgap\":0},\"title\":{\"text\":\"simple line plot\"},\"width\":900,\"height\":700},                        {\"responsive\": true}                    ).then(function(){\n",
       "                            \n",
       "var gd = document.getElementById('7b8f2a12-d180-4c52-a898-7fc07a07a66a');\n",
       "var x = new MutationObserver(function (mutations, observer) {{\n",
       "        var display = window.getComputedStyle(gd).display;\n",
       "        if (!display || display === 'none') {{\n",
       "            console.log([gd, 'removed!']);\n",
       "            Plotly.purge(gd);\n",
       "            observer.disconnect();\n",
       "        }}\n",
       "}});\n",
       "\n",
       "// Listen for the removal of the full notebook cells\n",
       "var notebookContainer = gd.closest('#notebook-container');\n",
       "if (notebookContainer) {{\n",
       "    x.observe(notebookContainer, {childList: true});\n",
       "}}\n",
       "\n",
       "// Listen for the clearing of the current output cell\n",
       "var outputEl = gd.closest('.output');\n",
       "if (outputEl) {{\n",
       "    x.observe(outputEl, {childList: true});\n",
       "}}\n",
       "\n",
       "                        })                };                });            </script>        </div>"
      ]
     },
     "metadata": {},
     "output_type": "display_data"
    }
   ],
   "source": [
    "n=px.line(ran,ran1,title='simple line plot')\n",
    "n.update_layout(xaxis_title='x axis', yaxis_title='y axis',width=900,height=700)\n",
    "n.show()"
   ]
  },
  {
   "cell_type": "code",
   "execution_count": null,
   "id": "5981a5b1-810b-479e-969b-d60454dbdc70",
   "metadata": {},
   "outputs": [],
   "source": [
    "![newplot(1)](newplot%20(1).png)"
   ]
  },
  {
   "cell_type": "markdown",
   "id": "8e741f18-694e-4b84-9a69-a4c468ccbc62",
   "metadata": {},
   "source": [
    "### 21 Using Plotly, create an interactive pie chart of randomly generated data, add labels and percentages, set the title as 'Interactive Pie Chart'."
   ]
  },
  {
   "cell_type": "code",
   "execution_count": 1174,
   "id": "63df9c2a-1b21-4918-bfbd-22672ee73191",
   "metadata": {},
   "outputs": [
    {
     "data": {
      "text/html": [
       "<div>\n",
       "<style scoped>\n",
       "    .dataframe tbody tr th:only-of-type {\n",
       "        vertical-align: middle;\n",
       "    }\n",
       "\n",
       "    .dataframe tbody tr th {\n",
       "        vertical-align: top;\n",
       "    }\n",
       "\n",
       "    .dataframe thead th {\n",
       "        text-align: right;\n",
       "    }\n",
       "</style>\n",
       "<table border=\"1\" class=\"dataframe\">\n",
       "  <thead>\n",
       "    <tr style=\"text-align: right;\">\n",
       "      <th></th>\n",
       "      <th>labels</th>\n",
       "      <th>values</th>\n",
       "    </tr>\n",
       "  </thead>\n",
       "  <tbody>\n",
       "    <tr>\n",
       "      <th>0</th>\n",
       "      <td>A</td>\n",
       "      <td>63</td>\n",
       "    </tr>\n",
       "    <tr>\n",
       "      <th>1</th>\n",
       "      <td>B</td>\n",
       "      <td>78</td>\n",
       "    </tr>\n",
       "    <tr>\n",
       "      <th>2</th>\n",
       "      <td>C</td>\n",
       "      <td>55</td>\n",
       "    </tr>\n",
       "    <tr>\n",
       "      <th>3</th>\n",
       "      <td>D</td>\n",
       "      <td>48</td>\n",
       "    </tr>\n",
       "    <tr>\n",
       "      <th>4</th>\n",
       "      <td>E</td>\n",
       "      <td>17</td>\n",
       "    </tr>\n",
       "  </tbody>\n",
       "</table>\n",
       "</div>"
      ],
      "text/plain": [
       "  labels  values\n",
       "0      A      63\n",
       "1      B      78\n",
       "2      C      55\n",
       "3      D      48\n",
       "4      E      17"
      ]
     },
     "execution_count": 1174,
     "metadata": {},
     "output_type": "execute_result"
    }
   ],
   "source": [
    "labels = [ 'A', ' B', 'C','D', 'E']\n",
    "n=[]\n",
    "for i in labels:\n",
    "    values=random.randint(1,100)\n",
    "    n.append(values)\n",
    "df=pd.DataFrame({'labels':labels,'values':n})\n",
    "df"
   ]
  },
  {
   "cell_type": "code",
   "execution_count": 1197,
   "id": "48398f57-b005-4362-83af-07fa14540e43",
   "metadata": {},
   "outputs": [
    {
     "data": {
      "application/vnd.plotly.v1+json": {
       "config": {
        "plotlyServerURL": "https://plot.ly"
       },
       "data": [
        {
         "customdata": [
          [
           63
          ],
          [
           78
          ],
          [
           55
          ],
          [
           48
          ],
          [
           17
          ]
         ],
         "domain": {
          "x": [
           0,
           1
          ],
          "y": [
           0,
           1
          ]
         },
         "hovertemplate": "labels=%{label}<br>Percentage=%{customdata[0]}<extra></extra>",
         "labels": [
          "A",
          " B",
          "C",
          "D",
          "E"
         ],
         "legendgroup": "",
         "name": "",
         "showlegend": true,
         "type": "pie",
         "values": [
          63,
          78,
          55,
          48,
          17
         ]
        }
       ],
       "layout": {
        "height": 700,
        "legend": {
         "tracegroupgap": 0
        },
        "template": {
         "data": {
          "bar": [
           {
            "error_x": {
             "color": "#2a3f5f"
            },
            "error_y": {
             "color": "#2a3f5f"
            },
            "marker": {
             "line": {
              "color": "#E5ECF6",
              "width": 0.5
             },
             "pattern": {
              "fillmode": "overlay",
              "size": 10,
              "solidity": 0.2
             }
            },
            "type": "bar"
           }
          ],
          "barpolar": [
           {
            "marker": {
             "line": {
              "color": "#E5ECF6",
              "width": 0.5
             },
             "pattern": {
              "fillmode": "overlay",
              "size": 10,
              "solidity": 0.2
             }
            },
            "type": "barpolar"
           }
          ],
          "carpet": [
           {
            "aaxis": {
             "endlinecolor": "#2a3f5f",
             "gridcolor": "white",
             "linecolor": "white",
             "minorgridcolor": "white",
             "startlinecolor": "#2a3f5f"
            },
            "baxis": {
             "endlinecolor": "#2a3f5f",
             "gridcolor": "white",
             "linecolor": "white",
             "minorgridcolor": "white",
             "startlinecolor": "#2a3f5f"
            },
            "type": "carpet"
           }
          ],
          "choropleth": [
           {
            "colorbar": {
             "outlinewidth": 0,
             "ticks": ""
            },
            "type": "choropleth"
           }
          ],
          "contour": [
           {
            "colorbar": {
             "outlinewidth": 0,
             "ticks": ""
            },
            "colorscale": [
             [
              0,
              "#0d0887"
             ],
             [
              0.1111111111111111,
              "#46039f"
             ],
             [
              0.2222222222222222,
              "#7201a8"
             ],
             [
              0.3333333333333333,
              "#9c179e"
             ],
             [
              0.4444444444444444,
              "#bd3786"
             ],
             [
              0.5555555555555556,
              "#d8576b"
             ],
             [
              0.6666666666666666,
              "#ed7953"
             ],
             [
              0.7777777777777778,
              "#fb9f3a"
             ],
             [
              0.8888888888888888,
              "#fdca26"
             ],
             [
              1,
              "#f0f921"
             ]
            ],
            "type": "contour"
           }
          ],
          "contourcarpet": [
           {
            "colorbar": {
             "outlinewidth": 0,
             "ticks": ""
            },
            "type": "contourcarpet"
           }
          ],
          "heatmap": [
           {
            "colorbar": {
             "outlinewidth": 0,
             "ticks": ""
            },
            "colorscale": [
             [
              0,
              "#0d0887"
             ],
             [
              0.1111111111111111,
              "#46039f"
             ],
             [
              0.2222222222222222,
              "#7201a8"
             ],
             [
              0.3333333333333333,
              "#9c179e"
             ],
             [
              0.4444444444444444,
              "#bd3786"
             ],
             [
              0.5555555555555556,
              "#d8576b"
             ],
             [
              0.6666666666666666,
              "#ed7953"
             ],
             [
              0.7777777777777778,
              "#fb9f3a"
             ],
             [
              0.8888888888888888,
              "#fdca26"
             ],
             [
              1,
              "#f0f921"
             ]
            ],
            "type": "heatmap"
           }
          ],
          "heatmapgl": [
           {
            "colorbar": {
             "outlinewidth": 0,
             "ticks": ""
            },
            "colorscale": [
             [
              0,
              "#0d0887"
             ],
             [
              0.1111111111111111,
              "#46039f"
             ],
             [
              0.2222222222222222,
              "#7201a8"
             ],
             [
              0.3333333333333333,
              "#9c179e"
             ],
             [
              0.4444444444444444,
              "#bd3786"
             ],
             [
              0.5555555555555556,
              "#d8576b"
             ],
             [
              0.6666666666666666,
              "#ed7953"
             ],
             [
              0.7777777777777778,
              "#fb9f3a"
             ],
             [
              0.8888888888888888,
              "#fdca26"
             ],
             [
              1,
              "#f0f921"
             ]
            ],
            "type": "heatmapgl"
           }
          ],
          "histogram": [
           {
            "marker": {
             "pattern": {
              "fillmode": "overlay",
              "size": 10,
              "solidity": 0.2
             }
            },
            "type": "histogram"
           }
          ],
          "histogram2d": [
           {
            "colorbar": {
             "outlinewidth": 0,
             "ticks": ""
            },
            "colorscale": [
             [
              0,
              "#0d0887"
             ],
             [
              0.1111111111111111,
              "#46039f"
             ],
             [
              0.2222222222222222,
              "#7201a8"
             ],
             [
              0.3333333333333333,
              "#9c179e"
             ],
             [
              0.4444444444444444,
              "#bd3786"
             ],
             [
              0.5555555555555556,
              "#d8576b"
             ],
             [
              0.6666666666666666,
              "#ed7953"
             ],
             [
              0.7777777777777778,
              "#fb9f3a"
             ],
             [
              0.8888888888888888,
              "#fdca26"
             ],
             [
              1,
              "#f0f921"
             ]
            ],
            "type": "histogram2d"
           }
          ],
          "histogram2dcontour": [
           {
            "colorbar": {
             "outlinewidth": 0,
             "ticks": ""
            },
            "colorscale": [
             [
              0,
              "#0d0887"
             ],
             [
              0.1111111111111111,
              "#46039f"
             ],
             [
              0.2222222222222222,
              "#7201a8"
             ],
             [
              0.3333333333333333,
              "#9c179e"
             ],
             [
              0.4444444444444444,
              "#bd3786"
             ],
             [
              0.5555555555555556,
              "#d8576b"
             ],
             [
              0.6666666666666666,
              "#ed7953"
             ],
             [
              0.7777777777777778,
              "#fb9f3a"
             ],
             [
              0.8888888888888888,
              "#fdca26"
             ],
             [
              1,
              "#f0f921"
             ]
            ],
            "type": "histogram2dcontour"
           }
          ],
          "mesh3d": [
           {
            "colorbar": {
             "outlinewidth": 0,
             "ticks": ""
            },
            "type": "mesh3d"
           }
          ],
          "parcoords": [
           {
            "line": {
             "colorbar": {
              "outlinewidth": 0,
              "ticks": ""
             }
            },
            "type": "parcoords"
           }
          ],
          "pie": [
           {
            "automargin": true,
            "type": "pie"
           }
          ],
          "scatter": [
           {
            "fillpattern": {
             "fillmode": "overlay",
             "size": 10,
             "solidity": 0.2
            },
            "type": "scatter"
           }
          ],
          "scatter3d": [
           {
            "line": {
             "colorbar": {
              "outlinewidth": 0,
              "ticks": ""
             }
            },
            "marker": {
             "colorbar": {
              "outlinewidth": 0,
              "ticks": ""
             }
            },
            "type": "scatter3d"
           }
          ],
          "scattercarpet": [
           {
            "marker": {
             "colorbar": {
              "outlinewidth": 0,
              "ticks": ""
             }
            },
            "type": "scattercarpet"
           }
          ],
          "scattergeo": [
           {
            "marker": {
             "colorbar": {
              "outlinewidth": 0,
              "ticks": ""
             }
            },
            "type": "scattergeo"
           }
          ],
          "scattergl": [
           {
            "marker": {
             "colorbar": {
              "outlinewidth": 0,
              "ticks": ""
             }
            },
            "type": "scattergl"
           }
          ],
          "scattermapbox": [
           {
            "marker": {
             "colorbar": {
              "outlinewidth": 0,
              "ticks": ""
             }
            },
            "type": "scattermapbox"
           }
          ],
          "scatterpolar": [
           {
            "marker": {
             "colorbar": {
              "outlinewidth": 0,
              "ticks": ""
             }
            },
            "type": "scatterpolar"
           }
          ],
          "scatterpolargl": [
           {
            "marker": {
             "colorbar": {
              "outlinewidth": 0,
              "ticks": ""
             }
            },
            "type": "scatterpolargl"
           }
          ],
          "scatterternary": [
           {
            "marker": {
             "colorbar": {
              "outlinewidth": 0,
              "ticks": ""
             }
            },
            "type": "scatterternary"
           }
          ],
          "surface": [
           {
            "colorbar": {
             "outlinewidth": 0,
             "ticks": ""
            },
            "colorscale": [
             [
              0,
              "#0d0887"
             ],
             [
              0.1111111111111111,
              "#46039f"
             ],
             [
              0.2222222222222222,
              "#7201a8"
             ],
             [
              0.3333333333333333,
              "#9c179e"
             ],
             [
              0.4444444444444444,
              "#bd3786"
             ],
             [
              0.5555555555555556,
              "#d8576b"
             ],
             [
              0.6666666666666666,
              "#ed7953"
             ],
             [
              0.7777777777777778,
              "#fb9f3a"
             ],
             [
              0.8888888888888888,
              "#fdca26"
             ],
             [
              1,
              "#f0f921"
             ]
            ],
            "type": "surface"
           }
          ],
          "table": [
           {
            "cells": {
             "fill": {
              "color": "#EBF0F8"
             },
             "line": {
              "color": "white"
             }
            },
            "header": {
             "fill": {
              "color": "#C8D4E3"
             },
             "line": {
              "color": "white"
             }
            },
            "type": "table"
           }
          ]
         },
         "layout": {
          "annotationdefaults": {
           "arrowcolor": "#2a3f5f",
           "arrowhead": 0,
           "arrowwidth": 1
          },
          "autotypenumbers": "strict",
          "coloraxis": {
           "colorbar": {
            "outlinewidth": 0,
            "ticks": ""
           }
          },
          "colorscale": {
           "diverging": [
            [
             0,
             "#8e0152"
            ],
            [
             0.1,
             "#c51b7d"
            ],
            [
             0.2,
             "#de77ae"
            ],
            [
             0.3,
             "#f1b6da"
            ],
            [
             0.4,
             "#fde0ef"
            ],
            [
             0.5,
             "#f7f7f7"
            ],
            [
             0.6,
             "#e6f5d0"
            ],
            [
             0.7,
             "#b8e186"
            ],
            [
             0.8,
             "#7fbc41"
            ],
            [
             0.9,
             "#4d9221"
            ],
            [
             1,
             "#276419"
            ]
           ],
           "sequential": [
            [
             0,
             "#0d0887"
            ],
            [
             0.1111111111111111,
             "#46039f"
            ],
            [
             0.2222222222222222,
             "#7201a8"
            ],
            [
             0.3333333333333333,
             "#9c179e"
            ],
            [
             0.4444444444444444,
             "#bd3786"
            ],
            [
             0.5555555555555556,
             "#d8576b"
            ],
            [
             0.6666666666666666,
             "#ed7953"
            ],
            [
             0.7777777777777778,
             "#fb9f3a"
            ],
            [
             0.8888888888888888,
             "#fdca26"
            ],
            [
             1,
             "#f0f921"
            ]
           ],
           "sequentialminus": [
            [
             0,
             "#0d0887"
            ],
            [
             0.1111111111111111,
             "#46039f"
            ],
            [
             0.2222222222222222,
             "#7201a8"
            ],
            [
             0.3333333333333333,
             "#9c179e"
            ],
            [
             0.4444444444444444,
             "#bd3786"
            ],
            [
             0.5555555555555556,
             "#d8576b"
            ],
            [
             0.6666666666666666,
             "#ed7953"
            ],
            [
             0.7777777777777778,
             "#fb9f3a"
            ],
            [
             0.8888888888888888,
             "#fdca26"
            ],
            [
             1,
             "#f0f921"
            ]
           ]
          },
          "colorway": [
           "#636efa",
           "#EF553B",
           "#00cc96",
           "#ab63fa",
           "#FFA15A",
           "#19d3f3",
           "#FF6692",
           "#B6E880",
           "#FF97FF",
           "#FECB52"
          ],
          "font": {
           "color": "#2a3f5f"
          },
          "geo": {
           "bgcolor": "white",
           "lakecolor": "white",
           "landcolor": "#E5ECF6",
           "showlakes": true,
           "showland": true,
           "subunitcolor": "white"
          },
          "hoverlabel": {
           "align": "left"
          },
          "hovermode": "closest",
          "mapbox": {
           "style": "light"
          },
          "paper_bgcolor": "white",
          "plot_bgcolor": "#E5ECF6",
          "polar": {
           "angularaxis": {
            "gridcolor": "white",
            "linecolor": "white",
            "ticks": ""
           },
           "bgcolor": "#E5ECF6",
           "radialaxis": {
            "gridcolor": "white",
            "linecolor": "white",
            "ticks": ""
           }
          },
          "scene": {
           "xaxis": {
            "backgroundcolor": "#E5ECF6",
            "gridcolor": "white",
            "gridwidth": 2,
            "linecolor": "white",
            "showbackground": true,
            "ticks": "",
            "zerolinecolor": "white"
           },
           "yaxis": {
            "backgroundcolor": "#E5ECF6",
            "gridcolor": "white",
            "gridwidth": 2,
            "linecolor": "white",
            "showbackground": true,
            "ticks": "",
            "zerolinecolor": "white"
           },
           "zaxis": {
            "backgroundcolor": "#E5ECF6",
            "gridcolor": "white",
            "gridwidth": 2,
            "linecolor": "white",
            "showbackground": true,
            "ticks": "",
            "zerolinecolor": "white"
           }
          },
          "shapedefaults": {
           "line": {
            "color": "#2a3f5f"
           }
          },
          "ternary": {
           "aaxis": {
            "gridcolor": "white",
            "linecolor": "white",
            "ticks": ""
           },
           "baxis": {
            "gridcolor": "white",
            "linecolor": "white",
            "ticks": ""
           },
           "bgcolor": "#E5ECF6",
           "caxis": {
            "gridcolor": "white",
            "linecolor": "white",
            "ticks": ""
           }
          },
          "title": {
           "x": 0.05
          },
          "xaxis": {
           "automargin": true,
           "gridcolor": "white",
           "linecolor": "white",
           "ticks": "",
           "title": {
            "standoff": 15
           },
           "zerolinecolor": "white",
           "zerolinewidth": 2
          },
          "yaxis": {
           "automargin": true,
           "gridcolor": "white",
           "linecolor": "white",
           "ticks": "",
           "title": {
            "standoff": 15
           },
           "zerolinecolor": "white",
           "zerolinewidth": 2
          }
         }
        },
        "title": {
         "text": "Interactive Pie Chart"
        },
        "width": 900
       }
      },
      "image/png": "[encoded data removed]",
      "text/html": [
       "<div>                            <div id=\"4542f798-2b06-49e6-81ec-83aa934a99ee\" class=\"plotly-graph-div\" style=\"height:700px; width:900px;\"></div>            <script type=\"text/javascript\">                require([\"plotly\"], function(Plotly) {                    window.PLOTLYENV=window.PLOTLYENV || {};                                    if (document.getElementById(\"4542f798-2b06-49e6-81ec-83aa934a99ee\")) {                    Plotly.newPlot(                        \"4542f798-2b06-49e6-81ec-83aa934a99ee\",                        [{\"customdata\":[[63],[78],[55],[48],[17]],\"domain\":{\"x\":[0.0,1.0],\"y\":[0.0,1.0]},\"hovertemplate\":\"labels=%{label}\\u003cbr\\u003ePercentage=%{customdata[0]}\\u003cextra\\u003e\\u003c\\u002fextra\\u003e\",\"labels\":[\"A\",\" B\",\"C\",\"D\",\"E\"],\"legendgroup\":\"\",\"name\":\"\",\"showlegend\":true,\"values\":[63,78,55,48,17],\"type\":\"pie\"}],                        {\"template\":{\"data\":{\"histogram2dcontour\":[{\"type\":\"histogram2dcontour\",\"colorbar\":{\"outlinewidth\":0,\"ticks\":\"\"},\"colorscale\":[[0.0,\"#0d0887\"],[0.1111111111111111,\"#46039f\"],[0.2222222222222222,\"#7201a8\"],[0.3333333333333333,\"#9c179e\"],[0.4444444444444444,\"#bd3786\"],[0.5555555555555556,\"#d8576b\"],[0.6666666666666666,\"#ed7953\"],[0.7777777777777778,\"#fb9f3a\"],[0.8888888888888888,\"#fdca26\"],[1.0,\"#f0f921\"]]}],\"choropleth\":[{\"type\":\"choropleth\",\"colorbar\":{\"outlinewidth\":0,\"ticks\":\"\"}}],\"histogram2d\":[{\"type\":\"histogram2d\",\"colorbar\":{\"outlinewidth\":0,\"ticks\":\"\"},\"colorscale\":[[0.0,\"#0d0887\"],[0.1111111111111111,\"#46039f\"],[0.2222222222222222,\"#7201a8\"],[0.3333333333333333,\"#9c179e\"],[0.4444444444444444,\"#bd3786\"],[0.5555555555555556,\"#d8576b\"],[0.6666666666666666,\"#ed7953\"],[0.7777777777777778,\"#fb9f3a\"],[0.8888888888888888,\"#fdca26\"],[1.0,\"#f0f921\"]]}],\"heatmap\":[{\"type\":\"heatmap\",\"colorbar\":{\"outlinewidth\":0,\"ticks\":\"\"},\"colorscale\":[[0.0,\"#0d0887\"],[0.1111111111111111,\"#46039f\"],[0.2222222222222222,\"#7201a8\"],[0.3333333333333333,\"#9c179e\"],[0.4444444444444444,\"#bd3786\"],[0.5555555555555556,\"#d8576b\"],[0.6666666666666666,\"#ed7953\"],[0.7777777777777778,\"#fb9f3a\"],[0.8888888888888888,\"#fdca26\"],[1.0,\"#f0f921\"]]}],\"heatmapgl\":[{\"type\":\"heatmapgl\",\"colorbar\":{\"outlinewidth\":0,\"ticks\":\"\"},\"colorscale\":[[0.0,\"#0d0887\"],[0.1111111111111111,\"#46039f\"],[0.2222222222222222,\"#7201a8\"],[0.3333333333333333,\"#9c179e\"],[0.4444444444444444,\"#bd3786\"],[0.5555555555555556,\"#d8576b\"],[0.6666666666666666,\"#ed7953\"],[0.7777777777777778,\"#fb9f3a\"],[0.8888888888888888,\"#fdca26\"],[1.0,\"#f0f921\"]]}],\"contourcarpet\":[{\"type\":\"contourcarpet\",\"colorbar\":{\"outlinewidth\":0,\"ticks\":\"\"}}],\"contour\":[{\"type\":\"contour\",\"colorbar\":{\"outlinewidth\":0,\"ticks\":\"\"},\"colorscale\":[[0.0,\"#0d0887\"],[0.1111111111111111,\"#46039f\"],[0.2222222222222222,\"#7201a8\"],[0.3333333333333333,\"#9c179e\"],[0.4444444444444444,\"#bd3786\"],[0.5555555555555556,\"#d8576b\"],[0.6666666666666666,\"#ed7953\"],[0.7777777777777778,\"#fb9f3a\"],[0.8888888888888888,\"#fdca26\"],[1.0,\"#f0f921\"]]}],\"surface\":[{\"type\":\"surface\",\"colorbar\":{\"outlinewidth\":0,\"ticks\":\"\"},\"colorscale\":[[0.0,\"#0d0887\"],[0.1111111111111111,\"#46039f\"],[0.2222222222222222,\"#7201a8\"],[0.3333333333333333,\"#9c179e\"],[0.4444444444444444,\"#bd3786\"],[0.5555555555555556,\"#d8576b\"],[0.6666666666666666,\"#ed7953\"],[0.7777777777777778,\"#fb9f3a\"],[0.8888888888888888,\"#fdca26\"],[1.0,\"#f0f921\"]]}],\"mesh3d\":[{\"type\":\"mesh3d\",\"colorbar\":{\"outlinewidth\":0,\"ticks\":\"\"}}],\"scatter\":[{\"fillpattern\":{\"fillmode\":\"overlay\",\"size\":10,\"solidity\":0.2},\"type\":\"scatter\"}],\"parcoords\":[{\"type\":\"parcoords\",\"line\":{\"colorbar\":{\"outlinewidth\":0,\"ticks\":\"\"}}}],\"scatterpolargl\":[{\"type\":\"scatterpolargl\",\"marker\":{\"colorbar\":{\"outlinewidth\":0,\"ticks\":\"\"}}}],\"bar\":[{\"error_x\":{\"color\":\"#2a3f5f\"},\"error_y\":{\"color\":\"#2a3f5f\"},\"marker\":{\"line\":{\"color\":\"#E5ECF6\",\"width\":0.5},\"pattern\":{\"fillmode\":\"overlay\",\"size\":10,\"solidity\":0.2}},\"type\":\"bar\"}],\"scattergeo\":[{\"type\":\"scattergeo\",\"marker\":{\"colorbar\":{\"outlinewidth\":0,\"ticks\":\"\"}}}],\"scatterpolar\":[{\"type\":\"scatterpolar\",\"marker\":{\"colorbar\":{\"outlinewidth\":0,\"ticks\":\"\"}}}],\"histogram\":[{\"marker\":{\"pattern\":{\"fillmode\":\"overlay\",\"size\":10,\"solidity\":0.2}},\"type\":\"histogram\"}],\"scattergl\":[{\"type\":\"scattergl\",\"marker\":{\"colorbar\":{\"outlinewidth\":0,\"ticks\":\"\"}}}],\"scatter3d\":[{\"type\":\"scatter3d\",\"line\":{\"colorbar\":{\"outlinewidth\":0,\"ticks\":\"\"}},\"marker\":{\"colorbar\":{\"outlinewidth\":0,\"ticks\":\"\"}}}],\"scattermapbox\":[{\"type\":\"scattermapbox\",\"marker\":{\"colorbar\":{\"outlinewidth\":0,\"ticks\":\"\"}}}],\"scatterternary\":[{\"type\":\"scatterternary\",\"marker\":{\"colorbar\":{\"outlinewidth\":0,\"ticks\":\"\"}}}],\"scattercarpet\":[{\"type\":\"scattercarpet\",\"marker\":{\"colorbar\":{\"outlinewidth\":0,\"ticks\":\"\"}}}],\"carpet\":[{\"aaxis\":{\"endlinecolor\":\"#2a3f5f\",\"gridcolor\":\"white\",\"linecolor\":\"white\",\"minorgridcolor\":\"white\",\"startlinecolor\":\"#2a3f5f\"},\"baxis\":{\"endlinecolor\":\"#2a3f5f\",\"gridcolor\":\"white\",\"linecolor\":\"white\",\"minorgridcolor\":\"white\",\"startlinecolor\":\"#2a3f5f\"},\"type\":\"carpet\"}],\"table\":[{\"cells\":{\"fill\":{\"color\":\"#EBF0F8\"},\"line\":{\"color\":\"white\"}},\"header\":{\"fill\":{\"color\":\"#C8D4E3\"},\"line\":{\"color\":\"white\"}},\"type\":\"table\"}],\"barpolar\":[{\"marker\":{\"line\":{\"color\":\"#E5ECF6\",\"width\":0.5},\"pattern\":{\"fillmode\":\"overlay\",\"size\":10,\"solidity\":0.2}},\"type\":\"barpolar\"}],\"pie\":[{\"automargin\":true,\"type\":\"pie\"}]},\"layout\":{\"autotypenumbers\":\"strict\",\"colorway\":[\"#636efa\",\"#EF553B\",\"#00cc96\",\"#ab63fa\",\"#FFA15A\",\"#19d3f3\",\"#FF6692\",\"#B6E880\",\"#FF97FF\",\"#FECB52\"],\"font\":{\"color\":\"#2a3f5f\"},\"hovermode\":\"closest\",\"hoverlabel\":{\"align\":\"left\"},\"paper_bgcolor\":\"white\",\"plot_bgcolor\":\"#E5ECF6\",\"polar\":{\"bgcolor\":\"#E5ECF6\",\"angularaxis\":{\"gridcolor\":\"white\",\"linecolor\":\"white\",\"ticks\":\"\"},\"radialaxis\":{\"gridcolor\":\"white\",\"linecolor\":\"white\",\"ticks\":\"\"}},\"ternary\":{\"bgcolor\":\"#E5ECF6\",\"aaxis\":{\"gridcolor\":\"white\",\"linecolor\":\"white\",\"ticks\":\"\"},\"baxis\":{\"gridcolor\":\"white\",\"linecolor\":\"white\",\"ticks\":\"\"},\"caxis\":{\"gridcolor\":\"white\",\"linecolor\":\"white\",\"ticks\":\"\"}},\"coloraxis\":{\"colorbar\":{\"outlinewidth\":0,\"ticks\":\"\"}},\"colorscale\":{\"sequential\":[[0.0,\"#0d0887\"],[0.1111111111111111,\"#46039f\"],[0.2222222222222222,\"#7201a8\"],[0.3333333333333333,\"#9c179e\"],[0.4444444444444444,\"#bd3786\"],[0.5555555555555556,\"#d8576b\"],[0.6666666666666666,\"#ed7953\"],[0.7777777777777778,\"#fb9f3a\"],[0.8888888888888888,\"#fdca26\"],[1.0,\"#f0f921\"]],\"sequentialminus\":[[0.0,\"#0d0887\"],[0.1111111111111111,\"#46039f\"],[0.2222222222222222,\"#7201a8\"],[0.3333333333333333,\"#9c179e\"],[0.4444444444444444,\"#bd3786\"],[0.5555555555555556,\"#d8576b\"],[0.6666666666666666,\"#ed7953\"],[0.7777777777777778,\"#fb9f3a\"],[0.8888888888888888,\"#fdca26\"],[1.0,\"#f0f921\"]],\"diverging\":[[0,\"#8e0152\"],[0.1,\"#c51b7d\"],[0.2,\"#de77ae\"],[0.3,\"#f1b6da\"],[0.4,\"#fde0ef\"],[0.5,\"#f7f7f7\"],[0.6,\"#e6f5d0\"],[0.7,\"#b8e186\"],[0.8,\"#7fbc41\"],[0.9,\"#4d9221\"],[1,\"#276419\"]]},\"xaxis\":{\"gridcolor\":\"white\",\"linecolor\":\"white\",\"ticks\":\"\",\"title\":{\"standoff\":15},\"zerolinecolor\":\"white\",\"automargin\":true,\"zerolinewidth\":2},\"yaxis\":{\"gridcolor\":\"white\",\"linecolor\":\"white\",\"ticks\":\"\",\"title\":{\"standoff\":15},\"zerolinecolor\":\"white\",\"automargin\":true,\"zerolinewidth\":2},\"scene\":{\"xaxis\":{\"backgroundcolor\":\"#E5ECF6\",\"gridcolor\":\"white\",\"linecolor\":\"white\",\"showbackground\":true,\"ticks\":\"\",\"zerolinecolor\":\"white\",\"gridwidth\":2},\"yaxis\":{\"backgroundcolor\":\"#E5ECF6\",\"gridcolor\":\"white\",\"linecolor\":\"white\",\"showbackground\":true,\"ticks\":\"\",\"zerolinecolor\":\"white\",\"gridwidth\":2},\"zaxis\":{\"backgroundcolor\":\"#E5ECF6\",\"gridcolor\":\"white\",\"linecolor\":\"white\",\"showbackground\":true,\"ticks\":\"\",\"zerolinecolor\":\"white\",\"gridwidth\":2}},\"shapedefaults\":{\"line\":{\"color\":\"#2a3f5f\"}},\"annotationdefaults\":{\"arrowcolor\":\"#2a3f5f\",\"arrowhead\":0,\"arrowwidth\":1},\"geo\":{\"bgcolor\":\"white\",\"landcolor\":\"#E5ECF6\",\"subunitcolor\":\"white\",\"showland\":true,\"showlakes\":true,\"lakecolor\":\"white\"},\"title\":{\"x\":0.05},\"mapbox\":{\"style\":\"light\"}}},\"legend\":{\"tracegroupgap\":0},\"title\":{\"text\":\"Interactive Pie Chart\"},\"width\":900,\"height\":700},                        {\"responsive\": true}                    ).then(function(){\n",
       "                            \n",
       "var gd = document.getElementById('4542f798-2b06-49e6-81ec-83aa934a99ee');\n",
       "var x = new MutationObserver(function (mutations, observer) {{\n",
       "        var display = window.getComputedStyle(gd).display;\n",
       "        if (!display || display === 'none') {{\n",
       "            console.log([gd, 'removed!']);\n",
       "            Plotly.purge(gd);\n",
       "            observer.disconnect();\n",
       "        }}\n",
       "}});\n",
       "\n",
       "// Listen for the removal of the full notebook cells\n",
       "var notebookContainer = gd.closest('#notebook-container');\n",
       "if (notebookContainer) {{\n",
       "    x.observe(notebookContainer, {childList: true});\n",
       "}}\n",
       "\n",
       "// Listen for the clearing of the current output cell\n",
       "var outputEl = gd.closest('.output');\n",
       "if (outputEl) {{\n",
       "    x.observe(outputEl, {childList: true});\n",
       "}}\n",
       "\n",
       "                        })                };                });            </script>        </div>"
      ]
     },
     "metadata": {},
     "output_type": "display_data"
    }
   ],
   "source": [
    "pi= px.pie(df,values='values',names='labels', title='Interactive Pie Chart',hover_data=['values'],labels={'values':'Percentage'})\n",
    "pi.update_layout(width=900,height=700)\n",
    "pi.show()"
   ]
  },
  {
   "cell_type": "code",
   "execution_count": null,
   "id": "49d849d2-2afa-466e-85ae-b7aadb5a3b43",
   "metadata": {},
   "outputs": [],
   "source": [
    "![newplot](newplot.png)"
   ]
  }
 ],
 "metadata": {
  "kernelspec": {
   "display_name": "Python 3 (ipykernel)",
   "language": "python",
   "name": "python3"
  },
  "language_info": {
   "codemirror_mode": {
    "name": "ipython",
    "version": 3
   },
   "file_extension": ".py",
   "mimetype": "text/x-python",
   "name": "python",
   "nbconvert_exporter": "python",
   "pygments_lexer": "ipython3",
   "version": "3.12.4"
  }
 },
 "nbformat": 4,
 "nbformat_minor": 5
}
