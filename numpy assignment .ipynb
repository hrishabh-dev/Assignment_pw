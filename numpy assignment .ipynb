{
 "cells": [
  {
   "cell_type": "markdown",
   "id": "ffb48949-2f4c-4fa6-a6ca-6ce8c63bddf9",
   "metadata": {},
   "source": [
    "# Theoretical Questions"
   ]
  },
  {
   "cell_type": "markdown",
   "id": "98702679-2a27-4a4e-96ab-1c1ec0ac7b61",
   "metadata": {},
   "source": [
    "### 1. Explain the purpose and advantages of NumPy in scientific computing and data analysis. How does it enhance Python's capabilities for numerical operations?"
   ]
  },
  {
   "cell_type": "code",
   "execution_count": null,
   "id": "fba3d9de-4430-490e-a60f-79316e3dac4a",
   "metadata": {},
   "outputs": [],
   "source": [
    "# SOLUTION :-\n",
    "'''\n",
    "1- Purpose - Its purspose is to provide :\n",
    "\n",
    "             a-Efficient numerical computation\n",
    "             \n",
    "             b-Mullti dimensional array data structure\n",
    "             \n",
    "             c-Vectorized operations\n",
    "             \n",
    "             d-Integration  with other scientific libraries \n",
    "\n",
    "2- Advantages - Speed : Numpy's optimized c code provides faster computation than native Python\n",
    "\n",
    "                Memory efficiency : Numpy array store data compactly reducing memory usgae\n",
    "                \n",
    "                Broadcasting : Easily perform operations on arrays with different shapes\n",
    "                \n",
    "                Integration : Seamlessly integrates with other scientific libraries\n",
    "                \n",
    "                Community : Large , active community contributes to numpy development and support\n",
    "\n",
    "'''\n",
    "# It enhances python capability for numerical operations in  several ways\n",
    "'''\n",
    "1-Advanced mathematical functions : Linear algebra  , Statsticial funcions , Random number generation \n",
    "\n",
    "2- optimized c code : numpy core is written in c it provides faster execution than native python\n",
    "\n",
    "3- Integration with other libraries : It integrates with scipy , pandas and matplotlib\n",
    "\n",
    "4- Efficient arrays : Replaces python list with optimized homogeneous array \n"
   ]
  },
  {
   "cell_type": "markdown",
   "id": "412d7724-32e4-44a6-9c35-0af0119e9294",
   "metadata": {},
   "source": [
    "### 2. Compare and contrast np.mean() and np.average() functions in NumPy. When would you use one over the other?"
   ]
  },
  {
   "cell_type": "code",
   "execution_count": null,
   "id": "7eeca012-f79d-48ac-9158-f53259d00fff",
   "metadata": {},
   "outputs": [],
   "source": [
    "# np.mean() and np.average() are two related but distinct functions in numpy for calculating central tendency of an array\n",
    "'''\n",
    "1- np.mean igonre NaNs by default \n",
    "   np.average propagates NaNs by default \n",
    "\n",
    "2- np.mean calculates the arithmetic mean \n",
    "   np.average calculates the weighted average\n",
    "\n",
    "Both support multidimensional arrays\n",
    "Both calculate central tendency of an array \n",
    "'''\n",
    "\n",
    "# We use  np.mean for calculating simple average and ignoring Nan \n",
    "# example \n",
    "np.mean(np.array([1,2,3,4]))\n",
    "ouput will be 2.5\n",
    "\n",
    "# We use np.average for calculating weighted average and preserving NaN\n",
    "#example\n",
    "np.average(np.array([1,2,3,4]))\n",
    "outout will be #NAN propogates NaN"
   ]
  },
  {
   "cell_type": "markdown",
   "id": "4226bd80-e428-413e-8f94-c74ebb1b6139",
   "metadata": {},
   "source": [
    "### 3. Describe the methods for reversing a NumPy array along different axes. Provide examples for 1D and 2D arrays"
   ]
  },
  {
   "cell_type": "code",
   "execution_count": 30,
   "id": "c8ea1d17-90e1-4d74-a005-42c8476d8753",
   "metadata": {},
   "outputs": [
    {
     "name": "stdout",
     "output_type": "stream",
     "text": [
      "----------------\n",
      "[1 2 3 4 5] Dimensions:- 1\n",
      "----------------\n",
      "[5 4 3 2 1]\n",
      "----------------\n",
      "[[1 2 3 4]\n",
      " [5 6 7 8]] Dimensions: 2\n",
      "[[5 6 7 8]\n",
      " [1 2 3 4]]\n",
      "----------------\n",
      "[[4 3 2 1]\n",
      " [8 7 6 5]]\n"
     ]
    }
   ],
   "source": [
    "# Reversing can be achieved using np.flip() or np.revers() function \n",
    "# in np.reverse() no axis specifie\n",
    "# np.flip() specific axis \n",
    "# EXAMPLE\n",
    "import numpy as np\n",
    "a=np.array([1,2,3,4,5])\n",
    "print('----------------')\n",
    "print(a,\"Dimensions:-\",a.ndim)\n",
    "print('----------------')\n",
    "print(np.flip(a))\n",
    "print('----------------')\n",
    "b=np.array([[1,2,3,4],[5,6,7,8]])\n",
    "print(b,\"Dimensions:\",b.ndim)\n",
    "print(np.flip(b,axis=0))\n",
    "print('----------------')\n",
    "print(np.flip(b,axis=1))"
   ]
  },
  {
   "cell_type": "markdown",
   "id": "fc8183a6-ddfc-4c32-a03b-276672820d89",
   "metadata": {},
   "source": [
    "### 4. How can you determine the data type of elements in a NumPy array? Discuss the importance of data types in memory management and performance"
   ]
  },
  {
   "cell_type": "code",
   "execution_count": 34,
   "id": "5aa0c427-8581-490f-bd04-fcf6ccf0d406",
   "metadata": {},
   "outputs": [
    {
     "name": "stdout",
     "output_type": "stream",
     "text": [
      "['a' 'b' 'c'] data type:- <U1\n",
      "[1 2 3 4] data type:- int32\n"
     ]
    }
   ],
   "source": [
    "# We can determine data type by using np.array.dtype\n",
    "#Example \n",
    "a=np.array(['a','b','c'])\n",
    "print(a, \"data type:-\",a.dtype)\n",
    "b=np.array([1,2,3,4])\n",
    "print(b, \"data type:-\",b.dtype)"
   ]
  },
  {
   "cell_type": "code",
   "execution_count": null,
   "id": "0d44c7d7-af70-435b-9fdf-6bf68db706a5",
   "metadata": {},
   "outputs": [],
   "source": [
    "'''\n",
    "Data type determines the amount of memory allocated for each variable  \n",
    "\n",
    "Larger data type consume more memory , leading to memory exhaustion \n",
    "\n",
    "Data alignment ensures efficient memory access and reduces memory waste \n",
    "\n",
    "Data types affect cache line alignment and utilization \n",
    "\n",
    "It impacts data transfer rates between memory and CPU\n",
    "'''"
   ]
  },
  {
   "cell_type": "markdown",
   "id": "ee44bfcd-4ceb-45a2-a2d8-9b2dc6557b68",
   "metadata": {},
   "source": [
    "### 5. Define ndarrays in NumPy and explain their key features. How do they differ from standard Python lists?"
   ]
  },
  {
   "cell_type": "code",
   "execution_count": null,
   "id": "f0193c8b-731c-4378-a9ce-2eefd376dce9",
   "metadata": {},
   "outputs": [],
   "source": [
    "'''\n",
    "An ndarray is a homogeneous multi dimensional collection of values , where each value has the same data type \n",
    "'''\n",
    "'''\n",
    "Key features -  Multi Dimensionality - ndarray can have any number of dimensions\n",
    "\n",
    "\n",
    "                Homogeneous - All elements have the same data type\n",
    "\n",
    "                Flexible data type - Supports various data types\n",
    "\n",
    "                Dynamic reshaping  - Can be reshape without copying data\n",
    "'''\n",
    "'''\n",
    "Python list :general purpose programming , storing heterogeneous data\n",
    "Numpy arrays : Scientific computing , data analysis , machine learning , image processing \n",
    "Performance - Numpy array provide faster element wise operation due to vectorization \n",
    "Mutability - Both numpy array and python list are mutable\n",
    "Reshape -Array can be reshape without copying data"
   ]
  },
  {
   "cell_type": "markdown",
   "id": "dce642ba-6f98-466d-99d5-632836bf8124",
   "metadata": {},
   "source": [
    "### 6. Analyze the performance benefits of NumPy arrays over Python lists for large-scale numerical operations."
   ]
  },
  {
   "cell_type": "code",
   "execution_count": null,
   "id": "1d8fbff1-2dfc-42e8-a6c6-41341e464adb",
   "metadata": {},
   "outputs": [],
   "source": [
    "'''\n",
    "Use numpy array for numerical operations numpy operations are implemented in c code\n",
    "\n",
    "It supports parallel operations using multi threading and multi processing \n",
    "\n",
    "Numpy arrays store data contiguously , minimizing memory access over head\n",
    "'''\n",
    "'''\n",
    "if we are performing addition in numpy array then execution time will be 12.6 msc \n",
    "\n",
    "while in list execution time will be 1.35 sec\n",
    "\n",
    "numpy array speed up data cleaning,filtering, and aggregation \n",
    "'''"
   ]
  },
  {
   "cell_type": "markdown",
   "id": "3f0a7309-6829-4cea-a4e1-e0d7834b7957",
   "metadata": {},
   "source": [
    "### 7. Compare vstack() and hstack() functions in NumPy. Provide examples demonstrating their usage and output."
   ]
  },
  {
   "cell_type": "code",
   "execution_count": null,
   "id": "baeca77e-f1bc-4d23-9aa8-f9233fd3bd6f",
   "metadata": {},
   "outputs": [],
   "source": [
    "'''\n",
    "Orientation - vstack () - stacks arrays vertically (row wise) \n",
    "              hstack () - stacks arrays horizontally (column wise)\n",
    "\n",
    "Axis - vstack() - concatenates along axis=0\n",
    "       hstack() - concatenates along axis=1\n",
    "\n",
    " vstack()- It increases number of rows \n",
    " hstack() - It increases number of columns\n",
    "'''"
   ]
  },
  {
   "cell_type": "code",
   "execution_count": 44,
   "id": "a2f95582-455f-46dc-8f93-ad577963b4f5",
   "metadata": {},
   "outputs": [
    {
     "name": "stdout",
     "output_type": "stream",
     "text": [
      "[[1 2 3]\n",
      " [4 5 6]]\n",
      "----------------\n",
      "Vertical stacking \n",
      "[[1 2 3]\n",
      " [4 5 6]]\n",
      "----------------\n",
      "Horizontal stacking \n",
      "[1 2 3 4 5 6]\n"
     ]
    }
   ],
   "source": [
    "# Example \n",
    "a=np.array([[1,2,3],[4,5,6]])\n",
    "print(a)\n",
    "print('----------------')\n",
    "n=np.vstack(a)\n",
    "print(\"Vertical stacking \")\n",
    "print(n)\n",
    "print('----------------')\n",
    "x=np.hstack(a)\n",
    "print(\"Horizontal stacking \")\n",
    "print(x)"
   ]
  },
  {
   "cell_type": "markdown",
   "id": "6da91bdf-b309-48bc-b2c5-a4addeee44c0",
   "metadata": {},
   "source": [
    "### 8. Explain the differences between fliplr() and flipud() methods in NumPy, including their effects on various array dimensions."
   ]
  },
  {
   "cell_type": "code",
   "execution_count": null,
   "id": "f892d7c1-b051-4aad-a16f-7e4c8156ac4a",
   "metadata": {},
   "outputs": [],
   "source": [
    "# fliplr()\n",
    "'''\n",
    "\n",
    "it flips array horizontally (left-right) \n",
    "\n",
    "flips along axis=1 (columns)\n",
    "\n",
    "'''\n",
    "# flipud()\n",
    "'''\n",
    "\n",
    "it flips array vertically (up down)\n",
    "\n",
    "flips along axis=0 (rows)\n",
    "\n",
    "'''\n",
    "\n",
    "# FOR 1D ARRAY - fliplr() and flipud() HAVE THE SAME EFFECT  :  IT WILL REVERSE ARRAY \n",
    "\n",
    "# FOR 2D ARRAY - fliplr() : FLIPS HORIZONTALLY (COLUMNS) ,flipud() : FLIP VERTICALLY  (ROWS)\n",
    "\n",
    "# FOR 3D ARRAY - fliplr() : FLIP HOTHORIZONTALLY (COLUMNS) ALONG AXIS=1 , flipud() : FLIP VERTICALLY  (ROWS) ALONG AXIS=0"
   ]
  },
  {
   "cell_type": "markdown",
   "id": "3f40cf5f-0a1e-48b9-8467-761da4779ca4",
   "metadata": {},
   "source": [
    "### 9. Discuss the functionality of the array_split() method in NumPy. How does it handle uneven splits?"
   ]
  },
  {
   "cell_type": "code",
   "execution_count": null,
   "id": "0cd2cbc1-af7c-4cc2-8166-3d52f12f8140",
   "metadata": {},
   "outputs": [],
   "source": [
    "'''\n",
    "It splits an array into multiple sub-arrays \n",
    "\n",
    "It allpws specification of the axis to split along \n",
    "\n",
    "It handles uneven split by distributing remaining elements\n",
    "\n",
    "'''\n",
    "'''\n",
    "It handles uneven splits by distributing the remaining elements among the sections \n",
    "\n",
    "If indices or split is an array like, split points must be specified explicitly\n",
    "\n",
    "'''"
   ]
  },
  {
   "cell_type": "markdown",
   "id": "7aad5724-84d6-4fa7-9d08-f01a2be66cb9",
   "metadata": {},
   "source": [
    "### 10. Explain the concepts of vectorization and broadcasting in NumPy. How do they contribute to efficient array operations?"
   ]
  },
  {
   "cell_type": "code",
   "execution_count": null,
   "id": "28596aa4-0298-4289-a413-7b5137e1f413",
   "metadata": {},
   "outputs": [],
   "source": [
    "# Vectorization :-\n",
    "'''\n",
    "It is the process of applying operations to entire array at once , without the need for explicit loops \n",
    "\n",
    "Benefit - \n",
    "\n",
    "a- Faster execution \n",
    "\n",
    "b- Concise code\n",
    "\n",
    "c- Improved readability\n",
    "\n",
    "Shapes should be equal \n",
    "'''\n",
    "# Broadcasting :- \n",
    "'''\n",
    "It is the process of aligning arrays with different shapes and sizes for operations\n",
    "\n",
    "Rules - if shapes are equal , no broadcastinng occurs\n",
    "\n",
    "       If shapes are incompatible , a value error is raised \n",
    "'''\n",
    "\n",
    "# Vectorization contribution \n",
    "'''\n",
    "Faster execution - operations are faster than looping over individual elements\n",
    "\n",
    "concise code - reduce code length and improve readability\n",
    "\n",
    "improved memory management - minimize memory allocation\n",
    "\n",
    "parallelization - Take advantage of multi core processors\n",
    "'''\n",
    "# Broadcasting contribution \n",
    "'''\n",
    "Flexible array alignment - allows array with different shapes to be aligned for operations \n",
    "\n",
    "Eficient memory usage - minimizes memory allocation and copying\n",
    "\n",
    "simplified code - reduces the need for explicit looping and indexing \n",
    "\n",
    "Enhanced Expressiveness - enables complex operations to be expressed concisely\n",
    "'''"
   ]
  },
  {
   "cell_type": "markdown",
   "id": "dd393ca1-4b5f-437c-9bc7-1ed7ca754924",
   "metadata": {},
   "source": [
    "## PRACTICAL QUESTIONS"
   ]
  },
  {
   "cell_type": "code",
   "execution_count": 10,
   "id": "6d8c0e4b-8caa-4654-90df-a7ce35098dca",
   "metadata": {},
   "outputs": [],
   "source": [
    "import numpy as np\n",
    "import random"
   ]
  },
  {
   "cell_type": "markdown",
   "id": "bf391478-fe94-4a2e-8425-4431ad4828a3",
   "metadata": {},
   "source": [
    "### 1. Create a 3x3 NumPy array with random integers between 1 and 100. Then, interchange its rows and columns"
   ]
  },
  {
   "cell_type": "code",
   "execution_count": 4,
   "id": "5f434fee-679c-48d8-882d-7e19e2bcddd9",
   "metadata": {},
   "outputs": [],
   "source": [
    "# SOLUTION :-"
   ]
  },
  {
   "cell_type": "code",
   "execution_count": 30,
   "id": "17da1ea7-0730-48e3-b693-dd6f74c0cbbf",
   "metadata": {},
   "outputs": [
    {
     "name": "stdout",
     "output_type": "stream",
     "text": [
      "original array\n",
      "----------------\n",
      "[[55 11 85]\n",
      " [14 32 56]\n",
      " [66 88 34]]\n"
     ]
    }
   ],
   "source": [
    "arr=np.random.randint(1,100,(3,3))\n",
    "print(\"original array\")\n",
    "print(\"----------------\")\n",
    "print(arr)"
   ]
  },
  {
   "cell_type": "code",
   "execution_count": 32,
   "id": "03ac56f9-f0e4-4238-b42d-1494aefe9fc5",
   "metadata": {},
   "outputs": [
    {
     "name": "stdout",
     "output_type": "stream",
     "text": [
      "transposed array\n",
      "---------------\n",
      "[[55 14 66]\n",
      " [11 32 88]\n",
      " [85 56 34]]\n"
     ]
    }
   ],
   "source": [
    "transpose=arr.T\n",
    "print(\"transposed array\")\n",
    "print(\"---------------\")\n",
    "print(transpose)"
   ]
  },
  {
   "cell_type": "markdown",
   "id": "ec4f4ae8-b249-4af8-8a83-3f53316c18ca",
   "metadata": {},
   "source": [
    "### 2. Generate a 1D NumPy array with 10 elements. Reshape it into a 2x5 array, then into a 5x2 array"
   ]
  },
  {
   "cell_type": "code",
   "execution_count": 35,
   "id": "00398707-f458-4d6d-9661-d3142330df27",
   "metadata": {},
   "outputs": [],
   "source": [
    "# SOLUTION :-"
   ]
  },
  {
   "cell_type": "code",
   "execution_count": 43,
   "id": "4ed82f6d-1d4e-4056-930b-e6aab75048b6",
   "metadata": {},
   "outputs": [
    {
     "name": "stdout",
     "output_type": "stream",
     "text": [
      "[ 1  2  3  4  5  6  7  8  9 10]\n"
     ]
    }
   ],
   "source": [
    "arr1=np.arange(1,11)\n",
    "print(arr1)"
   ]
  },
  {
   "cell_type": "code",
   "execution_count": 51,
   "id": "42349fc1-c427-4082-a9fe-9f83eb9ec1f1",
   "metadata": {},
   "outputs": [
    {
     "name": "stdout",
     "output_type": "stream",
     "text": [
      "2x5 array\n",
      "-------------\n",
      "[[ 1  2  3  4  5]\n",
      " [ 6  7  8  9 10]]\n"
     ]
    }
   ],
   "source": [
    "# RESHAPING  IT INTO 2X5 ARRAY\n",
    "x=arr1.reshape(2,5)\n",
    "print(\"2x5 array\")\n",
    "print(\"-------------\")\n",
    "print(x)"
   ]
  },
  {
   "cell_type": "code",
   "execution_count": 53,
   "id": "26839f0c-49a2-4cd7-b79d-c4ff144549df",
   "metadata": {},
   "outputs": [
    {
     "name": "stdout",
     "output_type": "stream",
     "text": [
      "5x2 array\n",
      "-------------\n",
      "[[ 1  2]\n",
      " [ 3  4]\n",
      " [ 5  6]\n",
      " [ 7  8]\n",
      " [ 9 10]]\n"
     ]
    }
   ],
   "source": [
    "# RESHAPING IT INTO 5X2 ARRAY\n",
    "y=arr1.reshape(5,2)\n",
    "print(\"5x2 array\")\n",
    "print(\"-------------\")\n",
    "print(y)"
   ]
  },
  {
   "cell_type": "markdown",
   "id": "8d27276b-c08a-4182-9b98-34e2ba6026e9",
   "metadata": {},
   "source": [
    "### 3. Create a 4x4 NumPy array with random float values. Add a border of zeros around it, resulting in a 6x6 array.\n"
   ]
  },
  {
   "cell_type": "code",
   "execution_count": 57,
   "id": "a0906151-a6f6-4304-aadb-e3fb1588c9ef",
   "metadata": {},
   "outputs": [],
   "source": [
    "# SOLUTION :-"
   ]
  },
  {
   "cell_type": "code",
   "execution_count": 69,
   "id": "5334591b-e1db-498c-94b2-0ff8cb2cbdf2",
   "metadata": {},
   "outputs": [
    {
     "name": "stdout",
     "output_type": "stream",
     "text": [
      "[[0.287751   0.30396765 0.58492774 0.69706699]\n",
      " [0.55770281 0.58350234 0.51656496 0.92450408]\n",
      " [0.87411805 0.62813061 0.7457788  0.89459938]\n",
      " [0.03023781 0.46506781 0.09350051 0.97329021]]\n",
      "------------------\n",
      "(4, 4)\n"
     ]
    }
   ],
   "source": [
    "arr2=np.random.rand(4,4)\n",
    "print(arr2)\n",
    "print(\"------------------\")\n",
    "print(arr2.shape)"
   ]
  },
  {
   "cell_type": "code",
   "execution_count": 92,
   "id": "52b5d3a2-2efe-4c53-be96-9b556643df45",
   "metadata": {},
   "outputs": [
    {
     "name": "stdout",
     "output_type": "stream",
     "text": [
      "border of zeros\n",
      "-------------------\n",
      "[[0.         0.         0.         0.         0.         0.        ]\n",
      " [0.         0.287751   0.30396765 0.58492774 0.69706699 0.        ]\n",
      " [0.         0.55770281 0.58350234 0.51656496 0.92450408 0.        ]\n",
      " [0.         0.87411805 0.62813061 0.7457788  0.89459938 0.        ]\n",
      " [0.         0.03023781 0.46506781 0.09350051 0.97329021 0.        ]\n",
      " [0.         0.         0.         0.         0.         0.        ]]\n",
      "------------------\n",
      "(6, 6)\n"
     ]
    }
   ],
   "source": [
    "border=np.pad(arr2,1)\n",
    "print(\"border of zeros\")\n",
    "print(\"-------------------\")\n",
    "print(border)\n",
    "print(\"------------------\")\n",
    "print(border.shape)"
   ]
  },
  {
   "cell_type": "markdown",
   "id": "c09c476b-a6ea-4f7c-97c9-819e0e6e530a",
   "metadata": {},
   "source": [
    "### 4. Using NumPy, create an array of integers from 10 to 60 with a step of 5."
   ]
  },
  {
   "cell_type": "code",
   "execution_count": 72,
   "id": "17c868eb-0654-455d-b276-83f0a191d60a",
   "metadata": {},
   "outputs": [],
   "source": [
    "# SOLUTION :-"
   ]
  },
  {
   "cell_type": "code",
   "execution_count": 76,
   "id": "1e9d485d-83b7-4ec0-b8cc-d98c681eacae",
   "metadata": {},
   "outputs": [
    {
     "name": "stdout",
     "output_type": "stream",
     "text": [
      "[10 15 20 25 30 35 40 45 50 55]\n"
     ]
    }
   ],
   "source": [
    "arr3=np.arange(10,60,5)\n",
    "print(arr3)"
   ]
  },
  {
   "cell_type": "markdown",
   "id": "4c62d472-7227-4e06-94f6-4d42f053473d",
   "metadata": {},
   "source": [
    "### 5. Create a NumPy array of strings ['python', 'numpy', 'pandas']. Apply different case transformations."
   ]
  },
  {
   "cell_type": "markdown",
   "id": "368ce4ab-4cdd-45cf-a373-019b83becece",
   "metadata": {},
   "source": [
    "### (uppercase, lowercase, title case, etc.) to each element"
   ]
  },
  {
   "cell_type": "code",
   "execution_count": 84,
   "id": "bc69830e-0d2d-45c3-b624-d0ff77e97314",
   "metadata": {},
   "outputs": [],
   "source": [
    "# SOLUTION :-"
   ]
  },
  {
   "cell_type": "code",
   "execution_count": 88,
   "id": "18d7b110-f69f-45cb-95dc-d2dd4dd6f0ce",
   "metadata": {},
   "outputs": [
    {
     "name": "stdout",
     "output_type": "stream",
     "text": [
      "['python' 'numpy' 'pandas']\n"
     ]
    }
   ],
   "source": [
    "st=['python','numpy','pandas']\n",
    "arr4=np.array(st)\n",
    "print(arr4)"
   ]
  },
  {
   "cell_type": "code",
   "execution_count": 94,
   "id": "0805a0d3-ca64-4a4d-8799-93eb241c3498",
   "metadata": {},
   "outputs": [
    {
     "name": "stdout",
     "output_type": "stream",
     "text": [
      "Uppercase\n",
      "['PYTHON' 'NUMPY' 'PANDAS']\n"
     ]
    }
   ],
   "source": [
    "up=np.char.upper(arr4)\n",
    "print(\"Uppercase\")\n",
    "print(up)"
   ]
  },
  {
   "cell_type": "code",
   "execution_count": 102,
   "id": "ef6a0405-01db-48b7-a0e5-2ce9c605ce64",
   "metadata": {},
   "outputs": [
    {
     "name": "stdout",
     "output_type": "stream",
     "text": [
      "First word of each word is uppercase\n",
      "['Python' 'Numpy' 'Pandas']\n"
     ]
    }
   ],
   "source": [
    "cap=np.char.capitalize(arr4)\n",
    "print(\"First word of each word is uppercase\")\n",
    "print(cap)"
   ]
  },
  {
   "cell_type": "code",
   "execution_count": 100,
   "id": "e11610fc-1e75-4121-a51f-5d5e5a40da80",
   "metadata": {},
   "outputs": [
    {
     "name": "stdout",
     "output_type": "stream",
     "text": [
      "['PYTHON' 'NUMPY' 'PANDAS']\n",
      "-------------\n",
      "lowercase\n",
      "['python' 'numpy' 'pandas']\n"
     ]
    }
   ],
   "source": [
    "print(up)\n",
    "print(\"-------------\")\n",
    "print(\"lowercase\")\n",
    "lo=np.char.lower(up)\n",
    "print(lo)"
   ]
  },
  {
   "cell_type": "code",
   "execution_count": 106,
   "id": "df44c065-8352-43d5-addb-1303b42e58e7",
   "metadata": {},
   "outputs": [
    {
     "name": "stdout",
     "output_type": "stream",
     "text": [
      "['python' 'numpy' 'pandas']\n",
      "----------------\n",
      "both capitalize and title works same\n",
      "-----------------------------------\n",
      "['Python' 'Numpy' 'Pandas']\n"
     ]
    }
   ],
   "source": [
    "print(lo)\n",
    "print(\"----------------\")\n",
    "n=np.char.title(lo)\n",
    "print(\"both capitalize and title works same\")\n",
    "print(\"-----------------------------------\")\n",
    "print(n)"
   ]
  },
  {
   "cell_type": "markdown",
   "id": "4a50b03c-04c3-4f03-a9b3-81893055984d",
   "metadata": {},
   "source": [
    "### 6. Generate a NumPy array of words. Insert a space between each character of every word in the array."
   ]
  },
  {
   "cell_type": "code",
   "execution_count": 109,
   "id": "32b8f349-e405-4112-89a6-0f8290a4b4e0",
   "metadata": {},
   "outputs": [],
   "source": [
    "# SOLUTION :-"
   ]
  },
  {
   "cell_type": "code",
   "execution_count": 111,
   "id": "6650bf5e-bd04-4764-b92e-224b916aa99c",
   "metadata": {},
   "outputs": [
    {
     "name": "stdout",
     "output_type": "stream",
     "text": [
      "['ramesh' 'apple' 'banana' 'suresh' 'cherry']\n"
     ]
    }
   ],
   "source": [
    "li=['ramesh','apple','banana','suresh','cherry']\n",
    "ins=np.array(li)\n",
    "print(ins)"
   ]
  },
  {
   "cell_type": "code",
   "execution_count": 125,
   "id": "5646a681-ec8f-400a-817a-55d48b8f3dc4",
   "metadata": {},
   "outputs": [],
   "source": [
    "# using list comprehension \n",
    "space=[\" \".join(i)for i in ins] "
   ]
  },
  {
   "cell_type": "code",
   "execution_count": 127,
   "id": "ed507c69-c045-4010-a4d2-35f2039423da",
   "metadata": {},
   "outputs": [
    {
     "name": "stdout",
     "output_type": "stream",
     "text": [
      "list comprehension iterates over each word \n",
      "-----------------------------------------------\n",
      "['r a m e s h', 'a p p l e', 'b a n a n a', 's u r e s h', 'c h e r r y']\n"
     ]
    }
   ],
   "source": [
    "print(\"list comprehension iterates over each word \")\n",
    "print(\"-----------------------------------------------\")\n",
    "print(space)"
   ]
  },
  {
   "cell_type": "markdown",
   "id": "8c90cfb3-cca3-415d-935d-5f2e2266eb82",
   "metadata": {},
   "source": [
    "### 7. Create two 2D NumPy arrays and perform element-wise addition, subtraction, multiplication, and division"
   ]
  },
  {
   "cell_type": "code",
   "execution_count": 131,
   "id": "0b1747a3-f6d7-4553-b1a4-f62406e7d571",
   "metadata": {},
   "outputs": [],
   "source": [
    "# SOLUTION :-"
   ]
  },
  {
   "cell_type": "code",
   "execution_count": 141,
   "id": "ee2ba6e4-8d8a-4683-b511-6ec465cea7b1",
   "metadata": {},
   "outputs": [
    {
     "name": "stdout",
     "output_type": "stream",
     "text": [
      "[[1 2 3 4 5 6]]\n",
      "--------------\n",
      "[[ 7  8  9 10 11 12]]\n"
     ]
    }
   ],
   "source": [
    "arr5=np.array([[1,2,3,4,5,6]])\n",
    "arr6=np.array([[7,8,9,10,11,12]])\n",
    "print(arr5)\n",
    "print(\"--------------\")\n",
    "print(arr6)"
   ]
  },
  {
   "cell_type": "code",
   "execution_count": 161,
   "id": "26b9f596-52bc-4a29-a660-4b40022390f9",
   "metadata": {},
   "outputs": [
    {
     "name": "stdout",
     "output_type": "stream",
     "text": [
      "[[1 2]\n",
      " [3 4]\n",
      " [5 6]]\n",
      "---------------\n",
      "[[ 7  8]\n",
      " [ 9 10]\n",
      " [11 12]]\n"
     ]
    }
   ],
   "source": [
    "a=arr5.reshape(3,2)\n",
    "print(a)\n",
    "print(\"---------------\")\n",
    "print(b)\n",
    "b=arr6.reshape(3,2)"
   ]
  },
  {
   "cell_type": "code",
   "execution_count": 186,
   "id": "a9db5ed9-0545-47b7-8659-58f650621431",
   "metadata": {},
   "outputs": [
    {
     "name": "stdout",
     "output_type": "stream",
     "text": [
      "addition\n",
      "-----------\n"
     ]
    },
    {
     "data": {
      "text/plain": [
       "array([[ 8, 10],\n",
       "       [12, 14],\n",
       "       [16, 18]])"
      ]
     },
     "execution_count": 186,
     "metadata": {},
     "output_type": "execute_result"
    }
   ],
   "source": [
    "print(\"addition\")\n",
    "print(\"-----------\")\n",
    "np.add(a,b)"
   ]
  },
  {
   "cell_type": "code",
   "execution_count": 188,
   "id": "e78905c3-db84-4c0a-a2e9-037953f951c6",
   "metadata": {},
   "outputs": [
    {
     "name": "stdout",
     "output_type": "stream",
     "text": [
      "subtraction\n",
      "-----------\n"
     ]
    },
    {
     "data": {
      "text/plain": [
       "array([[-6, -6],\n",
       "       [-6, -6],\n",
       "       [-6, -6]])"
      ]
     },
     "execution_count": 188,
     "metadata": {},
     "output_type": "execute_result"
    }
   ],
   "source": [
    "print(\"subtraction\")\n",
    "print(\"-----------\")\n",
    "np.subtract(a,b)"
   ]
  },
  {
   "cell_type": "code",
   "execution_count": 190,
   "id": "ca49fe66-2b0e-4966-9547-88f789562ead",
   "metadata": {},
   "outputs": [
    {
     "name": "stdout",
     "output_type": "stream",
     "text": [
      "multiplication\n",
      "-----------\n"
     ]
    },
    {
     "data": {
      "text/plain": [
       "array([[ 7, 16],\n",
       "       [27, 40],\n",
       "       [55, 72]])"
      ]
     },
     "execution_count": 190,
     "metadata": {},
     "output_type": "execute_result"
    }
   ],
   "source": [
    "print(\"multiplication\")\n",
    "print(\"-----------\")\n",
    "np.multiply(a,b)"
   ]
  },
  {
   "cell_type": "code",
   "execution_count": 192,
   "id": "5d664ffc-1b8d-4a97-ab5d-bc0cc9218267",
   "metadata": {},
   "outputs": [
    {
     "name": "stdout",
     "output_type": "stream",
     "text": [
      "division\n",
      "-----------\n"
     ]
    },
    {
     "data": {
      "text/plain": [
       "array([[1, 2],\n",
       "       [3, 4],\n",
       "       [5, 6]])"
      ]
     },
     "execution_count": 192,
     "metadata": {},
     "output_type": "execute_result"
    }
   ],
   "source": [
    "print(\"division\")\n",
    "print(\"-----------\")\n",
    "np.mod(a,b)"
   ]
  },
  {
   "cell_type": "markdown",
   "id": "55900bf4-67a0-47f9-81ea-85bd682fa0ba",
   "metadata": {},
   "source": [
    "### 8. Use NumPy to create a 5x5 identity matrix, then extract its diagonal elements."
   ]
  },
  {
   "cell_type": "code",
   "execution_count": 195,
   "id": "3255e284-c392-45ac-94f3-1494c81e7559",
   "metadata": {},
   "outputs": [],
   "source": [
    "# SOLUTION :-"
   ]
  },
  {
   "cell_type": "code",
   "execution_count": 255,
   "id": "0d0fb7b9-a935-427b-921c-48dac3c98e81",
   "metadata": {},
   "outputs": [],
   "source": [
    "mat=np.random.randint(1,21,(5,5))\n",
    "mat\n",
    "a=np.matrix(mat)"
   ]
  },
  {
   "cell_type": "code",
   "execution_count": 269,
   "id": "28363ef4-0840-46d7-8322-88d78ce085af",
   "metadata": {},
   "outputs": [
    {
     "name": "stdout",
     "output_type": "stream",
     "text": [
      "<class 'numpy.matrix'>\n",
      "--------------\n",
      "[[17  7  8 20  4]\n",
      " [17 14 11 18 12]\n",
      " [18  1 16  8 10]\n",
      " [ 4 17 10  2  5]\n",
      " [18 18  9 11 10]]\n",
      "---------------\n",
      "diagonal elements\n",
      "--------------\n",
      "[17 14 16  2 10]\n",
      "[ 4 18 16 17 18]\n"
     ]
    }
   ],
   "source": [
    "n=type(a)\n",
    "print(n)\n",
    "print('--------------')\n",
    "print(a)\n",
    "print('---------------')\n",
    "print(\"diagonal elements\")\n",
    "print('--------------')\n",
    "print(np.diag(a))\n",
    "print(np.diag(np.fliplr(a)))"
   ]
  },
  {
   "cell_type": "markdown",
   "id": "0a25648b-321d-4cc4-b73d-4d74211f2c93",
   "metadata": {},
   "source": [
    "### 9. Generate a NumPy array of 100 random integers between 0 and 1000. Find and display all prime numbers in  this array"
   ]
  },
  {
   "cell_type": "code",
   "execution_count": 273,
   "id": "91af551b-a9b3-4aa7-b51e-be714e74627a",
   "metadata": {},
   "outputs": [],
   "source": [
    "# SOLUTION :-"
   ]
  },
  {
   "cell_type": "code",
   "execution_count": 295,
   "id": "e1d2f5d6-04a6-4161-9cb0-230793ee0b46",
   "metadata": {},
   "outputs": [
    {
     "name": "stdout",
     "output_type": "stream",
     "text": [
      "Random number\n",
      "[272 517 207  52 437 804 306 129 331 685 615 552 776 662 455 332 257 655\n",
      " 531 593 853 848 607 268 207 648 564 874 795 268 841 305 163 619   5  66\n",
      " 202 785 592 730 978 375 892 272 896 684 465 535 968 786 675 338 808 847\n",
      " 481 487 889 546 549  85 429 465  76 251 797  39 496 928 502 756 153 538\n",
      "   7 528 701 620 876 536 256 593 297 811 490 118 191 459 186  28  15 365\n",
      " 181 580 341 270 449 267 715 904 905 121]\n",
      "--------------------------\n",
      "Prime numbers: [331, 257, 593, 853, 607, 163, 619, 5, 487, 251, 797, 7, 701, 593, 811, 191, 181, 449]\n"
     ]
    }
   ],
   "source": [
    "arr7=np.random.randint(0,1000,100)\n",
    "pr=[]\n",
    "for i in arr7:\n",
    "    a=True\n",
    "    if i<2:\n",
    "        a=False\n",
    "    else:\n",
    "        for j in range(2,int(i**0.5)+1):\n",
    "            if i %j==0:\n",
    "                a=False\n",
    "                break\n",
    "    if a:\n",
    "        pr.append(i)\n",
    "print(\"Random number\")\n",
    "print(arr7)\n",
    "print(\"--------------------------\")\n",
    "print(\"Prime numbers:\",pr)"
   ]
  },
  {
   "cell_type": "markdown",
   "id": "df268d88-752a-4db7-a7c9-01b200557e09",
   "metadata": {},
   "source": [
    "### 10. Create a NumPy array representing daily temperatures for a month. Calculate and display the weekly averages."
   ]
  },
  {
   "cell_type": "code",
   "execution_count": 307,
   "id": "cb1cddd9-81a3-4ae9-aea4-266adb710a89",
   "metadata": {},
   "outputs": [
    {
     "name": "stdout",
     "output_type": "stream",
     "text": [
      "In celcius\n"
     ]
    }
   ],
   "source": [
    "print(\"In celcius\")\n",
    "a=np.array([12,14,15,18,20,16,22,\n",
    "   20,19,23,24,25,26,25,\n",
    "   25,24,24,23,23,24,25,\n",
    "   25,26,27,27,25,26,27])\n",
    "re=n.reshape(4,7)"
   ]
  },
  {
   "cell_type": "code",
   "execution_count": 311,
   "id": "efa00ec7-2736-4ebd-8c36-9696b1c5aaf9",
   "metadata": {},
   "outputs": [
    {
     "name": "stdout",
     "output_type": "stream",
     "text": [
      "Temperature data of a month \n",
      "--------------------------\n",
      "[[12 14 15 18 20 16 22]\n",
      " [20 19 23 24 25 26 25]\n",
      " [25 24 24 23 23 24 25]\n",
      " [25 26 27 27 25 26 27]]\n",
      "----------------\n",
      "Weekly Average\n",
      "------------\n"
     ]
    },
    {
     "data": {
      "text/plain": [
       "array([16.71428571, 23.14285714, 24.        , 26.14285714])"
      ]
     },
     "execution_count": 311,
     "metadata": {},
     "output_type": "execute_result"
    }
   ],
   "source": [
    "avg=np.mean(re,axis=1)\n",
    "print(\"Temperature data of a month \")\n",
    "print(\"--------------------------\")\n",
    "print(re)\n",
    "print('----------------')\n",
    "print('Weekly Average')\n",
    "print('------------')\n",
    "avg"
   ]
  },
  {
   "cell_type": "code",
   "execution_count": null,
   "id": "0349fb61-6039-4b3b-abc6-60a0e8fb686e",
   "metadata": {},
   "outputs": [],
   "source": []
  }
 ],
 "metadata": {
  "kernelspec": {
   "display_name": "Python 3 (ipykernel)",
   "language": "python",
   "name": "python3"
  },
  "language_info": {
   "codemirror_mode": {
    "name": "ipython",
    "version": 3
   },
   "file_extension": ".py",
   "mimetype": "text/x-python",
   "name": "python",
   "nbconvert_exporter": "python",
   "pygments_lexer": "ipython3",
   "version": "3.12.4"
  }
 },
 "nbformat": 4,
 "nbformat_minor": 5
}
