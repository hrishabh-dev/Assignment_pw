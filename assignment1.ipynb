{
 "cells": [
  {
   "cell_type": "code",
   "execution_count": null,
   "id": "c8d2c837-5436-4f24-a7b0-c4ae811087f1",
   "metadata": {},
   "outputs": [],
   "source": [
    "# 1- Discuss string slicing and provide examples."
   ]
  },
  {
   "cell_type": "code",
   "execution_count": null,
   "id": "34ceba80-65a3-4f5f-82ca-b75189e187cd",
   "metadata": {},
   "outputs": [],
   "source": [
    "'''\n",
    "solution:- String slicing means extracting a subset of characters from a string.\n",
    "           \n",
    "'''\n",
    "# syntax for string slicing is :- string[start:stop:step]\n",
    "# by default step is 1 "
   ]
  },
  {
   "cell_type": "code",
   "execution_count": 2,
   "id": "18977219-69a3-473f-9c73-404b061fff67",
   "metadata": {},
   "outputs": [
    {
     "data": {
      "text/plain": [
       "'r'"
      ]
     },
     "execution_count": 2,
     "metadata": {},
     "output_type": "execute_result"
    }
   ],
   "source": [
    "# example 1:-\n",
    "st=\"Hrishabh\"\n",
    "st[1]"
   ]
  },
  {
   "cell_type": "code",
   "execution_count": 6,
   "id": "cbdc541c-7a9d-484e-a680-688afc3e041e",
   "metadata": {},
   "outputs": [
    {
     "data": {
      "text/plain": [
       "'H'"
      ]
     },
     "execution_count": 6,
     "metadata": {},
     "output_type": "execute_result"
    }
   ],
   "source": [
    "# example 2:-\n",
    "st[0]"
   ]
  },
  {
   "cell_type": "code",
   "execution_count": 8,
   "id": "299b2eed-a82d-4007-893d-3b9512b81dfa",
   "metadata": {},
   "outputs": [
    {
     "data": {
      "text/plain": [
       "'Hris'"
      ]
     },
     "execution_count": 8,
     "metadata": {},
     "output_type": "execute_result"
    }
   ],
   "source": [
    "# example 3:-\n",
    "st[0:4]"
   ]
  },
  {
   "cell_type": "code",
   "execution_count": 10,
   "id": "0e634ef5-d9ab-4e22-8cbc-2426f2f5e7f4",
   "metadata": {},
   "outputs": [
    {
     "data": {
      "text/plain": [
       "'Hih'"
      ]
     },
     "execution_count": 10,
     "metadata": {},
     "output_type": "execute_result"
    }
   ],
   "source": [
    "# example 4:-\n",
    "#from the above syntax- string[start:stop:step] \n",
    "st[0:6:2]"
   ]
  },
  {
   "cell_type": "code",
   "execution_count": 18,
   "id": "c0a69164-e536-4d8b-8cc3-12017ec3fa89",
   "metadata": {},
   "outputs": [
    {
     "data": {
      "text/plain": [
       "'I live in Prayagraj '"
      ]
     },
     "execution_count": 18,
     "metadata": {},
     "output_type": "execute_result"
    }
   ],
   "source": [
    "# example 5:-\n",
    "ci=\"I live in Prayagraj city\"\n",
    "# if i  want to see everything except last 4 characters\n",
    "ci[:-4]\n"
   ]
  },
  {
   "cell_type": "code",
   "execution_count": 20,
   "id": "2ef1f9aa-cfb4-4aed-98e4-69e79228eb7c",
   "metadata": {},
   "outputs": [
    {
     "data": {
      "text/plain": [
       "'city'"
      ]
     },
     "execution_count": 20,
     "metadata": {},
     "output_type": "execute_result"
    }
   ],
   "source": [
    "# example 5:-\n",
    "# if i only want to see last 4 characters\n",
    "ci[-4:]"
   ]
  },
  {
   "cell_type": "code",
   "execution_count": 22,
   "id": "53b285dc-f268-48e7-8ad2-9073cb7ab8b8",
   "metadata": {},
   "outputs": [
    {
     "data": {
      "text/plain": [
       "'Horo'"
      ]
     },
     "execution_count": 22,
     "metadata": {},
     "output_type": "execute_result"
    }
   ],
   "source": [
    "# exmaple 6:-\n",
    "a=\"Hi how are you\"\n",
    "# it will iterate over the sequence \n",
    "# it wil start from beginning , step will be 4\n",
    "a[::4]"
   ]
  },
  {
   "cell_type": "code",
   "execution_count": 28,
   "id": "d85a0f0a-8e20-49dc-ba3c-cf4d3a219fa3",
   "metadata": {},
   "outputs": [
    {
     "data": {
      "text/plain": [
       "'u aoi'"
      ]
     },
     "execution_count": 28,
     "metadata": {},
     "output_type": "execute_result"
    }
   ],
   "source": [
    "# example 7\n",
    "# if we want to see it iterate in reverse order\n",
    "a[::-3]"
   ]
  },
  {
   "cell_type": "code",
   "execution_count": null,
   "id": "34502213-7605-44a3-a5a3-4bbf698f0f78",
   "metadata": {},
   "outputs": [],
   "source": [
    "# Since strings are immutable we can only modify it by using:- string(word we want to replace, word in place of replaced word)"
   ]
  },
  {
   "cell_type": "code",
   "execution_count": null,
   "id": "c3e1ce7c-05d3-4d3b-b899-8123a88d4f05",
   "metadata": {},
   "outputs": [],
   "source": [
    "# 2- Explain the key features of lists in Python."
   ]
  },
  {
   "cell_type": "code",
   "execution_count": null,
   "id": "b380ac9a-234f-442c-8d6d-9dfdb71f5a41",
   "metadata": {},
   "outputs": [],
   "source": [
    "'''\n",
    "solution:- Lists are ordered collection of items , we can store any data type in list\n",
    "           for example:- list=[1,2,\"hi\",4.6],3+5j]\n",
    "'''"
   ]
  },
  {
   "cell_type": "code",
   "execution_count": 30,
   "id": "d95ebba6-0e00-4123-b4ed-de749336c51e",
   "metadata": {},
   "outputs": [
    {
     "data": {
      "text/plain": [
       "[1, 2, 'hello', 4]"
      ]
     },
     "execution_count": 30,
     "metadata": {},
     "output_type": "execute_result"
    }
   ],
   "source": [
    "#key features of list are:- \n",
    "'''\n",
    "1-Lists are mutable \n",
    "'''\n",
    "# Example 1\n",
    "a=[1,2,3,4]\n",
    "a[2]=\"hello\"\n",
    "a"
   ]
  },
  {
   "cell_type": "code",
   "execution_count": 32,
   "id": "2eb372f0-f54b-455e-bb8b-12969b02ce66",
   "metadata": {},
   "outputs": [
    {
     "data": {
      "text/plain": [
       "[1, 'hi', 3.4, (3+5j)]"
      ]
     },
     "execution_count": 32,
     "metadata": {},
     "output_type": "execute_result"
    }
   ],
   "source": [
    "'''\n",
    "2-Lists are heterogeneous\n",
    "'''\n",
    "# Example 2\n",
    "a=[1,\"hi\",3.4,3+5j]\n",
    "a"
   ]
  },
  {
   "cell_type": "code",
   "execution_count": 36,
   "id": "c77f052b-d085-4886-9a3a-af4b9f0efec7",
   "metadata": {},
   "outputs": [
    {
     "name": "stdout",
     "output_type": "stream",
     "text": [
      "[3, 4, 5, 6, 7]\n"
     ]
    },
    {
     "data": {
      "text/plain": [
       "5"
      ]
     },
     "execution_count": 36,
     "metadata": {},
     "output_type": "execute_result"
    }
   ],
   "source": [
    "'''\n",
    "3-Lists can be accessed through indexing \n",
    "'''\n",
    "# Example 3\n",
    "a=[3,4,5,6,7]\n",
    "print(a)\n",
    "a[2]"
   ]
  },
  {
   "cell_type": "code",
   "execution_count": 43,
   "id": "5b28344f-0744-42c8-991b-7f9c21864cf4",
   "metadata": {},
   "outputs": [
    {
     "name": "stdout",
     "output_type": "stream",
     "text": [
      "0\n",
      "1\n",
      "2\n",
      "3\n",
      "4\n"
     ]
    }
   ],
   "source": [
    "'''\n",
    "4-Lists are iterable \n",
    "'''\n",
    "# Example 4\n",
    "a=[1,2,3,4,5]\n",
    "for i in range (len(a)):\n",
    "    print(i)"
   ]
  },
  {
   "cell_type": "code",
   "execution_count": 49,
   "id": "64bf09b6-e41a-4e7f-8f6c-2128aa70bc46",
   "metadata": {},
   "outputs": [
    {
     "name": "stdout",
     "output_type": "stream",
     "text": [
      "[1, 2, 3, 4, 5]\n"
     ]
    },
    {
     "data": {
      "text/plain": [
       "[1, 2, 3, 4, 5, 100]"
      ]
     },
     "execution_count": 49,
     "metadata": {},
     "output_type": "execute_result"
    }
   ],
   "source": [
    "'''\n",
    "5-List supports various methods such as:-  append() , extend() , insert() , remove() , count()\n",
    "'''\n",
    "#append()\n",
    "x=[1,2,3,4,5]\n",
    "print(x)\n",
    "x.append(100)\n",
    "x"
   ]
  },
  {
   "cell_type": "code",
   "execution_count": 63,
   "id": "a1c6956a-4495-42b3-ac3c-96804d59b7ef",
   "metadata": {},
   "outputs": [
    {
     "name": "stdout",
     "output_type": "stream",
     "text": [
      "[9, 8, 7, 6, 2, 3, 4, 6]\n"
     ]
    }
   ],
   "source": [
    "#extend()\n",
    "a=[2,3,4,6]\n",
    "b=[9,8,7,6]\n",
    "b.extend(a)\n",
    "print(b)"
   ]
  },
  {
   "cell_type": "code",
   "execution_count": 67,
   "id": "ea07a08d-41c0-4e55-829a-2824d5dd3d7d",
   "metadata": {},
   "outputs": [
    {
     "data": {
      "text/plain": [
       "[1, 2, 'Helllo', 3, 4]"
      ]
     },
     "execution_count": 67,
     "metadata": {},
     "output_type": "execute_result"
    }
   ],
   "source": [
    "#insert()\n",
    "a=[1,2,3,4]\n",
    "a.insert(2,\"Helllo\")\n",
    "a"
   ]
  },
  {
   "cell_type": "code",
   "execution_count": 73,
   "id": "6c1d1f52-1beb-4e66-8663-5ff8b0fbb971",
   "metadata": {},
   "outputs": [
    {
     "name": "stdout",
     "output_type": "stream",
     "text": [
      "[12, 24, 36, 48]\n"
     ]
    },
    {
     "data": {
      "text/plain": [
       "[12, 24, 48]"
      ]
     },
     "execution_count": 73,
     "metadata": {},
     "output_type": "execute_result"
    }
   ],
   "source": [
    "#remove()\n",
    "re=[12,24,36,48]\n",
    "print(re)\n",
    "re.remove(36)\n",
    "re"
   ]
  },
  {
   "cell_type": "code",
   "execution_count": 83,
   "id": "8e88e204-6797-4d24-90ff-77542e5a0690",
   "metadata": {},
   "outputs": [
    {
     "data": {
      "text/plain": [
       "3"
      ]
     },
     "execution_count": 83,
     "metadata": {},
     "output_type": "execute_result"
    }
   ],
   "source": [
    "#count()\n",
    "cu=[\"hello\",\"pyshology\",\"hello\",\"ok\",\"hello\"]\n",
    "cu.count(\"hello\")"
   ]
  },
  {
   "cell_type": "code",
   "execution_count": null,
   "id": "60717bbd-c5fa-4eb5-a48f-7dcdda4566f5",
   "metadata": {},
   "outputs": [],
   "source": [
    "# 3- Describe how to access, modify, and delete elements in a list with examples."
   ]
  },
  {
   "cell_type": "code",
   "execution_count": null,
   "id": "3fdce839-3fad-4df8-ac06-68c99dcdf0ec",
   "metadata": {},
   "outputs": [],
   "source": [
    "'''\n",
    "solution:- for accessing , modidfying and deleting elements in a list some common functions are used :-\n",
    "           1- Accessing\n",
    "              index()\n",
    "           \n",
    "'''"
   ]
  },
  {
   "cell_type": "code",
   "execution_count": 91,
   "id": "e0c2db62-1317-419f-a29f-496036a1e6a2",
   "metadata": {},
   "outputs": [
    {
     "data": {
      "text/plain": [
       "3"
      ]
     },
     "execution_count": 91,
     "metadata": {},
     "output_type": "execute_result"
    }
   ],
   "source": [
    "# Example 1 \n",
    "a=[1,2,353.63,\"Hi\",5]\n",
    "a.index(\"Hi\")"
   ]
  },
  {
   "cell_type": "code",
   "execution_count": 97,
   "id": "0e598838-03d0-4a9e-8006-7f259ffc0178",
   "metadata": {},
   "outputs": [
    {
     "data": {
      "text/plain": [
       "5"
      ]
     },
     "execution_count": 97,
     "metadata": {},
     "output_type": "execute_result"
    }
   ],
   "source": [
    "len(a)"
   ]
  },
  {
   "cell_type": "code",
   "execution_count": null,
   "id": "4c205471-11a0-4bba-aaf6-972de84f4758",
   "metadata": {},
   "outputs": [],
   "source": [
    "'''\n",
    "2- Modifying:-\n",
    "              append()\n",
    "              insert()\n",
    "              extend()\n",
    "              sort()\n",
    "'''"
   ]
  },
  {
   "cell_type": "code",
   "execution_count": 103,
   "id": "e6a0fb8e-7395-494c-9b81-27b0ef9dc867",
   "metadata": {},
   "outputs": [
    {
     "name": "stdout",
     "output_type": "stream",
     "text": [
      "[1, 2, 3]\n",
      "---------\n"
     ]
    },
    {
     "data": {
      "text/plain": [
       "[1, 2, 3, 'I am new in the list']"
      ]
     },
     "execution_count": 103,
     "metadata": {},
     "output_type": "execute_result"
    }
   ],
   "source": [
    "# Example 2\n",
    "#append() - Adds an element to the end of the list\n",
    "x=[1,2,3]\n",
    "print(x)\n",
    "print(\"---------\")\n",
    "x.append(\"I am new in the list\")\n",
    "x"
   ]
  },
  {
   "cell_type": "code",
   "execution_count": 119,
   "id": "7aab090b-93b5-48a5-a63b-838e9b2196c7",
   "metadata": {},
   "outputs": [
    {
     "name": "stdout",
     "output_type": "stream",
     "text": [
      "[1, 2, 3]\n",
      "---------\n"
     ]
    },
    {
     "data": {
      "text/plain": [
       "[1, 4, 2, 3]"
      ]
     },
     "execution_count": 119,
     "metadata": {},
     "output_type": "execute_result"
    }
   ],
   "source": [
    "# Example 4\n",
    "#insert() - Inserts an element in the specified position\n",
    "x=[1,2,3]\n",
    "print(x)\n",
    "print(\"---------\")\n",
    "x.insert(1,4)\n",
    "x"
   ]
  },
  {
   "cell_type": "code",
   "execution_count": 109,
   "id": "b2e02006-46d7-4c0a-86dc-f1b3cffd1a40",
   "metadata": {},
   "outputs": [
    {
     "name": "stdout",
     "output_type": "stream",
     "text": [
      "[7, 8, 9]\n",
      "---------\n"
     ]
    },
    {
     "data": {
      "text/plain": [
       "[7, 8, 9, 1, 2, 3]"
      ]
     },
     "execution_count": 109,
     "metadata": {},
     "output_type": "execute_result"
    }
   ],
   "source": [
    "# Example 5\n",
    "#extend() - Adds multiple elements to the end of list\n",
    "x=[7,8,9]\n",
    "a=[1,2,3]\n",
    "print(x)\n",
    "print(\"---------\")\n",
    "x.extend(a)\n",
    "x"
   ]
  },
  {
   "cell_type": "code",
   "execution_count": 121,
   "id": "f040f427-c343-4d87-aadc-4d29b30c1e11",
   "metadata": {},
   "outputs": [
    {
     "name": "stdout",
     "output_type": "stream",
     "text": [
      "[6, 5, 4, 3, 2, 1]\n",
      "---------\n"
     ]
    },
    {
     "data": {
      "text/plain": [
       "[1, 2, 3, 4, 5, 6]"
      ]
     },
     "execution_count": 121,
     "metadata": {},
     "output_type": "execute_result"
    }
   ],
   "source": [
    "# Example 6\n",
    "#sort() - Sorts the list in ascending order\n",
    "x=[6,5,4,3,2,1]\n",
    "print(x)\n",
    "print(\"---------\")\n",
    "x.sort()\n",
    "x"
   ]
  },
  {
   "cell_type": "code",
   "execution_count": null,
   "id": "a4b009a4-0092-49d5-ac30-79fe6bcfdecb",
   "metadata": {},
   "outputs": [],
   "source": [
    "'''\n",
    "3- Deleting:-\n",
    "             remove()\n",
    "             pop()\n",
    "             clear()\n",
    "'''"
   ]
  },
  {
   "cell_type": "code",
   "execution_count": 125,
   "id": "474827d2-dd1a-4609-835b-5891ef63c3fa",
   "metadata": {},
   "outputs": [
    {
     "name": "stdout",
     "output_type": "stream",
     "text": [
      "[1, 2, 3, 4, 5]\n",
      "---------\n"
     ]
    },
    {
     "data": {
      "text/plain": [
       "[1, 3, 4, 5]"
      ]
     },
     "execution_count": 125,
     "metadata": {},
     "output_type": "execute_result"
    }
   ],
   "source": [
    "# Example 7\n",
    "#remove() - removes the first occurance of the specified position\n",
    "x=[1,2,3,4,5]\n",
    "print(x)\n",
    "print(\"---------\")\n",
    "x.remove(2)\n",
    "x"
   ]
  },
  {
   "cell_type": "code",
   "execution_count": 127,
   "id": "0336a28f-0fc0-43e6-9b82-d8dc7692d2fd",
   "metadata": {},
   "outputs": [
    {
     "name": "stdout",
     "output_type": "stream",
     "text": [
      "[12, 2, 47, 55]\n",
      "---------\n"
     ]
    },
    {
     "data": {
      "text/plain": [
       "[12, 2, 55]"
      ]
     },
     "execution_count": 127,
     "metadata": {},
     "output_type": "execute_result"
    }
   ],
   "source": [
    "# Example 8\n",
    "#pop() - removes the  element at the specified position\n",
    "x=[12,2,47,55]\n",
    "print(x)\n",
    "print(\"---------\")\n",
    "x.pop(2)\n",
    "x"
   ]
  },
  {
   "cell_type": "code",
   "execution_count": 129,
   "id": "860b0772-43f0-471c-b82d-ad7d0304184f",
   "metadata": {},
   "outputs": [
    {
     "name": "stdout",
     "output_type": "stream",
     "text": [
      "[1, 2, 3, 4, 5, 6]\n",
      "---------\n"
     ]
    },
    {
     "data": {
      "text/plain": [
       "[]"
      ]
     },
     "execution_count": 129,
     "metadata": {},
     "output_type": "execute_result"
    }
   ],
   "source": [
    "# Example 9\n",
    "#clear() - removes all element from the list\n",
    "x=[1,2,3,4,5,6]\n",
    "print(x)\n",
    "print(\"---------\")\n",
    "x.clear()\n",
    "x"
   ]
  },
  {
   "cell_type": "code",
   "execution_count": null,
   "id": "c75e9e7b-7111-4f96-aa45-22c22a7e9937",
   "metadata": {},
   "outputs": [],
   "source": [
    "# 4-  Compare and contrast tuples and lists with examples."
   ]
  },
  {
   "cell_type": "code",
   "execution_count": null,
   "id": "388e2453-a5ed-4f72-b5ae-1624d75bb595",
   "metadata": {},
   "outputs": [],
   "source": [
    "'''\n",
    "\n",
    "solution:- 1: TUPLE - A Tuple is a data structure in python that is ordered \n",
    "                                                         immutable\n",
    "                                                         heterogeneous\n",
    "                     .Tuple is defined using parentheses ()\n",
    "                     \n",
    "                     .Data in tuple canonot be changed \n",
    "                     \n",
    "                     .Tuple can be used as a dictionary key\n",
    "\n",
    "                     .Tuple does not support these methods - append() , insert() , remove() , sort()\n",
    "                     \n",
    "          \n",
    "'''"
   ]
  },
  {
   "cell_type": "code",
   "execution_count": 133,
   "id": "ebb165e5-9609-4efa-94eb-7bf148e6bc18",
   "metadata": {},
   "outputs": [
    {
     "data": {
      "text/plain": [
       "(1, 2, 3, 4, 'hi')"
      ]
     },
     "execution_count": 133,
     "metadata": {},
     "output_type": "execute_result"
    }
   ],
   "source": [
    "# Example 1\n",
    "my_tuple=(1,2,3,4,\"hi\")\n",
    "my_tuple"
   ]
  },
  {
   "cell_type": "code",
   "execution_count": 137,
   "id": "982da903-9884-49e5-9d33-dd16cfce9802",
   "metadata": {},
   "outputs": [
    {
     "ename": "AttributeError",
     "evalue": "'tuple' object has no attribute 'append'",
     "output_type": "error",
     "traceback": [
      "\u001b[1;31m---------------------------------------------------------------------------\u001b[0m",
      "\u001b[1;31mAttributeError\u001b[0m                            Traceback (most recent call last)",
      "Cell \u001b[1;32mIn[137], line 2\u001b[0m\n\u001b[0;32m      1\u001b[0m \u001b[38;5;66;03m# Example 2\u001b[39;00m\n\u001b[1;32m----> 2\u001b[0m my_tuple\u001b[38;5;241m.\u001b[39mappend(\u001b[38;5;241m5\u001b[39m)\n",
      "\u001b[1;31mAttributeError\u001b[0m: 'tuple' object has no attribute 'append'"
     ]
    }
   ],
   "source": [
    "# Example 2\n",
    "my_tuple.append(5) #tuple does not support methods"
   ]
  },
  {
   "cell_type": "code",
   "execution_count": 139,
   "id": "5f90d721-042b-46e8-987d-d789c21869c3",
   "metadata": {},
   "outputs": [
    {
     "ename": "TypeError",
     "evalue": "'tuple' object does not support item assignment",
     "output_type": "error",
     "traceback": [
      "\u001b[1;31m---------------------------------------------------------------------------\u001b[0m",
      "\u001b[1;31mTypeError\u001b[0m                                 Traceback (most recent call last)",
      "Cell \u001b[1;32mIn[139], line 2\u001b[0m\n\u001b[0;32m      1\u001b[0m \u001b[38;5;66;03m# Example 3 \u001b[39;00m\n\u001b[1;32m----> 2\u001b[0m my_tuple[\u001b[38;5;241m1\u001b[39m]\u001b[38;5;241m=\u001b[39m\u001b[38;5;124m\"\u001b[39m\u001b[38;5;124mOK\u001b[39m\u001b[38;5;124m\"\u001b[39m\n",
      "\u001b[1;31mTypeError\u001b[0m: 'tuple' object does not support item assignment"
     ]
    }
   ],
   "source": [
    "# Example 3 \n",
    "my_tuple[1]=\"OK\" #tuple does not support item assignment (immutable)"
   ]
  },
  {
   "cell_type": "code",
   "execution_count": 145,
   "id": "1aa9fb79-5d50-4a2a-9acf-c75c312ef818",
   "metadata": {},
   "outputs": [
    {
     "name": "stdout",
     "output_type": "stream",
     "text": [
      "\n"
     ]
    }
   ],
   "source": [
    "'''\n",
    "           2: LIST - A list is a data structure in python that is ordered\n",
    "                                                                  mutable\n",
    "                                                                  heterogeneoud\n",
    "              .list is defined using sqaure brackets [] \n",
    "\n",
    "              .data in list can be changed \n",
    "\n",
    "              .list is used for data that needs to be modified frequently\n",
    "\n",
    "              .list support methods - append() , sort() , insert() , remove()\n",
    "'''\n"
   ]
  },
  {
   "cell_type": "code",
   "execution_count": 147,
   "id": "ef782d63-2bb4-449e-a764-864f20c47399",
   "metadata": {},
   "outputs": [
    {
     "data": {
      "text/plain": [
       "[1, 2, 3, 4, 'Hi']"
      ]
     },
     "execution_count": 147,
     "metadata": {},
     "output_type": "execute_result"
    }
   ],
   "source": [
    "# Example 1 \n",
    "my_li=[1,2,3,4,\"Hi\"]\n",
    "my_li"
   ]
  },
  {
   "cell_type": "code",
   "execution_count": 149,
   "id": "1fc79787-3f49-4292-b6d7-72c5ecd0e9cd",
   "metadata": {},
   "outputs": [
    {
     "data": {
      "text/plain": [
       "[1, 2, 3, 4, 'Hi', 121]"
      ]
     },
     "execution_count": 149,
     "metadata": {},
     "output_type": "execute_result"
    }
   ],
   "source": [
    "# Example 2\n",
    "my_li.append(121) #list support methods\n",
    "my_li"
   ]
  },
  {
   "cell_type": "code",
   "execution_count": 159,
   "id": "4300f872-01a6-4a96-95db-f21ea2d384f0",
   "metadata": {},
   "outputs": [
    {
     "data": {
      "text/plain": [
       "[1, 3, 4, 'Hi']"
      ]
     },
     "execution_count": 159,
     "metadata": {},
     "output_type": "execute_result"
    }
   ],
   "source": [
    "# Example 3\n",
    "my_li.remove(121)\n",
    "my_li"
   ]
  },
  {
   "cell_type": "code",
   "execution_count": 167,
   "id": "abbe3a3f-2b81-414b-9da7-7446b634099b",
   "metadata": {},
   "outputs": [
    {
     "data": {
      "text/plain": [
       "[1, 3, 4, 22, 233, 233, 'Hi']"
      ]
     },
     "execution_count": 167,
     "metadata": {},
     "output_type": "execute_result"
    }
   ],
   "source": [
    "# Example 4\n",
    "my_li.insert(3,22)\n",
    "my_li"
   ]
  },
  {
   "cell_type": "code",
   "execution_count": 169,
   "id": "e6ece537-02be-44e2-b50e-553c553901f0",
   "metadata": {},
   "outputs": [
    {
     "data": {
      "text/plain": [
       "[1, 'welcome', 4, 22, 233, 233, 'Hi']"
      ]
     },
     "execution_count": 169,
     "metadata": {},
     "output_type": "execute_result"
    }
   ],
   "source": [
    "# Example 5\n",
    "my_li[1]=\"welcome\" #list is mutable \n",
    "my_li"
   ]
  },
  {
   "cell_type": "code",
   "execution_count": null,
   "id": "f12f66aa-e0b7-49b2-ad35-1496a1d7d74f",
   "metadata": {},
   "outputs": [],
   "source": []
  },
  {
   "cell_type": "code",
   "execution_count": null,
   "id": "31ec06f0-4199-4f60-b763-9e3bbd281f7d",
   "metadata": {},
   "outputs": [],
   "source": [
    "# 5- Describe the key features of sets and provide examples of their use."
   ]
  },
  {
   "cell_type": "code",
   "execution_count": null,
   "id": "6ea9cc38-45f7-4979-82ce-3e484fb9b673",
   "metadata": {},
   "outputs": [],
   "source": [
    "'''\n",
    "solution:- Key features of sets are :-\n",
    "\n",
    "           . Sets are unordered collection of unique elements\n",
    "\n",
    "           . Sets are mutable\n",
    "\n",
    "           . Sets doesn't allow duplcate elements \n",
    "\n",
    "           . Indexing will not work in sets \n",
    "                 \n",
    "\n",
    "           \n",
    "'''"
   ]
  },
  {
   "cell_type": "code",
   "execution_count": 171,
   "id": "96e97a78-c5d0-4ef9-81bd-32968ef6e59e",
   "metadata": {},
   "outputs": [
    {
     "data": {
      "text/plain": [
       "set"
      ]
     },
     "execution_count": 171,
     "metadata": {},
     "output_type": "execute_result"
    }
   ],
   "source": [
    "# Example 1\n",
    "s={1,2,3,4}\n",
    "type(s)"
   ]
  },
  {
   "cell_type": "code",
   "execution_count": 173,
   "id": "227e7601-56d4-4fe6-a65c-29371e6aab5b",
   "metadata": {},
   "outputs": [
    {
     "data": {
      "text/plain": [
       "{1, 2, 3, 4, 5, 6, 7}"
      ]
     },
     "execution_count": 173,
     "metadata": {},
     "output_type": "execute_result"
    }
   ],
   "source": [
    "# Example 2\n",
    "# doesn't allow duplicate values\n",
    "s={1,2,2,2,3,4,4,4,5,5,6,6,6,6,6,7,7,7,7}\n",
    "s"
   ]
  },
  {
   "cell_type": "code",
   "execution_count": 175,
   "id": "6634dade-1d20-4685-b6fe-af933f24a2f7",
   "metadata": {},
   "outputs": [
    {
     "ename": "TypeError",
     "evalue": "'set' object is not subscriptable",
     "output_type": "error",
     "traceback": [
      "\u001b[1;31m---------------------------------------------------------------------------\u001b[0m",
      "\u001b[1;31mTypeError\u001b[0m                                 Traceback (most recent call last)",
      "Cell \u001b[1;32mIn[175], line 4\u001b[0m\n\u001b[0;32m      1\u001b[0m \u001b[38;5;66;03m# Example 3\u001b[39;00m\n\u001b[0;32m      2\u001b[0m \u001b[38;5;66;03m# indexing not allowed \u001b[39;00m\n\u001b[0;32m      3\u001b[0m s\u001b[38;5;241m=\u001b[39m{\u001b[38;5;241m1\u001b[39m,\u001b[38;5;241m2\u001b[39m,\u001b[38;5;241m3\u001b[39m,\u001b[38;5;241m4\u001b[39m,\u001b[38;5;241m5\u001b[39m,\u001b[38;5;241m6\u001b[39m}\n\u001b[1;32m----> 4\u001b[0m s[\u001b[38;5;241m2\u001b[39m]\n",
      "\u001b[1;31mTypeError\u001b[0m: 'set' object is not subscriptable"
     ]
    }
   ],
   "source": [
    "# Example 3\n",
    "# indexing not allowed \n",
    "s={1,2,3,4,5,6}\n",
    "s[2]"
   ]
  },
  {
   "cell_type": "code",
   "execution_count": 179,
   "id": "68f65876-2c0d-40a8-8b29-1e0798c49f88",
   "metadata": {},
   "outputs": [
    {
     "ename": "TypeError",
     "evalue": "unhashable type: 'set'",
     "output_type": "error",
     "traceback": [
      "\u001b[1;31m---------------------------------------------------------------------------\u001b[0m",
      "\u001b[1;31mTypeError\u001b[0m                                 Traceback (most recent call last)",
      "Cell \u001b[1;32mIn[179], line 2\u001b[0m\n\u001b[0;32m      1\u001b[0m \u001b[38;5;66;03m# Example 5\u001b[39;00m\n\u001b[1;32m----> 2\u001b[0m s\u001b[38;5;241m=\u001b[39m{\u001b[38;5;241m1\u001b[39m,\u001b[38;5;241m2\u001b[39m,\u001b[38;5;241m3\u001b[39m,{\u001b[38;5;241m4\u001b[39m,\u001b[38;5;241m5\u001b[39m,\u001b[38;5;241m6\u001b[39m}}\n",
      "\u001b[1;31mTypeError\u001b[0m: unhashable type: 'set'"
     ]
    }
   ],
   "source": [
    "# Example 5\n",
    "s={1,2,3,{4,5,6}} #immmutable data structure has a stable hash value like tuples "
   ]
  },
  {
   "cell_type": "code",
   "execution_count": 181,
   "id": "b9c2e319-0aa9-4127-9b6f-39386f751a07",
   "metadata": {},
   "outputs": [
    {
     "data": {
      "text/plain": [
       "{(4, 5, 6), 1, 2, 3}"
      ]
     },
     "execution_count": 181,
     "metadata": {},
     "output_type": "execute_result"
    }
   ],
   "source": [
    "# Example 6\n",
    "s={1,2,3,(4,5,6)} #it didn't throw error because tuple is immutable value\n",
    "s"
   ]
  },
  {
   "cell_type": "code",
   "execution_count": 183,
   "id": "8648422d-5800-4ef7-b9ae-ade9b91e3bb8",
   "metadata": {},
   "outputs": [
    {
     "data": {
      "text/plain": [
       "{1, 2, 3, 100}"
      ]
     },
     "execution_count": 183,
     "metadata": {},
     "output_type": "execute_result"
    }
   ],
   "source": [
    "# Example 7\n",
    "s={1,2,3}\n",
    "s.add(100)\n",
    "s"
   ]
  },
  {
   "cell_type": "code",
   "execution_count": 185,
   "id": "c246e2cd-44f2-4312-8fec-1e3816b50956",
   "metadata": {},
   "outputs": [
    {
     "name": "stdout",
     "output_type": "stream",
     "text": [
      "{1, 2, 3, 100}\n",
      "------\n"
     ]
    },
    {
     "data": {
      "text/plain": [
       "{1, 2, 3, 22, 100}"
      ]
     },
     "execution_count": 185,
     "metadata": {},
     "output_type": "execute_result"
    }
   ],
   "source": [
    "# Example 8\n",
    "print(s)\n",
    "print(\"------\")\n",
    "s.update([2,22])\n",
    "s"
   ]
  },
  {
   "cell_type": "code",
   "execution_count": 1,
   "id": "109be268-6a8b-4229-b5b8-4b052fe7d8a0",
   "metadata": {},
   "outputs": [
    {
     "name": "stdout",
     "output_type": "stream",
     "text": [
      "1\n",
      "2\n",
      "3\n",
      "4\n",
      "5\n",
      "6\n",
      "7\n",
      "8\n",
      "9\n",
      "54\n",
      "23\n"
     ]
    }
   ],
   "source": [
    "# Example 9\n",
    "s={1,23,4,5,6,7,8,9,3,54,7,7,6,5,3,2}\n",
    "for i in s:\n",
    "    print(i)"
   ]
  },
  {
   "cell_type": "code",
   "execution_count": null,
   "id": "8193e359-4bba-4983-acbf-865f74d4f54f",
   "metadata": {},
   "outputs": [],
   "source": [
    "# 6- Discuss the use cases of tuples and sets in Python programming"
   ]
  },
  {
   "cell_type": "code",
   "execution_count": null,
   "id": "ef4c47d5-2b65-4365-96dd-a8adac8b86fa",
   "metadata": {},
   "outputs": [],
   "source": [
    "'''\n",
    "solution:- Tuples and Sets are both data structures in python.\n",
    "           They have different use cases\n",
    "\n",
    "'''\n"
   ]
  },
  {
   "cell_type": "code",
   "execution_count": null,
   "id": "096b4327-ec67-4125-b545-bad7d12293e0",
   "metadata": {},
   "outputs": [],
   "source": [
    "'''\n",
    "1- Tuple :- \n",
    "           Immutable data : We use tuple when we need to store data that shouldn't be changed\n",
    "\n",
    "           Fast indexing : Tuples are faster than lists for indexing and slicing , making them suitable for datasets\n",
    "\n",
    "           Hashable : Tuples can be used as dictionary keys because they are hashable\n",
    "\n",
    "           Data records : Tuples can be used to represent data such as person's name , age and address\n",
    "'''"
   ]
  },
  {
   "cell_type": "code",
   "execution_count": 3,
   "id": "e79e5eef-d99d-4cc0-851e-580723d85ed0",
   "metadata": {},
   "outputs": [
    {
     "data": {
      "text/plain": [
       "(1, 2, 3, 4, 5)"
      ]
     },
     "execution_count": 3,
     "metadata": {},
     "output_type": "execute_result"
    }
   ],
   "source": [
    "# Example \n",
    "a=(1,2,3,4,5)\n",
    "a"
   ]
  },
  {
   "cell_type": "code",
   "execution_count": 5,
   "id": "d3a1667c-c0e4-406c-a293-dd89085d5ab1",
   "metadata": {},
   "outputs": [
    {
     "data": {
      "text/plain": [
       "[1, 3, 4]"
      ]
     },
     "execution_count": 5,
     "metadata": {},
     "output_type": "execute_result"
    }
   ],
   "source": [
    "#slicing\n",
    "a=[1,2,3,34,4,5234]\n",
    "a[::2]"
   ]
  },
  {
   "cell_type": "code",
   "execution_count": 7,
   "id": "7fd3d697-599c-491f-8dc2-133fa190144b",
   "metadata": {},
   "outputs": [
    {
     "data": {
      "text/plain": [
       "44"
      ]
     },
     "execution_count": 7,
     "metadata": {},
     "output_type": "execute_result"
    }
   ],
   "source": [
    "#indexing \n",
    "a=(22,33,44,55,66)\n",
    "a[2]"
   ]
  },
  {
   "cell_type": "code",
   "execution_count": 9,
   "id": "ca2f603b-fcc5-4b57-85c0-705bb66075ab",
   "metadata": {},
   "outputs": [
    {
     "data": {
      "text/plain": [
       "{(1, 2, 3): 12, 100: 23}"
      ]
     },
     "execution_count": 9,
     "metadata": {},
     "output_type": "execute_result"
    }
   ],
   "source": [
    "#hashable \n",
    "a=(1,2,3)\n",
    "b={a:12,100:23}\n",
    "b"
   ]
  },
  {
   "cell_type": "code",
   "execution_count": 11,
   "id": "9116e28f-c54e-4e8d-9263-0378403f9993",
   "metadata": {},
   "outputs": [
    {
     "ename": "TypeError",
     "evalue": "'tuple' object does not support item assignment",
     "output_type": "error",
     "traceback": [
      "\u001b[1;31m---------------------------------------------------------------------------\u001b[0m",
      "\u001b[1;31mTypeError\u001b[0m                                 Traceback (most recent call last)",
      "Cell \u001b[1;32mIn[11], line 3\u001b[0m\n\u001b[0;32m      1\u001b[0m \u001b[38;5;66;03m#immutable \u001b[39;00m\n\u001b[0;32m      2\u001b[0m a\u001b[38;5;241m=\u001b[39m(\u001b[38;5;241m1\u001b[39m,\u001b[38;5;241m2\u001b[39m,\u001b[38;5;241m3\u001b[39m)\n\u001b[1;32m----> 3\u001b[0m a[\u001b[38;5;241m0\u001b[39m]\u001b[38;5;241m=\u001b[39m\u001b[38;5;241m33\u001b[39m\n\u001b[0;32m      4\u001b[0m a\n",
      "\u001b[1;31mTypeError\u001b[0m: 'tuple' object does not support item assignment"
     ]
    }
   ],
   "source": [
    "#immutable \n",
    "a=(1,2,3)\n",
    "a[0]=33\n",
    "a"
   ]
  },
  {
   "cell_type": "code",
   "execution_count": null,
   "id": "35982369-9683-4499-9c3e-4c7c2dae7bff",
   "metadata": {},
   "outputs": [],
   "source": [
    "'''\n",
    "NOTE :- Tuple is immutable and it stores immutable data \n",
    "'''"
   ]
  },
  {
   "cell_type": "code",
   "execution_count": null,
   "id": "449db313-928c-4eef-9c91-1b8c80cdab33",
   "metadata": {},
   "outputs": [],
   "source": [
    "'''\n",
    "2- Sets :-\n",
    "           Unique data : We use sets to store unique elements , such as id , username \n",
    "\n",
    "           Data validation : Sets can be used to validate data by checking if an element is in a set of allowed data\n",
    "\n",
    "           Data deduplications : Sets can be used to remove duplicates from a list or other iterable\n",
    "\n",
    "'''"
   ]
  },
  {
   "cell_type": "code",
   "execution_count": 15,
   "id": "1f7f7e83-2a1d-43ea-8912-b9b4592a3967",
   "metadata": {},
   "outputs": [
    {
     "data": {
      "text/plain": [
       "{1, 2, 3, 4, 5, 6, 7, 8, 56}"
      ]
     },
     "execution_count": 15,
     "metadata": {},
     "output_type": "execute_result"
    }
   ],
   "source": [
    "# Example \n",
    "#unique data\n",
    "se={1,1,1,2,2,2,3,3,3,4,4,4,5,5,56,6,7,7,7,7,7,8,8,8,8,7,6,5,4,4,4,3,3,5,6,7,8}\n",
    "se"
   ]
  },
  {
   "cell_type": "code",
   "execution_count": 25,
   "id": "074e6c5a-e629-424b-97ee-c6b36c947ef8",
   "metadata": {},
   "outputs": [
    {
     "name": "stdout",
     "output_type": "stream",
     "text": [
      "color found\n"
     ]
    }
   ],
   "source": [
    "#data validation\n",
    "s={\"red\",\"green\",\"blue\"}\n",
    "color=\"red\"\n",
    "if color in s:\n",
    "    print(\"color found\")\n",
    "else:\n",
    "    print(\"color not found \")"
   ]
  },
  {
   "cell_type": "code",
   "execution_count": 21,
   "id": "9ffc8b63-6eb3-4680-9914-f3689cb0ea6e",
   "metadata": {},
   "outputs": [
    {
     "data": {
      "text/plain": [
       "{1, 2, 3, 4, 'are', 'hi', 'how', 'you'}"
      ]
     },
     "execution_count": 21,
     "metadata": {},
     "output_type": "execute_result"
    }
   ],
   "source": [
    "#data deduplication\n",
    "a=[1,2,2,3,3,4,4,\"hi\",\"hi\",\"how\",\"how\",\"are\",\"are\",\"you\",\"you\"]\n",
    "b=set(a)\n",
    "b"
   ]
  },
  {
   "cell_type": "code",
   "execution_count": 27,
   "id": "bbeb27ba-10d5-461f-b90a-36b104c12249",
   "metadata": {},
   "outputs": [
    {
     "name": "stdout",
     "output_type": "stream",
     "text": [
      "50\n",
      "20\n",
      "40\n",
      "10\n",
      "60\n",
      "30\n"
     ]
    }
   ],
   "source": [
    "a={10,20,30,40,50,60}\n",
    "for i in a:\n",
    "    print(i)\n",
    "    "
   ]
  },
  {
   "cell_type": "code",
   "execution_count": null,
   "id": "d9e4b695-567e-4902-a0d2-74665438fd04",
   "metadata": {},
   "outputs": [],
   "source": []
  },
  {
   "cell_type": "code",
   "execution_count": null,
   "id": "6f8cad2d-5d06-42da-a397-d91a152c3f7c",
   "metadata": {},
   "outputs": [],
   "source": [
    "# 7- Describe how to add, modify, and delete items in a dictionary with examples"
   ]
  },
  {
   "cell_type": "code",
   "execution_count": null,
   "id": "82f6c8c3-e154-4823-858e-5cf81f4bf585",
   "metadata": {},
   "outputs": [],
   "source": [
    "'''\n",
    "solution:- for adding , modifying and deleting items in a dictionary we use following functions:-\n",
    "\n",
    "\n",
    "'''"
   ]
  },
  {
   "cell_type": "code",
   "execution_count": null,
   "id": "5fd38277-12b6-41dc-b9fc-368e8f697f13",
   "metadata": {},
   "outputs": [],
   "source": []
  },
  {
   "cell_type": "code",
   "execution_count": 31,
   "id": "407d95ea-4c36-424a-baa9-1a99b2f20e64",
   "metadata": {},
   "outputs": [
    {
     "data": {
      "text/plain": [
       "{'a': 1, 'b': 2, 'c': 5000}"
      ]
     },
     "execution_count": 31,
     "metadata": {},
     "output_type": "execute_result"
    }
   ],
   "source": [
    "# Addition\n",
    "''' syntax - di={}\n",
    "           di[key]=value\n",
    "'''\n",
    "di={\"a\":1,\"b\":2}\n",
    "di[\"c\"]=5000\n",
    "di"
   ]
  },
  {
   "cell_type": "code",
   "execution_count": null,
   "id": "6431ff44-5e1e-48ee-bd9a-ac0740132b72",
   "metadata": {},
   "outputs": [],
   "source": []
  },
  {
   "cell_type": "code",
   "execution_count": 35,
   "id": "af75375a-76ad-4074-8559-4a88a0eb3171",
   "metadata": {},
   "outputs": [
    {
     "name": "stdout",
     "output_type": "stream",
     "text": [
      "{1: 100, 2: 200, 3: 300}\n",
      "-----------\n"
     ]
    },
    {
     "data": {
      "text/plain": [
       "{1: 10011, 2: 20022, 3: 300}"
      ]
     },
     "execution_count": 35,
     "metadata": {},
     "output_type": "execute_result"
    }
   ],
   "source": [
    "# Modification\n",
    "'''\n",
    " syntax - di={}\n",
    "          di.update()\n",
    "'''\n",
    "di={1:100,2:200,3:300}\n",
    "print(di)\n",
    "print(\"-----------\")\n",
    "di.update({1:10011,2:20022})\n",
    "di"
   ]
  },
  {
   "cell_type": "code",
   "execution_count": null,
   "id": "a55793f2-d0bb-4285-8539-caff63cc1c59",
   "metadata": {},
   "outputs": [],
   "source": []
  },
  {
   "cell_type": "code",
   "execution_count": 37,
   "id": "dbebe5cc-afdc-49bb-a734-236b8e85eb8b",
   "metadata": {},
   "outputs": [
    {
     "data": {
      "text/plain": [
       "{'a': 10, 'c': 30}"
      ]
     },
     "execution_count": 37,
     "metadata": {},
     "output_type": "execute_result"
    }
   ],
   "source": [
    "# Deletion\n",
    "'''\n",
    "  syntax - di={}\n",
    "           if we want to delete only key pair \n",
    "           del di[\"key\"]\n",
    "'''\n",
    "di={\"a\":10,\"b\":20,\"c\":30}\n",
    "del di[\"b\"]\n",
    "di"
   ]
  },
  {
   "cell_type": "code",
   "execution_count": 39,
   "id": "715de1b6-8f8c-49c8-b21a-b0ce1347a647",
   "metadata": {},
   "outputs": [
    {
     "data": {
      "text/plain": [
       "{2: 200, 3: 300}"
      ]
     },
     "execution_count": 39,
     "metadata": {},
     "output_type": "execute_result"
    }
   ],
   "source": [
    "'''\n",
    "   pop()\n",
    "'''\n",
    "di={1:100,2:200,3:300}\n",
    "di.pop(1)\n",
    "di"
   ]
  },
  {
   "cell_type": "code",
   "execution_count": 43,
   "id": "1ae1cd26-63b3-415a-aecf-efe1472dfeea",
   "metadata": {},
   "outputs": [
    {
     "data": {
      "text/plain": [
       "{1: 111, 2: 222}"
      ]
     },
     "execution_count": 43,
     "metadata": {},
     "output_type": "execute_result"
    }
   ],
   "source": [
    "'''\n",
    "   popitem()\n",
    "   it will remove last inserted pair \n",
    "'''\n",
    "dict={1:111,2:222,3:333}\n",
    "key=dict.popitem()\n",
    "dict"
   ]
  },
  {
   "cell_type": "code",
   "execution_count": null,
   "id": "cd06a504-4802-446f-974b-10ea103c2d70",
   "metadata": {},
   "outputs": [],
   "source": []
  },
  {
   "cell_type": "code",
   "execution_count": null,
   "id": "4697c78b-db10-4166-a5cb-933c867f1bc7",
   "metadata": {},
   "outputs": [],
   "source": [
    "# 8 - Discuss the importance of dictionary keys being immutable and provide examples"
   ]
  },
  {
   "cell_type": "code",
   "execution_count": null,
   "id": "c9b5d97e-454a-4fa2-be60-75b7367700e6",
   "metadata": {},
   "outputs": [],
   "source": [
    "'''\n",
    "solution:- Dictionary keys are hashed to store and retrieve values efficiently.\n",
    "\n",
    "           Immutable keys guarantee uniqueness , as changing a key would create a new key , leading to data duplication\n",
    "\n",
    "           Immutable keys enable fast lookups, because hash value is computed only once \n",
    "           \n",
    "'''"
   ]
  },
  {
   "cell_type": "code",
   "execution_count": null,
   "id": "f16ff7ce-1867-4b36-b3b0-a7e9aa76930d",
   "metadata": {},
   "outputs": [],
   "source": [
    "# Example of immutable keys :\n",
    "\n",
    "'''\n",
    ". Integers : 1,2,3\n",
    "\n",
    ". Floats : 2.2 , 3.3\n",
    "\n",
    ". Strings : \"hello\" \"world\"\n",
    "\n",
    ". Tuples : (1,2) , (\"a\" , \"b\")\n",
    "\n",
    "'''"
   ]
  },
  {
   "cell_type": "code",
   "execution_count": 51,
   "id": "88b2e7f2-6b75-48de-873a-4ad334491f2f",
   "metadata": {},
   "outputs": [
    {
     "ename": "TypeError",
     "evalue": "'tuple' object does not support item assignment",
     "output_type": "error",
     "traceback": [
      "\u001b[1;31m---------------------------------------------------------------------------\u001b[0m",
      "\u001b[1;31mTypeError\u001b[0m                                 Traceback (most recent call last)",
      "Cell \u001b[1;32mIn[51], line 3\u001b[0m\n\u001b[0;32m      1\u001b[0m \u001b[38;5;66;03m# Integers\u001b[39;00m\n\u001b[0;32m      2\u001b[0m a\u001b[38;5;241m=\u001b[39m\u001b[38;5;241m1\u001b[39m,\u001b[38;5;241m2\u001b[39m,\u001b[38;5;241m3\u001b[39m\n\u001b[1;32m----> 3\u001b[0m a[\u001b[38;5;241m0\u001b[39m]\u001b[38;5;241m=\u001b[39m\u001b[38;5;241m111\u001b[39m\n",
      "\u001b[1;31mTypeError\u001b[0m: 'tuple' object does not support item assignment"
     ]
    }
   ],
   "source": [
    "# Tuples\n",
    "a=(1,2,3)\n",
    "a[0]=111"
   ]
  },
  {
   "cell_type": "code",
   "execution_count": 53,
   "id": "e10d5c62-cf01-4f1b-bd32-42b8c6c34bf2",
   "metadata": {},
   "outputs": [
    {
     "ename": "TypeError",
     "evalue": "'str' object does not support item assignment",
     "output_type": "error",
     "traceback": [
      "\u001b[1;31m---------------------------------------------------------------------------\u001b[0m",
      "\u001b[1;31mTypeError\u001b[0m                                 Traceback (most recent call last)",
      "Cell \u001b[1;32mIn[53], line 3\u001b[0m\n\u001b[0;32m      1\u001b[0m \u001b[38;5;66;03m# Strings\u001b[39;00m\n\u001b[0;32m      2\u001b[0m a\u001b[38;5;241m=\u001b[39m\u001b[38;5;124m\"\u001b[39m\u001b[38;5;124mhi\u001b[39m\u001b[38;5;124m\"\u001b[39m\n\u001b[1;32m----> 3\u001b[0m a[\u001b[38;5;241m0\u001b[39m]\u001b[38;5;241m=\u001b[39m\u001b[38;5;124m\"\u001b[39m\u001b[38;5;124mk\u001b[39m\u001b[38;5;124m\"\u001b[39m\n\u001b[0;32m      4\u001b[0m a\n",
      "\u001b[1;31mTypeError\u001b[0m: 'str' object does not support item assignment"
     ]
    }
   ],
   "source": [
    "# Strings\n",
    "a=\"hi\"\n",
    "a[0]=\"k\"\n",
    "a\n"
   ]
  },
  {
   "cell_type": "code",
   "execution_count": 55,
   "id": "14efbe06-d6eb-459b-8b3b-628f92dd2ad7",
   "metadata": {},
   "outputs": [
    {
     "ename": "TypeError",
     "evalue": "'int' object does not support item assignment",
     "output_type": "error",
     "traceback": [
      "\u001b[1;31m---------------------------------------------------------------------------\u001b[0m",
      "\u001b[1;31mTypeError\u001b[0m                                 Traceback (most recent call last)",
      "Cell \u001b[1;32mIn[55], line 3\u001b[0m\n\u001b[0;32m      1\u001b[0m \u001b[38;5;66;03m# Integers\u001b[39;00m\n\u001b[0;32m      2\u001b[0m a\u001b[38;5;241m=\u001b[39m\u001b[38;5;241m500\u001b[39m\n\u001b[1;32m----> 3\u001b[0m a[\u001b[38;5;241m0\u001b[39m]\u001b[38;5;241m=\u001b[39m\u001b[38;5;241m1222\u001b[39m\n\u001b[0;32m      4\u001b[0m a\n",
      "\u001b[1;31mTypeError\u001b[0m: 'int' object does not support item assignment"
     ]
    }
   ],
   "source": [
    "# Integers\n",
    "a=500\n",
    "a[0]=1222\n",
    "a"
   ]
  },
  {
   "cell_type": "code",
   "execution_count": 57,
   "id": "92e2c46b-a27d-4eee-ad03-5495366910b4",
   "metadata": {},
   "outputs": [
    {
     "ename": "TypeError",
     "evalue": "'float' object does not support item assignment",
     "output_type": "error",
     "traceback": [
      "\u001b[1;31m---------------------------------------------------------------------------\u001b[0m",
      "\u001b[1;31mTypeError\u001b[0m                                 Traceback (most recent call last)",
      "Cell \u001b[1;32mIn[57], line 3\u001b[0m\n\u001b[0;32m      1\u001b[0m \u001b[38;5;66;03m# Float\u001b[39;00m\n\u001b[0;32m      2\u001b[0m a\u001b[38;5;241m=\u001b[39m\u001b[38;5;241m2.2\u001b[39m\n\u001b[1;32m----> 3\u001b[0m a[\u001b[38;5;241m0\u001b[39m]\u001b[38;5;241m=\u001b[39m\u001b[38;5;241m4.4\u001b[39m\n\u001b[0;32m      4\u001b[0m a\n",
      "\u001b[1;31mTypeError\u001b[0m: 'float' object does not support item assignment"
     ]
    }
   ],
   "source": [
    "# Float\n",
    "a=2.2\n",
    "a[0]=4.4\n",
    "a"
   ]
  },
  {
   "cell_type": "code",
   "execution_count": 45,
   "id": "cd48a5f5-acd7-41f2-99e2-0d392b510817",
   "metadata": {},
   "outputs": [],
   "source": [
    "# Example of mutable keys :\n",
    "\n",
    "'''\n",
    "\n",
    ". List : [1,2,3]\n",
    "\n",
    ". Dictionaries : {1:111,2:222}\n",
    "\n",
    ". Sets : {1,2},{\"a\",\"b\"}\n",
    "\n",
    "'''\n",
    "\n"
   ]
  },
  {
   "cell_type": "code",
   "execution_count": 59,
   "id": "160b5ca5-1406-4587-aac5-5aff6d51af73",
   "metadata": {},
   "outputs": [
    {
     "data": {
      "text/plain": [
       "[1, 1112, 3, 4]"
      ]
     },
     "execution_count": 59,
     "metadata": {},
     "output_type": "execute_result"
    }
   ],
   "source": [
    "# List \n",
    "a=[1,2,3,4]\n",
    "a[1]=1112\n",
    "a"
   ]
  },
  {
   "cell_type": "code",
   "execution_count": 61,
   "id": "19f6dc80-29c1-4d4d-a4c4-394e1cd2ae2e",
   "metadata": {},
   "outputs": [
    {
     "data": {
      "text/plain": [
       "{1: 22, 2: 1001, 3: 44}"
      ]
     },
     "execution_count": 61,
     "metadata": {},
     "output_type": "execute_result"
    }
   ],
   "source": [
    "# Dictionaries\n",
    "a={1:22,2:33,3:44}\n",
    "a[2]=1001\n",
    "a"
   ]
  },
  {
   "cell_type": "code",
   "execution_count": 65,
   "id": "dd17ad15-1e1f-42e4-a359-f0bd222f288a",
   "metadata": {},
   "outputs": [
    {
     "data": {
      "text/plain": [
       "{1, 2, 3, 4, 5, 6}"
      ]
     },
     "execution_count": 65,
     "metadata": {},
     "output_type": "execute_result"
    }
   ],
   "source": [
    "# Sets\n",
    "a={1,2,3}\n",
    "a.update([4,5,6])\n",
    "a"
   ]
  },
  {
   "cell_type": "code",
   "execution_count": null,
   "id": "57d614ac-7f20-443a-ad83-35b71edee9d0",
   "metadata": {},
   "outputs": [],
   "source": [
    "# PYTHON INSURES DICTIONARY INTEGRITY , EFFICIENCY AND RELIABILITY BY ENFORCING IMMUTABLE KEYS "
   ]
  }
 ],
 "metadata": {
  "kernelspec": {
   "display_name": "Python 3 (ipykernel)",
   "language": "python",
   "name": "python3"
  },
  "language_info": {
   "codemirror_mode": {
    "name": "ipython",
    "version": 3
   },
   "file_extension": ".py",
   "mimetype": "text/x-python",
   "name": "python",
   "nbconvert_exporter": "python",
   "pygments_lexer": "ipython3",
   "version": "3.12.4"
  }
 },
 "nbformat": 4,
 "nbformat_minor": 5
}
