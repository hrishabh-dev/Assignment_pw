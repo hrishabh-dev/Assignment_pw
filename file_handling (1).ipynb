{
  "cells": [
    {
      "cell_type": "markdown",
      "id": "30b41973-26a3-478c-9d19-9326e8adea78",
      "metadata": {
        "id": "30b41973-26a3-478c-9d19-9326e8adea78"
      },
      "source": [
        "## FILES & EXCEPTIONAL HANDLING"
      ]
    },
    {
      "cell_type": "markdown",
      "id": "4677b33e-23c1-45dd-9642-f362a4a15144",
      "metadata": {
        "id": "4677b33e-23c1-45dd-9642-f362a4a15144"
      },
      "source": [
        "### 1. Discuss the scenarios where multithreading is preferable to multiprocessing and scenarios where  multiprocessing is a better choice."
      ]
    },
    {
      "cell_type": "code",
      "execution_count": null,
      "id": "97fadaf2-b5fe-44c5-8f6c-520f1ba84792",
      "metadata": {
        "id": "97fadaf2-b5fe-44c5-8f6c-520f1ba84792"
      },
      "outputs": [],
      "source": [
        "# SOLUTION :-"
      ]
    },
    {
      "cell_type": "code",
      "execution_count": null,
      "id": "e2ca7e26-db4c-4f43-803f-0072f90d491f",
      "metadata": {
        "collapsed": true,
        "jupyter": {
          "outputs_hidden": true
        },
        "scrolled": true,
        "id": "e2ca7e26-db4c-4f43-803f-0072f90d491f"
      },
      "outputs": [],
      "source": [
        "'''\n",
        "1- Scenarios favouring multithreading\n",
        "\n",
        "   .I/O-Bound Tasks: threads can handle context switching efficiently, they can allow other threads to run while some are\n",
        "                     blocked on I/O operations.\n",
        "\n",
        "\n",
        "   .Shared Memory: Threads within the same process share the same memory, which makes it easier to communicate\n",
        "                  and share data compared to inter-process communication\n",
        "\n",
        "\n",
        "   .Task Parallelism : When tasks are small and do not require extensive CPU time,\n",
        "                      using multiple threads can be more efficient than spinning up separate processes.\n",
        "\n",
        "'''\n",
        "\n",
        "'''\n",
        "2- Scenarios favouring multiprocessing\n",
        "\n",
        "\n",
        "   .CPU-Bound Tasks: Multiprocessing is preferable for CPU-intensive tasks that require significant computation,\n",
        "                     as separate processes can be executed on multiple CPU cores.\n",
        "\n",
        "\n",
        "   .Global Interpreter Lock (GIL) in Python:For CPU-bound tasks, this means that using multiple threads won’t provide the expected performance gains.\n",
        "                                           Multiprocessing circumvents this issue by launching separate processes with their own GIL.\n",
        "\n",
        "\n",
        "   .Isolation and Fault Tolerance: Processes are isolated from each other and have their own memory space.\n",
        "                                  If one process crashes, it doesn’t affect others.\n",
        "'''\n",
        ""
      ]
    },
    {
      "cell_type": "markdown",
      "id": "449e1467-87b0-4e88-9ecf-405fc9b8c3a6",
      "metadata": {
        "id": "449e1467-87b0-4e88-9ecf-405fc9b8c3a6"
      },
      "source": [
        "### 2. Describe what a process pool is and how it helps in managing multiple processes efficiently."
      ]
    },
    {
      "cell_type": "code",
      "execution_count": null,
      "id": "e30353ba-0417-4e3a-b088-3ee4be2abe82",
      "metadata": {
        "id": "e30353ba-0417-4e3a-b088-3ee4be2abe82"
      },
      "outputs": [],
      "source": [
        "# SOLUTION :-"
      ]
    },
    {
      "cell_type": "code",
      "execution_count": null,
      "id": "e7655c95-d2e0-4a6d-bdd6-0694affbd652",
      "metadata": {
        "jupyter": {
          "outputs_hidden": true
        },
        "id": "e7655c95-d2e0-4a6d-bdd6-0694affbd652"
      },
      "outputs": [],
      "source": [
        "'''\n",
        "A process pool is a programming construct that manages a collection of pre-initialized processes,which can be reused to execute\n",
        "multiple tasks concurrently.\n",
        "\n",
        "\n",
        "It is particularly useful in scenarios where a large number of short-lived tasks need to be executed,\n",
        "providing an efficient way to manage system resources while mitigating the overhead associated with creating and destroying processes.\n",
        "'''\n",
        "\n",
        "'''\n",
        "It helps in managing multiple process efficiently by :-\n",
        "\n",
        "  .Resource Management :  A process pool allows the application to create a fixed number of processes once and reuse them,\n",
        "                          reducing the overhead associated with process management.\n",
        "\n",
        "\n",
        "  .Concurrency : A process pool enables concurrent execution of multiple tasks, taking advantage of multicore processors\n",
        "\n",
        "\n",
        "  .Load Balancing : Process pools can intelligently distribute work among available processes, helping to balance the workload.\n",
        "\n",
        "\n",
        "'''"
      ]
    },
    {
      "cell_type": "markdown",
      "id": "2bf8a8df-da18-4f45-b8b0-11241580ea1a",
      "metadata": {
        "id": "2bf8a8df-da18-4f45-b8b0-11241580ea1a"
      },
      "source": [
        "### 3. Explain what multiprocessing is and why it is used in Python programs."
      ]
    },
    {
      "cell_type": "code",
      "execution_count": null,
      "id": "cce26452-c329-4471-b6f1-7ed66b50c525",
      "metadata": {
        "id": "cce26452-c329-4471-b6f1-7ed66b50c525"
      },
      "outputs": [],
      "source": [
        "# SOLUTION :-"
      ]
    },
    {
      "cell_type": "code",
      "execution_count": null,
      "id": "9259e28e-4751-48ea-a41f-63bd01829f4a",
      "metadata": {
        "collapsed": true,
        "jupyter": {
          "outputs_hidden": true
        },
        "scrolled": true,
        "id": "9259e28e-4751-48ea-a41f-63bd01829f4a"
      },
      "outputs": [],
      "source": [
        "'''\n",
        "Multiprocessing is a programming paradigm that enables the concurrent execution of multiple processes.\n",
        "\n",
        "the multiprocessing module provides a way to create and manage separate processes,\n",
        "allowing developers to perform tasks in parallel\n",
        "\n",
        "'''\n",
        "\n",
        "'''\n",
        "It is often used to perform tasks simultaneously to improve performance, especially on systems with multiple CPU cores\n",
        "\n",
        "Improved Performance for CPU-Bound Tasks\n",
        "\n",
        "Workload Distribution\n",
        "\n",
        "Better Memory Management\n",
        "\n",
        "Simpler Code for Blocking I/O\n",
        "'''\n"
      ]
    },
    {
      "cell_type": "markdown",
      "id": "add83a99-fa73-49b3-8e9e-e9b697d697b8",
      "metadata": {
        "id": "add83a99-fa73-49b3-8e9e-e9b697d697b8"
      },
      "source": [
        "### 4. Write a Python program using multithreading where one thread adds numbers to a list, and another thread removes numbers from the list. Implement a mechanism to avoid race conditions using threading.Lock."
      ]
    },
    {
      "cell_type": "code",
      "execution_count": null,
      "id": "bd03cc9c-485f-4990-af64-3888b9ef2abf",
      "metadata": {
        "id": "bd03cc9c-485f-4990-af64-3888b9ef2abf"
      },
      "outputs": [],
      "source": [
        "# SOLUTION :-"
      ]
    },
    {
      "cell_type": "code",
      "execution_count": 1,
      "id": "33fb2e0b-19df-4b43-ba5d-b199f30af2ce",
      "metadata": {
        "colab": {
          "base_uri": "https://localhost:8080/"
        },
        "id": "33fb2e0b-19df-4b43-ba5d-b199f30af2ce",
        "outputId": "e9a0c540-15ae-434b-a87e-295af4b57f02"
      },
      "outputs": [
        {
          "output_type": "stream",
          "name": "stdout",
          "text": [
            "Added 88. List: [88]\n",
            "Removed 88. List: []\n",
            "Added 61. List: [61]\n",
            "Removed 61. List: []\n",
            "List is empty, nothing to remove.\n",
            "Added 97. List: [97]\n",
            "Removed 97. List: []\n",
            "List is empty, nothing to remove.\n",
            "Added 91. List: [91]\n",
            "Added 50. List: [91, 50]\n",
            "Final List: [91, 50]\n"
          ]
        }
      ],
      "source": [
        "import threading\n",
        "import time\n",
        "import random\n",
        "data = []\n",
        "lock = threading.Lock()\n",
        "def add_numbers():\n",
        "    for _ in range(5):\n",
        "        number = random.randint(1, 100)\n",
        "        with lock:\n",
        "            data.append(number)\n",
        "            print(f'Added {number}. List: {data}')\n",
        "        time.sleep(1)\n",
        "def remove_numbers():\n",
        "    for _ in range(5):\n",
        "        time.sleep(0.5)\n",
        "        with lock:\n",
        "            if data:\n",
        "                number = data.pop(0)\n",
        "                print(f'Removed {number}. List: {data}')\n",
        "            else:\n",
        "                print('List is empty, nothing to remove.')\n",
        "adder_thread = threading.Thread(target=add_numbers)\n",
        "remover_thread = threading.Thread(target=remove_numbers)\n",
        "adder_thread.start()\n",
        "remover_thread.start()\n",
        "adder_thread.join()\n",
        "remover_thread.join()\n",
        "print(\"Final List:\", data)"
      ]
    },
    {
      "cell_type": "markdown",
      "id": "cf507bfd-b692-4c90-aaf8-da1d3e51c815",
      "metadata": {
        "id": "cf507bfd-b692-4c90-aaf8-da1d3e51c815"
      },
      "source": [
        "### 5. Describe the methods and tools available in Python for safely sharing data between threads and processes."
      ]
    },
    {
      "cell_type": "code",
      "execution_count": null,
      "id": "af479a30-c205-4d8f-bb44-8b77838236f6",
      "metadata": {
        "id": "af479a30-c205-4d8f-bb44-8b77838236f6"
      },
      "outputs": [],
      "source": [
        "# SOLUTION :-"
      ]
    },
    {
      "cell_type": "code",
      "execution_count": null,
      "id": "9aa703ff-ae10-4565-b98c-525cddec2680",
      "metadata": {
        "collapsed": true,
        "jupyter": {
          "outputs_hidden": true
        },
        "scrolled": true,
        "id": "9aa703ff-ae10-4565-b98c-525cddec2680"
      },
      "outputs": [],
      "source": [
        "'''\n",
        "\n",
        "In Python, there are several methods and tools available for safely sharing data between threads and processes.\n",
        "\n",
        " a)- Locks: - A Lock is a threading primitive that is used to prevent multiple threads from modifying shared data simultaneously\n",
        "\n",
        "         When a thread wants to access shared data, it acquires the lock. If another thread tries to acquire the same lock simultaneously,\n",
        "         it will be blocked until the lock is released.\n",
        "\n",
        "\n",
        "b)- RLock (Reentrant Lock):- A reentrant lock allows a thread to acquire the same lock multiple times without causing a deadlock.\n",
        "\n",
        "                         Useful in scenarios where the same thread may need to re-enter the locked section multiple times.\n",
        "\n",
        "\n",
        "c)-  Semaphore: -  A semaphore is a counter that controls access to a shared resource. It allows a fixed number of threads to access\n",
        "\n",
        "              the resource at once.\n",
        "               Useful for limiting access to a resource, such as database connections\n",
        "\n",
        "\n",
        "'''\n"
      ]
    },
    {
      "cell_type": "markdown",
      "id": "6b70b167-a931-4cfe-9c00-88873d8c2645",
      "metadata": {
        "id": "6b70b167-a931-4cfe-9c00-88873d8c2645"
      },
      "source": [
        "### 6. Discuss why it’s crucial to handle exceptions in concurrent programs and the techniques available for doing so"
      ]
    },
    {
      "cell_type": "code",
      "execution_count": null,
      "id": "f21b1548-bdb4-4c31-88fc-3f3e2a9894ef",
      "metadata": {
        "id": "f21b1548-bdb4-4c31-88fc-3f3e2a9894ef"
      },
      "outputs": [],
      "source": [
        "# SOLUTION :-"
      ]
    },
    {
      "cell_type": "code",
      "execution_count": null,
      "id": "92539fe9-fb8f-46cc-b471-5946c9f7b993",
      "metadata": {
        "collapsed": true,
        "jupyter": {
          "outputs_hidden": true
        },
        "id": "92539fe9-fb8f-46cc-b471-5946c9f7b993"
      },
      "outputs": [],
      "source": [
        "'''\n",
        "Handling exceptions in concurrent programs is crucial for several reasons:\n",
        "\n",
        "\n",
        "1- Resource Management: Concurrent operations often involve shared resources (like files, sockets, or databases).\n",
        "                     If an error occurs (e.g., a file not found, a network timeout), failing to handle it can lead to resource\n",
        "                     leaks or corruption\n",
        "\n",
        "\n",
        "2- BDebugging and Logging: Properly managing exceptions allows you to log error information effectively.\n",
        "\n",
        "\n",
        "3- Application Flow Control: Exceptions can be used to communicate the status of operations between threads.\n",
        "                           For example, if one thread encounters an unrecoverable error, it may signal other threads to terminate\n",
        "                           or perform cleanup operations.\n",
        "\n",
        "4- Error Isolation: In concurrent programming, where multiple threads or processes operate simultaneously,\n",
        "                   an error in one thread shouldn't necessarily cause the entire application or other threads to fail\n",
        "\n",
        "\n",
        "\n",
        "'''"
      ]
    },
    {
      "cell_type": "markdown",
      "id": "3f0c1b57-ce53-4f0e-a3b5-7a4aa02a90a0",
      "metadata": {
        "id": "3f0c1b57-ce53-4f0e-a3b5-7a4aa02a90a0"
      },
      "source": [
        "### 7. Create a program that uses a thread pool to calculate the factorial of numbers from 1 to 10 concurrently. Use concurrent.futures.ThreadPoolExecutor to manage the threads."
      ]
    },
    {
      "cell_type": "code",
      "execution_count": null,
      "id": "3ada3489-9082-4cc5-a914-e753420b94ca",
      "metadata": {
        "id": "3ada3489-9082-4cc5-a914-e753420b94ca"
      },
      "outputs": [],
      "source": [
        "# SOLUTION :-"
      ]
    },
    {
      "cell_type": "code",
      "execution_count": null,
      "id": "641547fb-4591-4d83-86d9-60bcae7b87ab",
      "metadata": {
        "id": "641547fb-4591-4d83-86d9-60bcae7b87ab",
        "outputId": "1f94a357-8df3-4fcd-d355-8dbe44035330"
      },
      "outputs": [
        {
          "name": "stdout",
          "output_type": "stream",
          "text": [
            "Factorial of 1 is 1\n",
            "Factorial of 2 is 2\n",
            "Factorial of 3 is 6\n",
            "Factorial of 4 is 24\n",
            "Factorial of 5 is 120\n",
            "Factorial of 6 is 720\n",
            "Factorial of 7 is 5040\n",
            "Factorial of 8 is 40320\n",
            "Factorial of 9 is 362880\n",
            "Factorial of 10 is 3628800\n",
            "The program finished in 0.01 seconds\n"
          ]
        }
      ],
      "source": [
        "import concurrent.futures\n",
        "import math\n",
        "import time\n",
        "\n",
        "def fact(n):\n",
        "    return math.factorial(n)\n",
        "\n",
        "if __name__ == \"__main__\":\n",
        "    start = time.perf_counter()\n",
        "    with concurrent.futures.ThreadPoolExecutor() as executor:\n",
        "        results = executor.map(fact, range(1, 11))\n",
        "\n",
        "    for n, num in zip(range(1, 11), results):\n",
        "        print(f\"Factorial of {n} is {num}\")\n",
        "\n",
        "    end = time.perf_counter()\n",
        "\n",
        "    print(f\"The program finished in {round(end - start, 2)} seconds\")"
      ]
    },
    {
      "cell_type": "markdown",
      "id": "310b137a-cc92-4561-97c2-927683c952d0",
      "metadata": {
        "id": "310b137a-cc92-4561-97c2-927683c952d0"
      },
      "source": [
        "### 8. Create a Python program that uses multiprocessing.Pool to compute the square of numbers from 1 to 10 in parallel. Measure the time taken to perform this computation using a pool of different sizes (e.g., 2, 4, 8 processes)"
      ]
    },
    {
      "cell_type": "code",
      "execution_count": null,
      "id": "9a73657c-4797-402e-8026-fdf1ca344c69",
      "metadata": {
        "id": "9a73657c-4797-402e-8026-fdf1ca344c69"
      },
      "outputs": [],
      "source": [
        "# SOLUTION :-"
      ]
    },
    {
      "cell_type": "code",
      "execution_count": 13,
      "id": "32dab6cc-c54f-4683-a4b1-49d2e2905d7e",
      "metadata": {
        "colab": {
          "base_uri": "https://localhost:8080/"
        },
        "id": "32dab6cc-c54f-4683-a4b1-49d2e2905d7e",
        "outputId": "cd4d36f0-69ad-4e7c-889c-52bc33564c45"
      },
      "outputs": [
        {
          "output_type": "stream",
          "name": "stdout",
          "text": [
            "Pool size: 2, Results: [1, 4, 9, 16, 25, 36, 49, 64, 81, 100], Time taken: 0.040 seconds\n",
            "Pool size: 4, Results: [1, 4, 9, 16, 25, 36, 49, 64, 81, 100], Time taken: 0.042 seconds\n",
            "Pool size: 8, Results: [1, 4, 9, 16, 25, 36, 49, 64, 81, 100], Time taken: 0.079 seconds\n"
          ]
        }
      ],
      "source": [
        "import multiprocessing\n",
        "import time\n",
        "\n",
        "def square(n):\n",
        "    return n * n\n",
        "\n",
        "def compute_squares(pool_size):\n",
        "    numbers = list(range(1, 11))  # List of numbers 1 to 10\n",
        "    start_time = time.time()\n",
        "    with multiprocessing.Pool(processes=pool_size) as pool:\n",
        "        results = pool.map(square, numbers)\n",
        "    end_time = time.time()\n",
        "    print(f'Pool size: {pool_size}, Results: {results}, Time taken: {end_time - start_time:.3f} seconds')\n",
        "\n",
        "for size in [2, 4, 8]:\n",
        "    compute_squares(size)"
      ]
    }
  ],
  "metadata": {
    "kernelspec": {
      "display_name": "Python 3 (ipykernel)",
      "language": "python",
      "name": "python3"
    },
    "language_info": {
      "codemirror_mode": {
        "name": "ipython",
        "version": 3
      },
      "file_extension": ".py",
      "mimetype": "text/x-python",
      "name": "python",
      "nbconvert_exporter": "python",
      "pygments_lexer": "ipython3",
      "version": "3.12.3"
    },
    "colab": {
      "provenance": []
    }
  },
  "nbformat": 4,
  "nbformat_minor": 5
}