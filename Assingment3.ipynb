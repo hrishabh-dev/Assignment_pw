{
 "cells": [
  {
   "cell_type": "markdown",
   "id": "59d89284-0049-42cc-b22d-035b34cc0362",
   "metadata": {},
   "source": [
    "### 1. What are the five key concepts of Object-Oriented Programming (OOP)?"
   ]
  },
  {
   "cell_type": "code",
   "execution_count": 2,
   "id": "1dc47e14-ca21-4fdf-a258-392f42e533cc",
   "metadata": {},
   "outputs": [],
   "source": [
    "# SOLUTION:-"
   ]
  },
  {
   "cell_type": "code",
   "execution_count": null,
   "id": "71091e5c-b75d-4291-b176-6aac898d77e5",
   "metadata": {},
   "outputs": [],
   "source": [
    "'''\n",
    "  Five key conceptss of OOP:-\n",
    "\n",
    "                              1- Classes AND Objects -\n",
    "                                 Classes- templates for creating objects.\n",
    "                                 Objects- representing real world entities.\n",
    "\n",
    "                              2- Inheritance  - \n",
    "                                 Inherting properties and behaviour from a parent class\n",
    "\n",
    "                              3- Polymorphism - \n",
    "                                 Refers to an object taking several forms depending on the data/method.\n",
    "\n",
    "                              4- Encapsulation - \n",
    "                                 Hiding internal details\n",
    "\n",
    "                              5- Abstraction - \n",
    "                                 Hiding complex implementation details\n",
    "\n",
    "'''"
   ]
  },
  {
   "cell_type": "code",
   "execution_count": null,
   "id": "881ece7d-c942-4e2e-8311-9a146d3dcdcb",
   "metadata": {},
   "outputs": [],
   "source": []
  },
  {
   "cell_type": "markdown",
   "id": "adf5cd81-acb3-4a43-96e2-1643cdeb82b5",
   "metadata": {},
   "source": [
    "### 2. Write a Python class for a `Car` with attributes for `make`, `model`, and `year'.Include a method to display the car's information.."
   ]
  },
  {
   "cell_type": "code",
   "execution_count": 8,
   "id": "a7383886-3941-44c4-9136-e5c5daec5cd3",
   "metadata": {},
   "outputs": [],
   "source": [
    "# SOLUTION:-"
   ]
  },
  {
   "cell_type": "code",
   "execution_count": 14,
   "id": "f70b324e-5356-461f-a8e9-06ce60d8da89",
   "metadata": {},
   "outputs": [],
   "source": [
    "class Car:\n",
    "    def __init__(self,make,model,year):\n",
    "        self.make=make\n",
    "        self.model=model\n",
    "        self.year=int(year)\n",
    "    def car_info(self):\n",
    "        print(f\"Make:{self.make}\")\n",
    "        print(f\"Model:{self.model}\")\n",
    "        print(f\"Year:{self.year}\")"
   ]
  },
  {
   "cell_type": "code",
   "execution_count": 18,
   "id": "02de939b-052e-4987-89a7-fc25dfdd93ba",
   "metadata": {},
   "outputs": [],
   "source": [
    "info=Car(\"MAHINDRA\",\"THAR\",2023)"
   ]
  },
  {
   "cell_type": "code",
   "execution_count": 20,
   "id": "2dd790ef-9271-43ff-be1d-8cf9503c1215",
   "metadata": {},
   "outputs": [
    {
     "name": "stdout",
     "output_type": "stream",
     "text": [
      "Make:MAHINDRA\n",
      "Model:THAR\n",
      "Year:2023\n"
     ]
    }
   ],
   "source": [
    "info.car_info()"
   ]
  },
  {
   "cell_type": "code",
   "execution_count": null,
   "id": "96985214-9d25-48b7-859c-1887af30f3ac",
   "metadata": {},
   "outputs": [],
   "source": []
  },
  {
   "cell_type": "markdown",
   "id": "d6bb349e-68ab-4ab5-935d-411f8f19c4d0",
   "metadata": {},
   "source": [
    "### 3. Explain the difference between instance methods and class methods. Provide an example of each"
   ]
  },
  {
   "cell_type": "code",
   "execution_count": 23,
   "id": "b59fc7d2-728c-401d-84bb-8f7805f6e3e7",
   "metadata": {},
   "outputs": [],
   "source": [
    "# SOLUTION:-"
   ]
  },
  {
   "cell_type": "code",
   "execution_count": null,
   "id": "16a696df-3bfe-43a5-8617-03fe9cce7b8b",
   "metadata": {},
   "outputs": [],
   "source": [
    "'''\n",
    "    Instance method :-\n",
    "                      1- First parameter is - self\n",
    "                      \n",
    "                      2- Performs actions on  instances\n",
    "\n",
    "                      3- For actions related to a specific instance\n",
    "\n",
    "                      4- Bound to an instances of a class\n",
    "\n",
    "                      5- By create object we can direct access\n",
    "\n",
    "'''"
   ]
  },
  {
   "cell_type": "code",
   "execution_count": 47,
   "id": "b71595f6-a0ed-4343-8e30-980d1ccc13b8",
   "metadata": {},
   "outputs": [],
   "source": [
    "# EXAMPLE -\n",
    "\n",
    "class method:\n",
    "    def __init__(self,name):\n",
    "        self.name=name\n",
    "    def name_n(self):\n",
    "        name=self.name\n",
    "        return name"
   ]
  },
  {
   "cell_type": "code",
   "execution_count": 57,
   "id": "d7a9cfab-0b2c-4dbc-a1fb-471991b328d9",
   "metadata": {},
   "outputs": [
    {
     "data": {
      "text/plain": [
       "'Hrishabh'"
      ]
     },
     "execution_count": 57,
     "metadata": {},
     "output_type": "execute_result"
    }
   ],
   "source": [
    "a=method(\"Hrishabh\")\n",
    "a.name_n()"
   ]
  },
  {
   "cell_type": "code",
   "execution_count": null,
   "id": "72b7e674-2e4a-4e16-a497-11808fa4a552",
   "metadata": {},
   "outputs": [],
   "source": [
    "'''\n",
    "   Class method :-\n",
    "                 1- Bound to the class\n",
    "\n",
    "                 2- Access/Modify methods and attributes associated with class\n",
    "\n",
    "                 3- Without creating object we can direct access\n",
    "\n",
    "                 4- First parameter is - cls\n",
    "\n",
    "                 5- Class method can modify class state applicable to all the instances of the class\n",
    "\n",
    "'''"
   ]
  },
  {
   "cell_type": "code",
   "execution_count": 67,
   "id": "69bcda0f-5c7a-45c6-9765-376b8b4c2b49",
   "metadata": {},
   "outputs": [],
   "source": [
    "# EXAMPLE -\n",
    "class stu:\n",
    "    def __init__(self,name):\n",
    "        self.name=name\n",
    "    @classmethod\n",
    "    def name_c(cls,name):\n",
    "        return cls(name)"
   ]
  },
  {
   "cell_type": "code",
   "execution_count": 69,
   "id": "0783d838-aa08-48ce-8ad6-4917d23b7859",
   "metadata": {},
   "outputs": [
    {
     "data": {
      "text/plain": [
       "'Hrishabh'"
      ]
     },
     "execution_count": 69,
     "metadata": {},
     "output_type": "execute_result"
    }
   ],
   "source": [
    "na=stu.name_c(\"Hrishabh\")\n",
    "na.name"
   ]
  },
  {
   "cell_type": "code",
   "execution_count": null,
   "id": "2ea88459-7350-4a12-9289-c398fd168ae5",
   "metadata": {},
   "outputs": [],
   "source": []
  },
  {
   "cell_type": "markdown",
   "id": "f60e55cb-30b8-4b43-b975-50f003f7495a",
   "metadata": {},
   "source": [
    "### 4. How does Python implement method overloading? Give an example"
   ]
  },
  {
   "cell_type": "code",
   "execution_count": 72,
   "id": "095456e4-6aed-4e93-a935-5e5a9eb451a2",
   "metadata": {},
   "outputs": [],
   "source": [
    "# SOLUTION:-"
   ]
  },
  {
   "cell_type": "code",
   "execution_count": null,
   "id": "d3c10f3e-e157-424b-885b-8b6fd3fee8d6",
   "metadata": {},
   "outputs": [],
   "source": [
    "'''\n",
    "   Python doesn't support method overloading \n",
    "   if we overload the method , python only takes into account the most recent definition\n",
    "'''"
   ]
  },
  {
   "cell_type": "code",
   "execution_count": 92,
   "id": "c3a2c250-3451-43e3-a6f2-f81aa3cfe875",
   "metadata": {},
   "outputs": [],
   "source": [
    "class students:\n",
    "    def student(self):\n",
    "        print(\"Welcome to pw skiils\")\n",
    "    def student(self,name):\n",
    "        print(\"Welcome to pw skills\",name=\" \")\n",
    "    def student(self,name=\" \",course=\" \"):\n",
    "        print(\"welcome to pw skills:\",name,\"(course):\",course)\n",
    "        \n",
    "    "
   ]
  },
  {
   "cell_type": "code",
   "execution_count": 94,
   "id": "cec9a3e3-1cbe-4ba0-a078-5cdc5b66709a",
   "metadata": {},
   "outputs": [
    {
     "name": "stdout",
     "output_type": "stream",
     "text": [
      "welcome to pw skills:   (course):  \n"
     ]
    }
   ],
   "source": [
    "n=students()\n",
    "n.student()"
   ]
  },
  {
   "cell_type": "code",
   "execution_count": 96,
   "id": "0bf1d93e-1f46-4360-96ad-3518992705c9",
   "metadata": {},
   "outputs": [],
   "source": [
    "# Here it takes the most recent one "
   ]
  },
  {
   "cell_type": "code",
   "execution_count": 98,
   "id": "402c23de-446f-43bd-92f9-f5adec05de27",
   "metadata": {},
   "outputs": [
    {
     "name": "stdout",
     "output_type": "stream",
     "text": [
      "welcome to pw skills: Hrishabh (course): Data science\n"
     ]
    }
   ],
   "source": [
    "n=students()\n",
    "n.student(\"Hrishabh\",\"Data science\")"
   ]
  },
  {
   "cell_type": "code",
   "execution_count": null,
   "id": "4465f5ca-3b01-4c0c-8a87-2e4e49c99d51",
   "metadata": {},
   "outputs": [],
   "source": [
    "'''\n",
    "Here student method is taking different forms,the last method overloads the previous ones in the same class\n",
    "'''"
   ]
  },
  {
   "cell_type": "code",
   "execution_count": null,
   "id": "b615676a-7a12-4d99-a229-c15999488886",
   "metadata": {},
   "outputs": [],
   "source": []
  },
  {
   "cell_type": "markdown",
   "id": "eab132bf-a842-4f8e-84d5-d8462a8d4d0e",
   "metadata": {},
   "source": [
    "### 5. What are the three types of access modifiers in Python? How are they denoted?"
   ]
  },
  {
   "cell_type": "code",
   "execution_count": 101,
   "id": "6165e41a-3e29-4cae-9f4c-fdb7fe2af6dd",
   "metadata": {},
   "outputs": [],
   "source": [
    "# SOLUTION -"
   ]
  },
  {
   "cell_type": "code",
   "execution_count": null,
   "id": "7ccb447f-2cc0-4a20-9b5a-e86b83f915f0",
   "metadata": {},
   "outputs": [],
   "source": [
    "'''\n",
    "     Three types of access modifiers in Python are:-\n",
    "\n",
    "                                       1- Public access modifier \n",
    "                                          .accessible from anywhere , from outside / inside of class\n",
    "\n",
    "                                          .default access modifer in python \n",
    "\n",
    "'''"
   ]
  },
  {
   "cell_type": "code",
   "execution_count": null,
   "id": "58742032-f47e-4556-9674-8a7ba2a3f35c",
   "metadata": {},
   "outputs": [],
   "source": [
    "# Denoted -\n",
    "# ( e.g -   variable , method() )\n",
    "# no prefix"
   ]
  },
  {
   "cell_type": "code",
   "execution_count": 106,
   "id": "c71b7413-5627-4716-ab74-320560a0c092",
   "metadata": {},
   "outputs": [],
   "source": [
    "# Example \n",
    "class Student:\n",
    "    def __init__(self, name, degree):\n",
    "        self.name = name\n",
    "        self.degree = degree\n",
    "        \n",
    "    def show(self):\n",
    "        #accessing the  public data member\n",
    "        print(\"name\", self.name, 'degree', self.degree)"
   ]
  },
  {
   "cell_type": "code",
   "execution_count": 108,
   "id": "6d4b78d0-98c7-4eb7-a21c-0ceb21c8fcbb",
   "metadata": {},
   "outputs": [
    {
     "name": "stdout",
     "output_type": "stream",
     "text": [
      "name hrishabh degree b.tech\n"
     ]
    }
   ],
   "source": [
    "n=Student(\"hrishabh\",\"b.tech\")\n",
    "n.show()"
   ]
  },
  {
   "cell_type": "code",
   "execution_count": null,
   "id": "9bd1cd90-80eb-4e3f-9e4b-578b9c9e3a2c",
   "metadata": {},
   "outputs": [],
   "source": [
    "'''\n",
    "                             2- Private access modifier \n",
    "                               .the data and method is only accessible within its class\n",
    "\n",
    "                               .use double underscore __ to make private\n",
    "\n",
    "'''"
   ]
  },
  {
   "cell_type": "code",
   "execution_count": null,
   "id": "9fa28901-88f5-4f0a-852a-8914fcdae8bc",
   "metadata": {},
   "outputs": [],
   "source": [
    "# Denoted - \n",
    "# ( e.g - __variable , __method() )\n",
    "# Prefix with double underscore __"
   ]
  },
  {
   "cell_type": "code",
   "execution_count": 110,
   "id": "6914c967-e2e8-4822-9ac4-8c35c799129e",
   "metadata": {},
   "outputs": [],
   "source": [
    "class Student:\n",
    "    def __init__(self, name, degree):\n",
    "        self.name = name\n",
    "        self.__degree = degree\n",
    "        \n",
    "    def show(self):\n",
    "        #accessing the  private data member\n",
    "        print(\"name\", self.name, 'degree', self.__degree)"
   ]
  },
  {
   "cell_type": "code",
   "execution_count": 112,
   "id": "e048dc94-3b7e-4337-a31f-c999cd34ac9f",
   "metadata": {},
   "outputs": [
    {
     "name": "stdout",
     "output_type": "stream",
     "text": [
      "name Hrishabh degree b.tech\n"
     ]
    }
   ],
   "source": [
    "n=Student(\"Hrishabh\",\"b.tech\")\n",
    "n.show()"
   ]
  },
  {
   "cell_type": "code",
   "execution_count": 114,
   "id": "5ef42ed3-1b1f-48f1-a6b3-3628944fe293",
   "metadata": {},
   "outputs": [
    {
     "data": {
      "text/plain": [
       "'Hrishabh'"
      ]
     },
     "execution_count": 114,
     "metadata": {},
     "output_type": "execute_result"
    }
   ],
   "source": [
    "n.name"
   ]
  },
  {
   "cell_type": "code",
   "execution_count": 116,
   "id": "3c26bbf0-44e1-41d1-9ea3-2bf676c7c5e0",
   "metadata": {},
   "outputs": [
    {
     "ename": "AttributeError",
     "evalue": "'Student' object has no attribute 'degree'",
     "output_type": "error",
     "traceback": [
      "\u001b[1;31m---------------------------------------------------------------------------\u001b[0m",
      "\u001b[1;31mAttributeError\u001b[0m                            Traceback (most recent call last)",
      "Cell \u001b[1;32mIn[116], line 1\u001b[0m\n\u001b[1;32m----> 1\u001b[0m n\u001b[38;5;241m.\u001b[39mdegree\n",
      "\u001b[1;31mAttributeError\u001b[0m: 'Student' object has no attribute 'degree'"
     ]
    }
   ],
   "source": [
    "n.degree # It will throw an error beause it is now a private data"
   ]
  },
  {
   "cell_type": "code",
   "execution_count": null,
   "id": "9ead4b62-d06c-470f-9ac0-f94319602801",
   "metadata": {},
   "outputs": [],
   "source": [
    "'''\n",
    "                         3- Protected access modifier \n",
    "                           .considered protected but still accessible outside the class\n",
    "\n",
    "                           .use single underscore _ to make protected , Within the class and to its sub-classes, protected members can be accessed.\n",
    "\n",
    "'''"
   ]
  },
  {
   "cell_type": "code",
   "execution_count": null,
   "id": "7ad3b0fd-0733-4c47-b5d6-66d1656d1403",
   "metadata": {},
   "outputs": [],
   "source": [
    "# Denoted - \n",
    "# (e.g - _variable , _method() )\n",
    "# Prefix with single underscore _"
   ]
  },
  {
   "cell_type": "code",
   "execution_count": 130,
   "id": "8541952f-11e3-4d68-937a-cbb13019184d",
   "metadata": {},
   "outputs": [],
   "source": [
    "class univ:\n",
    "    def __init__(self):\n",
    "        self._college_name = \"b.h.u\"\n",
    "class Student(univ):\n",
    "    def __init__(self, name):\n",
    "        self.name = name\n",
    "        univ.__init__(self) #accesing variable of base class>>classname__init__(self)\n",
    "        \n",
    "    def show(self):\n",
    "        print(\"name\", self.name, \"college\", self._college_name)"
   ]
  },
  {
   "cell_type": "code",
   "execution_count": 132,
   "id": "cc6685f6-4d13-44dd-9b52-afb75e8b8b67",
   "metadata": {},
   "outputs": [
    {
     "name": "stdout",
     "output_type": "stream",
     "text": [
      "name Hrishabh college b.h.u\n"
     ]
    }
   ],
   "source": [
    "n=Student(\"Hrishabh\")\n",
    "n.show()"
   ]
  },
  {
   "cell_type": "markdown",
   "id": "e91fa9f6-a97a-48df-959d-dd6793726533",
   "metadata": {},
   "source": [
    "### 6. Describe the five types of inheritance in Python. Provide a simple example of multiple inheritance"
   ]
  },
  {
   "cell_type": "code",
   "execution_count": 135,
   "id": "b4c636e0-bd52-4b14-8751-e0768fadf74d",
   "metadata": {},
   "outputs": [],
   "source": [
    "# SOLUTION :-"
   ]
  },
  {
   "cell_type": "code",
   "execution_count": null,
   "id": "1b70811a-6109-41f6-bc24-542e9e1eeb68",
   "metadata": {},
   "outputs": [],
   "source": [
    "'''\n",
    "   1- SINGLE INHERITENCE - \n",
    "\n",
    "                        . When a class only have one parent , it is said to have to have a single inheritence \n",
    "\n",
    "                        . One class for child and one class for parents are shown here \n",
    "'''\n"
   ]
  },
  {
   "cell_type": "code",
   "execution_count": null,
   "id": "8ca8606a-d814-4fdf-bccb-c6467b3b7854",
   "metadata": {},
   "outputs": [],
   "source": [
    "# SYNTAX \n",
    "\n",
    "class parent :\n",
    "       def method1(self):\n",
    "           print(\" \")\n",
    "class chile(parent):\n",
    "       def method2(self):\n",
    "         print(\" \")\n"
   ]
  },
  {
   "cell_type": "code",
   "execution_count": null,
   "id": "a637326a-62cb-4340-8ccb-24f083b0493c",
   "metadata": {},
   "outputs": [],
   "source": [
    "'''\n",
    "   2- MULTIPLE INHERITENCE -\n",
    "\n",
    "                          .  One child class may inherit from several parent classes when there is multiple inheritence\n",
    "\n",
    "                          .  Assume if we have two parent classes, ParentClass1 and ParentClass2, each with their own methods. \n",
    "                            Then ChildClass inherits from both ParentClass1 and ParentClass2. \n",
    "\n",
    "                          . Multiple inheritance allows classes to inherit and combine the behavior of multiple parent classes.\n",
    "'''"
   ]
  },
  {
   "cell_type": "code",
   "execution_count": 137,
   "id": "2e90f21e-6ea6-4a1f-8348-4a90075412dd",
   "metadata": {},
   "outputs": [],
   "source": [
    "# SYNTAX\n",
    "\n",
    "class parentclass1:\n",
    "      def method(self):\n",
    "          print(\" \")\n",
    "\n",
    "class parentclass2:\n",
    "      def method1(self):\n",
    "          print(\" \")\n",
    "class chile(parentclass1,parentclass2):\n",
    "    def method2(self):\n",
    "        print(\" \")\n",
    "        "
   ]
  },
  {
   "cell_type": "code",
   "execution_count": null,
   "id": "32bdbb69-bb8e-446f-9e04-086219c6ecc2",
   "metadata": {},
   "outputs": [],
   "source": [
    "'''\n",
    "    3-  MULTILEVEL INHERITENCE -\n",
    "\n",
    "                               . A class inherits from a child class or derived class under multilevel inheritance\n",
    "\n",
    "                               . Assume there are three classes a,b and c , Superclass a , child class b , childclass c\n",
    "                                 all are subclasses of a\n",
    "\n",
    "                               . We can say that ,multilevel inheritance is the term used to describe a set of classes.\n",
    "'''"
   ]
  },
  {
   "cell_type": "code",
   "execution_count": null,
   "id": "963e410a-2875-45eb-9a1a-b5a2f016b64a",
   "metadata": {},
   "outputs": [],
   "source": [
    "# SYNTAX\n",
    "\n",
    "class parentclass:\n",
    "      def method(self):\n",
    "          print(\" \")\n",
    "class childclass1(parentclass):\n",
    "      def method(self):\n",
    "          print(\" \")\n",
    "class childclass2(childclass):\n",
    "      def method(self):\n",
    "          print(\" \")\n",
    "    "
   ]
  },
  {
   "cell_type": "code",
   "execution_count": null,
   "id": "998ec5de-b19f-4cf0-bbe7-041abe072bed",
   "metadata": {},
   "outputs": [],
   "source": [
    "'''\n",
    "     4- HIERARCHICAL INHERITENCE -\n",
    "\n",
    "                                  . A single parent class gives rise to multiple child classes under hierarchical inheritance.\n",
    "\n",
    "                                  . It means we can say that there is one parent class and several child classes.\n",
    "'''"
   ]
  },
  {
   "cell_type": "code",
   "execution_count": null,
   "id": "857bb42e-6e36-483b-a439-3b9040e202e5",
   "metadata": {},
   "outputs": [],
   "source": [
    "# SYNTAX\n",
    "\n",
    "class parentclass:\n",
    "    def method(self):\n",
    "        print(\" \")\n",
    "\n",
    "class child1(parentclass):\n",
    "    def method(self):\n",
    "        print(\" \")\n",
    "\n",
    "class child2(parentclass):\n",
    "    def method(self):\n",
    "        print(\" \")\n",
    "        "
   ]
  },
  {
   "cell_type": "code",
   "execution_count": null,
   "id": "99e89afb-39cd-403a-869e-cd01d87ed3c4",
   "metadata": {},
   "outputs": [],
   "source": [
    "'''\n",
    "   5- HYBRID INHERITENCE - \n",
    "\n",
    "                          . When inheritance consists of multiple types or a combination of different inheritance is\n",
    "                            called hybrid inheritance.\n",
    "\n",
    "                         . Assume we have 4 classes , parent class a,childclass( b , c and d), here child class d inhertis property of \n",
    "                           parentclass and childclass.\n",
    "\n",
    "'''"
   ]
  },
  {
   "cell_type": "code",
   "execution_count": null,
   "id": "4dd9debc-210a-4021-b6ed-941a683e230c",
   "metadata": {},
   "outputs": [],
   "source": [
    "# SYNTAX\n",
    "\n",
    "class parentclass:\n",
    "    def method(self):\n",
    "        print(\" \")\n",
    "\n",
    "class child1(parentclass):\n",
    "    def method(self):\n",
    "        print(\" \")\n",
    "\n",
    "class child2(parentclass):\n",
    "    def method(self):\n",
    "        print(\" \")\n",
    "\n",
    "class child3(parentclass,child1):\n",
    "    def method(self):\n",
    "        print(\" \")"
   ]
  },
  {
   "cell_type": "code",
   "execution_count": null,
   "id": "1eed713b-3c0a-4d72-8f7e-8a268fb538c0",
   "metadata": {},
   "outputs": [],
   "source": []
  },
  {
   "cell_type": "markdown",
   "id": "5cb524f0-fb61-4ca5-8990-893cac5be285",
   "metadata": {},
   "source": [
    "#### # EXAMPLE OF MULTIPLE INHERITENCE : -"
   ]
  },
  {
   "cell_type": "code",
   "execution_count": 143,
   "id": "69a799d3-da53-4e23-a9d3-60ed2835a5ae",
   "metadata": {},
   "outputs": [],
   "source": [
    "class parentclass1:\n",
    "      def intro(self):\n",
    "          print(\" Inside parentclass1 \")\n",
    "\n",
    "class parentclass2:\n",
    "      def intro_i(self):\n",
    "          print(\"Inside  parentclass2 \")\n",
    "class childclass(parentclass1,parentclass2):\n",
    "    def into_c(self):\n",
    "        print(\" ChildClass inherits from both ParentClass1 and ParentClass2 \")"
   ]
  },
  {
   "cell_type": "code",
   "execution_count": 145,
   "id": "7e6a0eb3-5dc3-4f7e-b654-fe8f7b9dca34",
   "metadata": {},
   "outputs": [],
   "source": [
    "n=childclass()"
   ]
  },
  {
   "cell_type": "code",
   "execution_count": 149,
   "id": "920e55bd-e33f-4fbc-a08b-8c6e984557fe",
   "metadata": {},
   "outputs": [
    {
     "name": "stdout",
     "output_type": "stream",
     "text": [
      " Inside parentclass1 \n",
      "Inside  parentclass2 \n",
      " ChildClass inherits from both ParentClass1 and ParentClass2 \n"
     ]
    }
   ],
   "source": [
    "n.intro()\n",
    "n.intro_i()\n",
    "n.into_c()"
   ]
  },
  {
   "cell_type": "code",
   "execution_count": null,
   "id": "de00aaaa-635a-4720-97f1-d41e326bcc6e",
   "metadata": {},
   "outputs": [],
   "source": []
  },
  {
   "cell_type": "markdown",
   "id": "7c5baa68-1500-4450-a0d1-95a2a71da314",
   "metadata": {},
   "source": [
    "### 7. What is the Method Resolution Order (MRO) in Python? How can you retrieve it programmatically?"
   ]
  },
  {
   "cell_type": "code",
   "execution_count": 153,
   "id": "6e4d44ec-3665-4dd6-8113-08666a0183ce",
   "metadata": {},
   "outputs": [],
   "source": [
    "# SOLUTION :-"
   ]
  },
  {
   "cell_type": "code",
   "execution_count": null,
   "id": "2bfd8db6-66dd-450f-8bef-b5fe4343954d",
   "metadata": {},
   "outputs": [],
   "source": [
    "'''\n",
    "         . (MRO)Method Resolution Order algorithm is also known as C3 linearization.\n",
    "\n",
    "         \n",
    "         . The MRO determines the order in which the base classes are searched for a method or attribute.\n",
    "         \n",
    "         . It follows a specific set of rules to ensure a consistent and unambiguous order.\n",
    "\n",
    "'''"
   ]
  },
  {
   "cell_type": "code",
   "execution_count": null,
   "id": "95d35ddd-3df6-4dbe-bd1f-7b4e95f76f82",
   "metadata": {},
   "outputs": [],
   "source": [
    "# WE CAN RETRIEVE IT PROGRAMMATICALLY\n",
    "# let's assume classes: A, B, C, and D. Both B and C inherit from A, and D inherits from both B and C. \n",
    "# All classes define a method called method().\n",
    "# MRO  determine the order in which the base classes are searched for the method "
   ]
  },
  {
   "cell_type": "code",
   "execution_count": 155,
   "id": "d90ba9bf-88a3-47ce-8d01-1e9c0d0af762",
   "metadata": {},
   "outputs": [],
   "source": [
    "# EXAMPLE \n",
    "class A:\n",
    "    def method(self):\n",
    "        print(\"Hi welcome\")\n",
    "class B(A):\n",
    "    def method(self):\n",
    "        print(\"How are you\")\n",
    "class C(A):\n",
    "    def method(self):\n",
    "        print(\"What are you doing\")\n",
    "class D(B,C):\n",
    "    pass"
   ]
  },
  {
   "cell_type": "code",
   "execution_count": 157,
   "id": "68fef99e-17a1-40c0-95a9-cfa007ff5427",
   "metadata": {},
   "outputs": [
    {
     "name": "stdout",
     "output_type": "stream",
     "text": [
      "How are you\n"
     ]
    }
   ],
   "source": [
    "n=D()\n",
    "n.method()"
   ]
  },
  {
   "cell_type": "code",
   "execution_count": null,
   "id": "15b575a2-b3fb-4082-834c-93ed026b4479",
   "metadata": {},
   "outputs": [],
   "source": []
  },
  {
   "cell_type": "markdown",
   "id": "4b55b2b4-f9cd-452d-8fab-8498589574df",
   "metadata": {},
   "source": [
    "### 8. Create an abstract base class `Shape` with an abstract method `area()`. Then create two subclasses 'Circle' and 'Rectangle' that implement the area() method.."
   ]
  },
  {
   "cell_type": "code",
   "execution_count": 162,
   "id": "c0d7f5f4-0ad6-4116-b29c-daa581f3ef3f",
   "metadata": {},
   "outputs": [],
   "source": [
    "# SOLUTION :-"
   ]
  },
  {
   "cell_type": "code",
   "execution_count": 164,
   "id": "87d83f3d-1026-41fd-bd20-8d778134e4b2",
   "metadata": {},
   "outputs": [],
   "source": [
    "# import abc \n",
    "\n",
    "import abc\n",
    "class Shape:\n",
    "    @abc.abstractmethod\n",
    "    def calculate_area(self):\n",
    "        pass\n",
    "class Rectangle(Shape):\n",
    "    def calculate_area(self):\n",
    "        return \"Area of rectange is length*breadth\"\n",
    "class Circle(Shape):\n",
    "    def calculate_area(self):\n",
    "        return \"area of circle is pi*r **2\""
   ]
  },
  {
   "cell_type": "code",
   "execution_count": 166,
   "id": "2cda0834-d350-4012-a661-632302af3592",
   "metadata": {},
   "outputs": [
    {
     "data": {
      "text/plain": [
       "'area of circle is pi*r **2'"
      ]
     },
     "execution_count": 166,
     "metadata": {},
     "output_type": "execute_result"
    }
   ],
   "source": [
    "ar=Circle()\n",
    "ar.calculate_area()"
   ]
  },
  {
   "cell_type": "code",
   "execution_count": 168,
   "id": "6e853e09-303d-4a53-9d15-8d030008ce9b",
   "metadata": {},
   "outputs": [
    {
     "data": {
      "text/plain": [
       "'Area of rectange is length*breadth'"
      ]
     },
     "execution_count": 168,
     "metadata": {},
     "output_type": "execute_result"
    }
   ],
   "source": [
    "ar=Rectangle()\n",
    "ar.calculate_area()"
   ]
  },
  {
   "cell_type": "code",
   "execution_count": null,
   "id": "6b4beb12-0a07-4911-b543-90dbc8d2568c",
   "metadata": {},
   "outputs": [],
   "source": []
  },
  {
   "cell_type": "markdown",
   "id": "f8986fdd-78ba-40ce-89a7-913ec871cdf1",
   "metadata": {},
   "source": [
    "### 9. Demonstrate polymorphism by creating a function that can work with different shape objects to calculate and print the areas.\r\n",
    "\r"
   ]
  },
  {
   "cell_type": "code",
   "execution_count": 178,
   "id": "b65cfe6c-7b3c-4f01-a891-66de0104f5ee",
   "metadata": {},
   "outputs": [],
   "source": [
    "# SOLUTION :-"
   ]
  },
  {
   "cell_type": "code",
   "execution_count": 214,
   "id": "ab902e89-e709-49ab-8b85-431a7f32b99f",
   "metadata": {},
   "outputs": [],
   "source": [
    "class shapes:\n",
    "    def area(self):\n",
    "        pass\n",
    "class rectangle(shapes):\n",
    "    def area(self,x,y):\n",
    "        print(\"Area of rectange formula is [length*breadth]\")\n",
    "        print(x*y)\n",
    "class circle(shapes):\n",
    "    def area(self,x):\n",
    "        print( \"area of circle formula is [pi*r **2]\")\n",
    "        print((22/7)*x**2)\n",
    "class square(shapes):\n",
    "    def area(self,x):\n",
    "        print(\"area of sqaure formmula is [side**2]\")\n",
    "        print(x**2)"
   ]
  },
  {
   "cell_type": "code",
   "execution_count": 208,
   "id": "c86d1570-e7a6-43fe-8d82-2b82796b2675",
   "metadata": {},
   "outputs": [
    {
     "name": "stdout",
     "output_type": "stream",
     "text": [
      "Area of rectange formula is [length*breadth]\n",
      "20\n"
     ]
    }
   ],
   "source": [
    "n=rectangle()\n",
    "n.area(5,4)"
   ]
  },
  {
   "cell_type": "code",
   "execution_count": 210,
   "id": "90352303-7415-4310-b401-ec94be2204b3",
   "metadata": {},
   "outputs": [
    {
     "name": "stdout",
     "output_type": "stream",
     "text": [
      "area of circle formula is [pi*r **2]\n",
      "1257.142857142857\n"
     ]
    }
   ],
   "source": [
    "n=circle()\n",
    "n.area(20)"
   ]
  },
  {
   "cell_type": "code",
   "execution_count": 220,
   "id": "9e8e4312-5a88-49cf-8ea8-5303b4cfdf04",
   "metadata": {},
   "outputs": [
    {
     "name": "stdout",
     "output_type": "stream",
     "text": [
      "area of sqaure formmula is [side**2]\n",
      "1600\n"
     ]
    }
   ],
   "source": [
    "n=square()\n",
    "n.area(40)"
   ]
  },
  {
   "cell_type": "code",
   "execution_count": null,
   "id": "10b4e8e3-a004-4a51-b45d-a985455d9d8e",
   "metadata": {},
   "outputs": [],
   "source": []
  },
  {
   "cell_type": "markdown",
   "id": "0f92f2aa-8828-437a-bd7e-5c0a14db7390",
   "metadata": {},
   "source": [
    "###  10-Implement encapsulation in a `BankAccount` class with private attributes for `balance` and account number. Include method for deposit,withdrawl and balance enquiry."
   ]
  },
  {
   "cell_type": "code",
   "execution_count": 229,
   "id": "adf8dfba-e483-4d1a-bff3-811670c95bc6",
   "metadata": {},
   "outputs": [],
   "source": [
    "# SOLUTION :-"
   ]
  },
  {
   "cell_type": "code",
   "execution_count": 412,
   "id": "362b5064-9916-49a4-9c2b-5188b5701ae9",
   "metadata": {},
   "outputs": [],
   "source": [
    "class bankaccount:\n",
    "    def __init__(self,number,balance):\n",
    "        self.__number=number\n",
    "        self.__balance=balance\n",
    "\n",
    "    def deposit(self,amount):\n",
    "        self.__balance=self.__balance+amount\n",
    "\n",
    "    def withdrawl(self,amount):\n",
    "        if self.__balance>=amount:\n",
    "            self.__balance = self.__balance - amount\n",
    "            return \"Withdrawl completed\"\n",
    "        else:\n",
    "            return \"exceeds limit\"\n",
    "\n",
    "    def get_info(self):\n",
    "        return  f\"Account number:{self.__number} ---->Balance:{self.__balance}\""
   ]
  },
  {
   "cell_type": "code",
   "execution_count": 414,
   "id": "01889701-a647-4e9c-b104-0fc4b7dd960b",
   "metadata": {},
   "outputs": [
    {
     "data": {
      "text/plain": [
       "'Account number:394393 ---->Balance:17000'"
      ]
     },
     "execution_count": 414,
     "metadata": {},
     "output_type": "execute_result"
    }
   ],
   "source": [
    "n=bankaccount(394393,14000)\n",
    "n.deposit(3000)\n",
    "n.get_info()"
   ]
  },
  {
   "cell_type": "code",
   "execution_count": 420,
   "id": "cfaa3fa1-b259-453d-a5a5-e7b5e06bbf97",
   "metadata": {},
   "outputs": [
    {
     "data": {
      "text/plain": [
       "'Withdrawl completed'"
      ]
     },
     "execution_count": 420,
     "metadata": {},
     "output_type": "execute_result"
    }
   ],
   "source": [
    "n.withdrawl(6000)"
   ]
  },
  {
   "cell_type": "code",
   "execution_count": 422,
   "id": "ec9dc094-dbe1-4484-8be7-f3f628b76bcb",
   "metadata": {},
   "outputs": [
    {
     "data": {
      "text/plain": [
       "'Account number:394393 ---->Balance:7000'"
      ]
     },
     "execution_count": 422,
     "metadata": {},
     "output_type": "execute_result"
    }
   ],
   "source": [
    "n.get_info()"
   ]
  },
  {
   "cell_type": "code",
   "execution_count": null,
   "id": "0fc46ea9-e07e-4ba0-8b1e-0673b84766c8",
   "metadata": {},
   "outputs": [],
   "source": []
  },
  {
   "cell_type": "markdown",
   "id": "43d6f928-dda7-4efa-97de-e56aba1596ca",
   "metadata": {},
   "source": [
    "### 11. Write a class that overrides the `__str__` and `__add__` magic methods. What will these methods allow you to do??"
   ]
  },
  {
   "cell_type": "code",
   "execution_count": 563,
   "id": "25de5a5c-bc93-42e6-b50c-020d0877aa00",
   "metadata": {},
   "outputs": [],
   "source": [
    "# SOLUTION :-"
   ]
  },
  {
   "cell_type": "code",
   "execution_count": 573,
   "id": "5cc53c12-7a7b-4d19-be54-89c5a695dc13",
   "metadata": {},
   "outputs": [
    {
     "name": "stdout",
     "output_type": "stream",
     "text": [
      "Point(34, 64)\n",
      "Point(4, 55)\n",
      "Point(38, 119)\n"
     ]
    }
   ],
   "source": [
    "class Point:\n",
    "    def __init__(self, x, y):\n",
    "        self.x = x\n",
    "        self.y = y\n",
    "    \n",
    "    # Overriding the str method \n",
    "    def __str__(self):\n",
    "        return f\"Point({self.x}, {self.y})\"\n",
    "    \n",
    "    # Overriding the add method to define how two Point objects are added\n",
    "    def __add__(self, nxt):\n",
    "        if (nxt, Point):\n",
    "            return Point(self.x + nxt.x, self.y + nxt.y)\n",
    "        return NotImplemented\n",
    "p1 = Point(34,64)\n",
    "p2 = Point(4, 55)\n",
    "\n",
    "print(p1)  \n",
    "print(p2)  \n",
    "p3 = p1 + p2 \n",
    "print(p3)"
   ]
  },
  {
   "cell_type": "code",
   "execution_count": null,
   "id": "9987e339-05a6-46e5-9f19-8aea9c1db34e",
   "metadata": {},
   "outputs": [],
   "source": []
  },
  {
   "cell_type": "markdown",
   "id": "7e5bb028-8462-455b-9a9b-75d7df574698",
   "metadata": {},
   "source": [
    "### 12. Create a decorator that measures and prints the execution time of a function"
   ]
  },
  {
   "cell_type": "code",
   "execution_count": null,
   "id": "bf897877-9fc9-4fe0-ab3d-eec4af1b09e5",
   "metadata": {},
   "outputs": [],
   "source": [
    "# SOLUTION :-"
   ]
  },
  {
   "cell_type": "code",
   "execution_count": 557,
   "id": "2333cf54-a4bb-4fd5-9752-9e0acdc88cd1",
   "metadata": {},
   "outputs": [
    {
     "name": "stdout",
     "output_type": "stream",
     "text": [
      "116150\n",
      "The time for executing the code 0.00031065940856933594\n"
     ]
    }
   ],
   "source": [
    "import time\n",
    "def timer_decorator(func):\n",
    "    def timer():\n",
    "        start = time.time()\n",
    "        func()\n",
    "        end = time.time()\n",
    "        print(\"The time for executing the code\", end-start)\n",
    "    return timer\n",
    "\n",
    "@timer_decorator\n",
    "def func_test():\n",
    "    print(2323*50)\n",
    "\n",
    "func_test()"
   ]
  },
  {
   "cell_type": "code",
   "execution_count": null,
   "id": "858845ec-a40a-494e-a29f-1f5ca2e0adbc",
   "metadata": {},
   "outputs": [],
   "source": []
  },
  {
   "cell_type": "markdown",
   "id": "0666e9c0-9e1c-418f-bd2f-d97698bb972e",
   "metadata": {},
   "source": [
    "### 13. Explain the concept of the Diamond Problem in multiple inheritance. How does Python resolve it?"
   ]
  },
  {
   "cell_type": "code",
   "execution_count": 577,
   "id": "c407d07b-0789-4041-ab0f-8a7978473554",
   "metadata": {},
   "outputs": [],
   "source": [
    "# SOLUTION :-"
   ]
  },
  {
   "cell_type": "code",
   "execution_count": null,
   "id": "bb57f840-abad-4cdb-9dbf-3adfa760b20c",
   "metadata": {},
   "outputs": [],
   "source": [
    "'''\n",
    "            . The diamond problem is a specific issue that can arise in programming languages that support multiple\n",
    "               inheritance.\n",
    "\n",
    "            . It occurs when a class inherits from two or more classes that have a common base class.\n",
    "\n",
    "            . causing conflicts and making it unclear which version of a method should be used.\n",
    "\n",
    "            \n",
    "            . To resolve  the diamond problem, Python uses a method resolution order (MRO) algorithm called C3\n",
    "\n",
    "'''\n",
    "# The MRO determines the order in which the base classes are searched for a method or attribute.\n",
    "\n",
    "#Python’s MRO algorithm effectively resolves the diamond problem by providing a well-defined order for method resolution.\n",
    "\n",
    "\n",
    "# we have four classes: A, B, C, and D. Both B and C inherit from A, and D inherits from both B and C\n",
    "\n",
    "# d.method() is called, Python follows the MRO to determine the order in which the base classes are searched for the method.\n",
    "\n",
    "#In this case, the MRO is D -> B -> C -> A. So, Python looks for the method() in class D\n",
    "\n",
    "                                               A\n",
    "                                             /   \\ \n",
    "                                            B     C  \n",
    "                                             \\   /\n",
    "                                               D\n",
    "            \n",
    "# Here is a example of this\n",
    "# EXAMPLE \n",
    "class A:\n",
    "    def method(self):\n",
    "        print(\"Hi welcome\")\n",
    "class B(A):\n",
    "    def method(self):\n",
    "        print(\"How are you\")\n",
    "class C(A):\n",
    "    def method(self):\n",
    "        print(\"What are you doing\")\n",
    "class D(B,C):\n",
    "    pass"
   ]
  },
  {
   "cell_type": "code",
   "execution_count": null,
   "id": "11a2ee48-9c5e-4ab8-9bbf-960b55044bd3",
   "metadata": {},
   "outputs": [],
   "source": []
  },
  {
   "cell_type": "markdown",
   "id": "53ee0ea3-b420-4587-91eb-c16e10e81ef7",
   "metadata": {},
   "source": [
    "### 14. Write a class method that keeps track of the number of instances created from a class"
   ]
  },
  {
   "cell_type": "code",
   "execution_count": 580,
   "id": "a7fde967-d928-44a9-b5b7-0814ef74797a",
   "metadata": {},
   "outputs": [],
   "source": [
    "# SOLUTION :-"
   ]
  },
  {
   "cell_type": "code",
   "execution_count": 592,
   "id": "f8d1deac-0d16-4977-9e6e-8d3f36da0cb2",
   "metadata": {},
   "outputs": [],
   "source": [
    "class coun:\n",
    "    ins=0\n",
    "    def __init__(self):\n",
    "        coun.ins=coun.ins+1\n",
    "    @classmethod\n",
    "    def no_count(cls):\n",
    "        return cls.ins"
   ]
  },
  {
   "cell_type": "code",
   "execution_count": 594,
   "id": "7514f7bf-94ce-4a00-8512-44fac2a0a047",
   "metadata": {},
   "outputs": [],
   "source": [
    "a=coun()\n",
    "b=coun()\n",
    "c=coun()\n",
    "d=coun()"
   ]
  },
  {
   "cell_type": "code",
   "execution_count": 596,
   "id": "818fe980-aed3-4225-bb5f-a42b6583873e",
   "metadata": {},
   "outputs": [
    {
     "name": "stdout",
     "output_type": "stream",
     "text": [
      "4\n"
     ]
    }
   ],
   "source": [
    "print(coun.no_count())"
   ]
  },
  {
   "cell_type": "code",
   "execution_count": null,
   "id": "1252099a-a346-4542-aca0-55d3c8c64953",
   "metadata": {},
   "outputs": [],
   "source": []
  },
  {
   "cell_type": "markdown",
   "id": "83e24a4d-d2f6-4340-bcd8-384f9488ffce",
   "metadata": {},
   "source": [
    "### 15. Implement a static method in a class that checks if a given year is a leap year."
   ]
  },
  {
   "cell_type": "code",
   "execution_count": 599,
   "id": "58038261-89ab-4234-a9cb-d64addfb0e5d",
   "metadata": {},
   "outputs": [],
   "source": [
    "# SOLUTION :-"
   ]
  },
  {
   "cell_type": "code",
   "execution_count": 635,
   "id": "76f2e180-13e5-4bf1-95d7-a25fbf06e477",
   "metadata": {},
   "outputs": [],
   "source": [
    "class leapyear:\n",
    "    @staticmethod\n",
    "    def year_l(year):\n",
    "        if (year%4)==0:\n",
    "            return \"yes, this is a  leap year\"\n",
    "        else:\n",
    "            return \"No , it's not a leap year\""
   ]
  },
  {
   "cell_type": "code",
   "execution_count": 645,
   "id": "5063e562-cca4-4db5-8a93-bb7f0822a176",
   "metadata": {},
   "outputs": [
    {
     "data": {
      "text/plain": [
       "'yes, this is a  leap year'"
      ]
     },
     "execution_count": 645,
     "metadata": {},
     "output_type": "execute_result"
    }
   ],
   "source": [
    "lp=leapyear()\n",
    "lp.year_l(2004)"
   ]
  },
  {
   "cell_type": "code",
   "execution_count": null,
   "id": "20d4df6a-af6f-4c6b-a5cd-fecde6051da0",
   "metadata": {},
   "outputs": [],
   "source": []
  }
 ],
 "metadata": {
  "kernelspec": {
   "display_name": "Python 3 (ipykernel)",
   "language": "python",
   "name": "python3"
  },
  "language_info": {
   "codemirror_mode": {
    "name": "ipython",
    "version": 3
   },
   "file_extension": ".py",
   "mimetype": "text/x-python",
   "name": "python",
   "nbconvert_exporter": "python",
   "pygments_lexer": "ipython3",
   "version": "3.12.4"
  }
 },
 "nbformat": 4,
 "nbformat_minor": 5
}
