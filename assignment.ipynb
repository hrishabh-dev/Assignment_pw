{
 "cells": [
  {
   "cell_type": "code",
   "execution_count": null,
   "id": "eb404c2a-3aa9-4b5e-97e0-4278be39d3cd",
   "metadata": {},
   "outputs": [],
   "source": [
    "# 1.Explain the key features of Python that make it a popular choice for programming."
   ]
  },
  {
   "cell_type": "code",
   "execution_count": null,
   "id": "c4f23e09-86b9-4a72-a73b-6d9093ea6f85",
   "metadata": {},
   "outputs": [],
   "source": [
    "'''\n",
    "solution:- Key features which makes Python a popular choice for programming -\n",
    "     1- Ease of learning\n",
    "        :-its easy to learn because of easy structure.\n",
    "     2- Easy to work\n",
    "        :-syntax is easy in python coding.\n",
    "     3- A lot of libraries\n",
    "        :-prebuilt libraires helps in simplify coding and increase efficiency.\n",
    "     4- Huge active community \n",
    "        :-huge community known for its continuous learning and improvement.\n",
    "     5- Widely used in industry\n",
    "        :-it is widely used in industry because of faster develpoment cycles,improved efficiency.\n",
    "     6- Used in frontend,backend and data analysis \n",
    "        :-Python's simplicity make it an ideal choice .\n",
    "'''\n"
   ]
  },
  {
   "cell_type": "code",
   "execution_count": null,
   "id": "824f9f70-d181-4b1f-961e-be5db3aa72dc",
   "metadata": {},
   "outputs": [],
   "source": [
    "# 2 Describe the role of predefined keywords in Python and provide examples of how they are used in a program."
   ]
  },
  {
   "cell_type": "code",
   "execution_count": 2,
   "id": "453b46ad-2942-41f8-bddd-0b49b041416f",
   "metadata": {},
   "outputs": [
    {
     "name": "stdout",
     "output_type": "stream",
     "text": [
      "\n",
      "Here is a list of the Python keywords.  Enter any keyword to get more help.\n",
      "\n",
      "False               class               from                or\n",
      "None                continue            global              pass\n",
      "True                def                 if                  raise\n",
      "and                 del                 import              return\n",
      "as                  elif                in                  try\n",
      "assert              else                is                  while\n",
      "async               except              lambda              with\n",
      "await               finally             nonlocal            yield\n",
      "break               for                 not                 \n",
      "\n"
     ]
    }
   ],
   "source": [
    "'''\n",
    "solution:- Keywords that are predefined holds a special meaning and have specific purpose in python .\n",
    "           for example here are few predefined words :-\n",
    "'''\n",
    "help('keywords')"
   ]
  },
  {
   "cell_type": "code",
   "execution_count": 4,
   "id": "8da392dd-d914-4e7a-9d42-6e8d6a7d3887",
   "metadata": {},
   "outputs": [
    {
     "name": "stdout",
     "output_type": "stream",
     "text": [
      "100 is greater than 50\n"
     ]
    }
   ],
   "source": [
    "#uses in program:-\n",
    "#example 1\n",
    "num=50\n",
    "num2=100\n",
    "if num>=num2:\n",
    "    print(\"50 is greater than 100\")\n",
    "else:\n",
    "    print(\"100 is greater than 50\")"
   ]
  },
  {
   "cell_type": "code",
   "execution_count": 8,
   "id": "c0f31ce0-9f6b-41a1-9efe-d5869689bbf7",
   "metadata": {},
   "outputs": [
    {
     "name": "stdout",
     "output_type": "stream",
     "text": [
      "0 1 2 3 4 5 6 7 8 9 "
     ]
    }
   ],
   "source": [
    "#example 2\n",
    "for i in range(10):\n",
    "    print(i,end=' ')\n",
    "    i=i+1"
   ]
  },
  {
   "cell_type": "code",
   "execution_count": 13,
   "id": "08e3f18b-6209-460f-91ac-26394940f0ac",
   "metadata": {},
   "outputs": [
    {
     "name": "stdout",
     "output_type": "stream",
     "text": [
      "1 2 3 4 "
     ]
    }
   ],
   "source": [
    "#example 3\n",
    "a=8\n",
    "i=0\n",
    "while i<=a:\n",
    "    i=i+1\n",
    "    print(i,end=' ')\n",
    "    if i==4:\n",
    "        break\n"
   ]
  },
  {
   "cell_type": "code",
   "execution_count": null,
   "id": "637f74ee-3908-44d7-89aa-f0f2f2bfe4cb",
   "metadata": {},
   "outputs": [],
   "source": []
  },
  {
   "cell_type": "code",
   "execution_count": 25,
   "id": "66a31586-5321-4371-b339-48a860745bd4",
   "metadata": {},
   "outputs": [
    {
     "name": "stdout",
     "output_type": "stream",
     "text": [
      "Previous list :- [1, 2, 3, 'ok', 4]\n",
      "Changed value:- [1, 2, 3, 100, 4]\n"
     ]
    }
   ],
   "source": [
    "# 3 Compare and contrast mutable and immutable ob\f",
    "ects in Python with examples.\n",
    "'''\n",
    "solution:- Mutable objects \n",
    "          Whose state or value can be changed after they are created are known as mutable objects or container.\n",
    "          LIST is a type of mutable object.\n",
    "'''\n",
    "#Example 1\n",
    "a=[1,2,3,'ok',4]\n",
    "print(\"Previous list :-\",a)\n",
    "a[3]=100\n",
    "print(\"Changed value:-\",a)"
   ]
  },
  {
   "cell_type": "code",
   "execution_count": 35,
   "id": "8e6d17a6-3b07-4d81-be36-1816cc2d2dae",
   "metadata": {},
   "outputs": [
    {
     "name": "stdout",
     "output_type": "stream",
     "text": [
      "['Ajay', 'Nikhil', 'Rakesh']\n",
      "Value to be changed :- Ajay\n",
      "Updated list :- ['Rishabh', 'Nikhil', 'Rakesh']\n"
     ]
    }
   ],
   "source": [
    "#Example 2\n",
    "li=[\"Ajay\",\"Nikhil\",\"Rakesh\"]\n",
    "print(li)\n",
    "print(\"Value to be changed :-\",li[0])\n",
    "li[0]=\"Rishabh\"\n",
    "print(\"Updated list :-\",li)"
   ]
  },
  {
   "cell_type": "code",
   "execution_count": 39,
   "id": "486350e0-8405-47d4-8d65-8056412818eb",
   "metadata": {},
   "outputs": [
    {
     "ename": "TypeError",
     "evalue": "'str' object does not support item assignment",
     "output_type": "error",
     "traceback": [
      "\u001b[1;31m---------------------------------------------------------------------------\u001b[0m",
      "\u001b[1;31mTypeError\u001b[0m                                 Traceback (most recent call last)",
      "Cell \u001b[1;32mIn[39], line 10\u001b[0m\n\u001b[0;32m      8\u001b[0m n_me\u001b[38;5;241m=\u001b[39m\u001b[38;5;124m\"\u001b[39m\u001b[38;5;124mAjay\u001b[39m\u001b[38;5;124m\"\u001b[39m\n\u001b[0;32m      9\u001b[0m n_me[\u001b[38;5;241m0\u001b[39m]\n\u001b[1;32m---> 10\u001b[0m n_me[\u001b[38;5;241m0\u001b[39m]\u001b[38;5;241m=\u001b[39m\u001b[38;5;124m\"\u001b[39m\u001b[38;5;124mI\u001b[39m\u001b[38;5;124m\"\u001b[39m\n",
      "\u001b[1;31mTypeError\u001b[0m: 'str' object does not support item assignment"
     ]
    }
   ],
   "source": [
    "'''\n",
    "     Immutable objects\n",
    "     Whose state or value cannot be changed after they are created are known as immutable objects \n",
    "     STRING is a type of immutable object\n",
    "     It doesn't support item assignment \n",
    "'''\n",
    "#Example \n",
    "n_me=\"Ajay\"\n",
    "n_me[0]\n",
    "n_me[0]=\"I\"\n"
   ]
  },
  {
   "cell_type": "code",
   "execution_count": null,
   "id": "6d93156b-9888-4889-b0ad-9225d4ce85d5",
   "metadata": {},
   "outputs": [],
   "source": [
    "# 4 Discuss the different types of operators in Python and provide examples of how they are used."
   ]
  },
  {
   "cell_type": "code",
   "execution_count": 41,
   "id": "02753548-c9a4-4144-be0e-5371a3e975cc",
   "metadata": {},
   "outputs": [
    {
     "name": "stdout",
     "output_type": "stream",
     "text": [
      "57\n"
     ]
    }
   ],
   "source": [
    "'''\n",
    "solution:- Different types of operators in Python are:-\n",
    "           1- Arithmatic operator - +,-,x,%\n",
    "              Used for basic calculations\n",
    "'''\n",
    "# Example 1\n",
    "a=23\n",
    "b=34\n",
    "print(a+b)"
   ]
  },
  {
   "cell_type": "code",
   "execution_count": 43,
   "id": "aeff5e46-0025-4658-a7db-d2e3fed3673d",
   "metadata": {},
   "outputs": [
    {
     "name": "stdout",
     "output_type": "stream",
     "text": [
      "23\n"
     ]
    }
   ],
   "source": [
    "#Example 2\n",
    "a=23\n",
    "b=45\n",
    "print(a%b)"
   ]
  },
  {
   "cell_type": "code",
   "execution_count": 45,
   "id": "eaba765a-4a2d-4443-b843-08fc4e67fc52",
   "metadata": {},
   "outputs": [
    {
     "data": {
      "text/plain": [
       "False"
      ]
     },
     "execution_count": 45,
     "metadata": {},
     "output_type": "execute_result"
    }
   ],
   "source": [
    "'''\n",
    "    2- Comparison operator - \"==\", != , > , < , >= , <=\n",
    "       used for comparing values \n",
    "'''\n",
    "# Example 1\n",
    "a-23\n",
    "b-34\n",
    "a>=b"
   ]
  },
  {
   "cell_type": "code",
   "execution_count": 47,
   "id": "fb49999f-d227-44bc-83e3-f7029930153b",
   "metadata": {},
   "outputs": [
    {
     "data": {
      "text/plain": [
       "True"
      ]
     },
     "execution_count": 47,
     "metadata": {},
     "output_type": "execute_result"
    }
   ],
   "source": [
    "# Example 2\n",
    "x=213\n",
    "y=45\n",
    "x!=y"
   ]
  },
  {
   "cell_type": "code",
   "execution_count": 57,
   "id": "ddd62800-7577-4ade-a5a4-cae62068ece1",
   "metadata": {},
   "outputs": [
    {
     "data": {
      "text/plain": [
       "True"
      ]
     },
     "execution_count": 57,
     "metadata": {},
     "output_type": "execute_result"
    }
   ],
   "source": [
    "'''\n",
    "   3- Logical operator - AND , OR , NOT \n",
    "      used for evaluating values to TRUE or FALSE\n",
    "'''\n",
    "# Example 1\n",
    "a=33\n",
    "b=31\n",
    "a>23 and b>22\n",
    "#TRUE if both a and b are true"
   ]
  },
  {
   "cell_type": "code",
   "execution_count": 63,
   "id": "484c22d8-f56a-4087-8702-d3d9953ff4d4",
   "metadata": {},
   "outputs": [
    {
     "data": {
      "text/plain": [
       "False"
      ]
     },
     "execution_count": 63,
     "metadata": {},
     "output_type": "execute_result"
    }
   ],
   "source": [
    "# Example 2\n",
    "a=34\n",
    "b=23\n",
    "a<2 or b>33"
   ]
  },
  {
   "cell_type": "code",
   "execution_count": 65,
   "id": "578ae443-0555-4375-ba2b-2e4784865f22",
   "metadata": {},
   "outputs": [
    {
     "data": {
      "text/plain": [
       "False"
      ]
     },
     "execution_count": 65,
     "metadata": {},
     "output_type": "execute_result"
    }
   ],
   "source": [
    "# Example 3\n",
    "a=23\n",
    "not a>11"
   ]
  },
  {
   "cell_type": "code",
   "execution_count": 67,
   "id": "de609078-adbc-49e1-92e2-646b5a1ef061",
   "metadata": {},
   "outputs": [
    {
     "data": {
      "text/plain": [
       "True"
      ]
     },
     "execution_count": 67,
     "metadata": {},
     "output_type": "execute_result"
    }
   ],
   "source": [
    "'''\n",
    "   4- Membership operator - in , not in\n",
    "     used for testing membership or association between objects \n",
    "'''\n",
    "# Example 1\n",
    "a=[1,2,3]\n",
    "1 in a"
   ]
  },
  {
   "cell_type": "code",
   "execution_count": 69,
   "id": "355de7f2-806d-462c-9716-8bbf922c4126",
   "metadata": {},
   "outputs": [
    {
     "data": {
      "text/plain": [
       "False"
      ]
     },
     "execution_count": 69,
     "metadata": {},
     "output_type": "execute_result"
    }
   ],
   "source": [
    "# Example 2\n",
    "b=[4,5,6]\n",
    "4 not in b"
   ]
  },
  {
   "cell_type": "code",
   "execution_count": 71,
   "id": "4855cf38-71a3-4e92-afde-6617d11c89df",
   "metadata": {},
   "outputs": [
    {
     "data": {
      "text/plain": [
       "True"
      ]
     },
     "execution_count": 71,
     "metadata": {},
     "output_type": "execute_result"
    }
   ],
   "source": [
    "'''\n",
    "   5- Identity operator - is , is  not \n",
    "      used for comparing the identity of objects\n",
    "'''\n",
    "# Example 1\n",
    "a=[1,2,3,4,5,6,7]\n",
    "a=b\n",
    "a is b"
   ]
  },
  {
   "cell_type": "code",
   "execution_count": 91,
   "id": "06c94b3c-58ab-4092-9f12-d5d57c0b0098",
   "metadata": {},
   "outputs": [
    {
     "data": {
      "text/plain": [
       "False"
      ]
     },
     "execution_count": 91,
     "metadata": {},
     "output_type": "execute_result"
    }
   ],
   "source": [
    "# Example 2\n",
    "a=[1,2,3,4,5,6,7]\n",
    "b=[\"Hello\",\"Thankyou\"]\n",
    "a=b\n",
    "\n",
    "a is not b"
   ]
  },
  {
   "cell_type": "code",
   "execution_count": null,
   "id": "2bcf3530-d7c4-4760-a0bc-6054880c09f9",
   "metadata": {},
   "outputs": [],
   "source": [
    "# 5- Explain the concept of type casting in Python with examples"
   ]
  },
  {
   "cell_type": "code",
   "execution_count": 99,
   "id": "fc26fbfb-ccf5-4856-9e7c-dcb21bf60112",
   "metadata": {},
   "outputs": [
    {
     "name": "stdout",
     "output_type": "stream",
     "text": [
      "5\n"
     ]
    },
    {
     "data": {
      "text/plain": [
       "int"
      ]
     },
     "execution_count": 99,
     "metadata": {},
     "output_type": "execute_result"
    }
   ],
   "source": [
    "'''\n",
    "solution:- The process of changing the data type of a value/object is known as type casting / type conversion.\n",
    "'''\n",
    "# Example 1 \n",
    "#Integer to Float\n",
    "a=5\n",
    "print(a)\n",
    "type(a)"
   ]
  },
  {
   "cell_type": "code",
   "execution_count": 111,
   "id": "1acf2ce8-9253-4817-b0fb-886198d2320c",
   "metadata": {},
   "outputs": [
    {
     "data": {
      "text/plain": [
       "5.0"
      ]
     },
     "execution_count": 111,
     "metadata": {},
     "output_type": "execute_result"
    }
   ],
   "source": [
    "float(a)"
   ]
  },
  {
   "cell_type": "code",
   "execution_count": 123,
   "id": "7486bb34-c3c3-4214-8743-ad1bb3d66510",
   "metadata": {},
   "outputs": [
    {
     "ename": "TypeError",
     "evalue": "can only concatenate str (not \"int\") to str",
     "output_type": "error",
     "traceback": [
      "\u001b[1;31m---------------------------------------------------------------------------\u001b[0m",
      "\u001b[1;31mTypeError\u001b[0m                                 Traceback (most recent call last)",
      "Cell \u001b[1;32mIn[123], line 4\u001b[0m\n\u001b[0;32m      2\u001b[0m a\u001b[38;5;241m=\u001b[39m\u001b[38;5;124m\"\u001b[39m\u001b[38;5;124m2\u001b[39m\u001b[38;5;124m\"\u001b[39m\n\u001b[0;32m      3\u001b[0m b\u001b[38;5;241m=\u001b[39m\u001b[38;5;241m4\u001b[39m\n\u001b[1;32m----> 4\u001b[0m a\u001b[38;5;241m+\u001b[39mb\n",
      "\u001b[1;31mTypeError\u001b[0m: can only concatenate str (not \"int\") to str"
     ]
    }
   ],
   "source": [
    "#Adding string and integer\n",
    "a=\"2\"\n",
    "b=4\n",
    "a+b #It will throw an error "
   ]
  },
  {
   "cell_type": "code",
   "execution_count": 125,
   "id": "8de3b320-7dee-41cc-9f2d-87809cd379f7",
   "metadata": {},
   "outputs": [
    {
     "name": "stdout",
     "output_type": "stream",
     "text": [
      "5\n"
     ]
    }
   ],
   "source": [
    "#string to integer\n",
    "a=\"2\"\n",
    "b=3\n",
    "c=int(a)+b\n",
    "print(c)"
   ]
  },
  {
   "cell_type": "code",
   "execution_count": 137,
   "id": "034da870-3723-4cf4-b875-b665c75657a8",
   "metadata": {},
   "outputs": [
    {
     "name": "stdout",
     "output_type": "stream",
     "text": [
      "<class 'str'> 3.4\n",
      "<class 'float'> 3.4\n"
     ]
    }
   ],
   "source": [
    "#string to float\n",
    "a=\"3.4\"\n",
    "print(type(a),a)\n",
    "c=float(a)\n",
    "print(type(c),c)"
   ]
  },
  {
   "cell_type": "code",
   "execution_count": null,
   "id": "f6def785-99d9-40d2-822e-6172c6c039fb",
   "metadata": {},
   "outputs": [],
   "source": [
    "#TYPES OF TYPECASTING>> IMPLICIT AND EXPLICIT "
   ]
  },
  {
   "cell_type": "code",
   "execution_count": 139,
   "id": "93c055f6-398f-451a-b8f9-641261bcb04e",
   "metadata": {},
   "outputs": [
    {
     "data": {
      "text/plain": [
       "int"
      ]
     },
     "execution_count": 139,
     "metadata": {},
     "output_type": "execute_result"
    }
   ],
   "source": [
    "# IMPLICIT TYPECASTING>> PYTHON UNDERSTANDS THE DATATYPE\n",
    "x=34\n",
    "type(x)"
   ]
  },
  {
   "cell_type": "code",
   "execution_count": 141,
   "id": "bd73274e-59e0-43c3-bff0-372e1c16a9e6",
   "metadata": {},
   "outputs": [
    {
     "data": {
      "text/plain": [
       "str"
      ]
     },
     "execution_count": 141,
     "metadata": {},
     "output_type": "execute_result"
    }
   ],
   "source": [
    "a=\"HI\"\n",
    "type(a)"
   ]
  },
  {
   "cell_type": "code",
   "execution_count": 143,
   "id": "d3bf2d2d-e901-40bd-8a84-656de9d6ff4a",
   "metadata": {},
   "outputs": [
    {
     "data": {
      "text/plain": [
       "int"
      ]
     },
     "execution_count": 143,
     "metadata": {},
     "output_type": "execute_result"
    }
   ],
   "source": [
    "# EXPLICIT TYPECASTING>> CONVERT DATATYPE USING INBUILT FUNCTION - str,int,float,bool\n",
    "x=23\n",
    "type(x)"
   ]
  },
  {
   "cell_type": "code",
   "execution_count": 145,
   "id": "b48c4523-8f01-47a3-8b0d-b3e0eeb84bac",
   "metadata": {},
   "outputs": [
    {
     "data": {
      "text/plain": [
       "23.0"
      ]
     },
     "execution_count": 145,
     "metadata": {},
     "output_type": "execute_result"
    }
   ],
   "source": [
    "float(x)"
   ]
  },
  {
   "cell_type": "code",
   "execution_count": 147,
   "id": "c7d9fbbb-fc80-4fea-9eb2-2ee4c2e90ace",
   "metadata": {},
   "outputs": [
    {
     "data": {
      "text/plain": [
       "'23'"
      ]
     },
     "execution_count": 147,
     "metadata": {},
     "output_type": "execute_result"
    }
   ],
   "source": [
    "str(x)"
   ]
  },
  {
   "cell_type": "code",
   "execution_count": 149,
   "id": "2c83b002-b9b3-424c-a59a-37e4458cc89f",
   "metadata": {},
   "outputs": [
    {
     "data": {
      "text/plain": [
       "True"
      ]
     },
     "execution_count": 149,
     "metadata": {},
     "output_type": "execute_result"
    }
   ],
   "source": [
    "bool(x)"
   ]
  },
  {
   "cell_type": "code",
   "execution_count": 153,
   "id": "1c24560f-8064-4641-9ba4-8d4da3a94ca3",
   "metadata": {},
   "outputs": [
    {
     "name": "stdout",
     "output_type": "stream",
     "text": [
      "nikhil singh \n"
     ]
    }
   ],
   "source": [
    "a=\"nikhil\"\n",
    "b=\" singh \"\n",
    "c=a+b\n",
    "print(c) # CONCATENATION OF STRING (COMBINING THE STRING)"
   ]
  },
  {
   "cell_type": "code",
   "execution_count": 155,
   "id": "aa9f5a24-4bcc-48c4-9125-11491fa9c32f",
   "metadata": {},
   "outputs": [],
   "source": [
    "# 6  How do conditional stateMents work in Python? Illustrate with examples ."
   ]
  },
  {
   "cell_type": "code",
   "execution_count": null,
   "id": "e94ccc72-672e-42c6-9361-4de364d13573",
   "metadata": {},
   "outputs": [],
   "source": [
    "'''\n",
    "solution:- Conditional statements helps to make decisions, adapt to different scenarios, and execute specific\n",
    "           actions based on conditions.\n",
    "           1- if\n",
    "           2- if-else\n",
    "           3- if-elif-else\n",
    "           4- nested if-else\n",
    "'''"
   ]
  },
  {
   "cell_type": "code",
   "execution_count": null,
   "id": "ac7e61e2-4e01-400f-9f8b-8f2f9d5ea287",
   "metadata": {},
   "outputs": [],
   "source": [
    "# Example 1 "
   ]
  },
  {
   "cell_type": "code",
   "execution_count": 159,
   "id": "f8e9ca46-97c7-4bc0-801a-d45dadc96b18",
   "metadata": {},
   "outputs": [
    {
     "name": "stdout",
     "output_type": "stream",
     "text": [
      "a is greater than b\n"
     ]
    }
   ],
   "source": [
    "# if - executes if block when the condition is true \n",
    "a=4\n",
    "b=3\n",
    "if a>b:\n",
    "    print(\"a is greater than b\")"
   ]
  },
  {
   "cell_type": "code",
   "execution_count": null,
   "id": "42c54648-b792-40d7-81bc-8285b0178965",
   "metadata": {},
   "outputs": [],
   "source": [
    "# Example 2"
   ]
  },
  {
   "cell_type": "code",
   "execution_count": 161,
   "id": "cebbe9cc-0bcd-4baf-baa0-7ff09ba97acd",
   "metadata": {},
   "outputs": [
    {
     "name": "stdout",
     "output_type": "stream",
     "text": [
      "a is greater than b\n"
     ]
    }
   ],
   "source": [
    "# if-else - executes if block when the condition is true otherwise executes else block  \n",
    "a=4\n",
    "b=3\n",
    "if a<b:\n",
    "    print(\"b is greater than a\")\n",
    "else:\n",
    "    print(\"a is greater than b\")"
   ]
  },
  {
   "cell_type": "code",
   "execution_count": null,
   "id": "fc95a1e4-43d6-4dfc-9019-38cef2742657",
   "metadata": {},
   "outputs": [],
   "source": [
    "# Example 3"
   ]
  },
  {
   "cell_type": "code",
   "execution_count": 163,
   "id": "017e5fd1-e579-4614-a122-c42a90a6cf5e",
   "metadata": {},
   "outputs": [
    {
     "name": "stdout",
     "output_type": "stream",
     "text": [
      "a is equal to 4\n"
     ]
    }
   ],
   "source": [
    "# if-elif-else - executes if block when the condition is true otherwise elif block or else block whichever is true\n",
    "a=4\n",
    "if a>10:\n",
    "    print(\"a is greater than 10\")\n",
    "elif a==4:\n",
    "    print(\"a is equal to 4\")\n",
    "else:\n",
    "    print(\"a is less than 4\")"
   ]
  },
  {
   "cell_type": "code",
   "execution_count": null,
   "id": "dc40a8b5-8326-4c50-a4dd-60faa35ff52c",
   "metadata": {},
   "outputs": [],
   "source": [
    "#Example 4"
   ]
  },
  {
   "cell_type": "code",
   "execution_count": 165,
   "id": "26e546eb-6490-4687-a255-221276e682db",
   "metadata": {},
   "outputs": [
    {
     "name": "stdout",
     "output_type": "stream",
     "text": [
      "a is greater than c but b is not greater than c \n"
     ]
    }
   ],
   "source": [
    "# nested if-else - multiple if else inside if else\n",
    "a=17\n",
    "b=22\n",
    "c=10\n",
    "if a>c:\n",
    "    if b<c:\n",
    "        print(\"both a and b is greater than c\")\n",
    "    else:\n",
    "        print(\"a is greater than c but b is not greater than c \")\n",
    "else:\n",
    "    print(\"a and b  both are not greater than c\")"
   ]
  },
  {
   "cell_type": "code",
   "execution_count": null,
   "id": "8313e12b-dfc8-4782-9791-b793e589de2f",
   "metadata": {},
   "outputs": [],
   "source": [
    "# 7- Describe the different types of loops in Python and their use cases with examples."
   ]
  },
  {
   "cell_type": "code",
   "execution_count": null,
   "id": "9d90c5be-bee8-488c-8444-b193d2825f0f",
   "metadata": {},
   "outputs": [],
   "source": [
    "'''\n",
    "solution:- Loop statement allows us to execute a block of code repeatedly.\n",
    "            1- for loop\n",
    "            2- while loop\n",
    "'''"
   ]
  },
  {
   "cell_type": "code",
   "execution_count": 167,
   "id": "1414cac8-5b66-49b8-814d-0a15724cd699",
   "metadata": {},
   "outputs": [
    {
     "name": "stdout",
     "output_type": "stream",
     "text": [
      "0\n",
      "1\n",
      "2\n",
      "3\n",
      "4\n",
      "5\n",
      "6\n",
      "7\n",
      "8\n",
      "9\n"
     ]
    }
   ],
   "source": [
    "# for loop- iterate over a sequence of elements > string , list\n",
    "# Example 1\n",
    "for i in range(10):\n",
    "    print(i)\n",
    "    i=i+1"
   ]
  },
  {
   "cell_type": "code",
   "execution_count": 193,
   "id": "f0180de4-89a5-43fa-88ef-7ef3cdb6363b",
   "metadata": {},
   "outputs": [
    {
     "name": "stdout",
     "output_type": "stream",
     "text": [
      "[0, 7, 14, 21, 28, 35, 42, 49, 56, 63, 70, 77, 84, 91, 98, 105, 112, 119, 126, 133, 140, 147, 154, 161, 168, 175, 182, 189, 196] "
     ]
    }
   ],
   "source": [
    "# Example 2\n",
    "# syntax of range(start,stop,step)\\\n",
    "a=list(range(0,200,7))\n",
    "print(a,end=' ')\n"
   ]
  },
  {
   "cell_type": "code",
   "execution_count": 199,
   "id": "21c87975-6663-40ef-ad29-6b1d175696f9",
   "metadata": {},
   "outputs": [
    {
     "name": "stdout",
     "output_type": "stream",
     "text": [
      "0\n",
      "1\n",
      "2\n",
      "3\n",
      "4\n",
      "5\n",
      "6\n"
     ]
    }
   ],
   "source": [
    "# Example 3\n",
    "# break  and if-else statement in for loop\n",
    "for i in range(0,20):\n",
    "    print(i)\n",
    "    i=i+1\n",
    "    if i==7:\n",
    "        break\n",
    "else:\n",
    "    print(\"loop will be executed without break statement \")"
   ]
  },
  {
   "cell_type": "code",
   "execution_count": 201,
   "id": "6714339f-86f5-4d8e-87a7-850e6f2e86da",
   "metadata": {},
   "outputs": [
    {
     "name": "stdout",
     "output_type": "stream",
     "text": [
      "* \n",
      "* * \n",
      "* * * \n",
      "* * * * \n",
      "* * * * * \n"
     ]
    }
   ],
   "source": [
    "# Example 4\n",
    "# right angle triangle using for loop\n",
    "for i in range(5):\n",
    "    for j in range(i+1):\n",
    "        print(\"*\",end=' ')\n",
    "    print()"
   ]
  },
  {
   "cell_type": "code",
   "execution_count": 223,
   "id": "c9250ec8-1c64-4943-989d-d35c57d9d0fc",
   "metadata": {},
   "outputs": [
    {
     "name": "stdout",
     "output_type": "stream",
     "text": [
      "*****\n",
      "****\n",
      "***\n",
      "**\n",
      "*\n"
     ]
    }
   ],
   "source": [
    "# Ecample 5\n",
    "# Inverted right angle triangle\n",
    "n=5\n",
    "for i in range(5,0,-1):\n",
    "    print(\"*\"*i)"
   ]
  },
  {
   "cell_type": "code",
   "execution_count": 9,
   "id": "d4fae189-2b3e-47b6-ac8c-a28ef7fb03cf",
   "metadata": {},
   "outputs": [
    {
     "name": "stdout",
     "output_type": "stream",
     "text": [
      "1 2 3 4 5 6 7 8 9 10 11 12 13 14 15 16 17 18 19 20 "
     ]
    }
   ],
   "source": [
    "# while loop - repeatedly execute a block of code  a until condition is met \n",
    "# Example 1 \n",
    "n=20\n",
    "i=1\n",
    "while i<=n:\n",
    "    print(i,end=' ')\n",
    "    i=i+1"
   ]
  },
  {
   "cell_type": "code",
   "execution_count": null,
   "id": "da3309f1-d256-4ab8-bfdb-64ee132662bf",
   "metadata": {},
   "outputs": [],
   "source": [
    "# Example 2"
   ]
  },
  {
   "cell_type": "code",
   "execution_count": 15,
   "id": "530baeec-6195-4199-87ca-3246a1cf9fd3",
   "metadata": {},
   "outputs": [
    {
     "name": "stdout",
     "output_type": "stream",
     "text": [
      "20 19 18 17 16 15 14 13 12 11 10 9 8 7 6 5 4 3 2 1 "
     ]
    }
   ],
   "source": [
    "n=20\n",
    "while n>0:\n",
    "    print(n,end=' ')\n",
    "    n=n-1"
   ]
  },
  {
   "cell_type": "code",
   "execution_count": null,
   "id": "404146b1-07a3-4f57-964b-d25342778dc5",
   "metadata": {},
   "outputs": [],
   "source": [
    "# Example 3\n"
   ]
  },
  {
   "cell_type": "code",
   "execution_count": 21,
   "id": "59e00aec-e53f-4be5-8622-78bc27050376",
   "metadata": {},
   "outputs": [
    {
     "name": "stdout",
     "output_type": "stream",
     "text": [
      "1\n",
      "2\n",
      "3\n"
     ]
    }
   ],
   "source": [
    "i=1\n",
    "n=8\n",
    "while i<=n:\n",
    "    print(i)\n",
    "    i=i+1\n",
    "    if i==4:\n",
    "        break\n",
    "else:\n",
    "    print(\"code is executed without break statement\")"
   ]
  },
  {
   "cell_type": "code",
   "execution_count": null,
   "id": "c05e2207-8de3-4e54-b39c-3131b84b1f6e",
   "metadata": {},
   "outputs": [],
   "source": [
    "# Example 4\n",
    "#right angle triangle using while loop"
   ]
  },
  {
   "cell_type": "code",
   "execution_count": 50,
   "id": "3ba614c2-9f6d-496e-a2b6-c5a85d2d628b",
   "metadata": {},
   "outputs": [
    {
     "name": "stdout",
     "output_type": "stream",
     "text": [
      "* \n",
      "* * \n",
      "* * * \n",
      "* * * * \n",
      "* * * * * \n"
     ]
    }
   ],
   "source": [
    "i=1\n",
    "j=1\n",
    "while i<=5:\n",
    "    j=1\n",
    "    while j<=i:\n",
    "        print(\"*\",end=' ')\n",
    "        j=j+1\n",
    "    print()\n",
    "    i=i+1"
   ]
  },
  {
   "cell_type": "code",
   "execution_count": null,
   "id": "b4f9638e-4771-43e1-9105-f25582e78bab",
   "metadata": {},
   "outputs": [],
   "source": [
    "# Example 5\n",
    "# continue>skips the iteration"
   ]
  },
  {
   "cell_type": "code",
   "execution_count": 56,
   "id": "6591175e-9dba-4375-a58a-b9951e93a1d1",
   "metadata": {},
   "outputs": [
    {
     "name": "stdout",
     "output_type": "stream",
     "text": [
      "2\n",
      "3\n",
      "4\n",
      "6\n",
      "7\n",
      "8\n",
      "9\n",
      "10\n",
      "11\n",
      "code executed successfuly without any break\n"
     ]
    }
   ],
   "source": [
    "i=1\n",
    "while i<=10:\n",
    "    i=i+1\n",
    "    if i==5:\n",
    "        continue \n",
    "    print(i)\n",
    "else:\n",
    "    print(\"code executed successfuly without any break\")"
   ]
  },
  {
   "cell_type": "code",
   "execution_count": null,
   "id": "25586c3a-385b-4b96-9c8d-df0e8249fa2e",
   "metadata": {},
   "outputs": [],
   "source": []
  },
  {
   "cell_type": "code",
   "execution_count": null,
   "id": "81c24d9e-b008-428d-82f7-c5bd9f8d326c",
   "metadata": {},
   "outputs": [],
   "source": []
  },
  {
   "cell_type": "code",
   "execution_count": null,
   "id": "07360001-972f-44d4-866d-3a341a453162",
   "metadata": {},
   "outputs": [],
   "source": []
  },
  {
   "cell_type": "code",
   "execution_count": null,
   "id": "23f5eac6-4059-443e-b8ba-c363e34c4634",
   "metadata": {},
   "outputs": [],
   "source": []
  }
 ],
 "metadata": {
  "kernelspec": {
   "display_name": "Python 3 (ipykernel)",
   "language": "python",
   "name": "python3"
  },
  "language_info": {
   "codemirror_mode": {
    "name": "ipython",
    "version": 3
   },
   "file_extension": ".py",
   "mimetype": "text/x-python",
   "name": "python",
   "nbconvert_exporter": "python",
   "pygments_lexer": "ipython3",
   "version": "3.12.4"
  }
 },
 "nbformat": 4,
 "nbformat_minor": 5
}
